{
 "cells": [
  {
   "cell_type": "code",
<<<<<<< HEAD
   "execution_count": 107,
=======
   "execution_count": 196,
>>>>>>> ef0e6d3 (inital commit)
   "id": "a469f91c",
   "metadata": {},
   "outputs": [],
   "source": [
    "import numpy as np\n",
    "import pandas as pd\n",
    "import seaborn as sns\n",
    "import matplotlib.pyplot as plt"
   ]
  },
  {
   "cell_type": "code",
<<<<<<< HEAD
   "execution_count": 108,
=======
   "execution_count": 197,
>>>>>>> ef0e6d3 (inital commit)
   "id": "49a0b076",
   "metadata": {},
   "outputs": [],
   "source": [
    "\n",
    "holidays_events = pd.read_csv('holidays_events.csv')\n",
    "oil = pd.read_csv('oil.csv')\n",
    "stores = pd.read_csv('stores.csv')\n",
    "train = pd.read_csv('train.csv')\n",
    "test = pd.read_csv('test.csv')\n",
    "transactions = pd.read_csv('transactions.csv')\n",
    "\n",
    "sample_submission = pd.read_csv('sample_submission.csv')"
   ]
  },
  {
   "cell_type": "code",
<<<<<<< HEAD
   "execution_count": 109,
=======
   "execution_count": 198,
>>>>>>> ef0e6d3 (inital commit)
   "id": "f4f6b429",
   "metadata": {},
   "outputs": [
    {
     "data": {
      "text/plain": [
       "Index(['date', 'type', 'locale', 'locale_name', 'description', 'transferred'], dtype='object')"
      ]
     },
<<<<<<< HEAD
     "execution_count": 109,
=======
     "execution_count": 198,
>>>>>>> ef0e6d3 (inital commit)
     "metadata": {},
     "output_type": "execute_result"
    }
   ],
   "source": [
    "holidays_events.columns"
   ]
  },
  {
   "cell_type": "code",
<<<<<<< HEAD
   "execution_count": 110,
=======
   "execution_count": 199,
>>>>>>> ef0e6d3 (inital commit)
   "id": "3564760b",
   "metadata": {},
   "outputs": [
    {
     "data": {
      "text/html": [
       "<div>\n",
       "<style scoped>\n",
       "    .dataframe tbody tr th:only-of-type {\n",
       "        vertical-align: middle;\n",
       "    }\n",
       "\n",
       "    .dataframe tbody tr th {\n",
       "        vertical-align: top;\n",
       "    }\n",
       "\n",
       "    .dataframe thead th {\n",
       "        text-align: right;\n",
       "    }\n",
       "</style>\n",
       "<table border=\"1\" class=\"dataframe\">\n",
       "  <thead>\n",
       "    <tr style=\"text-align: right;\">\n",
       "      <th></th>\n",
       "      <th>date</th>\n",
       "      <th>type</th>\n",
       "      <th>locale</th>\n",
       "      <th>locale_name</th>\n",
       "      <th>description</th>\n",
       "      <th>transferred</th>\n",
       "    </tr>\n",
       "  </thead>\n",
       "  <tbody>\n",
       "    <tr>\n",
       "      <th>0</th>\n",
       "      <td>2012-03-02</td>\n",
       "      <td>Holiday</td>\n",
       "      <td>Local</td>\n",
       "      <td>Manta</td>\n",
       "      <td>Fundacion de Manta</td>\n",
       "      <td>False</td>\n",
       "    </tr>\n",
       "    <tr>\n",
       "      <th>1</th>\n",
       "      <td>2012-04-01</td>\n",
       "      <td>Holiday</td>\n",
       "      <td>Regional</td>\n",
       "      <td>Cotopaxi</td>\n",
       "      <td>Provincializacion de Cotopaxi</td>\n",
       "      <td>False</td>\n",
       "    </tr>\n",
       "    <tr>\n",
       "      <th>2</th>\n",
       "      <td>2012-04-12</td>\n",
       "      <td>Holiday</td>\n",
       "      <td>Local</td>\n",
       "      <td>Cuenca</td>\n",
       "      <td>Fundacion de Cuenca</td>\n",
       "      <td>False</td>\n",
       "    </tr>\n",
       "    <tr>\n",
       "      <th>3</th>\n",
       "      <td>2012-04-14</td>\n",
       "      <td>Holiday</td>\n",
       "      <td>Local</td>\n",
       "      <td>Libertad</td>\n",
       "      <td>Cantonizacion de Libertad</td>\n",
       "      <td>False</td>\n",
       "    </tr>\n",
       "    <tr>\n",
       "      <th>4</th>\n",
       "      <td>2012-04-21</td>\n",
       "      <td>Holiday</td>\n",
       "      <td>Local</td>\n",
       "      <td>Riobamba</td>\n",
       "      <td>Cantonizacion de Riobamba</td>\n",
       "      <td>False</td>\n",
       "    </tr>\n",
       "  </tbody>\n",
       "</table>\n",
       "</div>"
      ],
      "text/plain": [
       "         date     type    locale locale_name                    description  \\\n",
       "0  2012-03-02  Holiday     Local       Manta             Fundacion de Manta   \n",
       "1  2012-04-01  Holiday  Regional    Cotopaxi  Provincializacion de Cotopaxi   \n",
       "2  2012-04-12  Holiday     Local      Cuenca            Fundacion de Cuenca   \n",
       "3  2012-04-14  Holiday     Local    Libertad      Cantonizacion de Libertad   \n",
       "4  2012-04-21  Holiday     Local    Riobamba      Cantonizacion de Riobamba   \n",
       "\n",
       "   transferred  \n",
       "0        False  \n",
       "1        False  \n",
       "2        False  \n",
       "3        False  \n",
       "4        False  "
      ]
     },
<<<<<<< HEAD
     "execution_count": 110,
=======
     "execution_count": 199,
>>>>>>> ef0e6d3 (inital commit)
     "metadata": {},
     "output_type": "execute_result"
    }
   ],
   "source": [
    "holidays_events.head()"
   ]
  },
  {
   "cell_type": "code",
<<<<<<< HEAD
   "execution_count": 111,
=======
   "execution_count": 200,
>>>>>>> ef0e6d3 (inital commit)
   "id": "19e6dff8",
   "metadata": {},
   "outputs": [
    {
     "data": {
      "text/plain": [
       "Index(['date', 'dcoilwtico'], dtype='object')"
      ]
     },
<<<<<<< HEAD
     "execution_count": 111,
=======
     "execution_count": 200,
>>>>>>> ef0e6d3 (inital commit)
     "metadata": {},
     "output_type": "execute_result"
    }
   ],
   "source": [
    "oil.columns"
   ]
  },
  {
   "cell_type": "code",
<<<<<<< HEAD
   "execution_count": 112,
=======
   "execution_count": 201,
>>>>>>> ef0e6d3 (inital commit)
   "id": "8d799aca",
   "metadata": {},
   "outputs": [
    {
     "data": {
      "text/html": [
       "<div>\n",
       "<style scoped>\n",
       "    .dataframe tbody tr th:only-of-type {\n",
       "        vertical-align: middle;\n",
       "    }\n",
       "\n",
       "    .dataframe tbody tr th {\n",
       "        vertical-align: top;\n",
       "    }\n",
       "\n",
       "    .dataframe thead th {\n",
       "        text-align: right;\n",
       "    }\n",
       "</style>\n",
       "<table border=\"1\" class=\"dataframe\">\n",
       "  <thead>\n",
       "    <tr style=\"text-align: right;\">\n",
       "      <th></th>\n",
       "      <th>date</th>\n",
       "      <th>dcoilwtico</th>\n",
       "    </tr>\n",
       "  </thead>\n",
       "  <tbody>\n",
       "    <tr>\n",
       "      <th>0</th>\n",
       "      <td>2013-01-01</td>\n",
       "      <td>NaN</td>\n",
       "    </tr>\n",
       "    <tr>\n",
       "      <th>1</th>\n",
       "      <td>2013-01-02</td>\n",
       "      <td>93.14</td>\n",
       "    </tr>\n",
       "    <tr>\n",
       "      <th>2</th>\n",
       "      <td>2013-01-03</td>\n",
       "      <td>92.97</td>\n",
       "    </tr>\n",
       "    <tr>\n",
       "      <th>3</th>\n",
       "      <td>2013-01-04</td>\n",
       "      <td>93.12</td>\n",
       "    </tr>\n",
       "    <tr>\n",
       "      <th>4</th>\n",
       "      <td>2013-01-07</td>\n",
       "      <td>93.20</td>\n",
       "    </tr>\n",
       "  </tbody>\n",
       "</table>\n",
       "</div>"
      ],
      "text/plain": [
       "         date  dcoilwtico\n",
       "0  2013-01-01         NaN\n",
       "1  2013-01-02       93.14\n",
       "2  2013-01-03       92.97\n",
       "3  2013-01-04       93.12\n",
       "4  2013-01-07       93.20"
      ]
     },
<<<<<<< HEAD
     "execution_count": 112,
=======
     "execution_count": 201,
>>>>>>> ef0e6d3 (inital commit)
     "metadata": {},
     "output_type": "execute_result"
    }
   ],
   "source": [
    "oil.head()"
   ]
  },
  {
   "cell_type": "code",
<<<<<<< HEAD
   "execution_count": 113,
=======
   "execution_count": 202,
>>>>>>> ef0e6d3 (inital commit)
   "id": "22b1db6a",
   "metadata": {},
   "outputs": [
    {
     "data": {
      "text/plain": [
       "Index(['store_nbr', 'city', 'state', 'type', 'cluster'], dtype='object')"
      ]
     },
<<<<<<< HEAD
     "execution_count": 113,
=======
     "execution_count": 202,
>>>>>>> ef0e6d3 (inital commit)
     "metadata": {},
     "output_type": "execute_result"
    }
   ],
   "source": [
    "stores.columns"
   ]
  },
  {
   "cell_type": "code",
<<<<<<< HEAD
   "execution_count": 114,
=======
   "execution_count": 203,
>>>>>>> ef0e6d3 (inital commit)
   "id": "a7290223",
   "metadata": {},
   "outputs": [
    {
     "data": {
      "text/html": [
       "<div>\n",
       "<style scoped>\n",
       "    .dataframe tbody tr th:only-of-type {\n",
       "        vertical-align: middle;\n",
       "    }\n",
       "\n",
       "    .dataframe tbody tr th {\n",
       "        vertical-align: top;\n",
       "    }\n",
       "\n",
       "    .dataframe thead th {\n",
       "        text-align: right;\n",
       "    }\n",
       "</style>\n",
       "<table border=\"1\" class=\"dataframe\">\n",
       "  <thead>\n",
       "    <tr style=\"text-align: right;\">\n",
       "      <th></th>\n",
       "      <th>store_nbr</th>\n",
       "      <th>city</th>\n",
       "      <th>state</th>\n",
       "      <th>type</th>\n",
       "      <th>cluster</th>\n",
       "    </tr>\n",
       "  </thead>\n",
       "  <tbody>\n",
       "    <tr>\n",
       "      <th>0</th>\n",
       "      <td>1</td>\n",
       "      <td>Quito</td>\n",
       "      <td>Pichincha</td>\n",
       "      <td>D</td>\n",
       "      <td>13</td>\n",
       "    </tr>\n",
       "    <tr>\n",
       "      <th>1</th>\n",
       "      <td>2</td>\n",
       "      <td>Quito</td>\n",
       "      <td>Pichincha</td>\n",
       "      <td>D</td>\n",
       "      <td>13</td>\n",
       "    </tr>\n",
       "    <tr>\n",
       "      <th>2</th>\n",
       "      <td>3</td>\n",
       "      <td>Quito</td>\n",
       "      <td>Pichincha</td>\n",
       "      <td>D</td>\n",
       "      <td>8</td>\n",
       "    </tr>\n",
       "    <tr>\n",
       "      <th>3</th>\n",
       "      <td>4</td>\n",
       "      <td>Quito</td>\n",
       "      <td>Pichincha</td>\n",
       "      <td>D</td>\n",
       "      <td>9</td>\n",
       "    </tr>\n",
       "    <tr>\n",
       "      <th>4</th>\n",
       "      <td>5</td>\n",
       "      <td>Santo Domingo</td>\n",
       "      <td>Santo Domingo de los Tsachilas</td>\n",
       "      <td>D</td>\n",
       "      <td>4</td>\n",
       "    </tr>\n",
       "  </tbody>\n",
       "</table>\n",
       "</div>"
      ],
      "text/plain": [
       "   store_nbr           city                           state type  cluster\n",
       "0          1          Quito                       Pichincha    D       13\n",
       "1          2          Quito                       Pichincha    D       13\n",
       "2          3          Quito                       Pichincha    D        8\n",
       "3          4          Quito                       Pichincha    D        9\n",
       "4          5  Santo Domingo  Santo Domingo de los Tsachilas    D        4"
      ]
     },
<<<<<<< HEAD
     "execution_count": 114,
=======
     "execution_count": 203,
>>>>>>> ef0e6d3 (inital commit)
     "metadata": {},
     "output_type": "execute_result"
    }
   ],
   "source": [
    "stores.head()"
   ]
  },
  {
   "cell_type": "code",
<<<<<<< HEAD
   "execution_count": 115,
=======
   "execution_count": 204,
>>>>>>> ef0e6d3 (inital commit)
   "id": "7a2e15cd",
   "metadata": {},
   "outputs": [
    {
     "data": {
      "text/plain": [
       "Index(['id', 'date', 'store_nbr', 'family', 'sales', 'onpromotion'], dtype='object')"
      ]
     },
<<<<<<< HEAD
     "execution_count": 115,
=======
     "execution_count": 204,
>>>>>>> ef0e6d3 (inital commit)
     "metadata": {},
     "output_type": "execute_result"
    }
   ],
   "source": [
    "train.columns"
   ]
  },
  {
   "cell_type": "code",
<<<<<<< HEAD
   "execution_count": 116,
=======
   "execution_count": 205,
>>>>>>> ef0e6d3 (inital commit)
   "id": "bd14c29f",
   "metadata": {},
   "outputs": [
    {
     "data": {
      "text/html": [
       "<div>\n",
       "<style scoped>\n",
       "    .dataframe tbody tr th:only-of-type {\n",
       "        vertical-align: middle;\n",
       "    }\n",
       "\n",
       "    .dataframe tbody tr th {\n",
       "        vertical-align: top;\n",
       "    }\n",
       "\n",
       "    .dataframe thead th {\n",
       "        text-align: right;\n",
       "    }\n",
       "</style>\n",
       "<table border=\"1\" class=\"dataframe\">\n",
       "  <thead>\n",
       "    <tr style=\"text-align: right;\">\n",
       "      <th></th>\n",
       "      <th>id</th>\n",
       "      <th>date</th>\n",
       "      <th>store_nbr</th>\n",
       "      <th>family</th>\n",
       "      <th>sales</th>\n",
       "      <th>onpromotion</th>\n",
       "    </tr>\n",
       "  </thead>\n",
       "  <tbody>\n",
       "    <tr>\n",
       "      <th>0</th>\n",
       "      <td>0</td>\n",
       "      <td>2013-01-01</td>\n",
       "      <td>1</td>\n",
       "      <td>AUTOMOTIVE</td>\n",
       "      <td>0.0</td>\n",
       "      <td>0</td>\n",
       "    </tr>\n",
       "    <tr>\n",
       "      <th>1</th>\n",
       "      <td>1</td>\n",
       "      <td>2013-01-01</td>\n",
       "      <td>1</td>\n",
       "      <td>BABY CARE</td>\n",
       "      <td>0.0</td>\n",
       "      <td>0</td>\n",
       "    </tr>\n",
       "    <tr>\n",
       "      <th>2</th>\n",
       "      <td>2</td>\n",
       "      <td>2013-01-01</td>\n",
       "      <td>1</td>\n",
       "      <td>BEAUTY</td>\n",
       "      <td>0.0</td>\n",
       "      <td>0</td>\n",
       "    </tr>\n",
       "    <tr>\n",
       "      <th>3</th>\n",
       "      <td>3</td>\n",
       "      <td>2013-01-01</td>\n",
       "      <td>1</td>\n",
       "      <td>BEVERAGES</td>\n",
       "      <td>0.0</td>\n",
       "      <td>0</td>\n",
       "    </tr>\n",
       "    <tr>\n",
       "      <th>4</th>\n",
       "      <td>4</td>\n",
       "      <td>2013-01-01</td>\n",
       "      <td>1</td>\n",
       "      <td>BOOKS</td>\n",
       "      <td>0.0</td>\n",
       "      <td>0</td>\n",
       "    </tr>\n",
       "  </tbody>\n",
       "</table>\n",
       "</div>"
      ],
      "text/plain": [
       "   id        date  store_nbr      family  sales  onpromotion\n",
       "0   0  2013-01-01          1  AUTOMOTIVE    0.0            0\n",
       "1   1  2013-01-01          1   BABY CARE    0.0            0\n",
       "2   2  2013-01-01          1      BEAUTY    0.0            0\n",
       "3   3  2013-01-01          1   BEVERAGES    0.0            0\n",
       "4   4  2013-01-01          1       BOOKS    0.0            0"
      ]
     },
<<<<<<< HEAD
     "execution_count": 116,
=======
     "execution_count": 205,
>>>>>>> ef0e6d3 (inital commit)
     "metadata": {},
     "output_type": "execute_result"
    }
   ],
   "source": [
    "train.head()"
   ]
  },
  {
   "cell_type": "code",
<<<<<<< HEAD
   "execution_count": 117,
=======
   "execution_count": 206,
>>>>>>> ef0e6d3 (inital commit)
   "id": "d3718888",
   "metadata": {},
   "outputs": [
    {
     "data": {
      "text/plain": [
       "Index(['id', 'date', 'store_nbr', 'family', 'onpromotion'], dtype='object')"
      ]
     },
<<<<<<< HEAD
     "execution_count": 117,
=======
     "execution_count": 206,
>>>>>>> ef0e6d3 (inital commit)
     "metadata": {},
     "output_type": "execute_result"
    }
   ],
   "source": [
    "test.columns"
   ]
  },
  {
   "cell_type": "code",
<<<<<<< HEAD
   "execution_count": 118,
=======
   "execution_count": 207,
>>>>>>> ef0e6d3 (inital commit)
   "id": "57482f3e",
   "metadata": {},
   "outputs": [
    {
     "data": {
      "text/html": [
       "<div>\n",
       "<style scoped>\n",
       "    .dataframe tbody tr th:only-of-type {\n",
       "        vertical-align: middle;\n",
       "    }\n",
       "\n",
       "    .dataframe tbody tr th {\n",
       "        vertical-align: top;\n",
       "    }\n",
       "\n",
       "    .dataframe thead th {\n",
       "        text-align: right;\n",
       "    }\n",
       "</style>\n",
       "<table border=\"1\" class=\"dataframe\">\n",
       "  <thead>\n",
       "    <tr style=\"text-align: right;\">\n",
       "      <th></th>\n",
       "      <th>id</th>\n",
       "      <th>date</th>\n",
       "      <th>store_nbr</th>\n",
       "      <th>family</th>\n",
       "      <th>onpromotion</th>\n",
       "    </tr>\n",
       "  </thead>\n",
       "  <tbody>\n",
       "    <tr>\n",
       "      <th>0</th>\n",
       "      <td>3000888</td>\n",
       "      <td>2017-08-16</td>\n",
       "      <td>1</td>\n",
       "      <td>AUTOMOTIVE</td>\n",
       "      <td>0</td>\n",
       "    </tr>\n",
       "    <tr>\n",
       "      <th>1</th>\n",
       "      <td>3000889</td>\n",
       "      <td>2017-08-16</td>\n",
       "      <td>1</td>\n",
       "      <td>BABY CARE</td>\n",
       "      <td>0</td>\n",
       "    </tr>\n",
       "    <tr>\n",
       "      <th>2</th>\n",
       "      <td>3000890</td>\n",
       "      <td>2017-08-16</td>\n",
       "      <td>1</td>\n",
       "      <td>BEAUTY</td>\n",
       "      <td>2</td>\n",
       "    </tr>\n",
       "    <tr>\n",
       "      <th>3</th>\n",
       "      <td>3000891</td>\n",
       "      <td>2017-08-16</td>\n",
       "      <td>1</td>\n",
       "      <td>BEVERAGES</td>\n",
       "      <td>20</td>\n",
       "    </tr>\n",
       "    <tr>\n",
       "      <th>4</th>\n",
       "      <td>3000892</td>\n",
       "      <td>2017-08-16</td>\n",
       "      <td>1</td>\n",
       "      <td>BOOKS</td>\n",
       "      <td>0</td>\n",
       "    </tr>\n",
       "  </tbody>\n",
       "</table>\n",
       "</div>"
      ],
      "text/plain": [
       "        id        date  store_nbr      family  onpromotion\n",
       "0  3000888  2017-08-16          1  AUTOMOTIVE            0\n",
       "1  3000889  2017-08-16          1   BABY CARE            0\n",
       "2  3000890  2017-08-16          1      BEAUTY            2\n",
       "3  3000891  2017-08-16          1   BEVERAGES           20\n",
       "4  3000892  2017-08-16          1       BOOKS            0"
      ]
     },
<<<<<<< HEAD
     "execution_count": 118,
=======
     "execution_count": 207,
>>>>>>> ef0e6d3 (inital commit)
     "metadata": {},
     "output_type": "execute_result"
    }
   ],
   "source": [
    "test.head()"
   ]
  },
  {
   "cell_type": "code",
<<<<<<< HEAD
   "execution_count": 119,
=======
   "execution_count": 208,
>>>>>>> ef0e6d3 (inital commit)
   "id": "53bc9851",
   "metadata": {},
   "outputs": [
    {
     "data": {
      "text/plain": [
       "Index(['date', 'store_nbr', 'transactions'], dtype='object')"
      ]
     },
<<<<<<< HEAD
     "execution_count": 119,
=======
     "execution_count": 208,
>>>>>>> ef0e6d3 (inital commit)
     "metadata": {},
     "output_type": "execute_result"
    }
   ],
   "source": [
    "transactions.columns"
   ]
  },
  {
   "cell_type": "code",
<<<<<<< HEAD
   "execution_count": 120,
=======
   "execution_count": 209,
>>>>>>> ef0e6d3 (inital commit)
   "id": "990594fe",
   "metadata": {},
   "outputs": [
    {
     "data": {
      "text/html": [
       "<div>\n",
       "<style scoped>\n",
       "    .dataframe tbody tr th:only-of-type {\n",
       "        vertical-align: middle;\n",
       "    }\n",
       "\n",
       "    .dataframe tbody tr th {\n",
       "        vertical-align: top;\n",
       "    }\n",
       "\n",
       "    .dataframe thead th {\n",
       "        text-align: right;\n",
       "    }\n",
       "</style>\n",
       "<table border=\"1\" class=\"dataframe\">\n",
       "  <thead>\n",
       "    <tr style=\"text-align: right;\">\n",
       "      <th></th>\n",
       "      <th>date</th>\n",
       "      <th>store_nbr</th>\n",
       "      <th>transactions</th>\n",
       "    </tr>\n",
       "  </thead>\n",
       "  <tbody>\n",
       "    <tr>\n",
       "      <th>0</th>\n",
       "      <td>2013-01-01</td>\n",
       "      <td>25</td>\n",
       "      <td>770</td>\n",
       "    </tr>\n",
       "    <tr>\n",
       "      <th>1</th>\n",
       "      <td>2013-01-02</td>\n",
       "      <td>1</td>\n",
       "      <td>2111</td>\n",
       "    </tr>\n",
       "    <tr>\n",
       "      <th>2</th>\n",
       "      <td>2013-01-02</td>\n",
       "      <td>2</td>\n",
       "      <td>2358</td>\n",
       "    </tr>\n",
       "    <tr>\n",
       "      <th>3</th>\n",
       "      <td>2013-01-02</td>\n",
       "      <td>3</td>\n",
       "      <td>3487</td>\n",
       "    </tr>\n",
       "    <tr>\n",
       "      <th>4</th>\n",
       "      <td>2013-01-02</td>\n",
       "      <td>4</td>\n",
       "      <td>1922</td>\n",
       "    </tr>\n",
       "  </tbody>\n",
       "</table>\n",
       "</div>"
      ],
      "text/plain": [
       "         date  store_nbr  transactions\n",
       "0  2013-01-01         25           770\n",
       "1  2013-01-02          1          2111\n",
       "2  2013-01-02          2          2358\n",
       "3  2013-01-02          3          3487\n",
       "4  2013-01-02          4          1922"
      ]
     },
<<<<<<< HEAD
     "execution_count": 120,
=======
     "execution_count": 209,
>>>>>>> ef0e6d3 (inital commit)
     "metadata": {},
     "output_type": "execute_result"
    }
   ],
   "source": [
    "transactions.head()"
   ]
  },
  {
   "cell_type": "code",
<<<<<<< HEAD
   "execution_count": 121,
=======
   "execution_count": 210,
>>>>>>> ef0e6d3 (inital commit)
   "id": "f3c2d0e2",
   "metadata": {},
   "outputs": [
    {
     "data": {
      "text/plain": [
       "Index(['id', 'sales'], dtype='object')"
      ]
     },
<<<<<<< HEAD
     "execution_count": 121,
=======
     "execution_count": 210,
>>>>>>> ef0e6d3 (inital commit)
     "metadata": {},
     "output_type": "execute_result"
    }
   ],
   "source": [
    "sample_submission.columns"
   ]
  },
  {
   "cell_type": "code",
<<<<<<< HEAD
   "execution_count": 122,
=======
   "execution_count": 211,
>>>>>>> ef0e6d3 (inital commit)
   "id": "70c0b116",
   "metadata": {},
   "outputs": [
    {
     "data": {
      "text/html": [
       "<div>\n",
       "<style scoped>\n",
       "    .dataframe tbody tr th:only-of-type {\n",
       "        vertical-align: middle;\n",
       "    }\n",
       "\n",
       "    .dataframe tbody tr th {\n",
       "        vertical-align: top;\n",
       "    }\n",
       "\n",
       "    .dataframe thead th {\n",
       "        text-align: right;\n",
       "    }\n",
       "</style>\n",
       "<table border=\"1\" class=\"dataframe\">\n",
       "  <thead>\n",
       "    <tr style=\"text-align: right;\">\n",
       "      <th></th>\n",
       "      <th>id</th>\n",
       "      <th>sales</th>\n",
       "    </tr>\n",
       "  </thead>\n",
       "  <tbody>\n",
       "    <tr>\n",
       "      <th>0</th>\n",
       "      <td>3000888</td>\n",
       "      <td>0.0</td>\n",
       "    </tr>\n",
       "    <tr>\n",
       "      <th>1</th>\n",
       "      <td>3000889</td>\n",
       "      <td>0.0</td>\n",
       "    </tr>\n",
       "    <tr>\n",
       "      <th>2</th>\n",
       "      <td>3000890</td>\n",
       "      <td>0.0</td>\n",
       "    </tr>\n",
       "    <tr>\n",
       "      <th>3</th>\n",
       "      <td>3000891</td>\n",
       "      <td>0.0</td>\n",
       "    </tr>\n",
       "    <tr>\n",
       "      <th>4</th>\n",
       "      <td>3000892</td>\n",
       "      <td>0.0</td>\n",
       "    </tr>\n",
       "  </tbody>\n",
       "</table>\n",
       "</div>"
      ],
      "text/plain": [
       "        id  sales\n",
       "0  3000888    0.0\n",
       "1  3000889    0.0\n",
       "2  3000890    0.0\n",
       "3  3000891    0.0\n",
       "4  3000892    0.0"
      ]
     },
<<<<<<< HEAD
     "execution_count": 122,
=======
     "execution_count": 211,
>>>>>>> ef0e6d3 (inital commit)
     "metadata": {},
     "output_type": "execute_result"
    }
   ],
   "source": [
    "sample_submission.head()"
   ]
  },
  {
   "cell_type": "markdown",
   "id": "2945b15d",
   "metadata": {},
   "source": [
    "# **combine all columns on one dataset**"
   ]
  },
  {
   "cell_type": "code",
<<<<<<< HEAD
   "execution_count": 123,
=======
   "execution_count": 212,
>>>>>>> ef0e6d3 (inital commit)
   "id": "e84a98e0",
   "metadata": {},
   "outputs": [],
   "source": [
    "#convert all columns to the date columns to datetime to merge the data\n",
    "train[\"date\"] = pd.to_datetime(train.date)\n",
    "test[\"date\"] = pd.to_datetime(test.date)\n",
    "transactions[\"date\"] = pd.to_datetime(transactions.date)\n",
    "holidays_events[\"date\"] = pd.to_datetime(holidays_events.date)\n",
    "oil[\"date\"] = pd.to_datetime(oil.date)"
   ]
  },
  {
   "cell_type": "code",
<<<<<<< HEAD
   "execution_count": 124,
=======
   "execution_count": 213,
>>>>>>> ef0e6d3 (inital commit)
   "id": "713ec902",
   "metadata": {},
   "outputs": [],
   "source": [
    "train['onpromotion'] = train['onpromotion'].astype(\"float16\")\n",
    "test['onpromotion'] = test['onpromotion'].astype(\"float16\")\n",
    "train['sales'] = train['sales'].astype(\"float32\")\n",
    "stores['cluster'] = stores['cluster'].astype(\"int8\")"
   ]
  },
  {
   "cell_type": "code",
<<<<<<< HEAD
   "execution_count": 125,
=======
   "execution_count": 214,
>>>>>>> ef0e6d3 (inital commit)
   "id": "34318d69",
   "metadata": {},
   "outputs": [],
   "source": [
    "def merge_with_lagged_features(df, oil, holidays):\n",
    "    # Create lagged oil prices\n",
    "    oil_lag = oil.copy()\n",
    "    oil_lag['date'] = oil_lag['date'] + pd.DateOffset(days=7)\n",
    "    oil_lag.rename(columns={'oil_price': 'oil_price_lag_7'}, inplace=True)\n",
    "    \n",
    "    # Merge lagged oil and holidays\n",
    "    df = df.merge(oil_lag, on='date', how='left')\n",
    "    df = df.merge(holidays, on='date', how='left')\n",
    "    return df\n",
    "\n",
    "train1 = merge_with_lagged_features(train, oil, holidays_events)\n",
    "test = merge_with_lagged_features(test, oil, holidays_events)\n",
    "train1 = train1.merge(stores, on='store_nbr', how='left')\n",
    "train1 = train1.merge(transactions, on=['date', 'store_nbr'], how='left')\n",
    "train1 = train1.rename(columns={\"type_x\": \"holiday_type\", \"type_y\": \"store_type\"})"
   ]
  },
  {
   "cell_type": "code",
<<<<<<< HEAD
   "execution_count": 126,
=======
   "execution_count": 215,
>>>>>>> ef0e6d3 (inital commit)
   "id": "d1222a86",
   "metadata": {},
   "outputs": [],
   "source": [
    "def temporal_features(df):\n",
    "    df['year'] = df['date'].dt.year\n",
    "    df['month'] = df['date'].dt.month\n",
    "    df['week'] = df['date'].dt.isocalendar().week\n",
    "    df['quarter'] = df['date'].dt.quarter\n",
    "    df['day_of_week'] = df['date'].dt.day_name()\n",
    "    df['day_of_month'] = df['date'].dt.day\n",
    "    df['day_of_year'] = df['date'].dt.dayofyear\n",
    "    df['is_weekend'] = (df['day_of_week'].isin(['Saturday', 'Sunday'])).astype(int)\n",
    "    df['is_month_start'] = df['date'].dt.is_month_start.astype(int)\n",
    "    df['is_month_end'] = df['date'].dt.is_month_end.astype(int)\n",
    "    df['dayofweek'] = df['date'].dt.dayofweek\n",
    "    # Make sure the 'date' column is in datetime format\n",
    "    df['date'] = pd.to_datetime(df['date'])\n",
    "\n",
    "    # Sp lit into separate columns\n",
    "    df['year'] = df['date'].dt.year\n",
    "    df['month'] = df['date'].dt.month\n",
    "    df['day'] = df['date'].dt.day\n",
    "\n",
    "    \n",
    "    return df          \n",
    "\n",
    "train1 = temporal_features(train1)\n",
    "test = temporal_features(test)"
   ]
  },
  {
   "cell_type": "code",
<<<<<<< HEAD
   "execution_count": 127,
=======
   "execution_count": 216,
>>>>>>> ef0e6d3 (inital commit)
   "id": "dbdde194",
   "metadata": {},
   "outputs": [
    {
<<<<<<< HEAD
     "name": "stderr",
     "output_type": "stream",
     "text": [
      "c:\\Users\\ali\\AppData\\Local\\Programs\\Python\\Python313\\Lib\\site-packages\\pandas\\io\\formats\\format.py:1458: RuntimeWarning:\n",
      "\n",
      "overflow encountered in cast\n",
      "\n",
      "c:\\Users\\ali\\AppData\\Local\\Programs\\Python\\Python313\\Lib\\site-packages\\pandas\\io\\formats\\format.py:1458: RuntimeWarning:\n",
      "\n",
      "overflow encountered in cast\n",
      "\n"
     ]
    },
    {
=======
>>>>>>> ef0e6d3 (inital commit)
     "data": {
      "text/html": [
       "<div>\n",
       "<style scoped>\n",
       "    .dataframe tbody tr th:only-of-type {\n",
       "        vertical-align: middle;\n",
       "    }\n",
       "\n",
       "    .dataframe tbody tr th {\n",
       "        vertical-align: top;\n",
       "    }\n",
       "\n",
       "    .dataframe thead th {\n",
       "        text-align: right;\n",
       "    }\n",
       "</style>\n",
       "<table border=\"1\" class=\"dataframe\">\n",
       "  <thead>\n",
       "    <tr style=\"text-align: right;\">\n",
       "      <th></th>\n",
       "      <th>id</th>\n",
       "      <th>date</th>\n",
       "      <th>store_nbr</th>\n",
       "      <th>family</th>\n",
       "      <th>sales</th>\n",
       "      <th>onpromotion</th>\n",
       "      <th>dcoilwtico</th>\n",
       "      <th>holiday_type</th>\n",
       "      <th>locale</th>\n",
       "      <th>locale_name</th>\n",
       "      <th>...</th>\n",
       "      <th>week</th>\n",
       "      <th>quarter</th>\n",
       "      <th>day_of_week</th>\n",
       "      <th>day_of_month</th>\n",
       "      <th>day_of_year</th>\n",
       "      <th>is_weekend</th>\n",
       "      <th>is_month_start</th>\n",
       "      <th>is_month_end</th>\n",
       "      <th>dayofweek</th>\n",
       "      <th>day</th>\n",
       "    </tr>\n",
       "  </thead>\n",
       "  <tbody>\n",
       "    <tr>\n",
       "      <th>0</th>\n",
       "      <td>0</td>\n",
       "      <td>2013-01-01</td>\n",
       "      <td>1</td>\n",
       "      <td>AUTOMOTIVE</td>\n",
       "      <td>0.000000</td>\n",
       "      <td>0.0</td>\n",
       "      <td>NaN</td>\n",
       "      <td>Holiday</td>\n",
       "      <td>National</td>\n",
       "      <td>Ecuador</td>\n",
       "      <td>...</td>\n",
       "      <td>1</td>\n",
       "      <td>1</td>\n",
       "      <td>Tuesday</td>\n",
       "      <td>1</td>\n",
       "      <td>1</td>\n",
       "      <td>0</td>\n",
       "      <td>1</td>\n",
       "      <td>0</td>\n",
       "      <td>1</td>\n",
       "      <td>1</td>\n",
       "    </tr>\n",
       "    <tr>\n",
       "      <th>1</th>\n",
       "      <td>1</td>\n",
       "      <td>2013-01-01</td>\n",
       "      <td>1</td>\n",
       "      <td>BABY CARE</td>\n",
       "      <td>0.000000</td>\n",
       "      <td>0.0</td>\n",
       "      <td>NaN</td>\n",
       "      <td>Holiday</td>\n",
       "      <td>National</td>\n",
       "      <td>Ecuador</td>\n",
       "      <td>...</td>\n",
       "      <td>1</td>\n",
       "      <td>1</td>\n",
       "      <td>Tuesday</td>\n",
       "      <td>1</td>\n",
       "      <td>1</td>\n",
       "      <td>0</td>\n",
       "      <td>1</td>\n",
       "      <td>0</td>\n",
       "      <td>1</td>\n",
       "      <td>1</td>\n",
       "    </tr>\n",
       "    <tr>\n",
       "      <th>2</th>\n",
       "      <td>2</td>\n",
       "      <td>2013-01-01</td>\n",
       "      <td>1</td>\n",
       "      <td>BEAUTY</td>\n",
       "      <td>0.000000</td>\n",
       "      <td>0.0</td>\n",
       "      <td>NaN</td>\n",
       "      <td>Holiday</td>\n",
       "      <td>National</td>\n",
       "      <td>Ecuador</td>\n",
       "      <td>...</td>\n",
       "      <td>1</td>\n",
       "      <td>1</td>\n",
       "      <td>Tuesday</td>\n",
       "      <td>1</td>\n",
       "      <td>1</td>\n",
       "      <td>0</td>\n",
       "      <td>1</td>\n",
       "      <td>0</td>\n",
       "      <td>1</td>\n",
       "      <td>1</td>\n",
       "    </tr>\n",
       "    <tr>\n",
       "      <th>3</th>\n",
       "      <td>3</td>\n",
       "      <td>2013-01-01</td>\n",
       "      <td>1</td>\n",
       "      <td>BEVERAGES</td>\n",
       "      <td>0.000000</td>\n",
       "      <td>0.0</td>\n",
       "      <td>NaN</td>\n",
       "      <td>Holiday</td>\n",
       "      <td>National</td>\n",
       "      <td>Ecuador</td>\n",
       "      <td>...</td>\n",
       "      <td>1</td>\n",
       "      <td>1</td>\n",
       "      <td>Tuesday</td>\n",
       "      <td>1</td>\n",
       "      <td>1</td>\n",
       "      <td>0</td>\n",
       "      <td>1</td>\n",
       "      <td>0</td>\n",
       "      <td>1</td>\n",
       "      <td>1</td>\n",
       "    </tr>\n",
       "    <tr>\n",
       "      <th>4</th>\n",
       "      <td>4</td>\n",
       "      <td>2013-01-01</td>\n",
       "      <td>1</td>\n",
       "      <td>BOOKS</td>\n",
       "      <td>0.000000</td>\n",
       "      <td>0.0</td>\n",
       "      <td>NaN</td>\n",
       "      <td>Holiday</td>\n",
       "      <td>National</td>\n",
       "      <td>Ecuador</td>\n",
       "      <td>...</td>\n",
       "      <td>1</td>\n",
       "      <td>1</td>\n",
       "      <td>Tuesday</td>\n",
       "      <td>1</td>\n",
       "      <td>1</td>\n",
       "      <td>0</td>\n",
       "      <td>1</td>\n",
       "      <td>0</td>\n",
       "      <td>1</td>\n",
       "      <td>1</td>\n",
       "    </tr>\n",
       "    <tr>\n",
       "      <th>...</th>\n",
       "      <td>...</td>\n",
       "      <td>...</td>\n",
       "      <td>...</td>\n",
       "      <td>...</td>\n",
       "      <td>...</td>\n",
       "      <td>...</td>\n",
       "      <td>...</td>\n",
       "      <td>...</td>\n",
       "      <td>...</td>\n",
       "      <td>...</td>\n",
       "      <td>...</td>\n",
       "      <td>...</td>\n",
       "      <td>...</td>\n",
       "      <td>...</td>\n",
       "      <td>...</td>\n",
       "      <td>...</td>\n",
       "      <td>...</td>\n",
       "      <td>...</td>\n",
       "      <td>...</td>\n",
       "      <td>...</td>\n",
       "      <td>...</td>\n",
       "    </tr>\n",
       "    <tr>\n",
       "      <th>3054343</th>\n",
       "      <td>3000883</td>\n",
       "      <td>2017-08-15</td>\n",
       "      <td>9</td>\n",
       "      <td>POULTRY</td>\n",
       "      <td>438.132996</td>\n",
       "      <td>0.0</td>\n",
       "      <td>49.07</td>\n",
       "      <td>Holiday</td>\n",
       "      <td>Local</td>\n",
       "      <td>Riobamba</td>\n",
       "      <td>...</td>\n",
       "      <td>33</td>\n",
       "      <td>3</td>\n",
       "      <td>Tuesday</td>\n",
       "      <td>15</td>\n",
       "      <td>227</td>\n",
       "      <td>0</td>\n",
       "      <td>0</td>\n",
       "      <td>0</td>\n",
       "      <td>1</td>\n",
       "      <td>15</td>\n",
       "    </tr>\n",
       "    <tr>\n",
       "      <th>3054344</th>\n",
       "      <td>3000884</td>\n",
       "      <td>2017-08-15</td>\n",
       "      <td>9</td>\n",
       "      <td>PREPARED FOODS</td>\n",
       "      <td>154.552994</td>\n",
       "      <td>1.0</td>\n",
       "      <td>49.07</td>\n",
       "      <td>Holiday</td>\n",
       "      <td>Local</td>\n",
       "      <td>Riobamba</td>\n",
       "      <td>...</td>\n",
       "      <td>33</td>\n",
       "      <td>3</td>\n",
       "      <td>Tuesday</td>\n",
       "      <td>15</td>\n",
       "      <td>227</td>\n",
       "      <td>0</td>\n",
       "      <td>0</td>\n",
       "      <td>0</td>\n",
       "      <td>1</td>\n",
       "      <td>15</td>\n",
       "    </tr>\n",
       "    <tr>\n",
       "      <th>3054345</th>\n",
       "      <td>3000885</td>\n",
       "      <td>2017-08-15</td>\n",
       "      <td>9</td>\n",
       "      <td>PRODUCE</td>\n",
       "      <td>2419.729004</td>\n",
       "      <td>148.0</td>\n",
       "      <td>49.07</td>\n",
       "      <td>Holiday</td>\n",
       "      <td>Local</td>\n",
       "      <td>Riobamba</td>\n",
       "      <td>...</td>\n",
       "      <td>33</td>\n",
       "      <td>3</td>\n",
       "      <td>Tuesday</td>\n",
       "      <td>15</td>\n",
       "      <td>227</td>\n",
       "      <td>0</td>\n",
       "      <td>0</td>\n",
       "      <td>0</td>\n",
       "      <td>1</td>\n",
       "      <td>15</td>\n",
       "    </tr>\n",
       "    <tr>\n",
       "      <th>3054346</th>\n",
       "      <td>3000886</td>\n",
       "      <td>2017-08-15</td>\n",
       "      <td>9</td>\n",
       "      <td>SCHOOL AND OFFICE SUPPLIES</td>\n",
       "      <td>121.000000</td>\n",
       "      <td>8.0</td>\n",
       "      <td>49.07</td>\n",
       "      <td>Holiday</td>\n",
       "      <td>Local</td>\n",
       "      <td>Riobamba</td>\n",
       "      <td>...</td>\n",
       "      <td>33</td>\n",
       "      <td>3</td>\n",
       "      <td>Tuesday</td>\n",
       "      <td>15</td>\n",
       "      <td>227</td>\n",
       "      <td>0</td>\n",
       "      <td>0</td>\n",
       "      <td>0</td>\n",
       "      <td>1</td>\n",
       "      <td>15</td>\n",
       "    </tr>\n",
       "    <tr>\n",
       "      <th>3054347</th>\n",
       "      <td>3000887</td>\n",
       "      <td>2017-08-15</td>\n",
       "      <td>9</td>\n",
       "      <td>SEAFOOD</td>\n",
       "      <td>16.000000</td>\n",
       "      <td>0.0</td>\n",
       "      <td>49.07</td>\n",
       "      <td>Holiday</td>\n",
       "      <td>Local</td>\n",
       "      <td>Riobamba</td>\n",
       "      <td>...</td>\n",
       "      <td>33</td>\n",
       "      <td>3</td>\n",
       "      <td>Tuesday</td>\n",
       "      <td>15</td>\n",
       "      <td>227</td>\n",
       "      <td>0</td>\n",
       "      <td>0</td>\n",
       "      <td>0</td>\n",
       "      <td>1</td>\n",
       "      <td>15</td>\n",
       "    </tr>\n",
       "  </tbody>\n",
       "</table>\n",
       "<p>3054348 rows × 29 columns</p>\n",
       "</div>"
      ],
      "text/plain": [
       "              id       date  store_nbr                      family  \\\n",
       "0              0 2013-01-01          1                  AUTOMOTIVE   \n",
       "1              1 2013-01-01          1                   BABY CARE   \n",
       "2              2 2013-01-01          1                      BEAUTY   \n",
       "3              3 2013-01-01          1                   BEVERAGES   \n",
       "4              4 2013-01-01          1                       BOOKS   \n",
       "...          ...        ...        ...                         ...   \n",
       "3054343  3000883 2017-08-15          9                     POULTRY   \n",
       "3054344  3000884 2017-08-15          9              PREPARED FOODS   \n",
       "3054345  3000885 2017-08-15          9                     PRODUCE   \n",
       "3054346  3000886 2017-08-15          9  SCHOOL AND OFFICE SUPPLIES   \n",
       "3054347  3000887 2017-08-15          9                     SEAFOOD   \n",
       "\n",
       "               sales  onpromotion  dcoilwtico holiday_type    locale  \\\n",
       "0           0.000000          0.0         NaN      Holiday  National   \n",
       "1           0.000000          0.0         NaN      Holiday  National   \n",
       "2           0.000000          0.0         NaN      Holiday  National   \n",
       "3           0.000000          0.0         NaN      Holiday  National   \n",
       "4           0.000000          0.0         NaN      Holiday  National   \n",
       "...              ...          ...         ...          ...       ...   \n",
       "3054343   438.132996          0.0       49.07      Holiday     Local   \n",
       "3054344   154.552994          1.0       49.07      Holiday     Local   \n",
       "3054345  2419.729004        148.0       49.07      Holiday     Local   \n",
       "3054346   121.000000          8.0       49.07      Holiday     Local   \n",
       "3054347    16.000000          0.0       49.07      Holiday     Local   \n",
       "\n",
       "        locale_name  ... week quarter day_of_week day_of_month day_of_year  \\\n",
       "0           Ecuador  ...    1       1     Tuesday            1           1   \n",
       "1           Ecuador  ...    1       1     Tuesday            1           1   \n",
       "2           Ecuador  ...    1       1     Tuesday            1           1   \n",
       "3           Ecuador  ...    1       1     Tuesday            1           1   \n",
       "4           Ecuador  ...    1       1     Tuesday            1           1   \n",
       "...             ...  ...  ...     ...         ...          ...         ...   \n",
       "3054343    Riobamba  ...   33       3     Tuesday           15         227   \n",
       "3054344    Riobamba  ...   33       3     Tuesday           15         227   \n",
       "3054345    Riobamba  ...   33       3     Tuesday           15         227   \n",
       "3054346    Riobamba  ...   33       3     Tuesday           15         227   \n",
       "3054347    Riobamba  ...   33       3     Tuesday           15         227   \n",
       "\n",
       "         is_weekend  is_month_start  is_month_end  dayofweek  day  \n",
       "0                 0               1             0          1    1  \n",
       "1                 0               1             0          1    1  \n",
       "2                 0               1             0          1    1  \n",
       "3                 0               1             0          1    1  \n",
       "4                 0               1             0          1    1  \n",
       "...             ...             ...           ...        ...  ...  \n",
       "3054343           0               0             0          1   15  \n",
       "3054344           0               0             0          1   15  \n",
       "3054345           0               0             0          1   15  \n",
       "3054346           0               0             0          1   15  \n",
       "3054347           0               0             0          1   15  \n",
       "\n",
       "[3054348 rows x 29 columns]"
      ]
     },
<<<<<<< HEAD
     "execution_count": 127,
=======
     "execution_count": 216,
>>>>>>> ef0e6d3 (inital commit)
     "metadata": {},
     "output_type": "execute_result"
    }
   ],
   "source": [
    "train1"
   ]
  },
  {
   "cell_type": "code",
<<<<<<< HEAD
   "execution_count": null,
   "id": "6e43123c",
   "metadata": {},
   "outputs": [],
   "source": [
    "train1.describe()\n"
   ]
  },
  {
   "cell_type": "code",
   "execution_count": 91,
   "id": "7d4039e4",
   "metadata": {},
=======
   "execution_count": 217,
   "id": "6e43123c",
   "metadata": {},
>>>>>>> ef0e6d3 (inital commit)
   "outputs": [
    {
     "name": "stderr",
     "output_type": "stream",
     "text": [
<<<<<<< HEAD
      "c:\\Users\\ali\\AppData\\Local\\Programs\\Python\\Python313\\Lib\\site-packages\\pandas\\io\\formats\\format.py:1458: RuntimeWarning:\n",
      "\n",
      "overflow encountered in cast\n",
      "\n",
      "c:\\Users\\ali\\AppData\\Local\\Programs\\Python\\Python313\\Lib\\site-packages\\pandas\\io\\formats\\format.py:1458: RuntimeWarning:\n",
      "\n",
      "overflow encountered in cast\n",
      "\n"
=======
      "e:\\setups\\anaconda\\Lib\\site-packages\\pandas\\core\\nanops.py:1487: RuntimeWarning: overflow encountered in cast\n",
      "  return dtype.type(n)\n",
      "e:\\setups\\anaconda\\Lib\\site-packages\\numpy\\core\\_methods.py:49: RuntimeWarning: overflow encountered in reduce\n",
      "  return umr_sum(a, axis, dtype, out, keepdims, initial, where)\n",
      "e:\\setups\\anaconda\\Lib\\site-packages\\pandas\\core\\nanops.py:731: RuntimeWarning: invalid value encountered in scalar divide\n",
      "  the_mean = the_sum / count if count > 0 else np.nan\n",
      "e:\\setups\\anaconda\\Lib\\site-packages\\pandas\\core\\nanops.py:1487: RuntimeWarning: overflow encountered in cast\n",
      "  return dtype.type(n)\n",
      "e:\\setups\\anaconda\\Lib\\site-packages\\pandas\\core\\nanops.py:1016: RuntimeWarning: overflow encountered in square\n",
      "  sqr = _ensure_numeric((avg - values) ** 2)\n",
      "e:\\setups\\anaconda\\Lib\\site-packages\\pandas\\core\\nanops.py:1019: RuntimeWarning: invalid value encountered in scalar divide\n",
      "  result = sqr.sum(axis=axis, dtype=np.float64) / d\n"
>>>>>>> ef0e6d3 (inital commit)
     ]
    },
    {
     "data": {
      "text/html": [
       "<div>\n",
       "<style scoped>\n",
       "    .dataframe tbody tr th:only-of-type {\n",
       "        vertical-align: middle;\n",
       "    }\n",
       "\n",
       "    .dataframe tbody tr th {\n",
       "        vertical-align: top;\n",
       "    }\n",
       "\n",
       "    .dataframe thead th {\n",
       "        text-align: right;\n",
       "    }\n",
       "</style>\n",
       "<table border=\"1\" class=\"dataframe\">\n",
       "  <thead>\n",
       "    <tr style=\"text-align: right;\">\n",
       "      <th></th>\n",
       "      <th>id</th>\n",
       "      <th>date</th>\n",
       "      <th>store_nbr</th>\n",
<<<<<<< HEAD
       "      <th>family</th>\n",
       "      <th>sales</th>\n",
       "      <th>onpromotion</th>\n",
       "      <th>dcoilwtico</th>\n",
       "      <th>holiday_type</th>\n",
       "      <th>locale</th>\n",
       "      <th>locale_name</th>\n",
       "      <th>...</th>\n",
       "      <th>week</th>\n",
       "      <th>quarter</th>\n",
       "      <th>day_of_week</th>\n",
       "      <th>day_of_month</th>\n",
       "      <th>day_of_year</th>\n",
       "      <th>is_weekend</th>\n",
       "      <th>is_month_start</th>\n",
       "      <th>is_month_end</th>\n",
       "      <th>dayofweek</th>\n",
       "      <th>day</th>\n",
=======
       "      <th>sales</th>\n",
       "      <th>onpromotion</th>\n",
       "      <th>dcoilwtico</th>\n",
       "      <th>cluster</th>\n",
       "      <th>transactions</th>\n",
       "      <th>year</th>\n",
       "      <th>month</th>\n",
       "      <th>week</th>\n",
       "      <th>quarter</th>\n",
       "      <th>day_of_month</th>\n",
       "      <th>day_of_year</th>\n",
       "      <th>is_weekend</th>\n",
       "      <th>is_month_start</th>\n",
       "      <th>is_month_end</th>\n",
       "      <th>dayofweek</th>\n",
       "      <th>day</th>\n",
       "    </tr>\n",
       "  </thead>\n",
       "  <tbody>\n",
       "    <tr>\n",
       "      <th>count</th>\n",
       "      <td>3.054348e+06</td>\n",
       "      <td>3054348</td>\n",
       "      <td>3.054348e+06</td>\n",
       "      <td>3.054348e+06</td>\n",
       "      <td>3054348.0</td>\n",
       "      <td>2.090286e+06</td>\n",
       "      <td>3.054348e+06</td>\n",
       "      <td>2.805231e+06</td>\n",
       "      <td>3.054348e+06</td>\n",
       "      <td>3.054348e+06</td>\n",
       "      <td>3054348.0</td>\n",
       "      <td>3.054348e+06</td>\n",
       "      <td>3.054348e+06</td>\n",
       "      <td>3.054348e+06</td>\n",
       "      <td>3.054348e+06</td>\n",
       "      <td>3.054348e+06</td>\n",
       "      <td>3.054348e+06</td>\n",
       "      <td>3.054348e+06</td>\n",
       "      <td>3.054348e+06</td>\n",
       "    </tr>\n",
       "    <tr>\n",
       "      <th>mean</th>\n",
       "      <td>1.504277e+06</td>\n",
       "      <td>2015-04-26 12:11:45.717619200</td>\n",
       "      <td>2.750000e+01</td>\n",
       "      <td>3.590209e+02</td>\n",
       "      <td>NaN</td>\n",
       "      <td>6.807354e+01</td>\n",
       "      <td>8.481481e+00</td>\n",
       "      <td>1.697071e+03</td>\n",
       "      <td>2.014842e+03</td>\n",
       "      <td>6.222870e+00</td>\n",
       "      <td>25.308635</td>\n",
       "      <td>2.413652e+00</td>\n",
       "      <td>1.565694e+01</td>\n",
       "      <td>1.738705e+02</td>\n",
       "      <td>2.876313e-01</td>\n",
       "      <td>3.325554e-02</td>\n",
       "      <td>3.208868e-02</td>\n",
       "      <td>3.008168e+00</td>\n",
       "      <td>1.565694e+01</td>\n",
       "    </tr>\n",
       "    <tr>\n",
       "      <th>min</th>\n",
       "      <td>0.000000e+00</td>\n",
       "      <td>2013-01-01 00:00:00</td>\n",
       "      <td>1.000000e+00</td>\n",
       "      <td>0.000000e+00</td>\n",
       "      <td>0.0</td>\n",
       "      <td>2.619000e+01</td>\n",
       "      <td>1.000000e+00</td>\n",
       "      <td>5.000000e+00</td>\n",
       "      <td>2.013000e+03</td>\n",
       "      <td>1.000000e+00</td>\n",
       "      <td>1.0</td>\n",
       "      <td>1.000000e+00</td>\n",
       "      <td>1.000000e+00</td>\n",
       "      <td>1.000000e+00</td>\n",
       "      <td>0.000000e+00</td>\n",
       "      <td>0.000000e+00</td>\n",
       "      <td>0.000000e+00</td>\n",
       "      <td>0.000000e+00</td>\n",
       "      <td>1.000000e+00</td>\n",
       "    </tr>\n",
       "    <tr>\n",
       "      <th>25%</th>\n",
       "      <td>7.546768e+05</td>\n",
       "      <td>2014-03-01 00:00:00</td>\n",
       "      <td>1.400000e+01</td>\n",
       "      <td>0.000000e+00</td>\n",
       "      <td>0.0</td>\n",
       "      <td>4.638000e+01</td>\n",
       "      <td>4.000000e+00</td>\n",
       "      <td>1.046000e+03</td>\n",
       "      <td>2.014000e+03</td>\n",
       "      <td>3.000000e+00</td>\n",
       "      <td>13.0</td>\n",
       "      <td>1.000000e+00</td>\n",
       "      <td>8.000000e+00</td>\n",
       "      <td>8.600000e+01</td>\n",
       "      <td>0.000000e+00</td>\n",
       "      <td>0.000000e+00</td>\n",
       "      <td>0.000000e+00</td>\n",
       "      <td>1.000000e+00</td>\n",
       "      <td>8.000000e+00</td>\n",
       "    </tr>\n",
       "    <tr>\n",
       "      <th>50%</th>\n",
       "      <td>1.507572e+06</td>\n",
       "      <td>2015-04-28 12:00:00</td>\n",
       "      <td>2.750000e+01</td>\n",
       "      <td>1.100000e+01</td>\n",
       "      <td>0.0</td>\n",
       "      <td>5.346000e+01</td>\n",
       "      <td>8.500000e+00</td>\n",
       "      <td>1.395000e+03</td>\n",
       "      <td>2.015000e+03</td>\n",
       "      <td>6.000000e+00</td>\n",
       "      <td>25.0</td>\n",
       "      <td>2.000000e+00</td>\n",
       "      <td>1.600000e+01</td>\n",
       "      <td>1.705000e+02</td>\n",
       "      <td>0.000000e+00</td>\n",
       "      <td>0.000000e+00</td>\n",
       "      <td>0.000000e+00</td>\n",
       "      <td>3.000000e+00</td>\n",
       "      <td>1.600000e+01</td>\n",
       "    </tr>\n",
       "    <tr>\n",
       "      <th>75%</th>\n",
       "      <td>2.255120e+06</td>\n",
       "      <td>2016-06-22 00:00:00</td>\n",
       "      <td>4.100000e+01</td>\n",
       "      <td>1.960110e+02</td>\n",
       "      <td>0.0</td>\n",
       "      <td>9.582000e+01</td>\n",
       "      <td>1.300000e+01</td>\n",
       "      <td>2.081000e+03</td>\n",
       "      <td>2.016000e+03</td>\n",
       "      <td>9.000000e+00</td>\n",
       "      <td>38.0</td>\n",
       "      <td>3.000000e+00</td>\n",
       "      <td>2.300000e+01</td>\n",
       "      <td>2.590000e+02</td>\n",
       "      <td>1.000000e+00</td>\n",
       "      <td>0.000000e+00</td>\n",
       "      <td>0.000000e+00</td>\n",
       "      <td>5.000000e+00</td>\n",
       "      <td>2.300000e+01</td>\n",
       "    </tr>\n",
       "    <tr>\n",
       "      <th>max</th>\n",
       "      <td>3.000887e+06</td>\n",
       "      <td>2017-08-15 00:00:00</td>\n",
       "      <td>5.400000e+01</td>\n",
       "      <td>1.247170e+05</td>\n",
       "      <td>741.0</td>\n",
       "      <td>1.106200e+02</td>\n",
       "      <td>1.700000e+01</td>\n",
       "      <td>8.359000e+03</td>\n",
       "      <td>2.017000e+03</td>\n",
       "      <td>1.200000e+01</td>\n",
       "      <td>53.0</td>\n",
       "      <td>4.000000e+00</td>\n",
       "      <td>3.100000e+01</td>\n",
       "      <td>3.660000e+02</td>\n",
       "      <td>1.000000e+00</td>\n",
       "      <td>1.000000e+00</td>\n",
       "      <td>1.000000e+00</td>\n",
       "      <td>6.000000e+00</td>\n",
       "      <td>3.100000e+01</td>\n",
       "    </tr>\n",
       "    <tr>\n",
       "      <th>std</th>\n",
       "      <td>8.662610e+05</td>\n",
       "      <td>NaN</td>\n",
       "      <td>1.558579e+01</td>\n",
       "      <td>1.097626e+03</td>\n",
       "      <td>NaN</td>\n",
       "      <td>2.569465e+01</td>\n",
       "      <td>4.649735e+00</td>\n",
       "      <td>9.668317e+02</td>\n",
       "      <td>1.345607e+00</td>\n",
       "      <td>3.374251e+00</td>\n",
       "      <td>14.750509</td>\n",
       "      <td>1.095690e+00</td>\n",
       "      <td>8.801398e+00</td>\n",
       "      <td>1.031228e+02</td>\n",
       "      <td>4.526584e-01</td>\n",
       "      <td>1.793032e-01</td>\n",
       "      <td>1.762357e-01</td>\n",
       "      <td>2.001442e+00</td>\n",
       "      <td>8.801398e+00</td>\n",
       "    </tr>\n",
       "  </tbody>\n",
       "</table>\n",
       "</div>"
      ],
      "text/plain": [
       "                 id                           date     store_nbr  \\\n",
       "count  3.054348e+06                        3054348  3.054348e+06   \n",
       "mean   1.504277e+06  2015-04-26 12:11:45.717619200  2.750000e+01   \n",
       "min    0.000000e+00            2013-01-01 00:00:00  1.000000e+00   \n",
       "25%    7.546768e+05            2014-03-01 00:00:00  1.400000e+01   \n",
       "50%    1.507572e+06            2015-04-28 12:00:00  2.750000e+01   \n",
       "75%    2.255120e+06            2016-06-22 00:00:00  4.100000e+01   \n",
       "max    3.000887e+06            2017-08-15 00:00:00  5.400000e+01   \n",
       "std    8.662610e+05                            NaN  1.558579e+01   \n",
       "\n",
       "              sales  onpromotion    dcoilwtico       cluster  transactions  \\\n",
       "count  3.054348e+06    3054348.0  2.090286e+06  3.054348e+06  2.805231e+06   \n",
       "mean   3.590209e+02          NaN  6.807354e+01  8.481481e+00  1.697071e+03   \n",
       "min    0.000000e+00          0.0  2.619000e+01  1.000000e+00  5.000000e+00   \n",
       "25%    0.000000e+00          0.0  4.638000e+01  4.000000e+00  1.046000e+03   \n",
       "50%    1.100000e+01          0.0  5.346000e+01  8.500000e+00  1.395000e+03   \n",
       "75%    1.960110e+02          0.0  9.582000e+01  1.300000e+01  2.081000e+03   \n",
       "max    1.247170e+05        741.0  1.106200e+02  1.700000e+01  8.359000e+03   \n",
       "std    1.097626e+03          NaN  2.569465e+01  4.649735e+00  9.668317e+02   \n",
       "\n",
       "               year         month       week       quarter  day_of_month  \\\n",
       "count  3.054348e+06  3.054348e+06  3054348.0  3.054348e+06  3.054348e+06   \n",
       "mean   2.014842e+03  6.222870e+00  25.308635  2.413652e+00  1.565694e+01   \n",
       "min    2.013000e+03  1.000000e+00        1.0  1.000000e+00  1.000000e+00   \n",
       "25%    2.014000e+03  3.000000e+00       13.0  1.000000e+00  8.000000e+00   \n",
       "50%    2.015000e+03  6.000000e+00       25.0  2.000000e+00  1.600000e+01   \n",
       "75%    2.016000e+03  9.000000e+00       38.0  3.000000e+00  2.300000e+01   \n",
       "max    2.017000e+03  1.200000e+01       53.0  4.000000e+00  3.100000e+01   \n",
       "std    1.345607e+00  3.374251e+00  14.750509  1.095690e+00  8.801398e+00   \n",
       "\n",
       "        day_of_year    is_weekend  is_month_start  is_month_end     dayofweek  \\\n",
       "count  3.054348e+06  3.054348e+06    3.054348e+06  3.054348e+06  3.054348e+06   \n",
       "mean   1.738705e+02  2.876313e-01    3.325554e-02  3.208868e-02  3.008168e+00   \n",
       "min    1.000000e+00  0.000000e+00    0.000000e+00  0.000000e+00  0.000000e+00   \n",
       "25%    8.600000e+01  0.000000e+00    0.000000e+00  0.000000e+00  1.000000e+00   \n",
       "50%    1.705000e+02  0.000000e+00    0.000000e+00  0.000000e+00  3.000000e+00   \n",
       "75%    2.590000e+02  1.000000e+00    0.000000e+00  0.000000e+00  5.000000e+00   \n",
       "max    3.660000e+02  1.000000e+00    1.000000e+00  1.000000e+00  6.000000e+00   \n",
       "std    1.031228e+02  4.526584e-01    1.793032e-01  1.762357e-01  2.001442e+00   \n",
       "\n",
       "                day  \n",
       "count  3.054348e+06  \n",
       "mean   1.565694e+01  \n",
       "min    1.000000e+00  \n",
       "25%    8.000000e+00  \n",
       "50%    1.600000e+01  \n",
       "75%    2.300000e+01  \n",
       "max    3.100000e+01  \n",
       "std    8.801398e+00  "
      ]
     },
     "execution_count": 217,
     "metadata": {},
     "output_type": "execute_result"
    }
   ],
   "source": [
    "train1.describe()\n"
   ]
  },
  {
   "cell_type": "code",
   "execution_count": 218,
   "id": "7d4039e4",
   "metadata": {},
   "outputs": [
    {
     "data": {
      "text/html": [
       "<div>\n",
       "<style scoped>\n",
       "    .dataframe tbody tr th:only-of-type {\n",
       "        vertical-align: middle;\n",
       "    }\n",
       "\n",
       "    .dataframe tbody tr th {\n",
       "        vertical-align: top;\n",
       "    }\n",
       "\n",
       "    .dataframe thead th {\n",
       "        text-align: right;\n",
       "    }\n",
       "</style>\n",
       "<table border=\"1\" class=\"dataframe\">\n",
       "  <thead>\n",
       "    <tr style=\"text-align: right;\">\n",
       "      <th></th>\n",
       "      <th>id</th>\n",
       "      <th>date</th>\n",
       "      <th>store_nbr</th>\n",
       "      <th>family</th>\n",
       "      <th>sales</th>\n",
       "      <th>onpromotion</th>\n",
>>>>>>> ef0e6d3 (inital commit)
       "    </tr>\n",
       "  </thead>\n",
       "  <tbody>\n",
       "    <tr>\n",
       "      <th>0</th>\n",
       "      <td>0</td>\n",
       "      <td>2013-01-01</td>\n",
       "      <td>1</td>\n",
       "      <td>AUTOMOTIVE</td>\n",
       "      <td>0.0</td>\n",
       "      <td>0.0</td>\n",
<<<<<<< HEAD
       "      <td>NaN</td>\n",
       "      <td>Holiday</td>\n",
       "      <td>National</td>\n",
       "      <td>Ecuador</td>\n",
       "      <td>...</td>\n",
       "      <td>1</td>\n",
       "      <td>1</td>\n",
       "      <td>Tuesday</td>\n",
       "      <td>1</td>\n",
       "      <td>1</td>\n",
       "      <td>0</td>\n",
       "      <td>1</td>\n",
       "      <td>0</td>\n",
       "      <td>1</td>\n",
       "      <td>1</td>\n",
=======
>>>>>>> ef0e6d3 (inital commit)
       "    </tr>\n",
       "    <tr>\n",
       "      <th>1</th>\n",
       "      <td>1</td>\n",
       "      <td>2013-01-01</td>\n",
       "      <td>1</td>\n",
       "      <td>BABY CARE</td>\n",
       "      <td>0.0</td>\n",
       "      <td>0.0</td>\n",
<<<<<<< HEAD
       "      <td>NaN</td>\n",
       "      <td>Holiday</td>\n",
       "      <td>National</td>\n",
       "      <td>Ecuador</td>\n",
       "      <td>...</td>\n",
       "      <td>1</td>\n",
       "      <td>1</td>\n",
       "      <td>Tuesday</td>\n",
       "      <td>1</td>\n",
       "      <td>1</td>\n",
       "      <td>0</td>\n",
       "      <td>1</td>\n",
       "      <td>0</td>\n",
       "      <td>1</td>\n",
       "      <td>1</td>\n",
=======
>>>>>>> ef0e6d3 (inital commit)
       "    </tr>\n",
       "    <tr>\n",
       "      <th>2</th>\n",
       "      <td>2</td>\n",
       "      <td>2013-01-01</td>\n",
       "      <td>1</td>\n",
       "      <td>BEAUTY</td>\n",
       "      <td>0.0</td>\n",
       "      <td>0.0</td>\n",
<<<<<<< HEAD
       "      <td>NaN</td>\n",
       "      <td>Holiday</td>\n",
       "      <td>National</td>\n",
       "      <td>Ecuador</td>\n",
       "      <td>...</td>\n",
       "      <td>1</td>\n",
       "      <td>1</td>\n",
       "      <td>Tuesday</td>\n",
       "      <td>1</td>\n",
       "      <td>1</td>\n",
       "      <td>0</td>\n",
       "      <td>1</td>\n",
       "      <td>0</td>\n",
       "      <td>1</td>\n",
       "      <td>1</td>\n",
=======
>>>>>>> ef0e6d3 (inital commit)
       "    </tr>\n",
       "    <tr>\n",
       "      <th>3</th>\n",
       "      <td>3</td>\n",
       "      <td>2013-01-01</td>\n",
       "      <td>1</td>\n",
       "      <td>BEVERAGES</td>\n",
       "      <td>0.0</td>\n",
       "      <td>0.0</td>\n",
<<<<<<< HEAD
       "      <td>NaN</td>\n",
       "      <td>Holiday</td>\n",
       "      <td>National</td>\n",
       "      <td>Ecuador</td>\n",
       "      <td>...</td>\n",
       "      <td>1</td>\n",
       "      <td>1</td>\n",
       "      <td>Tuesday</td>\n",
       "      <td>1</td>\n",
       "      <td>1</td>\n",
       "      <td>0</td>\n",
       "      <td>1</td>\n",
       "      <td>0</td>\n",
       "      <td>1</td>\n",
       "      <td>1</td>\n",
=======
>>>>>>> ef0e6d3 (inital commit)
       "    </tr>\n",
       "    <tr>\n",
       "      <th>4</th>\n",
       "      <td>4</td>\n",
       "      <td>2013-01-01</td>\n",
       "      <td>1</td>\n",
       "      <td>BOOKS</td>\n",
       "      <td>0.0</td>\n",
       "      <td>0.0</td>\n",
<<<<<<< HEAD
       "      <td>NaN</td>\n",
       "      <td>Holiday</td>\n",
       "      <td>National</td>\n",
       "      <td>Ecuador</td>\n",
       "      <td>...</td>\n",
       "      <td>1</td>\n",
       "      <td>1</td>\n",
       "      <td>Tuesday</td>\n",
       "      <td>1</td>\n",
       "      <td>1</td>\n",
       "      <td>0</td>\n",
       "      <td>1</td>\n",
       "      <td>0</td>\n",
       "      <td>1</td>\n",
       "      <td>1</td>\n",
       "    </tr>\n",
       "  </tbody>\n",
       "</table>\n",
       "<p>5 rows × 29 columns</p>\n",
       "</div>"
      ],
      "text/plain": [
       "   id       date  store_nbr      family  sales  onpromotion  dcoilwtico  \\\n",
       "0   0 2013-01-01          1  AUTOMOTIVE    0.0          0.0         NaN   \n",
       "1   1 2013-01-01          1   BABY CARE    0.0          0.0         NaN   \n",
       "2   2 2013-01-01          1      BEAUTY    0.0          0.0         NaN   \n",
       "3   3 2013-01-01          1   BEVERAGES    0.0          0.0         NaN   \n",
       "4   4 2013-01-01          1       BOOKS    0.0          0.0         NaN   \n",
       "\n",
       "  holiday_type    locale locale_name  ... week quarter day_of_week  \\\n",
       "0      Holiday  National     Ecuador  ...    1       1     Tuesday   \n",
       "1      Holiday  National     Ecuador  ...    1       1     Tuesday   \n",
       "2      Holiday  National     Ecuador  ...    1       1     Tuesday   \n",
       "3      Holiday  National     Ecuador  ...    1       1     Tuesday   \n",
       "4      Holiday  National     Ecuador  ...    1       1     Tuesday   \n",
       "\n",
       "  day_of_month day_of_year  is_weekend  is_month_start  is_month_end  \\\n",
       "0            1           1           0               1             0   \n",
       "1            1           1           0               1             0   \n",
       "2            1           1           0               1             0   \n",
       "3            1           1           0               1             0   \n",
       "4            1           1           0               1             0   \n",
       "\n",
       "   dayofweek  day  \n",
       "0          1    1  \n",
       "1          1    1  \n",
       "2          1    1  \n",
       "3          1    1  \n",
       "4          1    1  \n",
       "\n",
       "[5 rows x 29 columns]"
      ]
     },
     "execution_count": 91,
=======
       "    </tr>\n",
       "  </tbody>\n",
       "</table>\n",
       "</div>"
      ],
      "text/plain": [
       "   id       date  store_nbr      family  sales  onpromotion\n",
       "0   0 2013-01-01          1  AUTOMOTIVE    0.0          0.0\n",
       "1   1 2013-01-01          1   BABY CARE    0.0          0.0\n",
       "2   2 2013-01-01          1      BEAUTY    0.0          0.0\n",
       "3   3 2013-01-01          1   BEVERAGES    0.0          0.0\n",
       "4   4 2013-01-01          1       BOOKS    0.0          0.0"
      ]
     },
     "execution_count": 218,
>>>>>>> ef0e6d3 (inital commit)
     "metadata": {},
     "output_type": "execute_result"
    }
   ],
   "source": [
<<<<<<< HEAD
    "train1.head()"
=======
    "train.head()"
>>>>>>> ef0e6d3 (inital commit)
   ]
  },
  {
   "cell_type": "code",
<<<<<<< HEAD
   "execution_count": 92,
=======
   "execution_count": 219,
>>>>>>> ef0e6d3 (inital commit)
   "id": "7c2f3544",
   "metadata": {},
   "outputs": [
    {
     "name": "stdout",
     "output_type": "stream",
     "text": [
      "<class 'pandas.core.frame.DataFrame'>\n",
      "RangeIndex: 3054348 entries, 0 to 3054347\n",
      "Data columns (total 29 columns):\n",
      " #   Column          Dtype         \n",
      "---  ------          -----         \n",
      " 0   id              int64         \n",
      " 1   date            datetime64[ns]\n",
      " 2   store_nbr       int64         \n",
      " 3   family          object        \n",
      " 4   sales           float32       \n",
      " 5   onpromotion     float16       \n",
      " 6   dcoilwtico      float64       \n",
      " 7   holiday_type    object        \n",
      " 8   locale          object        \n",
      " 9   locale_name     object        \n",
      " 10  description     object        \n",
      " 11  transferred     object        \n",
      " 12  city            object        \n",
      " 13  state           object        \n",
      " 14  store_type      object        \n",
      " 15  cluster         int8          \n",
      " 16  transactions    float64       \n",
      " 17  year            int32         \n",
      " 18  month           int32         \n",
      " 19  week            UInt32        \n",
      " 20  quarter         int32         \n",
      " 21  day_of_week     object        \n",
      " 22  day_of_month    int32         \n",
      " 23  day_of_year     int32         \n",
<<<<<<< HEAD
      " 24  is_weekend      int64         \n",
      " 25  is_month_start  int64         \n",
      " 26  is_month_end    int64         \n",
      " 27  dayofweek       int32         \n",
      " 28  day             int32         \n",
      "dtypes: UInt32(1), datetime64[ns](1), float16(1), float32(1), float64(2), int32(7), int64(5), int8(1), object(10)\n",
      "memory usage: 536.0+ MB\n"
=======
      " 24  is_weekend      int32         \n",
      " 25  is_month_start  int32         \n",
      " 26  is_month_end    int32         \n",
      " 27  dayofweek       int32         \n",
      " 28  day             int32         \n",
      "dtypes: UInt32(1), datetime64[ns](1), float16(1), float32(1), float64(2), int32(10), int64(2), int8(1), object(10)\n",
      "memory usage: 501.0+ MB\n"
>>>>>>> ef0e6d3 (inital commit)
     ]
    }
   ],
   "source": [
    "train1.info()"
   ]
  },
  {
   "cell_type": "code",
<<<<<<< HEAD
   "execution_count": null,
=======
   "execution_count": 220,
>>>>>>> ef0e6d3 (inital commit)
   "id": "2fccb644",
   "metadata": {},
   "outputs": [
    {
     "data": {
      "text/html": [
       "<div>\n",
       "<style scoped>\n",
       "    .dataframe tbody tr th:only-of-type {\n",
       "        vertical-align: middle;\n",
       "    }\n",
       "\n",
       "    .dataframe tbody tr th {\n",
       "        vertical-align: top;\n",
       "    }\n",
       "\n",
       "    .dataframe thead th {\n",
       "        text-align: right;\n",
       "    }\n",
       "</style>\n",
       "<table border=\"1\" class=\"dataframe\">\n",
       "  <thead>\n",
       "    <tr style=\"text-align: right;\">\n",
       "      <th></th>\n",
       "      <th>Total</th>\n",
       "      <th>Percentage</th>\n",
       "    </tr>\n",
       "  </thead>\n",
       "  <tbody>\n",
       "    <tr>\n",
<<<<<<< HEAD
       "      <th>transferred</th>\n",
       "      <td>2551824</td>\n",
       "      <td>83.547258</td>\n",
       "    </tr>\n",
       "    <tr>\n",
=======
>>>>>>> ef0e6d3 (inital commit)
       "      <th>locale_name</th>\n",
       "      <td>2551824</td>\n",
       "      <td>83.547258</td>\n",
       "    </tr>\n",
       "    <tr>\n",
<<<<<<< HEAD
       "      <th>description</th>\n",
=======
       "      <th>transferred</th>\n",
>>>>>>> ef0e6d3 (inital commit)
       "      <td>2551824</td>\n",
       "      <td>83.547258</td>\n",
       "    </tr>\n",
       "    <tr>\n",
       "      <th>holiday_type</th>\n",
       "      <td>2551824</td>\n",
       "      <td>83.547258</td>\n",
       "    </tr>\n",
       "    <tr>\n",
       "      <th>locale</th>\n",
       "      <td>2551824</td>\n",
       "      <td>83.547258</td>\n",
       "    </tr>\n",
       "    <tr>\n",
<<<<<<< HEAD
=======
       "      <th>description</th>\n",
       "      <td>2551824</td>\n",
       "      <td>83.547258</td>\n",
       "    </tr>\n",
       "    <tr>\n",
>>>>>>> ef0e6d3 (inital commit)
       "      <th>dcoilwtico</th>\n",
       "      <td>964062</td>\n",
       "      <td>31.563594</td>\n",
       "    </tr>\n",
       "    <tr>\n",
       "      <th>transactions</th>\n",
       "      <td>249117</td>\n",
       "      <td>8.156143</td>\n",
       "    </tr>\n",
       "    <tr>\n",
<<<<<<< HEAD
       "      <th>store_nbr</th>\n",
       "      <td>0</td>\n",
       "      <td>0.000000</td>\n",
       "    </tr>\n",
       "    <tr>\n",
       "      <th>sales</th>\n",
       "      <td>0</td>\n",
       "      <td>0.000000</td>\n",
       "    </tr>\n",
       "    <tr>\n",
       "      <th>id</th>\n",
       "      <td>0</td>\n",
       "      <td>0.000000</td>\n",
       "    </tr>\n",
       "    <tr>\n",
       "      <th>family</th>\n",
       "      <td>0</td>\n",
       "      <td>0.000000</td>\n",
       "    </tr>\n",
       "    <tr>\n",
       "      <th>onpromotion</th>\n",
       "      <td>0</td>\n",
       "      <td>0.000000</td>\n",
       "    </tr>\n",
       "    <tr>\n",
       "      <th>date</th>\n",
       "      <td>0</td>\n",
       "      <td>0.000000</td>\n",
       "    </tr>\n",
       "    <tr>\n",
       "      <th>city</th>\n",
       "      <td>0</td>\n",
       "      <td>0.000000</td>\n",
       "    </tr>\n",
       "    <tr>\n",
       "      <th>state</th>\n",
       "      <td>0</td>\n",
       "      <td>0.000000</td>\n",
       "    </tr>\n",
       "    <tr>\n",
       "      <th>store_type</th>\n",
       "      <td>0</td>\n",
       "      <td>0.000000</td>\n",
       "    </tr>\n",
       "    <tr>\n",
       "      <th>cluster</th>\n",
       "      <td>0</td>\n",
       "      <td>0.000000</td>\n",
       "    </tr>\n",
       "    <tr>\n",
       "      <th>year</th>\n",
       "      <td>0</td>\n",
       "      <td>0.000000</td>\n",
       "    </tr>\n",
       "    <tr>\n",
       "      <th>month</th>\n",
       "      <td>0</td>\n",
       "      <td>0.000000</td>\n",
       "    </tr>\n",
       "    <tr>\n",
       "      <th>week</th>\n",
       "      <td>0</td>\n",
       "      <td>0.000000</td>\n",
       "    </tr>\n",
       "    <tr>\n",
=======
>>>>>>> ef0e6d3 (inital commit)
       "      <th>quarter</th>\n",
       "      <td>0</td>\n",
       "      <td>0.000000</td>\n",
       "    </tr>\n",
       "    <tr>\n",
       "      <th>day_of_week</th>\n",
       "      <td>0</td>\n",
       "      <td>0.000000</td>\n",
       "    </tr>\n",
       "    <tr>\n",
       "      <th>day_of_month</th>\n",
       "      <td>0</td>\n",
       "      <td>0.000000</td>\n",
       "    </tr>\n",
       "    <tr>\n",
       "      <th>day_of_year</th>\n",
       "      <td>0</td>\n",
       "      <td>0.000000</td>\n",
       "    </tr>\n",
       "    <tr>\n",
<<<<<<< HEAD
=======
       "      <th>id</th>\n",
       "      <td>0</td>\n",
       "      <td>0.000000</td>\n",
       "    </tr>\n",
       "    <tr>\n",
       "      <th>month</th>\n",
       "      <td>0</td>\n",
       "      <td>0.000000</td>\n",
       "    </tr>\n",
       "    <tr>\n",
>>>>>>> ef0e6d3 (inital commit)
       "      <th>is_weekend</th>\n",
       "      <td>0</td>\n",
       "      <td>0.000000</td>\n",
       "    </tr>\n",
       "    <tr>\n",
       "      <th>is_month_start</th>\n",
       "      <td>0</td>\n",
       "      <td>0.000000</td>\n",
       "    </tr>\n",
       "    <tr>\n",
       "      <th>is_month_end</th>\n",
       "      <td>0</td>\n",
       "      <td>0.000000</td>\n",
       "    </tr>\n",
       "    <tr>\n",
       "      <th>dayofweek</th>\n",
       "      <td>0</td>\n",
       "      <td>0.000000</td>\n",
       "    </tr>\n",
       "    <tr>\n",
<<<<<<< HEAD
=======
       "      <th>week</th>\n",
       "      <td>0</td>\n",
       "      <td>0.000000</td>\n",
       "    </tr>\n",
       "    <tr>\n",
       "      <th>store_type</th>\n",
       "      <td>0</td>\n",
       "      <td>0.000000</td>\n",
       "    </tr>\n",
       "    <tr>\n",
       "      <th>year</th>\n",
       "      <td>0</td>\n",
       "      <td>0.000000</td>\n",
       "    </tr>\n",
       "    <tr>\n",
       "      <th>cluster</th>\n",
       "      <td>0</td>\n",
       "      <td>0.000000</td>\n",
       "    </tr>\n",
       "    <tr>\n",
       "      <th>date</th>\n",
       "      <td>0</td>\n",
       "      <td>0.000000</td>\n",
       "    </tr>\n",
       "    <tr>\n",
       "      <th>state</th>\n",
       "      <td>0</td>\n",
       "      <td>0.000000</td>\n",
       "    </tr>\n",
       "    <tr>\n",
       "      <th>city</th>\n",
       "      <td>0</td>\n",
       "      <td>0.000000</td>\n",
       "    </tr>\n",
       "    <tr>\n",
       "      <th>onpromotion</th>\n",
       "      <td>0</td>\n",
       "      <td>0.000000</td>\n",
       "    </tr>\n",
       "    <tr>\n",
       "      <th>sales</th>\n",
       "      <td>0</td>\n",
       "      <td>0.000000</td>\n",
       "    </tr>\n",
       "    <tr>\n",
       "      <th>family</th>\n",
       "      <td>0</td>\n",
       "      <td>0.000000</td>\n",
       "    </tr>\n",
       "    <tr>\n",
       "      <th>store_nbr</th>\n",
       "      <td>0</td>\n",
       "      <td>0.000000</td>\n",
       "    </tr>\n",
       "    <tr>\n",
>>>>>>> ef0e6d3 (inital commit)
       "      <th>day</th>\n",
       "      <td>0</td>\n",
       "      <td>0.000000</td>\n",
       "    </tr>\n",
       "  </tbody>\n",
       "</table>\n",
       "</div>"
      ],
      "text/plain": [
       "                  Total  Percentage\n",
<<<<<<< HEAD
       "transferred     2551824   83.547258\n",
       "locale_name     2551824   83.547258\n",
       "description     2551824   83.547258\n",
       "holiday_type    2551824   83.547258\n",
       "locale          2551824   83.547258\n",
       "dcoilwtico       964062   31.563594\n",
       "transactions     249117    8.156143\n",
       "store_nbr             0    0.000000\n",
       "sales                 0    0.000000\n",
       "id                    0    0.000000\n",
       "family                0    0.000000\n",
       "onpromotion           0    0.000000\n",
       "date                  0    0.000000\n",
       "city                  0    0.000000\n",
       "state                 0    0.000000\n",
       "store_type            0    0.000000\n",
       "cluster               0    0.000000\n",
       "year                  0    0.000000\n",
       "month                 0    0.000000\n",
       "week                  0    0.000000\n",
=======
       "locale_name     2551824   83.547258\n",
       "transferred     2551824   83.547258\n",
       "holiday_type    2551824   83.547258\n",
       "locale          2551824   83.547258\n",
       "description     2551824   83.547258\n",
       "dcoilwtico       964062   31.563594\n",
       "transactions     249117    8.156143\n",
>>>>>>> ef0e6d3 (inital commit)
       "quarter               0    0.000000\n",
       "day_of_week           0    0.000000\n",
       "day_of_month          0    0.000000\n",
       "day_of_year           0    0.000000\n",
<<<<<<< HEAD
=======
       "id                    0    0.000000\n",
       "month                 0    0.000000\n",
>>>>>>> ef0e6d3 (inital commit)
       "is_weekend            0    0.000000\n",
       "is_month_start        0    0.000000\n",
       "is_month_end          0    0.000000\n",
       "dayofweek             0    0.000000\n",
<<<<<<< HEAD
       "day                   0    0.000000"
      ]
     },
     "execution_count": 93,
=======
       "week                  0    0.000000\n",
       "store_type            0    0.000000\n",
       "year                  0    0.000000\n",
       "cluster               0    0.000000\n",
       "date                  0    0.000000\n",
       "state                 0    0.000000\n",
       "city                  0    0.000000\n",
       "onpromotion           0    0.000000\n",
       "sales                 0    0.000000\n",
       "family                0    0.000000\n",
       "store_nbr             0    0.000000\n",
       "day                   0    0.000000"
      ]
     },
     "execution_count": 220,
>>>>>>> ef0e6d3 (inital commit)
     "metadata": {},
     "output_type": "execute_result"
    }
   ],
   "source": [
    "# Missing value summary\n",
    "missing = train1.isnull().sum().sort_values(ascending=False)\n",
    "missing_pct = (train1.isnull().mean()*100).sort_values(ascending=False)\n",
    "pd.concat([missing, missing_pct], axis=1, keys=['Total', 'Percentage'])"
   ]
  },
  {
   "cell_type": "markdown",
   "id": "32122b7e",
   "metadata": {},
   "source": [
    "**Filling these values would introduce fictional business activity.\n",
    "Time series models can accommodate these business-driven patterns.**\n",
    "\n",
    "Holiday Variables (83.5% missing)\n",
    "These missing values represent valid business reality - most days aren't holidays..\n",
    "Create a binary flag is_holiday to capture this information when needed.\n",
    "\n",
    "Oil Prices (31.3% missing)\n",
    "Oil prices naturally have gaps due to market closures and reporting delays.\n",
    "In time series modeling, we can build models that account for these known gaps any addings will cause aritifical patterns.\n",
    "Most time series algorithms can handle missing values in predictor variables.\n",
    "\n",
    "Transactions (8.15% missing)\n",
    "\n",
    "Missing transactions likely indicate days when stores were closed.\n",
    "Our target variable (sales) has no missing values, which is most critical.\n",
    "Core Business Variables (0% missing)\n",
    "\n",
    "By not imputing missing values:\n",
    "\n",
    "We maintain data authenticity and integrity\n",
    "We avoid introducing artificial patterns"
   ]
  },
  {
   "cell_type": "code",
<<<<<<< HEAD
   "execution_count": 94,
=======
   "execution_count": 221,
>>>>>>> ef0e6d3 (inital commit)
   "id": "fd706acc",
   "metadata": {},
   "outputs": [],
   "source": [
    "train1['is_holiday'] = train1['holiday_type'].notna().astype(int)"
   ]
  },
  {
   "cell_type": "code",
<<<<<<< HEAD
   "execution_count": null,
=======
   "execution_count": 222,
>>>>>>> ef0e6d3 (inital commit)
   "id": "dc8075c6",
   "metadata": {},
   "outputs": [
    {
     "data": {
      "text/plain": [
<<<<<<< HEAD
       "np.int64(0)"
      ]
     },
     "execution_count": 95,
=======
       "0"
      ]
     },
     "execution_count": 222,
>>>>>>> ef0e6d3 (inital commit)
     "metadata": {},
     "output_type": "execute_result"
    }
   ],
   "source": [
    "train1.duplicated().sum()"
   ]
  },
  {
   "cell_type": "code",
<<<<<<< HEAD
   "execution_count": 96,
   "id": "307edeaf",
   "metadata": {},
   "outputs": [
    {
     "ename": "PermissionError",
     "evalue": "[Errno 13] Permission denied: 'train1.csv'",
     "output_type": "error",
     "traceback": [
      "\u001b[1;31m---------------------------------------------------------------------------\u001b[0m",
      "\u001b[1;31mPermissionError\u001b[0m                           Traceback (most recent call last)",
      "Cell \u001b[1;32mIn[96], line 1\u001b[0m\n\u001b[1;32m----> 1\u001b[0m \u001b[43mtrain1\u001b[49m\u001b[38;5;241;43m.\u001b[39;49m\u001b[43mto_csv\u001b[49m\u001b[43m(\u001b[49m\u001b[38;5;124;43m'\u001b[39;49m\u001b[38;5;124;43mtrain1.csv\u001b[39;49m\u001b[38;5;124;43m'\u001b[39;49m\u001b[43m,\u001b[49m\u001b[43m \u001b[49m\u001b[43mindex\u001b[49m\u001b[38;5;241;43m=\u001b[39;49m\u001b[38;5;28;43;01mFalse\u001b[39;49;00m\u001b[43m)\u001b[49m\n\u001b[0;32m      2\u001b[0m \u001b[38;5;28mprint\u001b[39m(\u001b[38;5;124mf\u001b[39m\u001b[38;5;124m\"\u001b[39m\u001b[38;5;124mSuccessfully saved train1.csv with \u001b[39m\u001b[38;5;132;01m{\u001b[39;00mtrain1\u001b[38;5;241m.\u001b[39mshape[\u001b[38;5;241m1\u001b[39m]\u001b[38;5;132;01m}\u001b[39;00m\u001b[38;5;124m columns\u001b[39m\u001b[38;5;124m\"\u001b[39m)\n\u001b[0;32m      3\u001b[0m \u001b[38;5;28mprint\u001b[39m(\u001b[38;5;124m\"\u001b[39m\u001b[38;5;130;01m\\n\u001b[39;00m\u001b[38;5;124mColumns saved:\u001b[39m\u001b[38;5;124m\"\u001b[39m)\n",
      "File \u001b[1;32mc:\\Users\\ali\\AppData\\Local\\Programs\\Python\\Python313\\Lib\\site-packages\\pandas\\util\\_decorators.py:333\u001b[0m, in \u001b[0;36mdeprecate_nonkeyword_arguments.<locals>.decorate.<locals>.wrapper\u001b[1;34m(*args, **kwargs)\u001b[0m\n\u001b[0;32m    327\u001b[0m \u001b[38;5;28;01mif\u001b[39;00m \u001b[38;5;28mlen\u001b[39m(args) \u001b[38;5;241m>\u001b[39m num_allow_args:\n\u001b[0;32m    328\u001b[0m     warnings\u001b[38;5;241m.\u001b[39mwarn(\n\u001b[0;32m    329\u001b[0m         msg\u001b[38;5;241m.\u001b[39mformat(arguments\u001b[38;5;241m=\u001b[39m_format_argument_list(allow_args)),\n\u001b[0;32m    330\u001b[0m         \u001b[38;5;167;01mFutureWarning\u001b[39;00m,\n\u001b[0;32m    331\u001b[0m         stacklevel\u001b[38;5;241m=\u001b[39mfind_stack_level(),\n\u001b[0;32m    332\u001b[0m     )\n\u001b[1;32m--> 333\u001b[0m \u001b[38;5;28;01mreturn\u001b[39;00m \u001b[43mfunc\u001b[49m\u001b[43m(\u001b[49m\u001b[38;5;241;43m*\u001b[39;49m\u001b[43margs\u001b[49m\u001b[43m,\u001b[49m\u001b[43m \u001b[49m\u001b[38;5;241;43m*\u001b[39;49m\u001b[38;5;241;43m*\u001b[39;49m\u001b[43mkwargs\u001b[49m\u001b[43m)\u001b[49m\n",
      "File \u001b[1;32mc:\\Users\\ali\\AppData\\Local\\Programs\\Python\\Python313\\Lib\\site-packages\\pandas\\core\\generic.py:3967\u001b[0m, in \u001b[0;36mNDFrame.to_csv\u001b[1;34m(self, path_or_buf, sep, na_rep, float_format, columns, header, index, index_label, mode, encoding, compression, quoting, quotechar, lineterminator, chunksize, date_format, doublequote, escapechar, decimal, errors, storage_options)\u001b[0m\n\u001b[0;32m   3956\u001b[0m df \u001b[38;5;241m=\u001b[39m \u001b[38;5;28mself\u001b[39m \u001b[38;5;28;01mif\u001b[39;00m \u001b[38;5;28misinstance\u001b[39m(\u001b[38;5;28mself\u001b[39m, ABCDataFrame) \u001b[38;5;28;01melse\u001b[39;00m \u001b[38;5;28mself\u001b[39m\u001b[38;5;241m.\u001b[39mto_frame()\n\u001b[0;32m   3958\u001b[0m formatter \u001b[38;5;241m=\u001b[39m DataFrameFormatter(\n\u001b[0;32m   3959\u001b[0m     frame\u001b[38;5;241m=\u001b[39mdf,\n\u001b[0;32m   3960\u001b[0m     header\u001b[38;5;241m=\u001b[39mheader,\n\u001b[1;32m   (...)\u001b[0m\n\u001b[0;32m   3964\u001b[0m     decimal\u001b[38;5;241m=\u001b[39mdecimal,\n\u001b[0;32m   3965\u001b[0m )\n\u001b[1;32m-> 3967\u001b[0m \u001b[38;5;28;01mreturn\u001b[39;00m \u001b[43mDataFrameRenderer\u001b[49m\u001b[43m(\u001b[49m\u001b[43mformatter\u001b[49m\u001b[43m)\u001b[49m\u001b[38;5;241;43m.\u001b[39;49m\u001b[43mto_csv\u001b[49m\u001b[43m(\u001b[49m\n\u001b[0;32m   3968\u001b[0m \u001b[43m    \u001b[49m\u001b[43mpath_or_buf\u001b[49m\u001b[43m,\u001b[49m\n\u001b[0;32m   3969\u001b[0m \u001b[43m    \u001b[49m\u001b[43mlineterminator\u001b[49m\u001b[38;5;241;43m=\u001b[39;49m\u001b[43mlineterminator\u001b[49m\u001b[43m,\u001b[49m\n\u001b[0;32m   3970\u001b[0m \u001b[43m    \u001b[49m\u001b[43msep\u001b[49m\u001b[38;5;241;43m=\u001b[39;49m\u001b[43msep\u001b[49m\u001b[43m,\u001b[49m\n\u001b[0;32m   3971\u001b[0m \u001b[43m    \u001b[49m\u001b[43mencoding\u001b[49m\u001b[38;5;241;43m=\u001b[39;49m\u001b[43mencoding\u001b[49m\u001b[43m,\u001b[49m\n\u001b[0;32m   3972\u001b[0m \u001b[43m    \u001b[49m\u001b[43merrors\u001b[49m\u001b[38;5;241;43m=\u001b[39;49m\u001b[43merrors\u001b[49m\u001b[43m,\u001b[49m\n\u001b[0;32m   3973\u001b[0m \u001b[43m    \u001b[49m\u001b[43mcompression\u001b[49m\u001b[38;5;241;43m=\u001b[39;49m\u001b[43mcompression\u001b[49m\u001b[43m,\u001b[49m\n\u001b[0;32m   3974\u001b[0m \u001b[43m    \u001b[49m\u001b[43mquoting\u001b[49m\u001b[38;5;241;43m=\u001b[39;49m\u001b[43mquoting\u001b[49m\u001b[43m,\u001b[49m\n\u001b[0;32m   3975\u001b[0m \u001b[43m    \u001b[49m\u001b[43mcolumns\u001b[49m\u001b[38;5;241;43m=\u001b[39;49m\u001b[43mcolumns\u001b[49m\u001b[43m,\u001b[49m\n\u001b[0;32m   3976\u001b[0m \u001b[43m    \u001b[49m\u001b[43mindex_label\u001b[49m\u001b[38;5;241;43m=\u001b[39;49m\u001b[43mindex_label\u001b[49m\u001b[43m,\u001b[49m\n\u001b[0;32m   3977\u001b[0m \u001b[43m    \u001b[49m\u001b[43mmode\u001b[49m\u001b[38;5;241;43m=\u001b[39;49m\u001b[43mmode\u001b[49m\u001b[43m,\u001b[49m\n\u001b[0;32m   3978\u001b[0m \u001b[43m    \u001b[49m\u001b[43mchunksize\u001b[49m\u001b[38;5;241;43m=\u001b[39;49m\u001b[43mchunksize\u001b[49m\u001b[43m,\u001b[49m\n\u001b[0;32m   3979\u001b[0m \u001b[43m    \u001b[49m\u001b[43mquotechar\u001b[49m\u001b[38;5;241;43m=\u001b[39;49m\u001b[43mquotechar\u001b[49m\u001b[43m,\u001b[49m\n\u001b[0;32m   3980\u001b[0m \u001b[43m    \u001b[49m\u001b[43mdate_format\u001b[49m\u001b[38;5;241;43m=\u001b[39;49m\u001b[43mdate_format\u001b[49m\u001b[43m,\u001b[49m\n\u001b[0;32m   3981\u001b[0m \u001b[43m    \u001b[49m\u001b[43mdoublequote\u001b[49m\u001b[38;5;241;43m=\u001b[39;49m\u001b[43mdoublequote\u001b[49m\u001b[43m,\u001b[49m\n\u001b[0;32m   3982\u001b[0m \u001b[43m    \u001b[49m\u001b[43mescapechar\u001b[49m\u001b[38;5;241;43m=\u001b[39;49m\u001b[43mescapechar\u001b[49m\u001b[43m,\u001b[49m\n\u001b[0;32m   3983\u001b[0m \u001b[43m    \u001b[49m\u001b[43mstorage_options\u001b[49m\u001b[38;5;241;43m=\u001b[39;49m\u001b[43mstorage_options\u001b[49m\u001b[43m,\u001b[49m\n\u001b[0;32m   3984\u001b[0m \u001b[43m\u001b[49m\u001b[43m)\u001b[49m\n",
      "File \u001b[1;32mc:\\Users\\ali\\AppData\\Local\\Programs\\Python\\Python313\\Lib\\site-packages\\pandas\\io\\formats\\format.py:1014\u001b[0m, in \u001b[0;36mDataFrameRenderer.to_csv\u001b[1;34m(self, path_or_buf, encoding, sep, columns, index_label, mode, compression, quoting, quotechar, lineterminator, chunksize, date_format, doublequote, escapechar, errors, storage_options)\u001b[0m\n\u001b[0;32m    993\u001b[0m     created_buffer \u001b[38;5;241m=\u001b[39m \u001b[38;5;28;01mFalse\u001b[39;00m\n\u001b[0;32m    995\u001b[0m csv_formatter \u001b[38;5;241m=\u001b[39m CSVFormatter(\n\u001b[0;32m    996\u001b[0m     path_or_buf\u001b[38;5;241m=\u001b[39mpath_or_buf,\n\u001b[0;32m    997\u001b[0m     lineterminator\u001b[38;5;241m=\u001b[39mlineterminator,\n\u001b[1;32m   (...)\u001b[0m\n\u001b[0;32m   1012\u001b[0m     formatter\u001b[38;5;241m=\u001b[39m\u001b[38;5;28mself\u001b[39m\u001b[38;5;241m.\u001b[39mfmt,\n\u001b[0;32m   1013\u001b[0m )\n\u001b[1;32m-> 1014\u001b[0m \u001b[43mcsv_formatter\u001b[49m\u001b[38;5;241;43m.\u001b[39;49m\u001b[43msave\u001b[49m\u001b[43m(\u001b[49m\u001b[43m)\u001b[49m\n\u001b[0;32m   1016\u001b[0m \u001b[38;5;28;01mif\u001b[39;00m created_buffer:\n\u001b[0;32m   1017\u001b[0m     \u001b[38;5;28;01massert\u001b[39;00m \u001b[38;5;28misinstance\u001b[39m(path_or_buf, StringIO)\n",
      "File \u001b[1;32mc:\\Users\\ali\\AppData\\Local\\Programs\\Python\\Python313\\Lib\\site-packages\\pandas\\io\\formats\\csvs.py:251\u001b[0m, in \u001b[0;36mCSVFormatter.save\u001b[1;34m(self)\u001b[0m\n\u001b[0;32m    247\u001b[0m \u001b[38;5;250m\u001b[39m\u001b[38;5;124;03m\"\"\"\u001b[39;00m\n\u001b[0;32m    248\u001b[0m \u001b[38;5;124;03mCreate the writer & save.\u001b[39;00m\n\u001b[0;32m    249\u001b[0m \u001b[38;5;124;03m\"\"\"\u001b[39;00m\n\u001b[0;32m    250\u001b[0m \u001b[38;5;66;03m# apply compression and byte/text conversion\u001b[39;00m\n\u001b[1;32m--> 251\u001b[0m \u001b[38;5;28;01mwith\u001b[39;00m \u001b[43mget_handle\u001b[49m\u001b[43m(\u001b[49m\n\u001b[0;32m    252\u001b[0m \u001b[43m    \u001b[49m\u001b[38;5;28;43mself\u001b[39;49m\u001b[38;5;241;43m.\u001b[39;49m\u001b[43mfilepath_or_buffer\u001b[49m\u001b[43m,\u001b[49m\n\u001b[0;32m    253\u001b[0m \u001b[43m    \u001b[49m\u001b[38;5;28;43mself\u001b[39;49m\u001b[38;5;241;43m.\u001b[39;49m\u001b[43mmode\u001b[49m\u001b[43m,\u001b[49m\n\u001b[0;32m    254\u001b[0m \u001b[43m    \u001b[49m\u001b[43mencoding\u001b[49m\u001b[38;5;241;43m=\u001b[39;49m\u001b[38;5;28;43mself\u001b[39;49m\u001b[38;5;241;43m.\u001b[39;49m\u001b[43mencoding\u001b[49m\u001b[43m,\u001b[49m\n\u001b[0;32m    255\u001b[0m \u001b[43m    \u001b[49m\u001b[43merrors\u001b[49m\u001b[38;5;241;43m=\u001b[39;49m\u001b[38;5;28;43mself\u001b[39;49m\u001b[38;5;241;43m.\u001b[39;49m\u001b[43merrors\u001b[49m\u001b[43m,\u001b[49m\n\u001b[0;32m    256\u001b[0m \u001b[43m    \u001b[49m\u001b[43mcompression\u001b[49m\u001b[38;5;241;43m=\u001b[39;49m\u001b[38;5;28;43mself\u001b[39;49m\u001b[38;5;241;43m.\u001b[39;49m\u001b[43mcompression\u001b[49m\u001b[43m,\u001b[49m\n\u001b[0;32m    257\u001b[0m \u001b[43m    \u001b[49m\u001b[43mstorage_options\u001b[49m\u001b[38;5;241;43m=\u001b[39;49m\u001b[38;5;28;43mself\u001b[39;49m\u001b[38;5;241;43m.\u001b[39;49m\u001b[43mstorage_options\u001b[49m\u001b[43m,\u001b[49m\n\u001b[0;32m    258\u001b[0m \u001b[43m\u001b[49m\u001b[43m)\u001b[49m \u001b[38;5;28;01mas\u001b[39;00m handles:\n\u001b[0;32m    259\u001b[0m     \u001b[38;5;66;03m# Note: self.encoding is irrelevant here\u001b[39;00m\n\u001b[0;32m    260\u001b[0m     \u001b[38;5;28mself\u001b[39m\u001b[38;5;241m.\u001b[39mwriter \u001b[38;5;241m=\u001b[39m csvlib\u001b[38;5;241m.\u001b[39mwriter(\n\u001b[0;32m    261\u001b[0m         handles\u001b[38;5;241m.\u001b[39mhandle,\n\u001b[0;32m    262\u001b[0m         lineterminator\u001b[38;5;241m=\u001b[39m\u001b[38;5;28mself\u001b[39m\u001b[38;5;241m.\u001b[39mlineterminator,\n\u001b[1;32m   (...)\u001b[0m\n\u001b[0;32m    267\u001b[0m         quotechar\u001b[38;5;241m=\u001b[39m\u001b[38;5;28mself\u001b[39m\u001b[38;5;241m.\u001b[39mquotechar,\n\u001b[0;32m    268\u001b[0m     )\n\u001b[0;32m    270\u001b[0m     \u001b[38;5;28mself\u001b[39m\u001b[38;5;241m.\u001b[39m_save()\n",
      "File \u001b[1;32mc:\\Users\\ali\\AppData\\Local\\Programs\\Python\\Python313\\Lib\\site-packages\\pandas\\io\\common.py:873\u001b[0m, in \u001b[0;36mget_handle\u001b[1;34m(path_or_buf, mode, encoding, compression, memory_map, is_text, errors, storage_options)\u001b[0m\n\u001b[0;32m    868\u001b[0m \u001b[38;5;28;01melif\u001b[39;00m \u001b[38;5;28misinstance\u001b[39m(handle, \u001b[38;5;28mstr\u001b[39m):\n\u001b[0;32m    869\u001b[0m     \u001b[38;5;66;03m# Check whether the filename is to be opened in binary mode.\u001b[39;00m\n\u001b[0;32m    870\u001b[0m     \u001b[38;5;66;03m# Binary mode does not support 'encoding' and 'newline'.\u001b[39;00m\n\u001b[0;32m    871\u001b[0m     \u001b[38;5;28;01mif\u001b[39;00m ioargs\u001b[38;5;241m.\u001b[39mencoding \u001b[38;5;129;01mand\u001b[39;00m \u001b[38;5;124m\"\u001b[39m\u001b[38;5;124mb\u001b[39m\u001b[38;5;124m\"\u001b[39m \u001b[38;5;129;01mnot\u001b[39;00m \u001b[38;5;129;01min\u001b[39;00m ioargs\u001b[38;5;241m.\u001b[39mmode:\n\u001b[0;32m    872\u001b[0m         \u001b[38;5;66;03m# Encoding\u001b[39;00m\n\u001b[1;32m--> 873\u001b[0m         handle \u001b[38;5;241m=\u001b[39m \u001b[38;5;28;43mopen\u001b[39;49m\u001b[43m(\u001b[49m\n\u001b[0;32m    874\u001b[0m \u001b[43m            \u001b[49m\u001b[43mhandle\u001b[49m\u001b[43m,\u001b[49m\n\u001b[0;32m    875\u001b[0m \u001b[43m            \u001b[49m\u001b[43mioargs\u001b[49m\u001b[38;5;241;43m.\u001b[39;49m\u001b[43mmode\u001b[49m\u001b[43m,\u001b[49m\n\u001b[0;32m    876\u001b[0m \u001b[43m            \u001b[49m\u001b[43mencoding\u001b[49m\u001b[38;5;241;43m=\u001b[39;49m\u001b[43mioargs\u001b[49m\u001b[38;5;241;43m.\u001b[39;49m\u001b[43mencoding\u001b[49m\u001b[43m,\u001b[49m\n\u001b[0;32m    877\u001b[0m \u001b[43m            \u001b[49m\u001b[43merrors\u001b[49m\u001b[38;5;241;43m=\u001b[39;49m\u001b[43merrors\u001b[49m\u001b[43m,\u001b[49m\n\u001b[0;32m    878\u001b[0m \u001b[43m            \u001b[49m\u001b[43mnewline\u001b[49m\u001b[38;5;241;43m=\u001b[39;49m\u001b[38;5;124;43m\"\u001b[39;49m\u001b[38;5;124;43m\"\u001b[39;49m\u001b[43m,\u001b[49m\n\u001b[0;32m    879\u001b[0m \u001b[43m        \u001b[49m\u001b[43m)\u001b[49m\n\u001b[0;32m    880\u001b[0m     \u001b[38;5;28;01melse\u001b[39;00m:\n\u001b[0;32m    881\u001b[0m         \u001b[38;5;66;03m# Binary mode\u001b[39;00m\n\u001b[0;32m    882\u001b[0m         handle \u001b[38;5;241m=\u001b[39m \u001b[38;5;28mopen\u001b[39m(handle, ioargs\u001b[38;5;241m.\u001b[39mmode)\n",
      "\u001b[1;31mPermissionError\u001b[0m: [Errno 13] Permission denied: 'train1.csv'"
     ]
    }
   ],
   "source": [
    "train1.to_csv('train1.csv', index=False)\n",
    "print(f\"Successfully saved train1.csv with {train1.shape[1]} columns\")\n",
    "print(\"\\nColumns saved:\")\n",
    "print(train1.columns.tolist())"
=======
   "execution_count": 223,
   "id": "ee661a02",
   "metadata": {},
   "outputs": [
    {
     "data": {
      "text/plain": [
       "<Axes: xlabel='sales', ylabel='Count'>"
      ]
     },
     "execution_count": 223,
     "metadata": {},
     "output_type": "execute_result"
    },
    {
     "data": {
      "image/png": "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",
      "text/plain": [
       "<Figure size 640x480 with 1 Axes>"
      ]
     },
     "metadata": {},
     "output_type": "display_data"
    }
   ],
   "source": [
    "sns.histplot(train1['sales'], bins=50)"
   ]
  },
  {
   "cell_type": "code",
   "execution_count": 190,
   "id": "4a886d73",
   "metadata": {},
   "outputs": [
    {
     "data": {
      "image/png": "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",
      "text/plain": [
       "<Figure size 1500x2000 with 8 Axes>"
      ]
     },
     "metadata": {},
     "output_type": "display_data"
    }
   ],
   "source": [
    "drop_cols = ['description', 'locale_name']  # Example: Too many unique values\n",
    "cat_vars = train1.select_dtypes(include='object').columns.drop(drop_cols, errors='ignore')\n",
    "\n",
    "# Plot categorical variables\n",
    "plt.figure(figsize=(15, 20))\n",
    "for i, col in enumerate(cat_vars, 1):\n",
    "    plt.subplot(4, 2, i)\n",
    "    sns.countplot(data=train1, y=col, order=train1[col].value_counts().index[:10])  # Top 10 categories\n",
    "    plt.title(f'Distribution of {col}')\n",
    "    plt.tight_layout()\n",
    "plt.show()"
>>>>>>> ef0e6d3 (inital commit)
   ]
  },
  {
   "cell_type": "markdown",
   "id": "d0eb0531",
   "metadata": {},
   "source": [
<<<<<<< HEAD
    "# **Visualization**"
   ]
  },
  {
   "cell_type": "code",
   "execution_count": null,
   "id": "f4123738",
   "metadata": {},
   "outputs": [],
   "source": [
    "import plotly.express as px\n",
    "import plotly.graph_objects as go\n",
    "from plotly.subplots import make_subplots"
   ]
  },
  {
   "cell_type": "code",
   "execution_count": 62,
   "id": "21db421f",
   "metadata": {},
   "outputs": [
    {
     "data": {
      "application/vnd.plotly.v1+json": {
       "config": {
        "plotlyServerURL": "https://plot.ly"
       },
       "data": [
        {
         "hovertemplate": "Date=%{x}<br>Total Sales=%{y}<extra></extra>",
         "legendgroup": "",
         "line": {
          "color": "#636efa",
          "dash": "solid"
         },
         "marker": {
          "symbol": "circle"
         },
         "mode": "lines",
         "name": "",
         "orientation": "v",
         "showlegend": false,
         "type": "scatter",
         "x": [
          "2013-01-01T00:00:00.000000000",
          "2013-02-01T00:00:00.000000000",
          "2013-03-01T00:00:00.000000000",
          "2013-04-01T00:00:00.000000000",
          "2013-05-01T00:00:00.000000000",
          "2013-06-01T00:00:00.000000000",
          "2013-07-01T00:00:00.000000000",
          "2013-08-01T00:00:00.000000000",
          "2013-09-01T00:00:00.000000000",
          "2013-10-01T00:00:00.000000000",
          "2013-11-01T00:00:00.000000000",
          "2013-12-01T00:00:00.000000000",
          "2014-01-01T00:00:00.000000000",
          "2014-02-01T00:00:00.000000000",
          "2014-03-01T00:00:00.000000000",
          "2014-04-01T00:00:00.000000000",
          "2014-05-01T00:00:00.000000000",
          "2014-06-01T00:00:00.000000000",
          "2014-07-01T00:00:00.000000000",
          "2014-08-01T00:00:00.000000000",
          "2014-09-01T00:00:00.000000000",
          "2014-10-01T00:00:00.000000000",
          "2014-11-01T00:00:00.000000000",
          "2014-12-01T00:00:00.000000000",
          "2015-01-01T00:00:00.000000000",
          "2015-02-01T00:00:00.000000000",
          "2015-03-01T00:00:00.000000000",
          "2015-04-01T00:00:00.000000000",
          "2015-05-01T00:00:00.000000000",
          "2015-06-01T00:00:00.000000000",
          "2015-07-01T00:00:00.000000000",
          "2015-08-01T00:00:00.000000000",
          "2015-09-01T00:00:00.000000000",
          "2015-10-01T00:00:00.000000000",
          "2015-11-01T00:00:00.000000000",
          "2015-12-01T00:00:00.000000000",
          "2016-01-01T00:00:00.000000000",
          "2016-02-01T00:00:00.000000000",
          "2016-03-01T00:00:00.000000000",
          "2016-04-01T00:00:00.000000000",
          "2016-05-01T00:00:00.000000000",
          "2016-06-01T00:00:00.000000000",
          "2016-07-01T00:00:00.000000000",
          "2016-08-01T00:00:00.000000000",
          "2016-09-01T00:00:00.000000000",
          "2016-10-01T00:00:00.000000000",
          "2016-11-01T00:00:00.000000000",
          "2016-12-01T00:00:00.000000000",
          "2017-01-01T00:00:00.000000000",
          "2017-02-01T00:00:00.000000000",
          "2017-03-01T00:00:00.000000000",
          "2017-04-01T00:00:00.000000000",
          "2017-05-01T00:00:00.000000000",
          "2017-06-01T00:00:00.000000000",
          "2017-07-01T00:00:00.000000000",
          "2017-08-01T00:00:00.000000000"
         ],
         "xaxis": "x",
         "y": {
          "bdata": "SZYdS1BiE0uRYi5LOb8nS53iNks/rTtLUX0xS70aM0sl8jNLhK4zS8+LPEvUwntLzEiQS9GwN0uIYJtLQz9ES8koTEtBg1tLtKGYS/jeU0tIwphLI5ybS9qknEtMDMhLGk9jSzyxUUsQBG5LPDJkS6BFh0ut06xLfFevS+0yr0tZULFLPi22S+38rUsakdhLpu+2Swhyp0tCe7BLRLjNS+PH2UvqkbZLIxLCS19Mq0sUCKtLW1a3Sy0aw0ukzepLMN7IS2BisUtJvMtL0zfLSzRSzUvGndRLtiPVS6u3PUs=",
          "dtype": "f4"
         },
         "yaxis": "y"
        }
       ],
       "layout": {
        "legend": {
         "tracegroupgap": 0
        },
        "template": {
         "data": {
          "bar": [
           {
            "error_x": {
             "color": "#2a3f5f"
            },
            "error_y": {
             "color": "#2a3f5f"
            },
            "marker": {
             "line": {
              "color": "#E5ECF6",
              "width": 0.5
             },
             "pattern": {
              "fillmode": "overlay",
              "size": 10,
              "solidity": 0.2
             }
            },
            "type": "bar"
           }
          ],
          "barpolar": [
           {
            "marker": {
             "line": {
              "color": "#E5ECF6",
              "width": 0.5
             },
             "pattern": {
              "fillmode": "overlay",
              "size": 10,
              "solidity": 0.2
             }
            },
            "type": "barpolar"
           }
          ],
          "carpet": [
           {
            "aaxis": {
             "endlinecolor": "#2a3f5f",
             "gridcolor": "white",
             "linecolor": "white",
             "minorgridcolor": "white",
             "startlinecolor": "#2a3f5f"
            },
            "baxis": {
             "endlinecolor": "#2a3f5f",
             "gridcolor": "white",
             "linecolor": "white",
             "minorgridcolor": "white",
             "startlinecolor": "#2a3f5f"
            },
            "type": "carpet"
           }
          ],
          "choropleth": [
           {
            "colorbar": {
             "outlinewidth": 0,
             "ticks": ""
            },
            "type": "choropleth"
           }
          ],
          "contour": [
           {
            "colorbar": {
             "outlinewidth": 0,
             "ticks": ""
            },
            "colorscale": [
             [
              0,
              "#0d0887"
             ],
             [
              0.1111111111111111,
              "#46039f"
             ],
             [
              0.2222222222222222,
              "#7201a8"
             ],
             [
              0.3333333333333333,
              "#9c179e"
             ],
             [
              0.4444444444444444,
              "#bd3786"
             ],
             [
              0.5555555555555556,
              "#d8576b"
             ],
             [
              0.6666666666666666,
              "#ed7953"
             ],
             [
              0.7777777777777778,
              "#fb9f3a"
             ],
             [
              0.8888888888888888,
              "#fdca26"
             ],
             [
              1,
              "#f0f921"
             ]
            ],
            "type": "contour"
           }
          ],
          "contourcarpet": [
           {
            "colorbar": {
             "outlinewidth": 0,
             "ticks": ""
            },
            "type": "contourcarpet"
           }
          ],
          "heatmap": [
           {
            "colorbar": {
             "outlinewidth": 0,
             "ticks": ""
            },
            "colorscale": [
             [
              0,
              "#0d0887"
             ],
             [
              0.1111111111111111,
              "#46039f"
             ],
             [
              0.2222222222222222,
              "#7201a8"
             ],
             [
              0.3333333333333333,
              "#9c179e"
             ],
             [
              0.4444444444444444,
              "#bd3786"
             ],
             [
              0.5555555555555556,
              "#d8576b"
             ],
             [
              0.6666666666666666,
              "#ed7953"
             ],
             [
              0.7777777777777778,
              "#fb9f3a"
             ],
             [
              0.8888888888888888,
              "#fdca26"
             ],
             [
              1,
              "#f0f921"
             ]
            ],
            "type": "heatmap"
           }
          ],
          "histogram": [
           {
            "marker": {
             "pattern": {
              "fillmode": "overlay",
              "size": 10,
              "solidity": 0.2
             }
            },
            "type": "histogram"
           }
          ],
          "histogram2d": [
           {
            "colorbar": {
             "outlinewidth": 0,
             "ticks": ""
            },
            "colorscale": [
             [
              0,
              "#0d0887"
             ],
             [
              0.1111111111111111,
              "#46039f"
             ],
             [
              0.2222222222222222,
              "#7201a8"
             ],
             [
              0.3333333333333333,
              "#9c179e"
             ],
             [
              0.4444444444444444,
              "#bd3786"
             ],
             [
              0.5555555555555556,
              "#d8576b"
             ],
             [
              0.6666666666666666,
              "#ed7953"
             ],
             [
              0.7777777777777778,
              "#fb9f3a"
             ],
             [
              0.8888888888888888,
              "#fdca26"
             ],
             [
              1,
              "#f0f921"
             ]
            ],
            "type": "histogram2d"
           }
          ],
          "histogram2dcontour": [
           {
            "colorbar": {
             "outlinewidth": 0,
             "ticks": ""
            },
            "colorscale": [
             [
              0,
              "#0d0887"
             ],
             [
              0.1111111111111111,
              "#46039f"
             ],
             [
              0.2222222222222222,
              "#7201a8"
             ],
             [
              0.3333333333333333,
              "#9c179e"
             ],
             [
              0.4444444444444444,
              "#bd3786"
             ],
             [
              0.5555555555555556,
              "#d8576b"
             ],
             [
              0.6666666666666666,
              "#ed7953"
             ],
             [
              0.7777777777777778,
              "#fb9f3a"
             ],
             [
              0.8888888888888888,
              "#fdca26"
             ],
             [
              1,
              "#f0f921"
             ]
            ],
            "type": "histogram2dcontour"
           }
          ],
          "mesh3d": [
           {
            "colorbar": {
             "outlinewidth": 0,
             "ticks": ""
            },
            "type": "mesh3d"
           }
          ],
          "parcoords": [
           {
            "line": {
             "colorbar": {
              "outlinewidth": 0,
              "ticks": ""
             }
            },
            "type": "parcoords"
           }
          ],
          "pie": [
           {
            "automargin": true,
            "type": "pie"
           }
          ],
          "scatter": [
           {
            "fillpattern": {
             "fillmode": "overlay",
             "size": 10,
             "solidity": 0.2
            },
            "type": "scatter"
           }
          ],
          "scatter3d": [
           {
            "line": {
             "colorbar": {
              "outlinewidth": 0,
              "ticks": ""
             }
            },
            "marker": {
             "colorbar": {
              "outlinewidth": 0,
              "ticks": ""
             }
            },
            "type": "scatter3d"
           }
          ],
          "scattercarpet": [
           {
            "marker": {
             "colorbar": {
              "outlinewidth": 0,
              "ticks": ""
             }
            },
            "type": "scattercarpet"
           }
          ],
          "scattergeo": [
           {
            "marker": {
             "colorbar": {
              "outlinewidth": 0,
              "ticks": ""
             }
            },
            "type": "scattergeo"
           }
          ],
          "scattergl": [
           {
            "marker": {
             "colorbar": {
              "outlinewidth": 0,
              "ticks": ""
             }
            },
            "type": "scattergl"
           }
          ],
          "scattermap": [
           {
            "marker": {
             "colorbar": {
              "outlinewidth": 0,
              "ticks": ""
             }
            },
            "type": "scattermap"
           }
          ],
          "scattermapbox": [
           {
            "marker": {
             "colorbar": {
              "outlinewidth": 0,
              "ticks": ""
             }
            },
            "type": "scattermapbox"
           }
          ],
          "scatterpolar": [
           {
            "marker": {
             "colorbar": {
              "outlinewidth": 0,
              "ticks": ""
             }
            },
            "type": "scatterpolar"
           }
          ],
          "scatterpolargl": [
           {
            "marker": {
             "colorbar": {
              "outlinewidth": 0,
              "ticks": ""
             }
            },
            "type": "scatterpolargl"
           }
          ],
          "scatterternary": [
           {
            "marker": {
             "colorbar": {
              "outlinewidth": 0,
              "ticks": ""
             }
            },
            "type": "scatterternary"
           }
          ],
          "surface": [
           {
            "colorbar": {
             "outlinewidth": 0,
             "ticks": ""
            },
            "colorscale": [
             [
              0,
              "#0d0887"
             ],
             [
              0.1111111111111111,
              "#46039f"
             ],
             [
              0.2222222222222222,
              "#7201a8"
             ],
             [
              0.3333333333333333,
              "#9c179e"
             ],
             [
              0.4444444444444444,
              "#bd3786"
             ],
             [
              0.5555555555555556,
              "#d8576b"
             ],
             [
              0.6666666666666666,
              "#ed7953"
             ],
             [
              0.7777777777777778,
              "#fb9f3a"
             ],
             [
              0.8888888888888888,
              "#fdca26"
             ],
             [
              1,
              "#f0f921"
             ]
            ],
            "type": "surface"
           }
          ],
          "table": [
           {
            "cells": {
             "fill": {
              "color": "#EBF0F8"
             },
             "line": {
              "color": "white"
             }
            },
            "header": {
             "fill": {
              "color": "#C8D4E3"
             },
             "line": {
              "color": "white"
             }
            },
            "type": "table"
           }
          ]
         },
         "layout": {
          "annotationdefaults": {
           "arrowcolor": "#2a3f5f",
           "arrowhead": 0,
           "arrowwidth": 1
          },
          "autotypenumbers": "strict",
          "coloraxis": {
           "colorbar": {
            "outlinewidth": 0,
            "ticks": ""
           }
          },
          "colorscale": {
           "diverging": [
            [
             0,
             "#8e0152"
            ],
            [
             0.1,
             "#c51b7d"
            ],
            [
             0.2,
             "#de77ae"
            ],
            [
             0.3,
             "#f1b6da"
            ],
            [
             0.4,
             "#fde0ef"
            ],
            [
             0.5,
             "#f7f7f7"
            ],
            [
             0.6,
             "#e6f5d0"
            ],
            [
             0.7,
             "#b8e186"
            ],
            [
             0.8,
             "#7fbc41"
            ],
            [
             0.9,
             "#4d9221"
            ],
            [
             1,
             "#276419"
            ]
           ],
           "sequential": [
            [
             0,
             "#0d0887"
            ],
            [
             0.1111111111111111,
             "#46039f"
            ],
            [
             0.2222222222222222,
             "#7201a8"
            ],
            [
             0.3333333333333333,
             "#9c179e"
            ],
            [
             0.4444444444444444,
             "#bd3786"
            ],
            [
             0.5555555555555556,
             "#d8576b"
            ],
            [
             0.6666666666666666,
             "#ed7953"
            ],
            [
             0.7777777777777778,
             "#fb9f3a"
            ],
            [
             0.8888888888888888,
             "#fdca26"
            ],
            [
             1,
             "#f0f921"
            ]
           ],
           "sequentialminus": [
            [
             0,
             "#0d0887"
            ],
            [
             0.1111111111111111,
             "#46039f"
            ],
            [
             0.2222222222222222,
             "#7201a8"
            ],
            [
             0.3333333333333333,
             "#9c179e"
            ],
            [
             0.4444444444444444,
             "#bd3786"
            ],
            [
             0.5555555555555556,
             "#d8576b"
            ],
            [
             0.6666666666666666,
             "#ed7953"
            ],
            [
             0.7777777777777778,
             "#fb9f3a"
            ],
            [
             0.8888888888888888,
             "#fdca26"
            ],
            [
             1,
             "#f0f921"
            ]
           ]
          },
          "colorway": [
           "#636efa",
           "#EF553B",
           "#00cc96",
           "#ab63fa",
           "#FFA15A",
           "#19d3f3",
           "#FF6692",
           "#B6E880",
           "#FF97FF",
           "#FECB52"
          ],
          "font": {
           "color": "#2a3f5f"
          },
          "geo": {
           "bgcolor": "white",
           "lakecolor": "white",
           "landcolor": "#E5ECF6",
           "showlakes": true,
           "showland": true,
           "subunitcolor": "white"
          },
          "hoverlabel": {
           "align": "left"
          },
          "hovermode": "closest",
          "mapbox": {
           "style": "light"
          },
          "paper_bgcolor": "white",
          "plot_bgcolor": "#E5ECF6",
          "polar": {
           "angularaxis": {
            "gridcolor": "white",
            "linecolor": "white",
            "ticks": ""
           },
           "bgcolor": "#E5ECF6",
           "radialaxis": {
            "gridcolor": "white",
            "linecolor": "white",
            "ticks": ""
           }
          },
          "scene": {
           "xaxis": {
            "backgroundcolor": "#E5ECF6",
            "gridcolor": "white",
            "gridwidth": 2,
            "linecolor": "white",
            "showbackground": true,
            "ticks": "",
            "zerolinecolor": "white"
           },
           "yaxis": {
            "backgroundcolor": "#E5ECF6",
            "gridcolor": "white",
            "gridwidth": 2,
            "linecolor": "white",
            "showbackground": true,
            "ticks": "",
            "zerolinecolor": "white"
           },
           "zaxis": {
            "backgroundcolor": "#E5ECF6",
            "gridcolor": "white",
            "gridwidth": 2,
            "linecolor": "white",
            "showbackground": true,
            "ticks": "",
            "zerolinecolor": "white"
           }
          },
          "shapedefaults": {
           "line": {
            "color": "#2a3f5f"
           }
          },
          "ternary": {
           "aaxis": {
            "gridcolor": "white",
            "linecolor": "white",
            "ticks": ""
           },
           "baxis": {
            "gridcolor": "white",
            "linecolor": "white",
            "ticks": ""
           },
           "bgcolor": "#E5ECF6",
           "caxis": {
            "gridcolor": "white",
            "linecolor": "white",
            "ticks": ""
           }
          },
          "title": {
           "x": 0.05
          },
          "xaxis": {
           "automargin": true,
           "gridcolor": "white",
           "linecolor": "white",
           "ticks": "",
           "title": {
            "standoff": 15
           },
           "zerolinecolor": "white",
           "zerolinewidth": 2
          },
          "yaxis": {
           "automargin": true,
           "gridcolor": "white",
           "linecolor": "white",
           "ticks": "",
           "title": {
            "standoff": 15
           },
           "zerolinecolor": "white",
           "zerolinewidth": 2
          }
         }
        },
        "title": {
         "text": "Monthly Sales Trend Over Time"
        },
        "xaxis": {
         "anchor": "y",
         "domain": [
          0,
          1
         ],
         "title": {
          "text": "Date"
         }
        },
        "yaxis": {
         "anchor": "x",
         "domain": [
          0,
          1
         ],
         "title": {
          "text": "Total Sales"
         }
        }
       }
      }
     },
     "metadata": {},
     "output_type": "display_data"
    },
    {
     "data": {
      "application/vnd.plotly.v1+json": {
       "config": {
        "plotlyServerURL": "https://plot.ly"
       },
       "data": [
        {
         "hovertemplate": "variable=sales<br>day_of_week=%{x}<br>Average Sales=%{y}<extra></extra>",
         "legendgroup": "sales",
         "marker": {
          "color": "#636efa",
          "pattern": {
           "shape": ""
          }
         },
         "name": "sales",
         "orientation": "v",
         "showlegend": true,
         "textposition": "auto",
         "type": "bar",
         "x": [
          "Monday",
          "Tuesday",
          "Wednesday",
          "Thursday",
          "Friday",
          "Saturday",
          "Sunday"
         ],
         "xaxis": "x",
         "y": {
          "bdata": "HRSuQ9z1n0PrYaVDhUmPQ79do0OVZNlDRl/oQw==",
          "dtype": "f4"
         },
         "yaxis": "y"
        }
       ],
       "layout": {
        "barmode": "relative",
        "legend": {
         "title": {
          "text": "variable"
         },
         "tracegroupgap": 0
        },
        "template": {
         "data": {
          "bar": [
           {
            "error_x": {
             "color": "#2a3f5f"
            },
            "error_y": {
             "color": "#2a3f5f"
            },
            "marker": {
             "line": {
              "color": "#E5ECF6",
              "width": 0.5
             },
             "pattern": {
              "fillmode": "overlay",
              "size": 10,
              "solidity": 0.2
             }
            },
            "type": "bar"
           }
          ],
          "barpolar": [
           {
            "marker": {
             "line": {
              "color": "#E5ECF6",
              "width": 0.5
             },
             "pattern": {
              "fillmode": "overlay",
              "size": 10,
              "solidity": 0.2
             }
            },
            "type": "barpolar"
           }
          ],
          "carpet": [
           {
            "aaxis": {
             "endlinecolor": "#2a3f5f",
             "gridcolor": "white",
             "linecolor": "white",
             "minorgridcolor": "white",
             "startlinecolor": "#2a3f5f"
            },
            "baxis": {
             "endlinecolor": "#2a3f5f",
             "gridcolor": "white",
             "linecolor": "white",
             "minorgridcolor": "white",
             "startlinecolor": "#2a3f5f"
            },
            "type": "carpet"
           }
          ],
          "choropleth": [
           {
            "colorbar": {
             "outlinewidth": 0,
             "ticks": ""
            },
            "type": "choropleth"
           }
          ],
          "contour": [
           {
            "colorbar": {
             "outlinewidth": 0,
             "ticks": ""
            },
            "colorscale": [
             [
              0,
              "#0d0887"
             ],
             [
              0.1111111111111111,
              "#46039f"
             ],
             [
              0.2222222222222222,
              "#7201a8"
             ],
             [
              0.3333333333333333,
              "#9c179e"
             ],
             [
              0.4444444444444444,
              "#bd3786"
             ],
             [
              0.5555555555555556,
              "#d8576b"
             ],
             [
              0.6666666666666666,
              "#ed7953"
             ],
             [
              0.7777777777777778,
              "#fb9f3a"
             ],
             [
              0.8888888888888888,
              "#fdca26"
             ],
             [
              1,
              "#f0f921"
             ]
            ],
            "type": "contour"
           }
          ],
          "contourcarpet": [
           {
            "colorbar": {
             "outlinewidth": 0,
             "ticks": ""
            },
            "type": "contourcarpet"
           }
          ],
          "heatmap": [
           {
            "colorbar": {
             "outlinewidth": 0,
             "ticks": ""
            },
            "colorscale": [
             [
              0,
              "#0d0887"
             ],
             [
              0.1111111111111111,
              "#46039f"
             ],
             [
              0.2222222222222222,
              "#7201a8"
             ],
             [
              0.3333333333333333,
              "#9c179e"
             ],
             [
              0.4444444444444444,
              "#bd3786"
             ],
             [
              0.5555555555555556,
              "#d8576b"
             ],
             [
              0.6666666666666666,
              "#ed7953"
             ],
             [
              0.7777777777777778,
              "#fb9f3a"
             ],
             [
              0.8888888888888888,
              "#fdca26"
             ],
             [
              1,
              "#f0f921"
             ]
            ],
            "type": "heatmap"
           }
          ],
          "histogram": [
           {
            "marker": {
             "pattern": {
              "fillmode": "overlay",
              "size": 10,
              "solidity": 0.2
             }
            },
            "type": "histogram"
           }
          ],
          "histogram2d": [
           {
            "colorbar": {
             "outlinewidth": 0,
             "ticks": ""
            },
            "colorscale": [
             [
              0,
              "#0d0887"
             ],
             [
              0.1111111111111111,
              "#46039f"
             ],
             [
              0.2222222222222222,
              "#7201a8"
             ],
             [
              0.3333333333333333,
              "#9c179e"
             ],
             [
              0.4444444444444444,
              "#bd3786"
             ],
             [
              0.5555555555555556,
              "#d8576b"
             ],
             [
              0.6666666666666666,
              "#ed7953"
             ],
             [
              0.7777777777777778,
              "#fb9f3a"
             ],
             [
              0.8888888888888888,
              "#fdca26"
             ],
             [
              1,
              "#f0f921"
             ]
            ],
            "type": "histogram2d"
           }
          ],
          "histogram2dcontour": [
           {
            "colorbar": {
             "outlinewidth": 0,
             "ticks": ""
            },
            "colorscale": [
             [
              0,
              "#0d0887"
             ],
             [
              0.1111111111111111,
              "#46039f"
             ],
             [
              0.2222222222222222,
              "#7201a8"
             ],
             [
              0.3333333333333333,
              "#9c179e"
             ],
             [
              0.4444444444444444,
              "#bd3786"
             ],
             [
              0.5555555555555556,
              "#d8576b"
             ],
             [
              0.6666666666666666,
              "#ed7953"
             ],
             [
              0.7777777777777778,
              "#fb9f3a"
             ],
             [
              0.8888888888888888,
              "#fdca26"
             ],
             [
              1,
              "#f0f921"
             ]
            ],
            "type": "histogram2dcontour"
           }
          ],
          "mesh3d": [
           {
            "colorbar": {
             "outlinewidth": 0,
             "ticks": ""
            },
            "type": "mesh3d"
           }
          ],
          "parcoords": [
           {
            "line": {
             "colorbar": {
              "outlinewidth": 0,
              "ticks": ""
             }
            },
            "type": "parcoords"
           }
          ],
          "pie": [
           {
            "automargin": true,
            "type": "pie"
           }
          ],
          "scatter": [
           {
            "fillpattern": {
             "fillmode": "overlay",
             "size": 10,
             "solidity": 0.2
            },
            "type": "scatter"
           }
          ],
          "scatter3d": [
           {
            "line": {
             "colorbar": {
              "outlinewidth": 0,
              "ticks": ""
             }
            },
            "marker": {
             "colorbar": {
              "outlinewidth": 0,
              "ticks": ""
             }
            },
            "type": "scatter3d"
           }
          ],
          "scattercarpet": [
           {
            "marker": {
             "colorbar": {
              "outlinewidth": 0,
              "ticks": ""
             }
            },
            "type": "scattercarpet"
           }
          ],
          "scattergeo": [
           {
            "marker": {
             "colorbar": {
              "outlinewidth": 0,
              "ticks": ""
             }
            },
            "type": "scattergeo"
           }
          ],
          "scattergl": [
           {
            "marker": {
             "colorbar": {
              "outlinewidth": 0,
              "ticks": ""
             }
            },
            "type": "scattergl"
           }
          ],
          "scattermap": [
           {
            "marker": {
             "colorbar": {
              "outlinewidth": 0,
              "ticks": ""
             }
            },
            "type": "scattermap"
           }
          ],
          "scattermapbox": [
           {
            "marker": {
             "colorbar": {
              "outlinewidth": 0,
              "ticks": ""
             }
            },
            "type": "scattermapbox"
           }
          ],
          "scatterpolar": [
           {
            "marker": {
             "colorbar": {
              "outlinewidth": 0,
              "ticks": ""
             }
            },
            "type": "scatterpolar"
           }
          ],
          "scatterpolargl": [
           {
            "marker": {
             "colorbar": {
              "outlinewidth": 0,
              "ticks": ""
             }
            },
            "type": "scatterpolargl"
           }
          ],
          "scatterternary": [
           {
            "marker": {
             "colorbar": {
              "outlinewidth": 0,
              "ticks": ""
             }
            },
            "type": "scatterternary"
           }
          ],
          "surface": [
           {
            "colorbar": {
             "outlinewidth": 0,
             "ticks": ""
            },
            "colorscale": [
             [
              0,
              "#0d0887"
             ],
             [
              0.1111111111111111,
              "#46039f"
             ],
             [
              0.2222222222222222,
              "#7201a8"
             ],
             [
              0.3333333333333333,
              "#9c179e"
             ],
             [
              0.4444444444444444,
              "#bd3786"
             ],
             [
              0.5555555555555556,
              "#d8576b"
             ],
             [
              0.6666666666666666,
              "#ed7953"
             ],
             [
              0.7777777777777778,
              "#fb9f3a"
             ],
             [
              0.8888888888888888,
              "#fdca26"
             ],
             [
              1,
              "#f0f921"
             ]
            ],
            "type": "surface"
           }
          ],
          "table": [
           {
            "cells": {
             "fill": {
              "color": "#EBF0F8"
             },
             "line": {
              "color": "white"
             }
            },
            "header": {
             "fill": {
              "color": "#C8D4E3"
             },
             "line": {
              "color": "white"
             }
            },
            "type": "table"
           }
          ]
         },
         "layout": {
          "annotationdefaults": {
           "arrowcolor": "#2a3f5f",
           "arrowhead": 0,
           "arrowwidth": 1
          },
          "autotypenumbers": "strict",
          "coloraxis": {
           "colorbar": {
            "outlinewidth": 0,
            "ticks": ""
           }
          },
          "colorscale": {
           "diverging": [
            [
             0,
             "#8e0152"
            ],
            [
             0.1,
             "#c51b7d"
            ],
            [
             0.2,
             "#de77ae"
            ],
            [
             0.3,
             "#f1b6da"
            ],
            [
             0.4,
             "#fde0ef"
            ],
            [
             0.5,
             "#f7f7f7"
            ],
            [
             0.6,
             "#e6f5d0"
            ],
            [
             0.7,
             "#b8e186"
            ],
            [
             0.8,
             "#7fbc41"
            ],
            [
             0.9,
             "#4d9221"
            ],
            [
             1,
             "#276419"
            ]
           ],
           "sequential": [
            [
             0,
             "#0d0887"
            ],
            [
             0.1111111111111111,
             "#46039f"
            ],
            [
             0.2222222222222222,
             "#7201a8"
            ],
            [
             0.3333333333333333,
             "#9c179e"
            ],
            [
             0.4444444444444444,
             "#bd3786"
            ],
            [
             0.5555555555555556,
             "#d8576b"
            ],
            [
             0.6666666666666666,
             "#ed7953"
            ],
            [
             0.7777777777777778,
             "#fb9f3a"
            ],
            [
             0.8888888888888888,
             "#fdca26"
            ],
            [
             1,
             "#f0f921"
            ]
           ],
           "sequentialminus": [
            [
             0,
             "#0d0887"
            ],
            [
             0.1111111111111111,
             "#46039f"
            ],
            [
             0.2222222222222222,
             "#7201a8"
            ],
            [
             0.3333333333333333,
             "#9c179e"
            ],
            [
             0.4444444444444444,
             "#bd3786"
            ],
            [
             0.5555555555555556,
             "#d8576b"
            ],
            [
             0.6666666666666666,
             "#ed7953"
            ],
            [
             0.7777777777777778,
             "#fb9f3a"
            ],
            [
             0.8888888888888888,
             "#fdca26"
            ],
            [
             1,
             "#f0f921"
            ]
           ]
          },
          "colorway": [
           "#636efa",
           "#EF553B",
           "#00cc96",
           "#ab63fa",
           "#FFA15A",
           "#19d3f3",
           "#FF6692",
           "#B6E880",
           "#FF97FF",
           "#FECB52"
          ],
          "font": {
           "color": "#2a3f5f"
          },
          "geo": {
           "bgcolor": "white",
           "lakecolor": "white",
           "landcolor": "#E5ECF6",
           "showlakes": true,
           "showland": true,
           "subunitcolor": "white"
          },
          "hoverlabel": {
           "align": "left"
          },
          "hovermode": "closest",
          "mapbox": {
           "style": "light"
          },
          "paper_bgcolor": "white",
          "plot_bgcolor": "#E5ECF6",
          "polar": {
           "angularaxis": {
            "gridcolor": "white",
            "linecolor": "white",
            "ticks": ""
           },
           "bgcolor": "#E5ECF6",
           "radialaxis": {
            "gridcolor": "white",
            "linecolor": "white",
            "ticks": ""
           }
          },
          "scene": {
           "xaxis": {
            "backgroundcolor": "#E5ECF6",
            "gridcolor": "white",
            "gridwidth": 2,
            "linecolor": "white",
            "showbackground": true,
            "ticks": "",
            "zerolinecolor": "white"
           },
           "yaxis": {
            "backgroundcolor": "#E5ECF6",
            "gridcolor": "white",
            "gridwidth": 2,
            "linecolor": "white",
            "showbackground": true,
            "ticks": "",
            "zerolinecolor": "white"
           },
           "zaxis": {
            "backgroundcolor": "#E5ECF6",
            "gridcolor": "white",
            "gridwidth": 2,
            "linecolor": "white",
            "showbackground": true,
            "ticks": "",
            "zerolinecolor": "white"
           }
          },
          "shapedefaults": {
           "line": {
            "color": "#2a3f5f"
           }
          },
          "ternary": {
           "aaxis": {
            "gridcolor": "white",
            "linecolor": "white",
            "ticks": ""
           },
           "baxis": {
            "gridcolor": "white",
            "linecolor": "white",
            "ticks": ""
           },
           "bgcolor": "#E5ECF6",
           "caxis": {
            "gridcolor": "white",
            "linecolor": "white",
            "ticks": ""
           }
          },
          "title": {
           "x": 0.05
          },
          "xaxis": {
           "automargin": true,
           "gridcolor": "white",
           "linecolor": "white",
           "ticks": "",
           "title": {
            "standoff": 15
           },
           "zerolinecolor": "white",
           "zerolinewidth": 2
          },
          "yaxis": {
           "automargin": true,
           "gridcolor": "white",
           "linecolor": "white",
           "ticks": "",
           "title": {
            "standoff": 15
           },
           "zerolinecolor": "white",
           "zerolinewidth": 2
          }
         }
        },
        "title": {
         "text": "Average Sales by Day of Week"
        },
        "xaxis": {
         "anchor": "y",
         "domain": [
          0,
          1
         ],
         "title": {
          "text": "day_of_week"
         }
        },
        "yaxis": {
         "anchor": "x",
         "domain": [
          0,
          1
         ],
         "title": {
          "text": "Average Sales"
         }
        }
       }
      }
     },
     "metadata": {},
     "output_type": "display_data"
    }
   ],
   "source": [
    "# Monthly Sales Trend\n",
    "monthly_sales = train1.groupby(['year', 'month'])['sales'].sum().reset_index()\n",
    "monthly_sales['date'] = pd.to_datetime(monthly_sales[['year', 'month']].assign(day=1))\n",
    "\n",
    "fig = px.line(monthly_sales, x='date', y='sales',\n",
    "              title='Monthly Sales Trend Over Time',\n",
    "              labels={'sales': 'Total Sales', 'date': 'Date'})\n",
    "fig.show()\n",
    "\n",
    "# Sales by Day of Week\n",
    "dow_sales = train1.groupby('day_of_week')['sales'].mean().reindex(['Monday', 'Tuesday', 'Wednesday', 'Thursday', 'Friday', 'Saturday', 'Sunday'])\n",
    "fig = px.bar(dow_sales,\n",
    "             title='Average Sales by Day of Week',\n",
    "             labels={'index': 'Day of Week', 'value': 'Average Sales'})\n",
    "fig.show()"
   ]
  },
  {
   "cell_type": "code",
   "execution_count": 63,
   "id": "a9c45736",
   "metadata": {},
   "outputs": [
    {
     "data": {
      "application/vnd.plotly.v1+json": {
       "config": {
        "plotlyServerURL": "https://plot.ly"
       },
       "data": [
        {
         "hovertemplate": "Store Number=%{x}<br>Total Sales=%{y}<br>city=%{text}<extra></extra>",
         "legendgroup": "",
         "marker": {
          "color": "#636efa",
          "pattern": {
           "shape": ""
          }
         },
         "name": "",
         "orientation": "v",
         "showlegend": false,
         "text": [
          "Quito",
          "Quito",
          "Quito",
          "Quito",
          "Quito",
          "Quito",
          "Quito",
          "Guayaquil",
          "Quito",
          "Ambato"
         ],
         "textposition": "outside",
         "type": "bar",
         "x": {
          "bdata": "LC0vAzEuMDMIMg==",
          "dtype": "i1"
         },
         "xaxis": "x",
         "y": {
          "bdata": "Oq9xTNBvVEwndUZMtpVETHIrKUx+SSNMqygMTEUwAEwyde1LTFffSw==",
          "dtype": "f4"
         },
         "yaxis": "y"
        }
       ],
       "layout": {
        "barmode": "relative",
        "legend": {
         "tracegroupgap": 0
        },
        "template": {
         "data": {
          "bar": [
           {
            "error_x": {
             "color": "#2a3f5f"
            },
            "error_y": {
             "color": "#2a3f5f"
            },
            "marker": {
             "line": {
              "color": "#E5ECF6",
              "width": 0.5
             },
             "pattern": {
              "fillmode": "overlay",
              "size": 10,
              "solidity": 0.2
             }
            },
            "type": "bar"
           }
          ],
          "barpolar": [
           {
            "marker": {
             "line": {
              "color": "#E5ECF6",
              "width": 0.5
             },
             "pattern": {
              "fillmode": "overlay",
              "size": 10,
              "solidity": 0.2
             }
            },
            "type": "barpolar"
           }
          ],
          "carpet": [
           {
            "aaxis": {
             "endlinecolor": "#2a3f5f",
             "gridcolor": "white",
             "linecolor": "white",
             "minorgridcolor": "white",
             "startlinecolor": "#2a3f5f"
            },
            "baxis": {
             "endlinecolor": "#2a3f5f",
             "gridcolor": "white",
             "linecolor": "white",
             "minorgridcolor": "white",
             "startlinecolor": "#2a3f5f"
            },
            "type": "carpet"
           }
          ],
          "choropleth": [
           {
            "colorbar": {
             "outlinewidth": 0,
             "ticks": ""
            },
            "type": "choropleth"
           }
          ],
          "contour": [
           {
            "colorbar": {
             "outlinewidth": 0,
             "ticks": ""
            },
            "colorscale": [
             [
              0,
              "#0d0887"
             ],
             [
              0.1111111111111111,
              "#46039f"
             ],
             [
              0.2222222222222222,
              "#7201a8"
             ],
             [
              0.3333333333333333,
              "#9c179e"
             ],
             [
              0.4444444444444444,
              "#bd3786"
             ],
             [
              0.5555555555555556,
              "#d8576b"
             ],
             [
              0.6666666666666666,
              "#ed7953"
             ],
             [
              0.7777777777777778,
              "#fb9f3a"
             ],
             [
              0.8888888888888888,
              "#fdca26"
             ],
             [
              1,
              "#f0f921"
             ]
            ],
            "type": "contour"
           }
          ],
          "contourcarpet": [
           {
            "colorbar": {
             "outlinewidth": 0,
             "ticks": ""
            },
            "type": "contourcarpet"
           }
          ],
          "heatmap": [
           {
            "colorbar": {
             "outlinewidth": 0,
             "ticks": ""
            },
            "colorscale": [
             [
              0,
              "#0d0887"
             ],
             [
              0.1111111111111111,
              "#46039f"
             ],
             [
              0.2222222222222222,
              "#7201a8"
             ],
             [
              0.3333333333333333,
              "#9c179e"
             ],
             [
              0.4444444444444444,
              "#bd3786"
             ],
             [
              0.5555555555555556,
              "#d8576b"
             ],
             [
              0.6666666666666666,
              "#ed7953"
             ],
             [
              0.7777777777777778,
              "#fb9f3a"
             ],
             [
              0.8888888888888888,
              "#fdca26"
             ],
             [
              1,
              "#f0f921"
             ]
            ],
            "type": "heatmap"
           }
          ],
          "histogram": [
           {
            "marker": {
             "pattern": {
              "fillmode": "overlay",
              "size": 10,
              "solidity": 0.2
             }
            },
            "type": "histogram"
           }
          ],
          "histogram2d": [
           {
            "colorbar": {
             "outlinewidth": 0,
             "ticks": ""
            },
            "colorscale": [
             [
              0,
              "#0d0887"
             ],
             [
              0.1111111111111111,
              "#46039f"
             ],
             [
              0.2222222222222222,
              "#7201a8"
             ],
             [
              0.3333333333333333,
              "#9c179e"
             ],
             [
              0.4444444444444444,
              "#bd3786"
             ],
             [
              0.5555555555555556,
              "#d8576b"
             ],
             [
              0.6666666666666666,
              "#ed7953"
             ],
             [
              0.7777777777777778,
              "#fb9f3a"
             ],
             [
              0.8888888888888888,
              "#fdca26"
             ],
             [
              1,
              "#f0f921"
             ]
            ],
            "type": "histogram2d"
           }
          ],
          "histogram2dcontour": [
           {
            "colorbar": {
             "outlinewidth": 0,
             "ticks": ""
            },
            "colorscale": [
             [
              0,
              "#0d0887"
             ],
             [
              0.1111111111111111,
              "#46039f"
             ],
             [
              0.2222222222222222,
              "#7201a8"
             ],
             [
              0.3333333333333333,
              "#9c179e"
             ],
             [
              0.4444444444444444,
              "#bd3786"
             ],
             [
              0.5555555555555556,
              "#d8576b"
             ],
             [
              0.6666666666666666,
              "#ed7953"
             ],
             [
              0.7777777777777778,
              "#fb9f3a"
             ],
             [
              0.8888888888888888,
              "#fdca26"
             ],
             [
              1,
              "#f0f921"
             ]
            ],
            "type": "histogram2dcontour"
           }
          ],
          "mesh3d": [
           {
            "colorbar": {
             "outlinewidth": 0,
             "ticks": ""
            },
            "type": "mesh3d"
           }
          ],
          "parcoords": [
           {
            "line": {
             "colorbar": {
              "outlinewidth": 0,
              "ticks": ""
             }
            },
            "type": "parcoords"
           }
          ],
          "pie": [
           {
            "automargin": true,
            "type": "pie"
           }
          ],
          "scatter": [
           {
            "fillpattern": {
             "fillmode": "overlay",
             "size": 10,
             "solidity": 0.2
            },
            "type": "scatter"
           }
          ],
          "scatter3d": [
           {
            "line": {
             "colorbar": {
              "outlinewidth": 0,
              "ticks": ""
             }
            },
            "marker": {
             "colorbar": {
              "outlinewidth": 0,
              "ticks": ""
             }
            },
            "type": "scatter3d"
           }
          ],
          "scattercarpet": [
           {
            "marker": {
             "colorbar": {
              "outlinewidth": 0,
              "ticks": ""
             }
            },
            "type": "scattercarpet"
           }
          ],
          "scattergeo": [
           {
            "marker": {
             "colorbar": {
              "outlinewidth": 0,
              "ticks": ""
             }
            },
            "type": "scattergeo"
           }
          ],
          "scattergl": [
           {
            "marker": {
             "colorbar": {
              "outlinewidth": 0,
              "ticks": ""
             }
            },
            "type": "scattergl"
           }
          ],
          "scattermap": [
           {
            "marker": {
             "colorbar": {
              "outlinewidth": 0,
              "ticks": ""
             }
            },
            "type": "scattermap"
           }
          ],
          "scattermapbox": [
           {
            "marker": {
             "colorbar": {
              "outlinewidth": 0,
              "ticks": ""
             }
            },
            "type": "scattermapbox"
           }
          ],
          "scatterpolar": [
           {
            "marker": {
             "colorbar": {
              "outlinewidth": 0,
              "ticks": ""
             }
            },
            "type": "scatterpolar"
           }
          ],
          "scatterpolargl": [
           {
            "marker": {
             "colorbar": {
              "outlinewidth": 0,
              "ticks": ""
             }
            },
            "type": "scatterpolargl"
           }
          ],
          "scatterternary": [
           {
            "marker": {
             "colorbar": {
              "outlinewidth": 0,
              "ticks": ""
             }
            },
            "type": "scatterternary"
           }
          ],
          "surface": [
           {
            "colorbar": {
             "outlinewidth": 0,
             "ticks": ""
            },
            "colorscale": [
             [
              0,
              "#0d0887"
             ],
             [
              0.1111111111111111,
              "#46039f"
             ],
             [
              0.2222222222222222,
              "#7201a8"
             ],
             [
              0.3333333333333333,
              "#9c179e"
             ],
             [
              0.4444444444444444,
              "#bd3786"
             ],
             [
              0.5555555555555556,
              "#d8576b"
             ],
             [
              0.6666666666666666,
              "#ed7953"
             ],
             [
              0.7777777777777778,
              "#fb9f3a"
             ],
             [
              0.8888888888888888,
              "#fdca26"
             ],
             [
              1,
              "#f0f921"
             ]
            ],
            "type": "surface"
           }
          ],
          "table": [
           {
            "cells": {
             "fill": {
              "color": "#EBF0F8"
             },
             "line": {
              "color": "white"
             }
            },
            "header": {
             "fill": {
              "color": "#C8D4E3"
             },
             "line": {
              "color": "white"
             }
            },
            "type": "table"
           }
          ]
         },
         "layout": {
          "annotationdefaults": {
           "arrowcolor": "#2a3f5f",
           "arrowhead": 0,
           "arrowwidth": 1
          },
          "autotypenumbers": "strict",
          "coloraxis": {
           "colorbar": {
            "outlinewidth": 0,
            "ticks": ""
           }
          },
          "colorscale": {
           "diverging": [
            [
             0,
             "#8e0152"
            ],
            [
             0.1,
             "#c51b7d"
            ],
            [
             0.2,
             "#de77ae"
            ],
            [
             0.3,
             "#f1b6da"
            ],
            [
             0.4,
             "#fde0ef"
            ],
            [
             0.5,
             "#f7f7f7"
            ],
            [
             0.6,
             "#e6f5d0"
            ],
            [
             0.7,
             "#b8e186"
            ],
            [
             0.8,
             "#7fbc41"
            ],
            [
             0.9,
             "#4d9221"
            ],
            [
             1,
             "#276419"
            ]
           ],
           "sequential": [
            [
             0,
             "#0d0887"
            ],
            [
             0.1111111111111111,
             "#46039f"
            ],
            [
             0.2222222222222222,
             "#7201a8"
            ],
            [
             0.3333333333333333,
             "#9c179e"
            ],
            [
             0.4444444444444444,
             "#bd3786"
            ],
            [
             0.5555555555555556,
             "#d8576b"
            ],
            [
             0.6666666666666666,
             "#ed7953"
            ],
            [
             0.7777777777777778,
             "#fb9f3a"
            ],
            [
             0.8888888888888888,
             "#fdca26"
            ],
            [
             1,
             "#f0f921"
            ]
           ],
           "sequentialminus": [
            [
             0,
             "#0d0887"
            ],
            [
             0.1111111111111111,
             "#46039f"
            ],
            [
             0.2222222222222222,
             "#7201a8"
            ],
            [
             0.3333333333333333,
             "#9c179e"
            ],
            [
             0.4444444444444444,
             "#bd3786"
            ],
            [
             0.5555555555555556,
             "#d8576b"
            ],
            [
             0.6666666666666666,
             "#ed7953"
            ],
            [
             0.7777777777777778,
             "#fb9f3a"
            ],
            [
             0.8888888888888888,
             "#fdca26"
            ],
            [
             1,
             "#f0f921"
            ]
           ]
          },
          "colorway": [
           "#636efa",
           "#EF553B",
           "#00cc96",
           "#ab63fa",
           "#FFA15A",
           "#19d3f3",
           "#FF6692",
           "#B6E880",
           "#FF97FF",
           "#FECB52"
          ],
          "font": {
           "color": "#2a3f5f"
          },
          "geo": {
           "bgcolor": "white",
           "lakecolor": "white",
           "landcolor": "#E5ECF6",
           "showlakes": true,
           "showland": true,
           "subunitcolor": "white"
          },
          "hoverlabel": {
           "align": "left"
          },
          "hovermode": "closest",
          "mapbox": {
           "style": "light"
          },
          "paper_bgcolor": "white",
          "plot_bgcolor": "#E5ECF6",
          "polar": {
           "angularaxis": {
            "gridcolor": "white",
            "linecolor": "white",
            "ticks": ""
           },
           "bgcolor": "#E5ECF6",
           "radialaxis": {
            "gridcolor": "white",
            "linecolor": "white",
            "ticks": ""
           }
          },
          "scene": {
           "xaxis": {
            "backgroundcolor": "#E5ECF6",
            "gridcolor": "white",
            "gridwidth": 2,
            "linecolor": "white",
            "showbackground": true,
            "ticks": "",
            "zerolinecolor": "white"
           },
           "yaxis": {
            "backgroundcolor": "#E5ECF6",
            "gridcolor": "white",
            "gridwidth": 2,
            "linecolor": "white",
            "showbackground": true,
            "ticks": "",
            "zerolinecolor": "white"
           },
           "zaxis": {
            "backgroundcolor": "#E5ECF6",
            "gridcolor": "white",
            "gridwidth": 2,
            "linecolor": "white",
            "showbackground": true,
            "ticks": "",
            "zerolinecolor": "white"
           }
          },
          "shapedefaults": {
           "line": {
            "color": "#2a3f5f"
           }
          },
          "ternary": {
           "aaxis": {
            "gridcolor": "white",
            "linecolor": "white",
            "ticks": ""
           },
           "baxis": {
            "gridcolor": "white",
            "linecolor": "white",
            "ticks": ""
           },
           "bgcolor": "#E5ECF6",
           "caxis": {
            "gridcolor": "white",
            "linecolor": "white",
            "ticks": ""
           }
          },
          "title": {
           "x": 0.05
          },
          "xaxis": {
           "automargin": true,
           "gridcolor": "white",
           "linecolor": "white",
           "ticks": "",
           "title": {
            "standoff": 15
           },
           "zerolinecolor": "white",
           "zerolinewidth": 2
          },
          "yaxis": {
           "automargin": true,
           "gridcolor": "white",
           "linecolor": "white",
           "ticks": "",
           "title": {
            "standoff": 15
           },
           "zerolinecolor": "white",
           "zerolinewidth": 2
          }
         }
        },
        "title": {
         "text": "Top 10 Stores by Total Sales"
        },
        "xaxis": {
         "anchor": "y",
         "domain": [
          0,
          1
         ],
         "title": {
          "text": "Store Number"
         }
        },
        "yaxis": {
         "anchor": "x",
         "domain": [
          0,
          1
         ],
         "title": {
          "text": "Total Sales"
         }
        }
       }
      }
     },
     "metadata": {},
     "output_type": "display_data"
    },
    {
     "data": {
      "application/vnd.plotly.v1+json": {
       "config": {
        "plotlyServerURL": "https://plot.ly"
       },
       "data": [
        {
         "hovertemplate": "Store Type=%{x}<br>Average Sales=%{y}<extra></extra>",
         "legendgroup": "",
         "marker": {
          "color": "#636efa",
          "pattern": {
           "shape": ""
          }
         },
         "name": "",
         "orientation": "v",
         "showlegend": false,
         "textposition": "auto",
         "type": "bar",
         "x": [
          "A",
          "B",
          "C",
          "D",
          "E"
         ],
         "xaxis": "x",
         "y": {
          "bdata": "NBgxRDsjpENoykVD0QqwQ4skh0M=",
          "dtype": "f4"
         },
         "yaxis": "y"
        }
       ],
       "layout": {
        "barmode": "relative",
        "legend": {
         "tracegroupgap": 0
        },
        "template": {
         "data": {
          "bar": [
           {
            "error_x": {
             "color": "#2a3f5f"
            },
            "error_y": {
             "color": "#2a3f5f"
            },
            "marker": {
             "line": {
              "color": "#E5ECF6",
              "width": 0.5
             },
             "pattern": {
              "fillmode": "overlay",
              "size": 10,
              "solidity": 0.2
             }
            },
            "type": "bar"
           }
          ],
          "barpolar": [
           {
            "marker": {
             "line": {
              "color": "#E5ECF6",
              "width": 0.5
             },
             "pattern": {
              "fillmode": "overlay",
              "size": 10,
              "solidity": 0.2
             }
            },
            "type": "barpolar"
           }
          ],
          "carpet": [
           {
            "aaxis": {
             "endlinecolor": "#2a3f5f",
             "gridcolor": "white",
             "linecolor": "white",
             "minorgridcolor": "white",
             "startlinecolor": "#2a3f5f"
            },
            "baxis": {
             "endlinecolor": "#2a3f5f",
             "gridcolor": "white",
             "linecolor": "white",
             "minorgridcolor": "white",
             "startlinecolor": "#2a3f5f"
            },
            "type": "carpet"
           }
          ],
          "choropleth": [
           {
            "colorbar": {
             "outlinewidth": 0,
             "ticks": ""
            },
            "type": "choropleth"
           }
          ],
          "contour": [
           {
            "colorbar": {
             "outlinewidth": 0,
             "ticks": ""
            },
            "colorscale": [
             [
              0,
              "#0d0887"
             ],
             [
              0.1111111111111111,
              "#46039f"
             ],
             [
              0.2222222222222222,
              "#7201a8"
             ],
             [
              0.3333333333333333,
              "#9c179e"
             ],
             [
              0.4444444444444444,
              "#bd3786"
             ],
             [
              0.5555555555555556,
              "#d8576b"
             ],
             [
              0.6666666666666666,
              "#ed7953"
             ],
             [
              0.7777777777777778,
              "#fb9f3a"
             ],
             [
              0.8888888888888888,
              "#fdca26"
             ],
             [
              1,
              "#f0f921"
             ]
            ],
            "type": "contour"
           }
          ],
          "contourcarpet": [
           {
            "colorbar": {
             "outlinewidth": 0,
             "ticks": ""
            },
            "type": "contourcarpet"
           }
          ],
          "heatmap": [
           {
            "colorbar": {
             "outlinewidth": 0,
             "ticks": ""
            },
            "colorscale": [
             [
              0,
              "#0d0887"
             ],
             [
              0.1111111111111111,
              "#46039f"
             ],
             [
              0.2222222222222222,
              "#7201a8"
             ],
             [
              0.3333333333333333,
              "#9c179e"
             ],
             [
              0.4444444444444444,
              "#bd3786"
             ],
             [
              0.5555555555555556,
              "#d8576b"
             ],
             [
              0.6666666666666666,
              "#ed7953"
             ],
             [
              0.7777777777777778,
              "#fb9f3a"
             ],
             [
              0.8888888888888888,
              "#fdca26"
             ],
             [
              1,
              "#f0f921"
             ]
            ],
            "type": "heatmap"
           }
          ],
          "histogram": [
           {
            "marker": {
             "pattern": {
              "fillmode": "overlay",
              "size": 10,
              "solidity": 0.2
             }
            },
            "type": "histogram"
           }
          ],
          "histogram2d": [
           {
            "colorbar": {
             "outlinewidth": 0,
             "ticks": ""
            },
            "colorscale": [
             [
              0,
              "#0d0887"
             ],
             [
              0.1111111111111111,
              "#46039f"
             ],
             [
              0.2222222222222222,
              "#7201a8"
             ],
             [
              0.3333333333333333,
              "#9c179e"
             ],
             [
              0.4444444444444444,
              "#bd3786"
             ],
             [
              0.5555555555555556,
              "#d8576b"
             ],
             [
              0.6666666666666666,
              "#ed7953"
             ],
             [
              0.7777777777777778,
              "#fb9f3a"
             ],
             [
              0.8888888888888888,
              "#fdca26"
             ],
             [
              1,
              "#f0f921"
             ]
            ],
            "type": "histogram2d"
           }
          ],
          "histogram2dcontour": [
           {
            "colorbar": {
             "outlinewidth": 0,
             "ticks": ""
            },
            "colorscale": [
             [
              0,
              "#0d0887"
             ],
             [
              0.1111111111111111,
              "#46039f"
             ],
             [
              0.2222222222222222,
              "#7201a8"
             ],
             [
              0.3333333333333333,
              "#9c179e"
             ],
             [
              0.4444444444444444,
              "#bd3786"
             ],
             [
              0.5555555555555556,
              "#d8576b"
             ],
             [
              0.6666666666666666,
              "#ed7953"
             ],
             [
              0.7777777777777778,
              "#fb9f3a"
             ],
             [
              0.8888888888888888,
              "#fdca26"
             ],
             [
              1,
              "#f0f921"
             ]
            ],
            "type": "histogram2dcontour"
           }
          ],
          "mesh3d": [
           {
            "colorbar": {
             "outlinewidth": 0,
             "ticks": ""
            },
            "type": "mesh3d"
           }
          ],
          "parcoords": [
           {
            "line": {
             "colorbar": {
              "outlinewidth": 0,
              "ticks": ""
             }
            },
            "type": "parcoords"
           }
          ],
          "pie": [
           {
            "automargin": true,
            "type": "pie"
           }
          ],
          "scatter": [
           {
            "fillpattern": {
             "fillmode": "overlay",
             "size": 10,
             "solidity": 0.2
            },
            "type": "scatter"
           }
          ],
          "scatter3d": [
           {
            "line": {
             "colorbar": {
              "outlinewidth": 0,
              "ticks": ""
             }
            },
            "marker": {
             "colorbar": {
              "outlinewidth": 0,
              "ticks": ""
             }
            },
            "type": "scatter3d"
           }
          ],
          "scattercarpet": [
           {
            "marker": {
             "colorbar": {
              "outlinewidth": 0,
              "ticks": ""
             }
            },
            "type": "scattercarpet"
           }
          ],
          "scattergeo": [
           {
            "marker": {
             "colorbar": {
              "outlinewidth": 0,
              "ticks": ""
             }
            },
            "type": "scattergeo"
           }
          ],
          "scattergl": [
           {
            "marker": {
             "colorbar": {
              "outlinewidth": 0,
              "ticks": ""
             }
            },
            "type": "scattergl"
           }
          ],
          "scattermap": [
           {
            "marker": {
             "colorbar": {
              "outlinewidth": 0,
              "ticks": ""
             }
            },
            "type": "scattermap"
           }
          ],
          "scattermapbox": [
           {
            "marker": {
             "colorbar": {
              "outlinewidth": 0,
              "ticks": ""
             }
            },
            "type": "scattermapbox"
           }
          ],
          "scatterpolar": [
           {
            "marker": {
             "colorbar": {
              "outlinewidth": 0,
              "ticks": ""
             }
            },
            "type": "scatterpolar"
           }
          ],
          "scatterpolargl": [
           {
            "marker": {
             "colorbar": {
              "outlinewidth": 0,
              "ticks": ""
             }
            },
            "type": "scatterpolargl"
           }
          ],
          "scatterternary": [
           {
            "marker": {
             "colorbar": {
              "outlinewidth": 0,
              "ticks": ""
             }
            },
            "type": "scatterternary"
           }
          ],
          "surface": [
           {
            "colorbar": {
             "outlinewidth": 0,
             "ticks": ""
            },
            "colorscale": [
             [
              0,
              "#0d0887"
             ],
             [
              0.1111111111111111,
              "#46039f"
             ],
             [
              0.2222222222222222,
              "#7201a8"
             ],
             [
              0.3333333333333333,
              "#9c179e"
             ],
             [
              0.4444444444444444,
              "#bd3786"
             ],
             [
              0.5555555555555556,
              "#d8576b"
             ],
             [
              0.6666666666666666,
              "#ed7953"
             ],
             [
              0.7777777777777778,
              "#fb9f3a"
             ],
             [
              0.8888888888888888,
              "#fdca26"
             ],
             [
              1,
              "#f0f921"
             ]
            ],
            "type": "surface"
           }
          ],
          "table": [
           {
            "cells": {
             "fill": {
              "color": "#EBF0F8"
             },
             "line": {
              "color": "white"
             }
            },
            "header": {
             "fill": {
              "color": "#C8D4E3"
             },
             "line": {
              "color": "white"
             }
            },
            "type": "table"
           }
          ]
         },
         "layout": {
          "annotationdefaults": {
           "arrowcolor": "#2a3f5f",
           "arrowhead": 0,
           "arrowwidth": 1
          },
          "autotypenumbers": "strict",
          "coloraxis": {
           "colorbar": {
            "outlinewidth": 0,
            "ticks": ""
           }
          },
          "colorscale": {
           "diverging": [
            [
             0,
             "#8e0152"
            ],
            [
             0.1,
             "#c51b7d"
            ],
            [
             0.2,
             "#de77ae"
            ],
            [
             0.3,
             "#f1b6da"
            ],
            [
             0.4,
             "#fde0ef"
            ],
            [
             0.5,
             "#f7f7f7"
            ],
            [
             0.6,
             "#e6f5d0"
            ],
            [
             0.7,
             "#b8e186"
            ],
            [
             0.8,
             "#7fbc41"
            ],
            [
             0.9,
             "#4d9221"
            ],
            [
             1,
             "#276419"
            ]
           ],
           "sequential": [
            [
             0,
             "#0d0887"
            ],
            [
             0.1111111111111111,
             "#46039f"
            ],
            [
             0.2222222222222222,
             "#7201a8"
            ],
            [
             0.3333333333333333,
             "#9c179e"
            ],
            [
             0.4444444444444444,
             "#bd3786"
            ],
            [
             0.5555555555555556,
             "#d8576b"
            ],
            [
             0.6666666666666666,
             "#ed7953"
            ],
            [
             0.7777777777777778,
             "#fb9f3a"
            ],
            [
             0.8888888888888888,
             "#fdca26"
            ],
            [
             1,
             "#f0f921"
            ]
           ],
           "sequentialminus": [
            [
             0,
             "#0d0887"
            ],
            [
             0.1111111111111111,
             "#46039f"
            ],
            [
             0.2222222222222222,
             "#7201a8"
            ],
            [
             0.3333333333333333,
             "#9c179e"
            ],
            [
             0.4444444444444444,
             "#bd3786"
            ],
            [
             0.5555555555555556,
             "#d8576b"
            ],
            [
             0.6666666666666666,
             "#ed7953"
            ],
            [
             0.7777777777777778,
             "#fb9f3a"
            ],
            [
             0.8888888888888888,
             "#fdca26"
            ],
            [
             1,
             "#f0f921"
            ]
           ]
          },
          "colorway": [
           "#636efa",
           "#EF553B",
           "#00cc96",
           "#ab63fa",
           "#FFA15A",
           "#19d3f3",
           "#FF6692",
           "#B6E880",
           "#FF97FF",
           "#FECB52"
          ],
          "font": {
           "color": "#2a3f5f"
          },
          "geo": {
           "bgcolor": "white",
           "lakecolor": "white",
           "landcolor": "#E5ECF6",
           "showlakes": true,
           "showland": true,
           "subunitcolor": "white"
          },
          "hoverlabel": {
           "align": "left"
          },
          "hovermode": "closest",
          "mapbox": {
           "style": "light"
          },
          "paper_bgcolor": "white",
          "plot_bgcolor": "#E5ECF6",
          "polar": {
           "angularaxis": {
            "gridcolor": "white",
            "linecolor": "white",
            "ticks": ""
           },
           "bgcolor": "#E5ECF6",
           "radialaxis": {
            "gridcolor": "white",
            "linecolor": "white",
            "ticks": ""
           }
          },
          "scene": {
           "xaxis": {
            "backgroundcolor": "#E5ECF6",
            "gridcolor": "white",
            "gridwidth": 2,
            "linecolor": "white",
            "showbackground": true,
            "ticks": "",
            "zerolinecolor": "white"
           },
           "yaxis": {
            "backgroundcolor": "#E5ECF6",
            "gridcolor": "white",
            "gridwidth": 2,
            "linecolor": "white",
            "showbackground": true,
            "ticks": "",
            "zerolinecolor": "white"
           },
           "zaxis": {
            "backgroundcolor": "#E5ECF6",
            "gridcolor": "white",
            "gridwidth": 2,
            "linecolor": "white",
            "showbackground": true,
            "ticks": "",
            "zerolinecolor": "white"
           }
          },
          "shapedefaults": {
           "line": {
            "color": "#2a3f5f"
           }
          },
          "ternary": {
           "aaxis": {
            "gridcolor": "white",
            "linecolor": "white",
            "ticks": ""
           },
           "baxis": {
            "gridcolor": "white",
            "linecolor": "white",
            "ticks": ""
           },
           "bgcolor": "#E5ECF6",
           "caxis": {
            "gridcolor": "white",
            "linecolor": "white",
            "ticks": ""
           }
          },
          "title": {
           "x": 0.05
          },
          "xaxis": {
           "automargin": true,
           "gridcolor": "white",
           "linecolor": "white",
           "ticks": "",
           "title": {
            "standoff": 15
           },
           "zerolinecolor": "white",
           "zerolinewidth": 2
          },
          "yaxis": {
           "automargin": true,
           "gridcolor": "white",
           "linecolor": "white",
           "ticks": "",
           "title": {
            "standoff": 15
           },
           "zerolinecolor": "white",
           "zerolinewidth": 2
          }
         }
        },
        "title": {
         "text": "Average Sales by Store Type"
        },
        "xaxis": {
         "anchor": "y",
         "domain": [
          0,
          1
         ],
         "title": {
          "text": "Store Type"
         }
        },
        "yaxis": {
         "anchor": "x",
         "domain": [
          0,
          1
         ],
         "title": {
          "text": "Average Sales"
         }
        }
       }
      }
     },
     "metadata": {},
     "output_type": "display_data"
    }
   ],
   "source": [
    "# Top 10 Stores by Sales\n",
    "store_sales = train1.groupby(['store_nbr', 'city'])['sales'].sum().reset_index()\n",
    "top_stores = store_sales.nlargest(10, 'sales')\n",
    "\n",
    "fig = px.bar(top_stores, x='store_nbr', y='sales',\n",
    "             title='Top 10 Stores by Total Sales',\n",
    "             text='city',\n",
    "             labels={'store_nbr': 'Store Number', 'sales': 'Total Sales'})\n",
    "fig.update_traces(textposition='outside')\n",
    "fig.show()\n",
    "\n",
    "# Sales by Store Type\n",
    "store_type_sales = train1.groupby('store_type')['sales'].mean().reset_index()\n",
    "fig = px.bar(store_type_sales, x='store_type', y='sales',\n",
    "             title='Average Sales by Store Type',\n",
    "             labels={'store_type': 'Store Type', 'sales': 'Average Sales'})\n",
    "fig.show()"
   ]
  },
  {
   "cell_type": "code",
   "execution_count": 64,
   "id": "b4edad86",
   "metadata": {},
   "outputs": [
    {
     "data": {
      "application/vnd.plotly.v1+json": {
       "config": {
        "plotlyServerURL": "https://plot.ly"
       },
       "data": [
        {
         "hovertemplate": "Product Family=%{x}<br>Total Sales=%{y}<extra></extra>",
         "legendgroup": "",
         "marker": {
          "color": "#636efa",
          "pattern": {
           "shape": ""
          }
         },
         "name": "",
         "orientation": "v",
         "showlegend": false,
         "textposition": "auto",
         "type": "bar",
         "x": [
          "GROCERY I",
          "BEVERAGES",
          "PRODUCE",
          "CLEANING",
          "DAIRY",
          "BREAD/BAKERY",
          "POULTRY",
          "MEATS",
          "PERSONAL CARE",
          "DELI",
          "HOME CARE",
          "EGGS",
          "FROZEN FOODS",
          "PREPARED FOODS",
          "LIQUOR,WINE,BEER"
         ],
         "xaxis": "x",
         "y": {
          "bdata": "mUmnTRNlU03kRe9Ma6G9TN0Ye0wN4SNMuen3S1p68UthgL9LzZK7S7JjekvsU3JLnH5fS0jSCEsoOfJK",
          "dtype": "f4"
         },
         "yaxis": "y"
        }
       ],
       "layout": {
        "barmode": "relative",
        "legend": {
         "tracegroupgap": 0
        },
        "template": {
         "data": {
          "bar": [
           {
            "error_x": {
             "color": "#2a3f5f"
            },
            "error_y": {
             "color": "#2a3f5f"
            },
            "marker": {
             "line": {
              "color": "#E5ECF6",
              "width": 0.5
             },
             "pattern": {
              "fillmode": "overlay",
              "size": 10,
              "solidity": 0.2
             }
            },
            "type": "bar"
           }
          ],
          "barpolar": [
           {
            "marker": {
             "line": {
              "color": "#E5ECF6",
              "width": 0.5
             },
             "pattern": {
              "fillmode": "overlay",
              "size": 10,
              "solidity": 0.2
             }
            },
            "type": "barpolar"
           }
          ],
          "carpet": [
           {
            "aaxis": {
             "endlinecolor": "#2a3f5f",
             "gridcolor": "white",
             "linecolor": "white",
             "minorgridcolor": "white",
             "startlinecolor": "#2a3f5f"
            },
            "baxis": {
             "endlinecolor": "#2a3f5f",
             "gridcolor": "white",
             "linecolor": "white",
             "minorgridcolor": "white",
             "startlinecolor": "#2a3f5f"
            },
            "type": "carpet"
           }
          ],
          "choropleth": [
           {
            "colorbar": {
             "outlinewidth": 0,
             "ticks": ""
            },
            "type": "choropleth"
           }
          ],
          "contour": [
           {
            "colorbar": {
             "outlinewidth": 0,
             "ticks": ""
            },
            "colorscale": [
             [
              0,
              "#0d0887"
             ],
             [
              0.1111111111111111,
              "#46039f"
             ],
             [
              0.2222222222222222,
              "#7201a8"
             ],
             [
              0.3333333333333333,
              "#9c179e"
             ],
             [
              0.4444444444444444,
              "#bd3786"
             ],
             [
              0.5555555555555556,
              "#d8576b"
             ],
             [
              0.6666666666666666,
              "#ed7953"
             ],
             [
              0.7777777777777778,
              "#fb9f3a"
             ],
             [
              0.8888888888888888,
              "#fdca26"
             ],
             [
              1,
              "#f0f921"
             ]
            ],
            "type": "contour"
           }
          ],
          "contourcarpet": [
           {
            "colorbar": {
             "outlinewidth": 0,
             "ticks": ""
            },
            "type": "contourcarpet"
           }
          ],
          "heatmap": [
           {
            "colorbar": {
             "outlinewidth": 0,
             "ticks": ""
            },
            "colorscale": [
             [
              0,
              "#0d0887"
             ],
             [
              0.1111111111111111,
              "#46039f"
             ],
             [
              0.2222222222222222,
              "#7201a8"
             ],
             [
              0.3333333333333333,
              "#9c179e"
             ],
             [
              0.4444444444444444,
              "#bd3786"
             ],
             [
              0.5555555555555556,
              "#d8576b"
             ],
             [
              0.6666666666666666,
              "#ed7953"
             ],
             [
              0.7777777777777778,
              "#fb9f3a"
             ],
             [
              0.8888888888888888,
              "#fdca26"
             ],
             [
              1,
              "#f0f921"
             ]
            ],
            "type": "heatmap"
           }
          ],
          "histogram": [
           {
            "marker": {
             "pattern": {
              "fillmode": "overlay",
              "size": 10,
              "solidity": 0.2
             }
            },
            "type": "histogram"
           }
          ],
          "histogram2d": [
           {
            "colorbar": {
             "outlinewidth": 0,
             "ticks": ""
            },
            "colorscale": [
             [
              0,
              "#0d0887"
             ],
             [
              0.1111111111111111,
              "#46039f"
             ],
             [
              0.2222222222222222,
              "#7201a8"
             ],
             [
              0.3333333333333333,
              "#9c179e"
             ],
             [
              0.4444444444444444,
              "#bd3786"
             ],
             [
              0.5555555555555556,
              "#d8576b"
             ],
             [
              0.6666666666666666,
              "#ed7953"
             ],
             [
              0.7777777777777778,
              "#fb9f3a"
             ],
             [
              0.8888888888888888,
              "#fdca26"
             ],
             [
              1,
              "#f0f921"
             ]
            ],
            "type": "histogram2d"
           }
          ],
          "histogram2dcontour": [
           {
            "colorbar": {
             "outlinewidth": 0,
             "ticks": ""
            },
            "colorscale": [
             [
              0,
              "#0d0887"
             ],
             [
              0.1111111111111111,
              "#46039f"
             ],
             [
              0.2222222222222222,
              "#7201a8"
             ],
             [
              0.3333333333333333,
              "#9c179e"
             ],
             [
              0.4444444444444444,
              "#bd3786"
             ],
             [
              0.5555555555555556,
              "#d8576b"
             ],
             [
              0.6666666666666666,
              "#ed7953"
             ],
             [
              0.7777777777777778,
              "#fb9f3a"
             ],
             [
              0.8888888888888888,
              "#fdca26"
             ],
             [
              1,
              "#f0f921"
             ]
            ],
            "type": "histogram2dcontour"
           }
          ],
          "mesh3d": [
           {
            "colorbar": {
             "outlinewidth": 0,
             "ticks": ""
            },
            "type": "mesh3d"
           }
          ],
          "parcoords": [
           {
            "line": {
             "colorbar": {
              "outlinewidth": 0,
              "ticks": ""
             }
            },
            "type": "parcoords"
           }
          ],
          "pie": [
           {
            "automargin": true,
            "type": "pie"
           }
          ],
          "scatter": [
           {
            "fillpattern": {
             "fillmode": "overlay",
             "size": 10,
             "solidity": 0.2
            },
            "type": "scatter"
           }
          ],
          "scatter3d": [
           {
            "line": {
             "colorbar": {
              "outlinewidth": 0,
              "ticks": ""
             }
            },
            "marker": {
             "colorbar": {
              "outlinewidth": 0,
              "ticks": ""
             }
            },
            "type": "scatter3d"
           }
          ],
          "scattercarpet": [
           {
            "marker": {
             "colorbar": {
              "outlinewidth": 0,
              "ticks": ""
             }
            },
            "type": "scattercarpet"
           }
          ],
          "scattergeo": [
           {
            "marker": {
             "colorbar": {
              "outlinewidth": 0,
              "ticks": ""
             }
            },
            "type": "scattergeo"
           }
          ],
          "scattergl": [
           {
            "marker": {
             "colorbar": {
              "outlinewidth": 0,
              "ticks": ""
             }
            },
            "type": "scattergl"
           }
          ],
          "scattermap": [
           {
            "marker": {
             "colorbar": {
              "outlinewidth": 0,
              "ticks": ""
             }
            },
            "type": "scattermap"
           }
          ],
          "scattermapbox": [
           {
            "marker": {
             "colorbar": {
              "outlinewidth": 0,
              "ticks": ""
             }
            },
            "type": "scattermapbox"
           }
          ],
          "scatterpolar": [
           {
            "marker": {
             "colorbar": {
              "outlinewidth": 0,
              "ticks": ""
             }
            },
            "type": "scatterpolar"
           }
          ],
          "scatterpolargl": [
           {
            "marker": {
             "colorbar": {
              "outlinewidth": 0,
              "ticks": ""
             }
            },
            "type": "scatterpolargl"
           }
          ],
          "scatterternary": [
           {
            "marker": {
             "colorbar": {
              "outlinewidth": 0,
              "ticks": ""
             }
            },
            "type": "scatterternary"
           }
          ],
          "surface": [
           {
            "colorbar": {
             "outlinewidth": 0,
             "ticks": ""
            },
            "colorscale": [
             [
              0,
              "#0d0887"
             ],
             [
              0.1111111111111111,
              "#46039f"
             ],
             [
              0.2222222222222222,
              "#7201a8"
             ],
             [
              0.3333333333333333,
              "#9c179e"
             ],
             [
              0.4444444444444444,
              "#bd3786"
             ],
             [
              0.5555555555555556,
              "#d8576b"
             ],
             [
              0.6666666666666666,
              "#ed7953"
             ],
             [
              0.7777777777777778,
              "#fb9f3a"
             ],
             [
              0.8888888888888888,
              "#fdca26"
             ],
             [
              1,
              "#f0f921"
             ]
            ],
            "type": "surface"
           }
          ],
          "table": [
           {
            "cells": {
             "fill": {
              "color": "#EBF0F8"
             },
             "line": {
              "color": "white"
             }
            },
            "header": {
             "fill": {
              "color": "#C8D4E3"
             },
             "line": {
              "color": "white"
             }
            },
            "type": "table"
           }
          ]
         },
         "layout": {
          "annotationdefaults": {
           "arrowcolor": "#2a3f5f",
           "arrowhead": 0,
           "arrowwidth": 1
          },
          "autotypenumbers": "strict",
          "coloraxis": {
           "colorbar": {
            "outlinewidth": 0,
            "ticks": ""
           }
          },
          "colorscale": {
           "diverging": [
            [
             0,
             "#8e0152"
            ],
            [
             0.1,
             "#c51b7d"
            ],
            [
             0.2,
             "#de77ae"
            ],
            [
             0.3,
             "#f1b6da"
            ],
            [
             0.4,
             "#fde0ef"
            ],
            [
             0.5,
             "#f7f7f7"
            ],
            [
             0.6,
             "#e6f5d0"
            ],
            [
             0.7,
             "#b8e186"
            ],
            [
             0.8,
             "#7fbc41"
            ],
            [
             0.9,
             "#4d9221"
            ],
            [
             1,
             "#276419"
            ]
           ],
           "sequential": [
            [
             0,
             "#0d0887"
            ],
            [
             0.1111111111111111,
             "#46039f"
            ],
            [
             0.2222222222222222,
             "#7201a8"
            ],
            [
             0.3333333333333333,
             "#9c179e"
            ],
            [
             0.4444444444444444,
             "#bd3786"
            ],
            [
             0.5555555555555556,
             "#d8576b"
            ],
            [
             0.6666666666666666,
             "#ed7953"
            ],
            [
             0.7777777777777778,
             "#fb9f3a"
            ],
            [
             0.8888888888888888,
             "#fdca26"
            ],
            [
             1,
             "#f0f921"
            ]
           ],
           "sequentialminus": [
            [
             0,
             "#0d0887"
            ],
            [
             0.1111111111111111,
             "#46039f"
            ],
            [
             0.2222222222222222,
             "#7201a8"
            ],
            [
             0.3333333333333333,
             "#9c179e"
            ],
            [
             0.4444444444444444,
             "#bd3786"
            ],
            [
             0.5555555555555556,
             "#d8576b"
            ],
            [
             0.6666666666666666,
             "#ed7953"
            ],
            [
             0.7777777777777778,
             "#fb9f3a"
            ],
            [
             0.8888888888888888,
             "#fdca26"
            ],
            [
             1,
             "#f0f921"
            ]
           ]
          },
          "colorway": [
           "#636efa",
           "#EF553B",
           "#00cc96",
           "#ab63fa",
           "#FFA15A",
           "#19d3f3",
           "#FF6692",
           "#B6E880",
           "#FF97FF",
           "#FECB52"
          ],
          "font": {
           "color": "#2a3f5f"
          },
          "geo": {
           "bgcolor": "white",
           "lakecolor": "white",
           "landcolor": "#E5ECF6",
           "showlakes": true,
           "showland": true,
           "subunitcolor": "white"
          },
          "hoverlabel": {
           "align": "left"
          },
          "hovermode": "closest",
          "mapbox": {
           "style": "light"
          },
          "paper_bgcolor": "white",
          "plot_bgcolor": "#E5ECF6",
          "polar": {
           "angularaxis": {
            "gridcolor": "white",
            "linecolor": "white",
            "ticks": ""
           },
           "bgcolor": "#E5ECF6",
           "radialaxis": {
            "gridcolor": "white",
            "linecolor": "white",
            "ticks": ""
           }
          },
          "scene": {
           "xaxis": {
            "backgroundcolor": "#E5ECF6",
            "gridcolor": "white",
            "gridwidth": 2,
            "linecolor": "white",
            "showbackground": true,
            "ticks": "",
            "zerolinecolor": "white"
           },
           "yaxis": {
            "backgroundcolor": "#E5ECF6",
            "gridcolor": "white",
            "gridwidth": 2,
            "linecolor": "white",
            "showbackground": true,
            "ticks": "",
            "zerolinecolor": "white"
           },
           "zaxis": {
            "backgroundcolor": "#E5ECF6",
            "gridcolor": "white",
            "gridwidth": 2,
            "linecolor": "white",
            "showbackground": true,
            "ticks": "",
            "zerolinecolor": "white"
           }
          },
          "shapedefaults": {
           "line": {
            "color": "#2a3f5f"
           }
          },
          "ternary": {
           "aaxis": {
            "gridcolor": "white",
            "linecolor": "white",
            "ticks": ""
           },
           "baxis": {
            "gridcolor": "white",
            "linecolor": "white",
            "ticks": ""
           },
           "bgcolor": "#E5ECF6",
           "caxis": {
            "gridcolor": "white",
            "linecolor": "white",
            "ticks": ""
           }
          },
          "title": {
           "x": 0.05
          },
          "xaxis": {
           "automargin": true,
           "gridcolor": "white",
           "linecolor": "white",
           "ticks": "",
           "title": {
            "standoff": 15
           },
           "zerolinecolor": "white",
           "zerolinewidth": 2
          },
          "yaxis": {
           "automargin": true,
           "gridcolor": "white",
           "linecolor": "white",
           "ticks": "",
           "title": {
            "standoff": 15
           },
           "zerolinecolor": "white",
           "zerolinewidth": 2
          }
         }
        },
        "title": {
         "text": "Top 15 Product Families by Total Sales"
        },
        "xaxis": {
         "anchor": "y",
         "domain": [
          0,
          1
         ],
         "tickangle": 45,
         "title": {
          "text": "Product Family"
         }
        },
        "yaxis": {
         "anchor": "x",
         "domain": [
          0,
          1
         ],
         "title": {
          "text": "Total Sales"
         }
        }
       }
      }
     },
     "metadata": {},
     "output_type": "display_data"
    },
    {
     "data": {
      "application/vnd.plotly.v1+json": {
       "config": {
        "plotlyServerURL": "https://plot.ly"
       },
       "data": [
        {
         "hovertemplate": "Average Items on Promotion=%{x}<br>Average Sales=%{y}<br>family=%{text}<extra></extra>",
         "legendgroup": "",
         "marker": {
          "color": "#636efa",
          "symbol": "circle"
         },
         "mode": "markers+text",
         "name": "",
         "orientation": "v",
         "showlegend": false,
         "text": [
          "AUTOMOTIVE",
          "BABY CARE",
          "BEAUTY",
          "BEVERAGES",
          "BOOKS",
          "BREAD/BAKERY",
          "CELEBRATION",
          "CLEANING",
          "DAIRY",
          "DELI",
          "EGGS",
          "FROZEN FOODS",
          "GROCERY I",
          "GROCERY II",
          "HARDWARE",
          "HOME AND KITCHEN I",
          "HOME AND KITCHEN II",
          "HOME APPLIANCES",
          "HOME CARE",
          "LADIESWEAR",
          "LAWN AND GARDEN",
          "LINGERIE",
          "LIQUOR,WINE,BEER",
          "MAGAZINES",
          "MEATS",
          "PERSONAL CARE",
          "PET SUPPLIES",
          "PLAYERS AND ELECTRONICS",
          "POULTRY",
          "PREPARED FOODS",
          "PRODUCE",
          "SCHOOL AND OFFICE SUPPLIES",
          "SEAFOOD"
         ],
         "textposition": "top center",
         "type": "scatter",
         "x": {
          "bdata": "+DdfPW3GGzq3gBo+euYgQQAAAAA2jm5AzsqXPbaT60BuUQBBN4XNQMgGCUASg7M/jH6qQY3cqz17Pfk6rJwFP607uj7cmS86z44MQPUyljyACvk9ZKr9PFdoAz9zKmE72hpXQA97L0BdchU957SrPEGmH0Ap6tE+WTVCQTqKJj6/ON0+",
          "dtype": "f4"
         },
         "xaxis": "x",
         "y": {
          "bdata": "FdPDQMuS5D1D/m5Amq4VRSe2kD1HE+hDT8AGQX1FhkRDyzFEm9CEQ7GVK0PfPx5D7eZsRSxMrUEg3pE/5KmkQSWJhkFtI+o+/EoxQ7Qj50DafMFAXMblQL2Cq0IkbT1Ao/uqQ6CYh0O2znxAzITHQBaKr0MGwsFC9WupRJvKPUDZVLFB",
          "dtype": "f4"
         },
         "yaxis": "y"
        }
       ],
       "layout": {
        "legend": {
         "tracegroupgap": 0
        },
        "template": {
         "data": {
          "bar": [
           {
            "error_x": {
             "color": "#2a3f5f"
            },
            "error_y": {
             "color": "#2a3f5f"
            },
            "marker": {
             "line": {
              "color": "#E5ECF6",
              "width": 0.5
             },
             "pattern": {
              "fillmode": "overlay",
              "size": 10,
              "solidity": 0.2
             }
            },
            "type": "bar"
           }
          ],
          "barpolar": [
           {
            "marker": {
             "line": {
              "color": "#E5ECF6",
              "width": 0.5
             },
             "pattern": {
              "fillmode": "overlay",
              "size": 10,
              "solidity": 0.2
             }
            },
            "type": "barpolar"
           }
          ],
          "carpet": [
           {
            "aaxis": {
             "endlinecolor": "#2a3f5f",
             "gridcolor": "white",
             "linecolor": "white",
             "minorgridcolor": "white",
             "startlinecolor": "#2a3f5f"
            },
            "baxis": {
             "endlinecolor": "#2a3f5f",
             "gridcolor": "white",
             "linecolor": "white",
             "minorgridcolor": "white",
             "startlinecolor": "#2a3f5f"
            },
            "type": "carpet"
           }
          ],
          "choropleth": [
           {
            "colorbar": {
             "outlinewidth": 0,
             "ticks": ""
            },
            "type": "choropleth"
           }
          ],
          "contour": [
           {
            "colorbar": {
             "outlinewidth": 0,
             "ticks": ""
            },
            "colorscale": [
             [
              0,
              "#0d0887"
             ],
             [
              0.1111111111111111,
              "#46039f"
             ],
             [
              0.2222222222222222,
              "#7201a8"
             ],
             [
              0.3333333333333333,
              "#9c179e"
             ],
             [
              0.4444444444444444,
              "#bd3786"
             ],
             [
              0.5555555555555556,
              "#d8576b"
             ],
             [
              0.6666666666666666,
              "#ed7953"
             ],
             [
              0.7777777777777778,
              "#fb9f3a"
             ],
             [
              0.8888888888888888,
              "#fdca26"
             ],
             [
              1,
              "#f0f921"
             ]
            ],
            "type": "contour"
           }
          ],
          "contourcarpet": [
           {
            "colorbar": {
             "outlinewidth": 0,
             "ticks": ""
            },
            "type": "contourcarpet"
           }
          ],
          "heatmap": [
           {
            "colorbar": {
             "outlinewidth": 0,
             "ticks": ""
            },
            "colorscale": [
             [
              0,
              "#0d0887"
             ],
             [
              0.1111111111111111,
              "#46039f"
             ],
             [
              0.2222222222222222,
              "#7201a8"
             ],
             [
              0.3333333333333333,
              "#9c179e"
             ],
             [
              0.4444444444444444,
              "#bd3786"
             ],
             [
              0.5555555555555556,
              "#d8576b"
             ],
             [
              0.6666666666666666,
              "#ed7953"
             ],
             [
              0.7777777777777778,
              "#fb9f3a"
             ],
             [
              0.8888888888888888,
              "#fdca26"
             ],
             [
              1,
              "#f0f921"
             ]
            ],
            "type": "heatmap"
           }
          ],
          "histogram": [
           {
            "marker": {
             "pattern": {
              "fillmode": "overlay",
              "size": 10,
              "solidity": 0.2
             }
            },
            "type": "histogram"
           }
          ],
          "histogram2d": [
           {
            "colorbar": {
             "outlinewidth": 0,
             "ticks": ""
            },
            "colorscale": [
             [
              0,
              "#0d0887"
             ],
             [
              0.1111111111111111,
              "#46039f"
             ],
             [
              0.2222222222222222,
              "#7201a8"
             ],
             [
              0.3333333333333333,
              "#9c179e"
             ],
             [
              0.4444444444444444,
              "#bd3786"
             ],
             [
              0.5555555555555556,
              "#d8576b"
             ],
             [
              0.6666666666666666,
              "#ed7953"
             ],
             [
              0.7777777777777778,
              "#fb9f3a"
             ],
             [
              0.8888888888888888,
              "#fdca26"
             ],
             [
              1,
              "#f0f921"
             ]
            ],
            "type": "histogram2d"
           }
          ],
          "histogram2dcontour": [
           {
            "colorbar": {
             "outlinewidth": 0,
             "ticks": ""
            },
            "colorscale": [
             [
              0,
              "#0d0887"
             ],
             [
              0.1111111111111111,
              "#46039f"
             ],
             [
              0.2222222222222222,
              "#7201a8"
             ],
             [
              0.3333333333333333,
              "#9c179e"
             ],
             [
              0.4444444444444444,
              "#bd3786"
             ],
             [
              0.5555555555555556,
              "#d8576b"
             ],
             [
              0.6666666666666666,
              "#ed7953"
             ],
             [
              0.7777777777777778,
              "#fb9f3a"
             ],
             [
              0.8888888888888888,
              "#fdca26"
             ],
             [
              1,
              "#f0f921"
             ]
            ],
            "type": "histogram2dcontour"
           }
          ],
          "mesh3d": [
           {
            "colorbar": {
             "outlinewidth": 0,
             "ticks": ""
            },
            "type": "mesh3d"
           }
          ],
          "parcoords": [
           {
            "line": {
             "colorbar": {
              "outlinewidth": 0,
              "ticks": ""
             }
            },
            "type": "parcoords"
           }
          ],
          "pie": [
           {
            "automargin": true,
            "type": "pie"
           }
          ],
          "scatter": [
           {
            "fillpattern": {
             "fillmode": "overlay",
             "size": 10,
             "solidity": 0.2
            },
            "type": "scatter"
           }
          ],
          "scatter3d": [
           {
            "line": {
             "colorbar": {
              "outlinewidth": 0,
              "ticks": ""
             }
            },
            "marker": {
             "colorbar": {
              "outlinewidth": 0,
              "ticks": ""
             }
            },
            "type": "scatter3d"
           }
          ],
          "scattercarpet": [
           {
            "marker": {
             "colorbar": {
              "outlinewidth": 0,
              "ticks": ""
             }
            },
            "type": "scattercarpet"
           }
          ],
          "scattergeo": [
           {
            "marker": {
             "colorbar": {
              "outlinewidth": 0,
              "ticks": ""
             }
            },
            "type": "scattergeo"
           }
          ],
          "scattergl": [
           {
            "marker": {
             "colorbar": {
              "outlinewidth": 0,
              "ticks": ""
             }
            },
            "type": "scattergl"
           }
          ],
          "scattermap": [
           {
            "marker": {
             "colorbar": {
              "outlinewidth": 0,
              "ticks": ""
             }
            },
            "type": "scattermap"
           }
          ],
          "scattermapbox": [
           {
            "marker": {
             "colorbar": {
              "outlinewidth": 0,
              "ticks": ""
             }
            },
            "type": "scattermapbox"
           }
          ],
          "scatterpolar": [
           {
            "marker": {
             "colorbar": {
              "outlinewidth": 0,
              "ticks": ""
             }
            },
            "type": "scatterpolar"
           }
          ],
          "scatterpolargl": [
           {
            "marker": {
             "colorbar": {
              "outlinewidth": 0,
              "ticks": ""
             }
            },
            "type": "scatterpolargl"
           }
          ],
          "scatterternary": [
           {
            "marker": {
             "colorbar": {
              "outlinewidth": 0,
              "ticks": ""
             }
            },
            "type": "scatterternary"
           }
          ],
          "surface": [
           {
            "colorbar": {
             "outlinewidth": 0,
             "ticks": ""
            },
            "colorscale": [
             [
              0,
              "#0d0887"
             ],
             [
              0.1111111111111111,
              "#46039f"
             ],
             [
              0.2222222222222222,
              "#7201a8"
             ],
             [
              0.3333333333333333,
              "#9c179e"
             ],
             [
              0.4444444444444444,
              "#bd3786"
             ],
             [
              0.5555555555555556,
              "#d8576b"
             ],
             [
              0.6666666666666666,
              "#ed7953"
             ],
             [
              0.7777777777777778,
              "#fb9f3a"
             ],
             [
              0.8888888888888888,
              "#fdca26"
             ],
             [
              1,
              "#f0f921"
             ]
            ],
            "type": "surface"
           }
          ],
          "table": [
           {
            "cells": {
             "fill": {
              "color": "#EBF0F8"
             },
             "line": {
              "color": "white"
             }
            },
            "header": {
             "fill": {
              "color": "#C8D4E3"
             },
             "line": {
              "color": "white"
             }
            },
            "type": "table"
           }
          ]
         },
         "layout": {
          "annotationdefaults": {
           "arrowcolor": "#2a3f5f",
           "arrowhead": 0,
           "arrowwidth": 1
          },
          "autotypenumbers": "strict",
          "coloraxis": {
           "colorbar": {
            "outlinewidth": 0,
            "ticks": ""
           }
          },
          "colorscale": {
           "diverging": [
            [
             0,
             "#8e0152"
            ],
            [
             0.1,
             "#c51b7d"
            ],
            [
             0.2,
             "#de77ae"
            ],
            [
             0.3,
             "#f1b6da"
            ],
            [
             0.4,
             "#fde0ef"
            ],
            [
             0.5,
             "#f7f7f7"
            ],
            [
             0.6,
             "#e6f5d0"
            ],
            [
             0.7,
             "#b8e186"
            ],
            [
             0.8,
             "#7fbc41"
            ],
            [
             0.9,
             "#4d9221"
            ],
            [
             1,
             "#276419"
            ]
           ],
           "sequential": [
            [
             0,
             "#0d0887"
            ],
            [
             0.1111111111111111,
             "#46039f"
            ],
            [
             0.2222222222222222,
             "#7201a8"
            ],
            [
             0.3333333333333333,
             "#9c179e"
            ],
            [
             0.4444444444444444,
             "#bd3786"
            ],
            [
             0.5555555555555556,
             "#d8576b"
            ],
            [
             0.6666666666666666,
             "#ed7953"
            ],
            [
             0.7777777777777778,
             "#fb9f3a"
            ],
            [
             0.8888888888888888,
             "#fdca26"
            ],
            [
             1,
             "#f0f921"
            ]
           ],
           "sequentialminus": [
            [
             0,
             "#0d0887"
            ],
            [
             0.1111111111111111,
             "#46039f"
            ],
            [
             0.2222222222222222,
             "#7201a8"
            ],
            [
             0.3333333333333333,
             "#9c179e"
            ],
            [
             0.4444444444444444,
             "#bd3786"
            ],
            [
             0.5555555555555556,
             "#d8576b"
            ],
            [
             0.6666666666666666,
             "#ed7953"
            ],
            [
             0.7777777777777778,
             "#fb9f3a"
            ],
            [
             0.8888888888888888,
             "#fdca26"
            ],
            [
             1,
             "#f0f921"
            ]
           ]
          },
          "colorway": [
           "#636efa",
           "#EF553B",
           "#00cc96",
           "#ab63fa",
           "#FFA15A",
           "#19d3f3",
           "#FF6692",
           "#B6E880",
           "#FF97FF",
           "#FECB52"
          ],
          "font": {
           "color": "#2a3f5f"
          },
          "geo": {
           "bgcolor": "white",
           "lakecolor": "white",
           "landcolor": "#E5ECF6",
           "showlakes": true,
           "showland": true,
           "subunitcolor": "white"
          },
          "hoverlabel": {
           "align": "left"
          },
          "hovermode": "closest",
          "mapbox": {
           "style": "light"
          },
          "paper_bgcolor": "white",
          "plot_bgcolor": "#E5ECF6",
          "polar": {
           "angularaxis": {
            "gridcolor": "white",
            "linecolor": "white",
            "ticks": ""
           },
           "bgcolor": "#E5ECF6",
           "radialaxis": {
            "gridcolor": "white",
            "linecolor": "white",
            "ticks": ""
           }
          },
          "scene": {
           "xaxis": {
            "backgroundcolor": "#E5ECF6",
            "gridcolor": "white",
            "gridwidth": 2,
            "linecolor": "white",
            "showbackground": true,
            "ticks": "",
            "zerolinecolor": "white"
           },
           "yaxis": {
            "backgroundcolor": "#E5ECF6",
            "gridcolor": "white",
            "gridwidth": 2,
            "linecolor": "white",
            "showbackground": true,
            "ticks": "",
            "zerolinecolor": "white"
           },
           "zaxis": {
            "backgroundcolor": "#E5ECF6",
            "gridcolor": "white",
            "gridwidth": 2,
            "linecolor": "white",
            "showbackground": true,
            "ticks": "",
            "zerolinecolor": "white"
           }
          },
          "shapedefaults": {
           "line": {
            "color": "#2a3f5f"
           }
          },
          "ternary": {
           "aaxis": {
            "gridcolor": "white",
            "linecolor": "white",
            "ticks": ""
           },
           "baxis": {
            "gridcolor": "white",
            "linecolor": "white",
            "ticks": ""
           },
           "bgcolor": "#E5ECF6",
           "caxis": {
            "gridcolor": "white",
            "linecolor": "white",
            "ticks": ""
           }
          },
          "title": {
           "x": 0.05
          },
          "xaxis": {
           "automargin": true,
           "gridcolor": "white",
           "linecolor": "white",
           "ticks": "",
           "title": {
            "standoff": 15
           },
           "zerolinecolor": "white",
           "zerolinewidth": 2
          },
          "yaxis": {
           "automargin": true,
           "gridcolor": "white",
           "linecolor": "white",
           "ticks": "",
           "title": {
            "standoff": 15
           },
           "zerolinecolor": "white",
           "zerolinewidth": 2
          }
         }
        },
        "title": {
         "text": "Promotion vs Sales by Product Family"
        },
        "xaxis": {
         "anchor": "y",
         "domain": [
          0,
          1
         ],
         "title": {
          "text": "Average Items on Promotion"
         }
        },
        "yaxis": {
         "anchor": "x",
         "domain": [
          0,
          1
         ],
         "title": {
          "text": "Average Sales"
         }
        }
       }
      }
     },
     "metadata": {},
     "output_type": "display_data"
    }
   ],
   "source": [
    "# Top Product Families by Sales\n",
    "family_sales = train1.groupby('family')['sales'].sum().sort_values(ascending=False).reset_index()\n",
    "fig = px.bar(family_sales.head(15), x='family', y='sales',\n",
    "             title='Top 15 Product Families by Total Sales',\n",
    "             labels={'family': 'Product Family', 'sales': 'Total Sales'})\n",
    "fig.update_xaxes(tickangle=45)\n",
    "fig.show()\n",
    "\n",
    "# Promotion Impact on Sales\n",
    "promo_impact = train1.groupby('family').agg({\n",
    "    'sales': 'mean',\n",
    "    'onpromotion': 'mean'\n",
    "}).reset_index()\n",
    "\n",
    "fig = px.scatter(promo_impact, x='onpromotion', y='sales',\n",
    "                 text='family',\n",
    "                 title='Promotion vs Sales by Product Family',\n",
    "                 labels={'onpromotion': 'Average Items on Promotion',\n",
    "                        'sales': 'Average Sales'})\n",
    "fig.update_traces(textposition='top center')\n",
    "fig.show()"
   ]
  },
  {
   "cell_type": "code",
   "execution_count": 65,
   "id": "b45ff6b1",
   "metadata": {},
   "outputs": [
    {
     "data": {
      "application/vnd.plotly.v1+json": {
       "config": {
        "plotlyServerURL": "https://plot.ly"
       },
       "data": [
        {
         "hovertemplate": "Is Holiday=%{marker.color}<br>Average Sales=%{y}<extra></extra>",
         "legendgroup": "",
         "marker": {
          "color": {
           "bdata": "AAE=",
           "dtype": "i1"
          },
          "coloraxis": "coloraxis",
          "pattern": {
           "shape": ""
          }
         },
         "name": "",
         "orientation": "v",
         "showlegend": false,
         "textposition": "auto",
         "type": "bar",
         "x": {
          "bdata": "AAE=",
          "dtype": "i1"
         },
         "xaxis": "x",
         "y": {
          "bdata": "YBSwQ7HuxEM=",
          "dtype": "f4"
         },
         "yaxis": "y"
        }
       ],
       "layout": {
        "barmode": "relative",
        "coloraxis": {
         "colorbar": {
          "title": {
           "text": "Is Holiday"
          }
         },
         "colorscale": [
          [
           0,
           "#0d0887"
          ],
          [
           0.1111111111111111,
           "#46039f"
          ],
          [
           0.2222222222222222,
           "#7201a8"
          ],
          [
           0.3333333333333333,
           "#9c179e"
          ],
          [
           0.4444444444444444,
           "#bd3786"
          ],
          [
           0.5555555555555556,
           "#d8576b"
          ],
          [
           0.6666666666666666,
           "#ed7953"
          ],
          [
           0.7777777777777778,
           "#fb9f3a"
          ],
          [
           0.8888888888888888,
           "#fdca26"
          ],
          [
           1,
           "#f0f921"
          ]
         ]
        },
        "legend": {
         "tracegroupgap": 0
        },
        "template": {
         "data": {
          "bar": [
           {
            "error_x": {
             "color": "#2a3f5f"
            },
            "error_y": {
             "color": "#2a3f5f"
            },
            "marker": {
             "line": {
              "color": "#E5ECF6",
              "width": 0.5
             },
             "pattern": {
              "fillmode": "overlay",
              "size": 10,
              "solidity": 0.2
             }
            },
            "type": "bar"
           }
          ],
          "barpolar": [
           {
            "marker": {
             "line": {
              "color": "#E5ECF6",
              "width": 0.5
             },
             "pattern": {
              "fillmode": "overlay",
              "size": 10,
              "solidity": 0.2
             }
            },
            "type": "barpolar"
           }
          ],
          "carpet": [
           {
            "aaxis": {
             "endlinecolor": "#2a3f5f",
             "gridcolor": "white",
             "linecolor": "white",
             "minorgridcolor": "white",
             "startlinecolor": "#2a3f5f"
            },
            "baxis": {
             "endlinecolor": "#2a3f5f",
             "gridcolor": "white",
             "linecolor": "white",
             "minorgridcolor": "white",
             "startlinecolor": "#2a3f5f"
            },
            "type": "carpet"
           }
          ],
          "choropleth": [
           {
            "colorbar": {
             "outlinewidth": 0,
             "ticks": ""
            },
            "type": "choropleth"
           }
          ],
          "contour": [
           {
            "colorbar": {
             "outlinewidth": 0,
             "ticks": ""
            },
            "colorscale": [
             [
              0,
              "#0d0887"
             ],
             [
              0.1111111111111111,
              "#46039f"
             ],
             [
              0.2222222222222222,
              "#7201a8"
             ],
             [
              0.3333333333333333,
              "#9c179e"
             ],
             [
              0.4444444444444444,
              "#bd3786"
             ],
             [
              0.5555555555555556,
              "#d8576b"
             ],
             [
              0.6666666666666666,
              "#ed7953"
             ],
             [
              0.7777777777777778,
              "#fb9f3a"
             ],
             [
              0.8888888888888888,
              "#fdca26"
             ],
             [
              1,
              "#f0f921"
             ]
            ],
            "type": "contour"
           }
          ],
          "contourcarpet": [
           {
            "colorbar": {
             "outlinewidth": 0,
             "ticks": ""
            },
            "type": "contourcarpet"
           }
          ],
          "heatmap": [
           {
            "colorbar": {
             "outlinewidth": 0,
             "ticks": ""
            },
            "colorscale": [
             [
              0,
              "#0d0887"
             ],
             [
              0.1111111111111111,
              "#46039f"
             ],
             [
              0.2222222222222222,
              "#7201a8"
             ],
             [
              0.3333333333333333,
              "#9c179e"
             ],
             [
              0.4444444444444444,
              "#bd3786"
             ],
             [
              0.5555555555555556,
              "#d8576b"
             ],
             [
              0.6666666666666666,
              "#ed7953"
             ],
             [
              0.7777777777777778,
              "#fb9f3a"
             ],
             [
              0.8888888888888888,
              "#fdca26"
             ],
             [
              1,
              "#f0f921"
             ]
            ],
            "type": "heatmap"
           }
          ],
          "histogram": [
           {
            "marker": {
             "pattern": {
              "fillmode": "overlay",
              "size": 10,
              "solidity": 0.2
             }
            },
            "type": "histogram"
           }
          ],
          "histogram2d": [
           {
            "colorbar": {
             "outlinewidth": 0,
             "ticks": ""
            },
            "colorscale": [
             [
              0,
              "#0d0887"
             ],
             [
              0.1111111111111111,
              "#46039f"
             ],
             [
              0.2222222222222222,
              "#7201a8"
             ],
             [
              0.3333333333333333,
              "#9c179e"
             ],
             [
              0.4444444444444444,
              "#bd3786"
             ],
             [
              0.5555555555555556,
              "#d8576b"
             ],
             [
              0.6666666666666666,
              "#ed7953"
             ],
             [
              0.7777777777777778,
              "#fb9f3a"
             ],
             [
              0.8888888888888888,
              "#fdca26"
             ],
             [
              1,
              "#f0f921"
             ]
            ],
            "type": "histogram2d"
           }
          ],
          "histogram2dcontour": [
           {
            "colorbar": {
             "outlinewidth": 0,
             "ticks": ""
            },
            "colorscale": [
             [
              0,
              "#0d0887"
             ],
             [
              0.1111111111111111,
              "#46039f"
             ],
             [
              0.2222222222222222,
              "#7201a8"
             ],
             [
              0.3333333333333333,
              "#9c179e"
             ],
             [
              0.4444444444444444,
              "#bd3786"
             ],
             [
              0.5555555555555556,
              "#d8576b"
             ],
             [
              0.6666666666666666,
              "#ed7953"
             ],
             [
              0.7777777777777778,
              "#fb9f3a"
             ],
             [
              0.8888888888888888,
              "#fdca26"
             ],
             [
              1,
              "#f0f921"
             ]
            ],
            "type": "histogram2dcontour"
           }
          ],
          "mesh3d": [
           {
            "colorbar": {
             "outlinewidth": 0,
             "ticks": ""
            },
            "type": "mesh3d"
           }
          ],
          "parcoords": [
           {
            "line": {
             "colorbar": {
              "outlinewidth": 0,
              "ticks": ""
             }
            },
            "type": "parcoords"
           }
          ],
          "pie": [
           {
            "automargin": true,
            "type": "pie"
           }
          ],
          "scatter": [
           {
            "fillpattern": {
             "fillmode": "overlay",
             "size": 10,
             "solidity": 0.2
            },
            "type": "scatter"
           }
          ],
          "scatter3d": [
           {
            "line": {
             "colorbar": {
              "outlinewidth": 0,
              "ticks": ""
             }
            },
            "marker": {
             "colorbar": {
              "outlinewidth": 0,
              "ticks": ""
             }
            },
            "type": "scatter3d"
           }
          ],
          "scattercarpet": [
           {
            "marker": {
             "colorbar": {
              "outlinewidth": 0,
              "ticks": ""
             }
            },
            "type": "scattercarpet"
           }
          ],
          "scattergeo": [
           {
            "marker": {
             "colorbar": {
              "outlinewidth": 0,
              "ticks": ""
             }
            },
            "type": "scattergeo"
           }
          ],
          "scattergl": [
           {
            "marker": {
             "colorbar": {
              "outlinewidth": 0,
              "ticks": ""
             }
            },
            "type": "scattergl"
           }
          ],
          "scattermap": [
           {
            "marker": {
             "colorbar": {
              "outlinewidth": 0,
              "ticks": ""
             }
            },
            "type": "scattermap"
           }
          ],
          "scattermapbox": [
           {
            "marker": {
             "colorbar": {
              "outlinewidth": 0,
              "ticks": ""
             }
            },
            "type": "scattermapbox"
           }
          ],
          "scatterpolar": [
           {
            "marker": {
             "colorbar": {
              "outlinewidth": 0,
              "ticks": ""
             }
            },
            "type": "scatterpolar"
           }
          ],
          "scatterpolargl": [
           {
            "marker": {
             "colorbar": {
              "outlinewidth": 0,
              "ticks": ""
             }
            },
            "type": "scatterpolargl"
           }
          ],
          "scatterternary": [
           {
            "marker": {
             "colorbar": {
              "outlinewidth": 0,
              "ticks": ""
             }
            },
            "type": "scatterternary"
           }
          ],
          "surface": [
           {
            "colorbar": {
             "outlinewidth": 0,
             "ticks": ""
            },
            "colorscale": [
             [
              0,
              "#0d0887"
             ],
             [
              0.1111111111111111,
              "#46039f"
             ],
             [
              0.2222222222222222,
              "#7201a8"
             ],
             [
              0.3333333333333333,
              "#9c179e"
             ],
             [
              0.4444444444444444,
              "#bd3786"
             ],
             [
              0.5555555555555556,
              "#d8576b"
             ],
             [
              0.6666666666666666,
              "#ed7953"
             ],
             [
              0.7777777777777778,
              "#fb9f3a"
             ],
             [
              0.8888888888888888,
              "#fdca26"
             ],
             [
              1,
              "#f0f921"
             ]
            ],
            "type": "surface"
           }
          ],
          "table": [
           {
            "cells": {
             "fill": {
              "color": "#EBF0F8"
             },
             "line": {
              "color": "white"
             }
            },
            "header": {
             "fill": {
              "color": "#C8D4E3"
             },
             "line": {
              "color": "white"
             }
            },
            "type": "table"
           }
          ]
         },
         "layout": {
          "annotationdefaults": {
           "arrowcolor": "#2a3f5f",
           "arrowhead": 0,
           "arrowwidth": 1
          },
          "autotypenumbers": "strict",
          "coloraxis": {
           "colorbar": {
            "outlinewidth": 0,
            "ticks": ""
           }
          },
          "colorscale": {
           "diverging": [
            [
             0,
             "#8e0152"
            ],
            [
             0.1,
             "#c51b7d"
            ],
            [
             0.2,
             "#de77ae"
            ],
            [
             0.3,
             "#f1b6da"
            ],
            [
             0.4,
             "#fde0ef"
            ],
            [
             0.5,
             "#f7f7f7"
            ],
            [
             0.6,
             "#e6f5d0"
            ],
            [
             0.7,
             "#b8e186"
            ],
            [
             0.8,
             "#7fbc41"
            ],
            [
             0.9,
             "#4d9221"
            ],
            [
             1,
             "#276419"
            ]
           ],
           "sequential": [
            [
             0,
             "#0d0887"
            ],
            [
             0.1111111111111111,
             "#46039f"
            ],
            [
             0.2222222222222222,
             "#7201a8"
            ],
            [
             0.3333333333333333,
             "#9c179e"
            ],
            [
             0.4444444444444444,
             "#bd3786"
            ],
            [
             0.5555555555555556,
             "#d8576b"
            ],
            [
             0.6666666666666666,
             "#ed7953"
            ],
            [
             0.7777777777777778,
             "#fb9f3a"
            ],
            [
             0.8888888888888888,
             "#fdca26"
            ],
            [
             1,
             "#f0f921"
            ]
           ],
           "sequentialminus": [
            [
             0,
             "#0d0887"
            ],
            [
             0.1111111111111111,
             "#46039f"
            ],
            [
             0.2222222222222222,
             "#7201a8"
            ],
            [
             0.3333333333333333,
             "#9c179e"
            ],
            [
             0.4444444444444444,
             "#bd3786"
            ],
            [
             0.5555555555555556,
             "#d8576b"
            ],
            [
             0.6666666666666666,
             "#ed7953"
            ],
            [
             0.7777777777777778,
             "#fb9f3a"
            ],
            [
             0.8888888888888888,
             "#fdca26"
            ],
            [
             1,
             "#f0f921"
            ]
           ]
          },
          "colorway": [
           "#636efa",
           "#EF553B",
           "#00cc96",
           "#ab63fa",
           "#FFA15A",
           "#19d3f3",
           "#FF6692",
           "#B6E880",
           "#FF97FF",
           "#FECB52"
          ],
          "font": {
           "color": "#2a3f5f"
          },
          "geo": {
           "bgcolor": "white",
           "lakecolor": "white",
           "landcolor": "#E5ECF6",
           "showlakes": true,
           "showland": true,
           "subunitcolor": "white"
          },
          "hoverlabel": {
           "align": "left"
          },
          "hovermode": "closest",
          "mapbox": {
           "style": "light"
          },
          "paper_bgcolor": "white",
          "plot_bgcolor": "#E5ECF6",
          "polar": {
           "angularaxis": {
            "gridcolor": "white",
            "linecolor": "white",
            "ticks": ""
           },
           "bgcolor": "#E5ECF6",
           "radialaxis": {
            "gridcolor": "white",
            "linecolor": "white",
            "ticks": ""
           }
          },
          "scene": {
           "xaxis": {
            "backgroundcolor": "#E5ECF6",
            "gridcolor": "white",
            "gridwidth": 2,
            "linecolor": "white",
            "showbackground": true,
            "ticks": "",
            "zerolinecolor": "white"
           },
           "yaxis": {
            "backgroundcolor": "#E5ECF6",
            "gridcolor": "white",
            "gridwidth": 2,
            "linecolor": "white",
            "showbackground": true,
            "ticks": "",
            "zerolinecolor": "white"
           },
           "zaxis": {
            "backgroundcolor": "#E5ECF6",
            "gridcolor": "white",
            "gridwidth": 2,
            "linecolor": "white",
            "showbackground": true,
            "ticks": "",
            "zerolinecolor": "white"
           }
          },
          "shapedefaults": {
           "line": {
            "color": "#2a3f5f"
           }
          },
          "ternary": {
           "aaxis": {
            "gridcolor": "white",
            "linecolor": "white",
            "ticks": ""
           },
           "baxis": {
            "gridcolor": "white",
            "linecolor": "white",
            "ticks": ""
           },
           "bgcolor": "#E5ECF6",
           "caxis": {
            "gridcolor": "white",
            "linecolor": "white",
            "ticks": ""
           }
          },
          "title": {
           "x": 0.05
          },
          "xaxis": {
           "automargin": true,
           "gridcolor": "white",
           "linecolor": "white",
           "ticks": "",
           "title": {
            "standoff": 15
           },
           "zerolinecolor": "white",
           "zerolinewidth": 2
          },
          "yaxis": {
           "automargin": true,
           "gridcolor": "white",
           "linecolor": "white",
           "ticks": "",
           "title": {
            "standoff": 15
           },
           "zerolinecolor": "white",
           "zerolinewidth": 2
          }
         }
        },
        "title": {
         "text": "Average Sales: Holiday vs Non-Holiday"
        },
        "xaxis": {
         "anchor": "y",
         "domain": [
          0,
          1
         ],
         "title": {
          "text": "Is Holiday"
         }
        },
        "yaxis": {
         "anchor": "x",
         "domain": [
          0,
          1
         ],
         "title": {
          "text": "Average Sales"
         }
        }
       }
      }
     },
     "metadata": {},
     "output_type": "display_data"
    },
    {
     "data": {
      "application/vnd.plotly.v1+json": {
       "config": {
        "plotlyServerURL": "https://plot.ly"
       },
       "data": [
        {
         "hovertemplate": "Oil Price=%{x}<br>Total Daily Sales=%{y}<extra></extra>",
         "legendgroup": "",
         "marker": {
          "color": "#636efa",
          "symbol": "circle"
         },
         "mode": "markers",
         "name": "",
         "showlegend": false,
         "type": "scattergl",
         "x": {
          "bdata": "AAAAAAAA+H8AAAAAAAD4fwAAAAAAAPh/AAAAAAAA+H8AAAAAAAD4fwAAAAAAAPh/AAAAAAAA+H8AAAAAAAD4fylcj8L1SFdArkfhehQ+V0BI4XoUrkdXQAAAAAAAAPh/AAAAAAAA+H/NzMzMzExXQD0K16NwTVdAhetRuB5FV0CkcD0K13NXQGZmZmZmZldAAAAAAAAA+H8AAAAAAAD4f+F6FK5HkVdAcT0K16NQV0BSuB6F65FXQI/C9Shc31dA16NwPQrnV0AAAAAAAAD4fwAAAAAAAPh/AAAAAAAA+H/2KFyPwgVYQKRwPQrXw1dAZmZmZmbWV0CamZmZmclXQAAAAAAAAPh/AAAAAAAA+H/NzMzMzPxXQEjhehSuZ1hAH4XrUbh+WECamZmZmWlYQD0K16NwXVhAAAAAAAAA+H8AAAAAAAD4fz0K16NwDVhA7FG4HoUrWEBcj8L1KBxYQPYoXI/C9VdAPQrXo3DtV0AAAAAAAAD4fwAAAAAAAPh/cT0K16NAWEAfhetRuF5YQFK4HoXrQVhAMzMzMzNTWEDNzMzMzPxXQAAAAAAAAPh/AAAAAAAA+H8AAAAAAAD4f1yPwvUoLFhAexSuR+G6V0DD9ShcjzJXQEjhehSuR1dAAAAAAAAA+H8AAAAAAAD4f4/C9ShcL1dAuB6F61EoV0D2KFyPwjVXQFK4HoXrAVdAPQrXo3CtVkAAAAAAAAD4fwAAAAAAAPh/uB6F61GIVkC4HoXrUbhWQK5H4XoUnlZAUrgehevhVkBxPQrXowBXQAAAAAAAAPh/AAAAAAAA+H8UrkfhegRXQFyPwvUoHFdArkfhehQeV0BSuB6F60FXQI/C9ShcX1dAAAAAAAAA+H8AAAAAAAD4fz0K16NwbVdAXI/C9SgcV0A9CtejcE1XQD0K16NwHVdACtejcD1aV0AAAAAAAAD4fwAAAAAAAPh/MzMzMzOjV0CPwvUoXP9XQFK4HoXrIVhAj8L1KFxPWEAAAAAAAAD4fwAAAAAAAPh/AAAAAAAA+H9mZmZmZkZYQB+F61G4TlhA4XoUrkfBV0BxPQrXo1BXQHE9CtejMFdAAAAAAAAA+H8AAAAAAAD4f9ejcD0KV1dA7FG4HoWLV0D2KFyPwqVXQFyPwvUoXFdAH4XrUbjOVkAAAAAAAAD4fwAAAAAAAPh/AAAAAAAwVkAfhetRuC5WQJqZmZmZqVVAhetRuB71VUDD9ShcjwJWQAAAAAAAAPh/AAAAAAAA+H+kcD0K1zNWQD0K16NwTVZAFK5H4XrEVkDhehSuR1FXQLgehetRKFdAAAAAAAAA+H8AAAAAAAD4f/YoXI/ChVdArkfhehROV0CPwvUoXK9WQM3MzMzMbFdAAAAAAADQV0AAAAAAAAD4fwAAAAAAAPh/MzMzMzPzV0BSuB6F69FXQI/C9ShcD1hA9ihcj8IFWECkcD0K1/NXQAAAAAAAAPh/AAAAAAAA+H9xPQrXo7BXQD0K16NwfVdAzczMzMx8V0BmZmZmZrZXQK5H4XoU7ldAAAAAAAAA+H8AAAAAAAD4f8P1KFyPElhAMzMzMzPjV0AfhetRuH5XQEjhehSuh1dA9ihcj8J1V0AAAAAAAAD4fwAAAAAAAPh/AAAAAAAA+H+amZmZmalXQLgehetRSFdAFK5H4XpkV0DsUbgehftWQAAAAAAAAPh/AAAAAAAA+H8K16NwPVpXQNejcD0KV1dACtejcD1qV0A9CtejcK1XQNejcD0KB1hAAAAAAAAA+H8AAAAAAAD4fxSuR+F69FdAAAAAAADgV0AfhetRuP5XQArXo3A9KlhAhetRuB51WEAAAAAAAAD4fwAAAAAAAPh/16NwPQp3WEA9CtejcJ1YQI/C9Shcj1hAKVyPwvW4V0CkcD0K13NXQAAAAAAAAPh/AAAAAAAA+H8UrkfhesRXQAAAAAAA0FdArkfhehTeV0AAAAAAAEBYQNejcD0KF1hAAAAAAAAA+H8AAAAAAAD4f1yPwvUofFhAmpmZmZnpWEB7FK5H4XpZQAAAAAAAAPh/9ihcj8LFWUAAAAAAAAD4fwAAAAAAAPh/UrgehevBWUA9CtejcN1ZQArXo3A9mlpA4XoUrkcxWkBmZmZmZnZaQAAAAAAAAPh/AAAAAAAA+H/NzMzMzIxaQLgehetReFpAKVyPwvWYWkBcj8L1KPxaQAAAAAAAAFtAAAAAAAAA+H8AAAAAAAD4f9ejcD0Kp1pAuB6F61HIWkAK16NwPVpaQK5H4XoUXlpAcT0K16MwWkAAAAAAAAD4fwAAAAAAAPh/16NwPQonWkApXI/C9chZQGZmZmZmRlpA7FG4HoX7WkBcj8L1KLxaQAAAAAAAAPh/AAAAAAAA+H/Xo3A9CqdaQBSuR+F6VFpACtejcD0aWkDNzMzMzNxZQMP1KFyPglpAAAAAAAAA+H8AAAAAAAD4f1yPwvUojFpAUrgeheuxWkApXI/C9bhaQOxRuB6F21pAhetRuB7lWkAAAAAAAAD4fwAAAAAAAPh/KVyPwvXIWkCamZmZmTlaQOxRuB6F+1lA7FG4HoU7WkAfhetRuJ5aQAAAAAAAAPh/AAAAAAAA+H+4HoXrUXhaQNejcD0KR1tAexSuR+GKW0BxPQrXoyBbQB+F61G4/lpAAAAAAAAA+H8AAAAAAAD4fwAAAAAAAPh/exSuR+EqW0DD9Shcj9JaQAAAAAAAIFtASOF6FK6nW0AAAAAAAAD4fwAAAAAAAPh/SOF6FK5nW0AfhetRuN5aQJqZmZmZ6VpArkfhehQuW0CkcD0K1xNbQAAAAAAAAPh/AAAAAAAA+H/D9Shcj6JaQNejcD0KV1pAH4XrUbgOW0BxPQrXo5BaQM3MzMzMLFpAAAAAAAAA+H8AAAAAAAD4f0jhehSu51lArkfhehTOWUDsUbgehatZQGZmZmZmxllA16NwPQq3WUAAAAAAAAD4fwAAAAAAAPh/16NwPQqXWUD2KFyPwoVZQJqZmZmZCVpAw/UoXI/SWUCF61G4HvVZQAAAAAAAAPh/AAAAAAAA+H8UrkfhesRZQMP1KFyP4llAuB6F61FoWUCF61G4HsVZQHsUrkfhillAAAAAAAAA+H8AAAAAAAD4fz0K16NwnVlAmpmZmZlJWUD2KFyPwpVZQK5H4XoULllASOF6FK43WUAAAAAAAAD4fwAAAAAAAPh/UrgehevRWEC4HoXrUWhYQJqZmZmZOVhAmpmZmZkpWECamZmZmVlYQAAAAAAAAPh/AAAAAAAA+H+PwvUoXK9YQMP1KFyPklhApHA9CtczWEDD9ShcjxJYQKRwPQrXo1dAAAAAAAAA+H8AAAAAAAD4f4XrUbgepVdAmpmZmZlZV0CPwvUoXK9XQAAAAAAAkFdApHA9CtejV0AAAAAAAAD4fwAAAAAAAPh/uB6F61HIV0BI4XoUrkdXQArXo3A9eldAcT0K16NwV0AzMzMzM3NXQAAAAAAAAPh/AAAAAAAA+H9SuB6F60FXQGZmZmZmVldA9ihcj8JVV0BmZmZmZtZXQFK4HoXroVdAAAAAAAAA+H8AAAAAAAD4f9ejcD0Kd1dACtejcD1aV0AzMzMzMwNXQAAAAAAAAPh/MzMzMzMjV0AAAAAAAAD4fwAAAAAAAPh/16NwPQpnV0CF61G4HvVXQK5H4XoUPlhAKVyPwvVIWEAfhetRuF5YQAAAAAAAAPh/AAAAAAAA+H9mZmZmZkZYQBSuR+F6lFhAAAAAAABQWEA9CtejcE1YQOF6FK5HEVhAAAAAAAAA+H8AAAAAAAD4f+xRuB6FS1hAj8L1KFw/WECamZmZmZlYQNejcD0Kx1hAAAAAAAAA+H8AAAAAAAD4f0jhehSup1hASOF6FK63WEAAAAAAAAD4f+xRuB6Fy1hAXI/C9Sj8WEAAAAAAAAD4fwAAAAAAAPh/mpmZmZm5WEB7FK5H4YpYQAAAAAAAAPh/KVyPwvXIV0AK16NwPWpXQAAAAAAAAPh/AAAAAAAA+H9I4XoUrkdXQKRwPQrXU1dAmpmZmZn5VkDXo3A9CtdWQClcj8L1GFdAAAAAAAAA+H8AAAAAAAD4f83MzMzM3FZAmpmZmZkJV0BSuB6F63FXQMP1KFyPYldAPQrXo3B9V0AAAAAAAAD4fwAAAAAAAPh/AAAAAAAA+H9xPQrXo6BXQGZmZmZmFlhAH4XrUbhOWEAK16NwPSpYQAAAAAAAAPh/AAAAAAAA+H8UrkfhevRXQI/C9ShcX1hA9ihcj8JVWEAAAAAAAJBYQDMzMzMzY1hAAAAAAAAA+H8AAAAAAAD4f1yPwvUoHFhAj8L1KFxPWECamZmZmVlYQPYoXI/CdVhAH4XrUbj+WEAAAAAAAAD4fwAAAAAAAPh/SOF6FK4HWUA9CtejcP1YQLgehetRGFlA4XoUrkcRWUCkcD0K1xNZQAAAAAAAAPh/AAAAAAAA+H8AAAAAAAD4f8P1KFyPollAPQrXo3DdWUDNzMzMzMxZQFK4HoXroVlAAAAAAAAA+H8AAAAAAAD4f3sUrkfhyllAzczMzMyMWUDsUbgehbtZQOxRuB6Fq1lAuB6F61G4WUAAAAAAAAD4fwAAAAAAAPh/9ihcj8JVWkApXI/C9ehZQAAAAAAAcFlAFK5H4Xp0WUAUrkfherRZQAAAAAAAAPh/AAAAAAAA+H8pXI/C9VhZQMP1KFyPEllAw/UoXI+SWEAUrkfheqRYQB+F61G4zlhAAAAAAAAA+H8AAAAAAAD4f+xRuB6Fm1hAhetRuB4FWUA9CtejcC1ZQOxRuB6F61hArkfhehT+WEAAAAAAAAD4fwAAAAAAAPh/MzMzMzMDWUAK16NwPepYQNejcD0KJ1lAAAAAAABQWUAfhetRuG5ZQAAAAAAAAPh/AAAAAAAA+H8UrkfhemRZQFyPwvUo7FhAZmZmZmbmWEDD9ShcjxJZQArXo3A9SllAAAAAAAAA+H8AAAAAAAD4f+xRuB6FG1lAFK5H4XqkWUAzMzMzM+NZQEjhehSu11lA7FG4HoXrWUAAAAAAAAD4fwAAAAAAAPh/MzMzMzMDWkDNzMzMzOxZQD0K16Nw7VlAhetRuB4VWkAAAAAAAAD4fwAAAAAAAPh/AAAAAAAA+H9mZmZmZhZaQFyPwvUobFlArkfhehReWUDNzMzMzIxZQGZmZmZmNllAAAAAAAAA+H8AAAAAAAD4f7gehetRSFlApHA9CtdjWUAUrkfhegRZQFyPwvUo7FhA9ihcj8IFWUAAAAAAAAD4fwAAAAAAAPh/j8L1KFzvWECkcD0K1/NYQKRwPQrXQ1lA4XoUrkchWUAUrkfhehRZQAAAAAAAAPh/AAAAAAAA+H8pXI/C9ThZQHE9CtejgFlAuB6F61GoWUCPwvUoXG9ZQKRwPQrXk1lAAAAAAAAA+H8AAAAAAAD4f83MzMzMvFlAMzMzMzOzWUCkcD0K1xNaQFK4HoXrAVpAcT0K16NAWkAAAAAAAAD4fwAAAAAAAPh/AAAAAAAA+H9SuB6F6zFaQEjhehSu11lAcT0K16MQWkCamZmZmdlZQAAAAAAAAPh/AAAAAAAA+H8UrkfhesRZQPYoXI/C1VlA4XoUrkfRWUB7FK5H4cpZQBSuR+F61FlAAAAAAAAA+H8AAAAAAAD4f/YoXI/CRVpA4XoUrkdBWkDD9Shcj0JaQM3MzMzMzFpAj8L1KFzfWkAAAAAAAAD4fwAAAAAAAPh/4XoUrkfhWkDNzMzMzLxaQClcj8L1qFpAhetRuB7FWkDNzMzMzPxaQAAAAAAAAPh/AAAAAAAA+H+F61G4HrVaQClcj8L1qFpAw/UoXI/CWkCPwvUoXJ9aQD0K16NwnVpAAAAAAAAA+H8AAAAAAAD4fxSuR+F6hFpApHA9CteDWkDsUbgehUtaQHE9CtejMFpAAAAAAAAA+H8AAAAAAAD4fwAAAAAAAPh/XI/C9SgMWkCkcD0K1wNaQOxRuB6Fu1lA16NwPQrnWUAfhetRuF5ZQAAAAAAAAPh/AAAAAAAA+H8fhetRuG5ZQKRwPQrXI1lAuB6F61F4WUD2KFyPwvVZQIXrUbge9VlAAAAAAAAA+H8AAAAAAAD4f/YoXI/CVVpA9ihcj8IlWkCkcD0K1/NZQHE9CtejsFlAH4XrUbhOWkAAAAAAAAD4fwAAAAAAAPh/7FG4HoVrWkAK16NwPTpaQMP1KFyPElpAH4XrUbiOWEDXo3A9CndYQAAAAAAAAPh/AAAAAAAA+H9xPQrXo5BYQPYoXI/CVVhA7FG4HoU7WED2KFyPwlVYQNejcD0KZ1hAAAAAAAAA+H8AAAAAAAD4f/YoXI/ChVhA16NwPQpXWEAUrkfhemRYQMP1KFyP4ldAMzMzMzNTWEAAAAAAAAD4fwAAAAAAAPh/XI/C9SgcWEBmZmZmZpZXQJqZmZmZGVhArkfhehR+V0DXo3A9CmdXQAAAAAAAAPh/AAAAAAAA+H8pXI/C9dhXQFK4HoXr8VdAFK5H4Xr0V0Bcj8L1KBxYQNejcD0Kd1hAAAAAAAAA+H8AAAAAAAD4fwAAAAAAAPh/exSuR+E6V0AAAAAAAOBXQHE9CtejoFdAFK5H4XpUV0AAAAAAAAD4fwAAAAAAAPh/KVyPwvUoV0AfhetRuC5XQD0K16Nw7VZAKVyPwvU4V0DsUbgehQtXQAAAAAAAAPh/AAAAAAAA+H/Xo3A9CjdXQArXo3A9uldAhetRuB6VV0AUrkfhekRXQOxRuB6FG1dAAAAAAAAA+H8AAAAAAAD4fz0K16Nw3VZAMzMzMzPjVkBmZmZmZmZXQPYoXI/CZVdAMzMzMzPjV0AAAAAAAAD4fwAAAAAAAPh/UrgeheuhV0B7FK5H4cpWQI/C9Shcr1ZA4XoUrkfBVkBxPQrXo3BWQAAAAAAAAPh/AAAAAAAA+H+F61G4HpVWQClcj8L1OFZAw/UoXI/SVUBxPQrXo3BVQEjhehSud1VAAAAAAAAA+H8AAAAAAAD4fx+F61G4blVArkfhehRuVEAUrkfhenRUQIXrUbgelVRAMzMzMzOzVEAAAAAAAAD4fwAAAAAAAPh/cT0K16OwVEAAAAAAANBUQOF6FK5HIVRApHA9CtezVEDhehSuR1FUQAAAAAAAAPh/AAAAAAAA+H9xPQrXo1BUQNejcD0KV1RAAAAAAACQVECkcD0K10NUQFK4HoXrIVRAAAAAAAAA+H8AAAAAAAD4f+F6FK5HsVNAmpmZmZlJU0A9CtejcK1TQEjhehSud1NAPQrXo3CtU0AAAAAAAAD4fwAAAAAAAPh/7FG4HoVbU0BmZmZmZnZTQArXo3A9SlNAuB6F61GIUkAK16NwPfpSQAAAAAAAAPh/AAAAAAAA+H8pXI/C9ehSQDMzMzMzo1JAMzMzMzOjUkC4HoXrUehSQOF6FK5HIVNAAAAAAAAA+H8AAAAAAAD4f4/C9Shc71JAw/UoXI+CUkDNzMzMzGxSQAAAAAAAAPh/XI/C9Sh8UEAAAAAAAAD4fwAAAAAAAPh/H4XrUbg+UUCPwvUoXL9QQDMzMzMz01BAH4XrUbiuUEApXI/C9XhQQAAAAAAAAPh/AAAAAAAA+H9xPQrXo5BPQB+F61G43k9AH4XrUbh+TkDhehSuRwFOQEjhehSu50xAAAAAAAAA+H8AAAAAAAD4f3sUrkfh+ktAXI/C9Sj8S0DXo3A9CjdMQBSuR+F6dExAAAAAAAAA+H8AAAAAAAD4fwAAAAAAoEtApHA9CtdjTECamZmZmdlLQAAAAAAAAPh/7FG4HoVLS0AAAAAAAAD4fwAAAAAAAPh/exSuR+G6SkBSuB6F6xFLQJqZmZmZuUpAAAAAAAAA+H9cj8L1KFxKQAAAAAAAAPh/AAAAAAAA+H9mZmZmZgZJQD0K16Nw/UdAuB6F61FYSEBmZmZmZmZIQM3MzMzMLEhAAAAAAAAA+H8AAAAAAAD4f0jhehSuB0dA9ihcj8L1RkAfhetRuD5IQI/C9ShcL0dAH4XrUbg+SEAAAAAAAAD4fwAAAAAAAPh/AAAAAAAA+H+F61G4HmVHQM3MzMzM7EdA16NwPQr3RkDhehSuR6FGQAAAAAAAAPh/AAAAAAAA+H9mZmZmZmZGQOxRuB6F60ZACtejcD0KRkCPwvUoXA9GQIXrUbge5UdAAAAAAAAA+H8AAAAAAAD4fwAAAAAAoEhAhetRuB6FSkCamZmZmTlIQD0K16NwPUlAFK5H4XrUSUAAAAAAAAD4fwAAAAAAAPh/H4XrUbh+SkBI4XoUrgdJQGZmZmZmZkhA9ihcj8KVSUAUrkfhelRKQAAAAAAAAPh/AAAAAAAA+H8AAAAAAAD4f0jhehSux0pAcT0K16MQSkCPwvUoXI9JQJqZmZmZ+UhAAAAAAAAA+H8AAAAAAAD4f0jhehSux0hAPQrXo3A9SEAAAAAAACBJQDMzMzMz00dA7FG4HoXrSEAAAAAAAAD4fwAAAAAAAPh/7FG4HoXLSEDXo3A9CjdJQKRwPQrXw0lA4XoUrkdhSUCuR+F6FM5IQAAAAAAAAPh/AAAAAAAA+H+amZmZmflIQPYoXI/CNUhASOF6FK4HSECPwvUoXI9HQHE9CtejcEZAAAAAAAAA+H8AAAAAAAD4f9ejcD0K90VAUrgeheuxRUBxPQrXo1BGQMP1KFyPAkZAAAAAAAAAR0AAAAAAAAD4fwAAAAAAAPh/MzMzMzOzR0CkcD0K14NHQAAAAAAAYEhAFK5H4Xq0SUAK16NwPWpIQAAAAAAAAPh/AAAAAAAA+H8UrkfhelRIQFyPwvUo3EdAj8L1KFwPSUBxPQrXo5BIQAAAAAAAAPh/AAAAAAAA+H8AAAAAAAD4fwrXo3A9CkpAmpmZmZn5SkC4HoXrUThJQIXrUbgeZUlAcT0K16PQSUAAAAAAAAD4fwAAAAAAAPh/mpmZmZn5SUBmZmZmZqZKQAAAAAAAIExAuB6F61FYTEB7FK5H4dpLQAAAAAAAAPh/AAAAAAAA+H+PwvUoXC9MQArXo3A9yktA9ihcj8IVTEDsUbgehUtMQD0K16Nw/UtAAAAAAAAA+H8AAAAAAAD4f0jhehSux0tAZmZmZmaGTEBmZmZmZkZNQI/C9Shcz01AzczMzMyMTUAAAAAAAAD4fwAAAAAAAPh/9ihcj8J1TUBxPQrXozBOQNejcD0Kd05AH4XrUbh+TUAUrkfherRNQAAAAAAAAPh/AAAAAAAA+H89CtejcJ1NQFyPwvUoXE5AAAAAAABATkBSuB6F6/FNQD0K16Nw3U1AAAAAAAAA+H8AAAAAAAD4f7gehetRuE1AZmZmZmamTEB7FK5H4XpNQNejcD0KF05AcT0K16NwTUAAAAAAAAD4fwAAAAAAAPh/AAAAAAAA+H+F61G4HqVMQOF6FK5HwUxAuB6F61HYTEAAAAAAACBOQAAAAAAAAPh/AAAAAAAA+H8fhetRuB5OQGZmZmZmpk5A9ihcj8LVTUAAAAAAAABNQK5H4XoUjk1AAAAAAAAA+H8AAAAAAAD4fzMzMzMzE01AMzMzMzMTTkCuR+F6FK5OQB+F61G4Xk5AexSuR+H6TUAAAAAAAAD4fwAAAAAAAPh/pHA9CtfDTUDhehSuRwFOQFK4HoXr8U1AFK5H4Xo0TkCPwvUoXM9NQAAAAAAAAPh/AAAAAAAA+H/hehSuRwFOQGZmZmZmhk5A4XoUrkcBTkDsUbgehctNQBSuR+F6tE1AAAAAAAAA+H8AAAAAAAD4f+xRuB6FK01APQrXo3C9TUC4HoXrUXhMQNejcD0Kd0xAAAAAAAAA+H8AAAAAAAD4fwAAAAAAAPh/PQrXo3A9SkAK16NwPSpKQK5H4XoUzklA4XoUrkdhSkAfhetRuF5KQAAAAAAAAPh/AAAAAAAA+H+4HoXrURhKQGZmZmZmhkpAMzMzMzOzSUAzMzMzM3NJQHE9CtejcElAAAAAAAAA+H8AAAAAAAD4f65H4XoUDklA7FG4HoVLSUDD9Shcj6JIQK5H4XoUDkhAPQrXo3D9R0AAAAAAAAD4fwAAAAAAAPh/9ihcj8KVR0Bcj8L1KPxHQMP1KFyPYkhApHA9CtdDSECuR+F6FI5HQAAAAAAAAPh/AAAAAAAA+H8AAAAAAKBGQAAAAAAA4EZAcT0K16OQRkC4HoXrUVhGQI/C9Shc70VAAAAAAAAA+H8AAAAAAAD4f7gehetReEZArkfhehSORUBcj8L1KJxFQMP1KFyPIkVAmpmZmZk5RUAAAAAAAAD4fwAAAAAAAPh/16NwPQr3REAK16NwPUpFQAAAAAAAYERAAAAAAACARECamZmZmTlEQAAAAAAAAPh/AAAAAAAA+H9cj8L1KBxDQDMzMzMzk0NAAAAAAABAQ0Bcj8L1KDxFQIXrUbgepUZAAAAAAAAA+H8AAAAAAAD4f5qZmZmZmUhAcT0K16OwRkBmZmZmZiZHQAAAAAAAYEdAw/UoXI8CR0AAAAAAAAD4fwAAAAAAAPh/AAAAAAAA+H/2KFyPwvVGQHE9CtejEEZAzczMzMzsRkAAAAAAAGBGQAAAAAAAAPh/AAAAAAAA+H8pXI/C9QhGQArXo3A9SkZAj8L1KFyPR0DXo3A9CndHQHsUrkfhWkZAAAAAAAAA+H8AAAAAAAD4f/YoXI/CVUdA9ihcj8IVR0CkcD0K10NGQLgehetReEZAZmZmZmbGRkAAAAAAAAD4fwAAAAAAAPh/MzMzMzMzRkAfhetRuJ5GQEjhehSuh0ZAAAAAAABgRkCF61G4HsVGQAAAAAAAAPh/AAAAAAAA+H+kcD0K1yNHQKRwPQrXQ0hArkfhehTuR0B7FK5H4bpIQPYoXI/C1UhAAAAAAAAA+H8AAAAAAAD4f+xRuB6Fi0dAmpmZmZlZR0BxPQrXo1BHQHE9CtejMEdAZmZmZmamR0AAAAAAAAD4fwAAAAAAAPh/FK5H4Xr0RkDsUbgehetGQFyPwvUonEZAMzMzMzNzRkAUrkfhevRFQAAAAAAAAPh/AAAAAAAA+H+4HoXrUZhFQHsUrkfhmkVA16NwPQr3RkDD9ShcjwJHQM3MzMzMTEdAAAAAAAAA+H8AAAAAAAD4f4/C9ShcD0dAcT0K16PwR0ApXI/C9ShHQMP1KFyPokZAKVyPwvUoRkAAAAAAAAD4fwAAAAAAAPh/j8L1KFzvRUA9CtejcB1GQJqZmZmZeUVAH4XrUbjeREC4HoXrUVhEQAAAAAAAAPh/AAAAAAAA+H/Xo3A9CtdEQD0K16NwXURAAAAAAABgREBmZmZmZkZEQFK4HoXrsUNAAAAAAAAA+H8AAAAAAAD4f8P1KFyPokNAUrgehetxREBcj8L1KJxEQAAAAAAAAPh/KVyPwvVIREAAAAAAAAD4fwAAAAAAAPh/16NwPQo3REAK16NwPUpEQNejcD0K90NACtejcD2KREAAAAAAAABEQAAAAAAAAPh/AAAAAAAA+H9SuB6F69FCQHsUrkfhukJAFK5H4XqUQkDhehSuR2FCQDMzMzMz00FAAAAAAAAA+H8AAAAAAAD4f0jhehSuJ0JAKVyPwvWoQkBmZmZmZsZBQD0K16NwfUFAAAAAAAAA+H8AAAAAAAD4f2ZmZmZmRkFAj8L1KFwPQkDhehSuR2FCQI/C9Shcz0JAAAAAAAAA+H8AAAAAAAD4fwAAAAAAAPh/rkfhehQuQkBxPQrXo/BCQOxRuB6FS0JAcT0K16OQQkAAAAAAAAD4fwAAAAAAAPh/AAAAAAAA+H9I4XoUrmdCQFyPwvUo/EFAXI/C9Sj8QECF61G4HqVAQJqZmZmZmUBAAAAAAAAA+H8AAAAAAAD4f+xRuB6Faz9A7FG4HoVrPkDsUbgehWs+QLgehetROD9AMzMzMzNzPUAAAAAAAAD4fwAAAAAAAPh/AAAAAAAA+H+4HoXrUXg8QK5H4XoUrjpAzczMzMyMPUApXI/C9QhAQAAAAAAAAPh/AAAAAAAA+H+PwvUoXE8+QArXo3A9ij1AKVyPwvUoQEB7FK5H4ZpAQBSuR+F61EBAAAAAAAAA+H8AAAAAAAD4fx+F61G4nj9AZmZmZmbmPUCF61G4HiVAQOF6FK5HoT9AXI/C9SjcPkAAAAAAAAD4fwAAAAAAAPh/9ihcj8K1PUD2KFyPwvU7QArXo3A9ijtAcT0K16MwOkBSuB6F61E9QAAAAAAAAPh/AAAAAAAA+H8AAAAAAAD4f83MzMzMDD1ArkfhehSuPkCF61G4HsU+QNejcD0Klz1AAAAAAAAA+H8AAAAAAAD4fx+F61G4Xj9A16NwPQrXP0CamZmZmVk+QGZmZmZmZj9AZmZmZmamP0AAAAAAAAD4fwAAAAAAAPh/H4XrUbheQEBSuB6F6zFBQClcj8L1SEFASOF6FK5HQUAUrkfhevRBQAAAAAAAAPh/AAAAAAAA+H8zMzMzM/NCQPYoXI/CVUJAj8L1KFzPQkDD9Shcj+JCQOF6FK5HQUNAAAAAAAAA+H8AAAAAAAD4f5qZmZmZmUJAKVyPwvUoQkDXo3A9CjdDQPYoXI/CFURAXI/C9Si8Q0AAAAAAAAD4fwAAAAAAAPh/FK5H4Xr0Q0CamZmZmblEQKRwPQrXI0NAUrgehesRQ0AAAAAAAAD4fwAAAAAAAPh/AAAAAAAA+H8fhetRuP5CQBSuR+F6dEJAFK5H4Xp0QkC4HoXrUXhCQK5H4XoUrkFAAAAAAAAA+H8AAAAAAAD4f2ZmZmZmJkFAw/UoXI9CQUAfhetRuN5CQGZmZmZmpkJAH4XrUbjeQ0AAAAAAAAD4fwAAAAAAAPh/exSuR+E6RECPwvUoXA9FQJqZmZmZ2URAmpmZmZm5REAzMzMzMzNEQAAAAAAAAPh/AAAAAAAA+H8fhetRuN5DQHE9CtejcERAXI/C9ShcRUDXo3A9CpdFQOF6FK5HYUVAAAAAAAAA+H8AAAAAAAD4f/YoXI/C1URAw/UoXI9CRUCF61G4HqVGQKRwPQrXA0dAPQrXo3D9RkAAAAAAAAD4fwAAAAAAAPh/AAAAAABgRkAzMzMzM9NFQMP1KFyP4kVACtejcD0qRkAK16NwPUpGQAAAAAAAAPh/AAAAAAAA+H+amZmZmblFQNejcD0KV0ZAexSuR+EaR0BSuB6F61FHQFyPwvUoHEdAAAAAAAAA+H8AAAAAAAD4f1yPwvUo3EdAhetRuB4lSECPwvUoXA9IQBSuR+F6FEhA9ihcj8LVR0AAAAAAAAD4fwAAAAAAAPh/j8L1KFwPSECF61G4HgVIQM3MzMzMjEhAAAAAAACASECuR+F6FK5IQAAAAAAAAPh/AAAAAAAA+H8AAAAAAAD4f83MzMzMjEhAKVyPwvWISEBSuB6F65FIQLgehetRWEhAAAAAAAAA+H8AAAAAAAD4f3sUrkfh2khAj8L1KFwvSUA9CtejcJ1JQMP1KFyPQklA7FG4HoWLSEAAAAAAAAD4fwAAAAAAAPh/UrgehetxSEAfhetRuD5IQPYoXI/C9UdAUrgehesRR0AAAAAAAABIQAAAAAAAAPh/AAAAAAAA+H8zMzMzM7NIQJqZmZmZeUhAFK5H4XqUSEDsUbgehatIQJqZmZmZWUdAAAAAAAAA+H8AAAAAAAD4f2ZmZmZm5kZA16NwPQr3R0DNzMzMzOxIQMP1KFyPIkhAw/UoXI+CSEAAAAAAAAD4fwAAAAAAAPh/AAAAAAAA+H89CtejcF1HQI/C9Shcr0dAXI/C9SicRkCPwvUoXK9GQAAAAAAAAPh/AAAAAAAA+H89CtejcF1GQClcj8L1aEdAj8L1KFxvRkBSuB6F69FGQNejcD0K90ZAAAAAAAAA+H8AAAAAAAD4fz0K16NwnUZAUrgehetRRkB7FK5H4XpGQHsUrkfh+kVAFK5H4Xq0RUAAAAAAAAD4fwAAAAAAAPh/MzMzMzMzRUAUrkfhehRFQDMzMzMz80RAcT0K16OQRECF61G4HsVEQAAAAAAAAPh/AAAAAAAA+H9mZmZmZgZEQAAAAAAAwENAZmZmZmZmRED2KFyPwvVEQArXo3A96kRAAAAAAAAA+H8AAAAAAAD4f0jhehSuh0VApHA9CtdjRUAAAAAAAOBEQOF6FK5HwUVAXI/C9Sg8RkAAAAAAAAD4fwAAAAAAAPh/XI/C9SjcRkApXI/C9UhHQEjhehSuZ0dAmpmZmZkZSEA9CtejcD1IQAAAAAAAAPh/AAAAAAAA+H9mZmZmZmZHQIXrUbgexUdAhetRuB4lR0Bcj8L1KHxHQFK4HoXr0UdAAAAAAAAA+H8AAAAAAAD4f1yPwvUofEdAKVyPwvUoR0DXo3A9CldGQPYoXI/ClUVAUrgehesxRkAAAAAAAAD4fwAAAAAAAPh/AAAAAAAA+H/NzMzMzGxGQFyPwvUovEZAcT0K16PQR0BxPQrXo/BGQAAAAAAAAPh/AAAAAAAA+H+kcD0K1yNHQBSuR+F6dEZAj8L1KFzPRUDNzMzMzOxFQIXrUbgehUVAAAAAAAAA+H8AAAAAAAD4f+xRuB6Fq0VAzczMzMzsRUAK16NwPapGQM3MzMzMDEdArkfhehQuRkAAAAAAAAD4fwAAAAAAAPh/zczMzMzMRkAzMzMzM1NGQClcj8L1iEdAXI/C9SjcR0Bcj8L1KNxHQAAAAAAAAPh/AAAAAAAA+H9mZmZmZmZIQPYoXI/CVUhAAAAAAADgSEC4HoXrUThJQOF6FK5H4UhAAAAAAAAA+H8AAAAAAAD4f+F6FK5H4UhAXI/C9ShcSUBSuB6F6xFJQFyPwvUoPElAzczMzMwsSUAAAAAAAAD4fwAAAAAAAPh/XI/C9Sj8SEBmZmZmZiZJQOxRuB6Fy0lASOF6FK4nSUCuR+F6FE5JQAAAAAAAAPh/AAAAAAAA+H/Xo3A9ChdJQJqZmZmZuUhAAAAAAABgSEB7FK5H4dpIQFyPwvUoXEhAAAAAAAAA+H8AAAAAAAD4fwrXo3A9akdAFK5H4XpUR0ApXI/C9ahGQBSuR+F6VEZAKVyPwvUIRkAAAAAAAAD4fwAAAAAAAPh/cT0K16NwRkB7FK5H4XpGQJqZmZmZmUZAj8L1KFxPRkBSuB6F67FFQAAAAAAAAPh/AAAAAAAA+H+F61G4HqVFQK5H4XoU7kZASOF6FK7HRkCPwvUoXK9GQLgehetR2EZAAAAAAAAA+H8AAAAAAAD4fz0K16NwvUdAKVyPwvUISEBcj8L1KFxHQAAAAAAAAPh/XI/C9ShcR0AAAAAAAAD4fwAAAAAAAPh/FK5H4XrURkCF61G4HqVGQBSuR+F6tEhACtejcD2KSUCamZmZmdlJQAAAAAAAAPh/AAAAAAAA+H9cj8L1KNxJQJqZmZmZeUlAzczMzMzsSEDsUbgehWtJQOF6FK5HwUlAAAAAAAAA+H8AAAAAAAD4fx+F61G4XkpAH4XrUbh+SkDhehSuR4FJQDMzMzMzc0lA16NwPQr3SUAAAAAAAAD4f3E9CtejEEpAXI/C9SgcSkC4HoXrUbhJQD0K16Nw/UlA4XoUrkcBSkAAAAAAAAD4fwAAAAAAAPh/AAAAAAAA+H8pXI/C9WhKQOF6FK5HAUtAZmZmZmbmSkAAAAAAAOBKQAAAAAAAAPh/AAAAAAAA+H8AAAAAAAD4f65H4XoULkpA4XoUrkehSkDD9Shcj+JKQD0K16Nw/UpAAAAAAAAA+H8AAAAAAAD4f5qZmZmZ+UlAKVyPwvVoSUC4HoXrURhKQOF6FK5HgUpArkfhehQuSkAAAAAAAAD4fwAAAAAAAPh/AAAAAAAA+H+amZmZmTlKQI/C9Shcj0lAUrgeheuxSUAK16NwPSpKQAAAAAAAAPh/AAAAAAAA+H/D9Shcj2JKQHE9CtejMEpAUrgehesRSkAfhetRuJ5KQNejcD0Kl0pAAAAAAAAA+H8AAAAAAAD4f3E9CtejUEpAAAAAAABgSkAzMzMzM/NKQGZmZmZmxkpASOF6FK7nSkAAAAAAAAD4fwAAAAAAAPh/4XoUrkeBSkC4HoXrURhKQI/C9ShcL0pAH4XrUbh+SkDsUbgehetKQAAAAAAAAPh/AAAAAAAA+H97FK5H4XpKQHsUrkfhmkpArkfhehSOSkAUrkfherRKQBSuR+F6tEpAAAAAAAAA+H8AAAAAAAD4fwAAAAAAAPh/w/UoXI8CS0CuR+F6FM5KQD0K16NwPUtAH4XrUbj+SkAAAAAAAAD4fwAAAAAAAPh/hetRuB4FS0AAAAAAAABLQClcj8L16EpAcT0K16NQSkAK16NwPapKQAAAAAAAAPh/AAAAAAAA+H+4HoXrUZhKQNejcD0KV0pACtejcD3qSEAAAAAAAGBIQGZmZmZmBkhAAAAAAAAA+H8AAAAAAAD4f5qZmZmZ+UdAH4XrUbieR0DsUbgehStIQGZmZmZmJkhA7FG4HoUrSEAAAAAAAAD4fwAAAAAAAPh/hetRuB7lR0DD9Shcj4JHQIXrUbgepUdAAAAAAACAR0BmZmZmZqZHQAAAAAAAAPh/AAAAAAAA+H/D9Shcj4JHQK5H4XoULkhAXI/C9Si8SEBmZmZmZiZJQIXrUbgeRUlAAAAAAAAA+H8AAAAAAAD4fwAAAAAAIElAH4XrUbh+SUBSuB6F65FJQLgehetR2ElAAAAAAAAgSkAAAAAAAAD4fwAAAAAAAPh/SOF6FK6HSkBxPQrXo7BKQI/C9Shcj0pAuB6F61GYSkAAAAAAAAD4fwAAAAAAAPh/AAAAAAAA+H+PwvUoXE9KQHsUrkfhOkpAH4XrUbg+SUDhehSuRyFJQFK4HoXr0UhAAAAAAAAA+H8AAAAAAAD4fzMzMzMzc0hAXI/C9SicSEBcj8L1KJxIQHsUrkfhekhASOF6FK6nSEAAAAAAAAD4fwAAAAAAAPh/CtejcD1qSEAzMzMzM9NHQIXrUbge5UdAZmZmZmbGRkA9CtejcB1HQAAAAAAAAPh/AAAAAAAA+H97FK5H4TpHQOxRuB6F60ZApHA9CtejR0BI4XoUrudHQArXo3A96kdAAAAAAAAA+H8AAAAAAAD4f65H4XoUbkhAUrgehetRSECF61G4HoVIQK5H4XoUrkhAKVyPwvUoSUAAAAAAAAD4fwAAAAAAAPh/SOF6FK5nSUCPwvUoXI9JQB+F61G4fklAKVyPwvVISEAK16NwPcpIQAAAAAAAAPh/AAAAAAAA+H8AAAAAAAD4f3E9Ctej0EhAhetRuB4lSEApXI/C9ShIQNejcD0K10dAAAAAAAAA+H8AAAAAAAD4fzMzMzMzs0dAcT0K16MQSEBmZmZmZuZGQNejcD0K10ZAKVyPwvXoRkAAAAAAAAD4fwAAAAAAAPh/zczMzMwMR0AUrkfhejRHQIXrUbgeZUZAXI/C9Sg8RkA9CtejcF1GQAAAAAAAAPh/AAAAAAAA+H8fhetRuB5GQOxRuB6Fq0VAPQrXo3A9RUCkcD0K10NFQK5H4XoUbkVAAAAAAAAA+H8AAAAAAAD4fx+F61G4nkVAAAAAAAAgRkAfhetRuF5GQHE9CtejcEZAw/UoXI8CR0AAAAAAAAD4fwAAAAAAAPh/AAAAAAAA+H8AAAAAAAD4f65H4XoUjkZAw/UoXI/CRkAAAAAAACBGQAAAAAAAAPh/AAAAAAAA+H8zMzMzMzNGQEjhehSuh0ZAPQrXo3C9RkBI4XoUrgdHQKRwPQrXQ0dAAAAAAAAA+H8AAAAAAAD4f8P1KFyPAkdAMzMzMzMzR0DNzMzMzIxHQD0K16NwXUdApHA9CtfjRkAAAAAAAAD4fwAAAAAAAPh/exSuR+EaR0DD9Shcj+JHQArXo3A9SkhAZmZmZmaGSEBcj8L1KNxIQAAAAAAAAPh/AAAAAAAA+H97FK5H4RpJQLgehetRmEhAzczMzMzMSECkcD0K14NIQClcj8L1yEhAAAAAAAAA+H8AAAAAAAD4f4/C9Shcr0hAKVyPwvWISEA=",
          "dtype": "f8"
         },
         "xaxis": "x",
         "y": {
          "bdata": "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",
          "dtype": "f4"
         },
         "yaxis": "y"
        }
       ],
       "layout": {
        "legend": {
         "tracegroupgap": 0
        },
        "template": {
         "data": {
          "bar": [
           {
            "error_x": {
             "color": "#2a3f5f"
            },
            "error_y": {
             "color": "#2a3f5f"
            },
            "marker": {
             "line": {
              "color": "#E5ECF6",
              "width": 0.5
             },
             "pattern": {
              "fillmode": "overlay",
              "size": 10,
              "solidity": 0.2
             }
            },
            "type": "bar"
           }
          ],
          "barpolar": [
           {
            "marker": {
             "line": {
              "color": "#E5ECF6",
              "width": 0.5
             },
             "pattern": {
              "fillmode": "overlay",
              "size": 10,
              "solidity": 0.2
             }
            },
            "type": "barpolar"
           }
          ],
          "carpet": [
           {
            "aaxis": {
             "endlinecolor": "#2a3f5f",
             "gridcolor": "white",
             "linecolor": "white",
             "minorgridcolor": "white",
             "startlinecolor": "#2a3f5f"
            },
            "baxis": {
             "endlinecolor": "#2a3f5f",
             "gridcolor": "white",
             "linecolor": "white",
             "minorgridcolor": "white",
             "startlinecolor": "#2a3f5f"
            },
            "type": "carpet"
           }
          ],
          "choropleth": [
           {
            "colorbar": {
             "outlinewidth": 0,
             "ticks": ""
            },
            "type": "choropleth"
           }
          ],
          "contour": [
           {
            "colorbar": {
             "outlinewidth": 0,
             "ticks": ""
            },
            "colorscale": [
             [
              0,
              "#0d0887"
             ],
             [
              0.1111111111111111,
              "#46039f"
             ],
             [
              0.2222222222222222,
              "#7201a8"
             ],
             [
              0.3333333333333333,
              "#9c179e"
             ],
             [
              0.4444444444444444,
              "#bd3786"
             ],
             [
              0.5555555555555556,
              "#d8576b"
             ],
             [
              0.6666666666666666,
              "#ed7953"
             ],
             [
              0.7777777777777778,
              "#fb9f3a"
             ],
             [
              0.8888888888888888,
              "#fdca26"
             ],
             [
              1,
              "#f0f921"
             ]
            ],
            "type": "contour"
           }
          ],
          "contourcarpet": [
           {
            "colorbar": {
             "outlinewidth": 0,
             "ticks": ""
            },
            "type": "contourcarpet"
           }
          ],
          "heatmap": [
           {
            "colorbar": {
             "outlinewidth": 0,
             "ticks": ""
            },
            "colorscale": [
             [
              0,
              "#0d0887"
             ],
             [
              0.1111111111111111,
              "#46039f"
             ],
             [
              0.2222222222222222,
              "#7201a8"
             ],
             [
              0.3333333333333333,
              "#9c179e"
             ],
             [
              0.4444444444444444,
              "#bd3786"
             ],
             [
              0.5555555555555556,
              "#d8576b"
             ],
             [
              0.6666666666666666,
              "#ed7953"
             ],
             [
              0.7777777777777778,
              "#fb9f3a"
             ],
             [
              0.8888888888888888,
              "#fdca26"
             ],
             [
              1,
              "#f0f921"
             ]
            ],
            "type": "heatmap"
           }
          ],
          "histogram": [
           {
            "marker": {
             "pattern": {
              "fillmode": "overlay",
              "size": 10,
              "solidity": 0.2
             }
            },
            "type": "histogram"
           }
          ],
          "histogram2d": [
           {
            "colorbar": {
             "outlinewidth": 0,
             "ticks": ""
            },
            "colorscale": [
             [
              0,
              "#0d0887"
             ],
             [
              0.1111111111111111,
              "#46039f"
             ],
             [
              0.2222222222222222,
              "#7201a8"
             ],
             [
              0.3333333333333333,
              "#9c179e"
             ],
             [
              0.4444444444444444,
              "#bd3786"
             ],
             [
              0.5555555555555556,
              "#d8576b"
             ],
             [
              0.6666666666666666,
              "#ed7953"
             ],
             [
              0.7777777777777778,
              "#fb9f3a"
             ],
             [
              0.8888888888888888,
              "#fdca26"
             ],
             [
              1,
              "#f0f921"
             ]
            ],
            "type": "histogram2d"
           }
          ],
          "histogram2dcontour": [
           {
            "colorbar": {
             "outlinewidth": 0,
             "ticks": ""
            },
            "colorscale": [
             [
              0,
              "#0d0887"
             ],
             [
              0.1111111111111111,
              "#46039f"
             ],
             [
              0.2222222222222222,
              "#7201a8"
             ],
             [
              0.3333333333333333,
              "#9c179e"
             ],
             [
              0.4444444444444444,
              "#bd3786"
             ],
             [
              0.5555555555555556,
              "#d8576b"
             ],
             [
              0.6666666666666666,
              "#ed7953"
             ],
             [
              0.7777777777777778,
              "#fb9f3a"
             ],
             [
              0.8888888888888888,
              "#fdca26"
             ],
             [
              1,
              "#f0f921"
             ]
            ],
            "type": "histogram2dcontour"
           }
          ],
          "mesh3d": [
           {
            "colorbar": {
             "outlinewidth": 0,
             "ticks": ""
            },
            "type": "mesh3d"
           }
          ],
          "parcoords": [
           {
            "line": {
             "colorbar": {
              "outlinewidth": 0,
              "ticks": ""
             }
            },
            "type": "parcoords"
           }
          ],
          "pie": [
           {
            "automargin": true,
            "type": "pie"
           }
          ],
          "scatter": [
           {
            "fillpattern": {
             "fillmode": "overlay",
             "size": 10,
             "solidity": 0.2
            },
            "type": "scatter"
           }
          ],
          "scatter3d": [
           {
            "line": {
             "colorbar": {
              "outlinewidth": 0,
              "ticks": ""
             }
            },
            "marker": {
             "colorbar": {
              "outlinewidth": 0,
              "ticks": ""
             }
            },
            "type": "scatter3d"
           }
          ],
          "scattercarpet": [
           {
            "marker": {
             "colorbar": {
              "outlinewidth": 0,
              "ticks": ""
             }
            },
            "type": "scattercarpet"
           }
          ],
          "scattergeo": [
           {
            "marker": {
             "colorbar": {
              "outlinewidth": 0,
              "ticks": ""
             }
            },
            "type": "scattergeo"
           }
          ],
          "scattergl": [
           {
            "marker": {
             "colorbar": {
              "outlinewidth": 0,
              "ticks": ""
             }
            },
            "type": "scattergl"
           }
          ],
          "scattermap": [
           {
            "marker": {
             "colorbar": {
              "outlinewidth": 0,
              "ticks": ""
             }
            },
            "type": "scattermap"
           }
          ],
          "scattermapbox": [
           {
            "marker": {
             "colorbar": {
              "outlinewidth": 0,
              "ticks": ""
             }
            },
            "type": "scattermapbox"
           }
          ],
          "scatterpolar": [
           {
            "marker": {
             "colorbar": {
              "outlinewidth": 0,
              "ticks": ""
             }
            },
            "type": "scatterpolar"
           }
          ],
          "scatterpolargl": [
           {
            "marker": {
             "colorbar": {
              "outlinewidth": 0,
              "ticks": ""
             }
            },
            "type": "scatterpolargl"
           }
          ],
          "scatterternary": [
           {
            "marker": {
             "colorbar": {
              "outlinewidth": 0,
              "ticks": ""
             }
            },
            "type": "scatterternary"
           }
          ],
          "surface": [
           {
            "colorbar": {
             "outlinewidth": 0,
             "ticks": ""
            },
            "colorscale": [
             [
              0,
              "#0d0887"
             ],
             [
              0.1111111111111111,
              "#46039f"
             ],
             [
              0.2222222222222222,
              "#7201a8"
             ],
             [
              0.3333333333333333,
              "#9c179e"
             ],
             [
              0.4444444444444444,
              "#bd3786"
             ],
             [
              0.5555555555555556,
              "#d8576b"
             ],
             [
              0.6666666666666666,
              "#ed7953"
             ],
             [
              0.7777777777777778,
              "#fb9f3a"
             ],
             [
              0.8888888888888888,
              "#fdca26"
             ],
             [
              1,
              "#f0f921"
             ]
            ],
            "type": "surface"
           }
          ],
          "table": [
           {
            "cells": {
             "fill": {
              "color": "#EBF0F8"
             },
             "line": {
              "color": "white"
             }
            },
            "header": {
             "fill": {
              "color": "#C8D4E3"
             },
             "line": {
              "color": "white"
             }
            },
            "type": "table"
           }
          ]
         },
         "layout": {
          "annotationdefaults": {
           "arrowcolor": "#2a3f5f",
           "arrowhead": 0,
           "arrowwidth": 1
          },
          "autotypenumbers": "strict",
          "coloraxis": {
           "colorbar": {
            "outlinewidth": 0,
            "ticks": ""
           }
          },
          "colorscale": {
           "diverging": [
            [
             0,
             "#8e0152"
            ],
            [
             0.1,
             "#c51b7d"
            ],
            [
             0.2,
             "#de77ae"
            ],
            [
             0.3,
             "#f1b6da"
            ],
            [
             0.4,
             "#fde0ef"
            ],
            [
             0.5,
             "#f7f7f7"
            ],
            [
             0.6,
             "#e6f5d0"
            ],
            [
             0.7,
             "#b8e186"
            ],
            [
             0.8,
             "#7fbc41"
            ],
            [
             0.9,
             "#4d9221"
            ],
            [
             1,
             "#276419"
            ]
           ],
           "sequential": [
            [
             0,
             "#0d0887"
            ],
            [
             0.1111111111111111,
             "#46039f"
            ],
            [
             0.2222222222222222,
             "#7201a8"
            ],
            [
             0.3333333333333333,
             "#9c179e"
            ],
            [
             0.4444444444444444,
             "#bd3786"
            ],
            [
             0.5555555555555556,
             "#d8576b"
            ],
            [
             0.6666666666666666,
             "#ed7953"
            ],
            [
             0.7777777777777778,
             "#fb9f3a"
            ],
            [
             0.8888888888888888,
             "#fdca26"
            ],
            [
             1,
             "#f0f921"
            ]
           ],
           "sequentialminus": [
            [
             0,
             "#0d0887"
            ],
            [
             0.1111111111111111,
             "#46039f"
            ],
            [
             0.2222222222222222,
             "#7201a8"
            ],
            [
             0.3333333333333333,
             "#9c179e"
            ],
            [
             0.4444444444444444,
             "#bd3786"
            ],
            [
             0.5555555555555556,
             "#d8576b"
            ],
            [
             0.6666666666666666,
             "#ed7953"
            ],
            [
             0.7777777777777778,
             "#fb9f3a"
            ],
            [
             0.8888888888888888,
             "#fdca26"
            ],
            [
             1,
             "#f0f921"
            ]
           ]
          },
          "colorway": [
           "#636efa",
           "#EF553B",
           "#00cc96",
           "#ab63fa",
           "#FFA15A",
           "#19d3f3",
           "#FF6692",
           "#B6E880",
           "#FF97FF",
           "#FECB52"
          ],
          "font": {
           "color": "#2a3f5f"
          },
          "geo": {
           "bgcolor": "white",
           "lakecolor": "white",
           "landcolor": "#E5ECF6",
           "showlakes": true,
           "showland": true,
           "subunitcolor": "white"
          },
          "hoverlabel": {
           "align": "left"
          },
          "hovermode": "closest",
          "mapbox": {
           "style": "light"
          },
          "paper_bgcolor": "white",
          "plot_bgcolor": "#E5ECF6",
          "polar": {
           "angularaxis": {
            "gridcolor": "white",
            "linecolor": "white",
            "ticks": ""
           },
           "bgcolor": "#E5ECF6",
           "radialaxis": {
            "gridcolor": "white",
            "linecolor": "white",
            "ticks": ""
           }
          },
          "scene": {
           "xaxis": {
            "backgroundcolor": "#E5ECF6",
            "gridcolor": "white",
            "gridwidth": 2,
            "linecolor": "white",
            "showbackground": true,
            "ticks": "",
            "zerolinecolor": "white"
           },
           "yaxis": {
            "backgroundcolor": "#E5ECF6",
            "gridcolor": "white",
            "gridwidth": 2,
            "linecolor": "white",
            "showbackground": true,
            "ticks": "",
            "zerolinecolor": "white"
           },
           "zaxis": {
            "backgroundcolor": "#E5ECF6",
            "gridcolor": "white",
            "gridwidth": 2,
            "linecolor": "white",
            "showbackground": true,
            "ticks": "",
            "zerolinecolor": "white"
           }
          },
          "shapedefaults": {
           "line": {
            "color": "#2a3f5f"
           }
          },
          "ternary": {
           "aaxis": {
            "gridcolor": "white",
            "linecolor": "white",
            "ticks": ""
           },
           "baxis": {
            "gridcolor": "white",
            "linecolor": "white",
            "ticks": ""
           },
           "bgcolor": "#E5ECF6",
           "caxis": {
            "gridcolor": "white",
            "linecolor": "white",
            "ticks": ""
           }
          },
          "title": {
           "x": 0.05
          },
          "xaxis": {
           "automargin": true,
           "gridcolor": "white",
           "linecolor": "white",
           "ticks": "",
           "title": {
            "standoff": 15
           },
           "zerolinecolor": "white",
           "zerolinewidth": 2
          },
          "yaxis": {
           "automargin": true,
           "gridcolor": "white",
           "linecolor": "white",
           "ticks": "",
           "title": {
            "standoff": 15
           },
           "zerolinecolor": "white",
           "zerolinewidth": 2
          }
         }
        },
        "title": {
         "text": "Oil Price vs Daily Sales"
        },
        "xaxis": {
         "anchor": "y",
         "domain": [
          0,
          1
         ],
         "title": {
          "text": "Oil Price"
         }
        },
        "yaxis": {
         "anchor": "x",
         "domain": [
          0,
          1
         ],
         "title": {
          "text": "Total Daily Sales"
         }
        }
       }
      }
     },
     "metadata": {},
     "output_type": "display_data"
    },
    {
     "data": {
      "application/vnd.plotly.v1+json": {
       "config": {
        "plotlyServerURL": "https://plot.ly"
       },
       "data": [
        {
         "hovertemplate": "Number of Transactions=%{x}<br>Sales=%{y}<extra></extra>",
         "legendgroup": "",
         "marker": {
          "color": "#636efa",
          "symbol": "circle"
         },
         "mode": "markers",
         "name": "",
         "orientation": "v",
         "showlegend": false,
         "type": "scatter",
         "x": {
          "bdata": "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",
          "dtype": "f8"
         },
         "xaxis": "x",
         "y": {
          "bdata": "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",
          "dtype": "f4"
         },
         "yaxis": "y"
        }
       ],
       "layout": {
        "legend": {
         "tracegroupgap": 0
        },
        "template": {
         "data": {
          "bar": [
           {
            "error_x": {
             "color": "#2a3f5f"
            },
            "error_y": {
             "color": "#2a3f5f"
            },
            "marker": {
             "line": {
              "color": "#E5ECF6",
              "width": 0.5
             },
             "pattern": {
              "fillmode": "overlay",
              "size": 10,
              "solidity": 0.2
             }
            },
            "type": "bar"
           }
          ],
          "barpolar": [
           {
            "marker": {
             "line": {
              "color": "#E5ECF6",
              "width": 0.5
             },
             "pattern": {
              "fillmode": "overlay",
              "size": 10,
              "solidity": 0.2
             }
            },
            "type": "barpolar"
           }
          ],
          "carpet": [
           {
            "aaxis": {
             "endlinecolor": "#2a3f5f",
             "gridcolor": "white",
             "linecolor": "white",
             "minorgridcolor": "white",
             "startlinecolor": "#2a3f5f"
            },
            "baxis": {
             "endlinecolor": "#2a3f5f",
             "gridcolor": "white",
             "linecolor": "white",
             "minorgridcolor": "white",
             "startlinecolor": "#2a3f5f"
            },
            "type": "carpet"
           }
          ],
          "choropleth": [
           {
            "colorbar": {
             "outlinewidth": 0,
             "ticks": ""
            },
            "type": "choropleth"
           }
          ],
          "contour": [
           {
            "colorbar": {
             "outlinewidth": 0,
             "ticks": ""
            },
            "colorscale": [
             [
              0,
              "#0d0887"
             ],
             [
              0.1111111111111111,
              "#46039f"
             ],
             [
              0.2222222222222222,
              "#7201a8"
             ],
             [
              0.3333333333333333,
              "#9c179e"
             ],
             [
              0.4444444444444444,
              "#bd3786"
             ],
             [
              0.5555555555555556,
              "#d8576b"
             ],
             [
              0.6666666666666666,
              "#ed7953"
             ],
             [
              0.7777777777777778,
              "#fb9f3a"
             ],
             [
              0.8888888888888888,
              "#fdca26"
             ],
             [
              1,
              "#f0f921"
             ]
            ],
            "type": "contour"
           }
          ],
          "contourcarpet": [
           {
            "colorbar": {
             "outlinewidth": 0,
             "ticks": ""
            },
            "type": "contourcarpet"
           }
          ],
          "heatmap": [
           {
            "colorbar": {
             "outlinewidth": 0,
             "ticks": ""
            },
            "colorscale": [
             [
              0,
              "#0d0887"
             ],
             [
              0.1111111111111111,
              "#46039f"
             ],
             [
              0.2222222222222222,
              "#7201a8"
             ],
             [
              0.3333333333333333,
              "#9c179e"
             ],
             [
              0.4444444444444444,
              "#bd3786"
             ],
             [
              0.5555555555555556,
              "#d8576b"
             ],
             [
              0.6666666666666666,
              "#ed7953"
             ],
             [
              0.7777777777777778,
              "#fb9f3a"
             ],
             [
              0.8888888888888888,
              "#fdca26"
             ],
             [
              1,
              "#f0f921"
             ]
            ],
            "type": "heatmap"
           }
          ],
          "histogram": [
           {
            "marker": {
             "pattern": {
              "fillmode": "overlay",
              "size": 10,
              "solidity": 0.2
             }
            },
            "type": "histogram"
           }
          ],
          "histogram2d": [
           {
            "colorbar": {
             "outlinewidth": 0,
             "ticks": ""
            },
            "colorscale": [
             [
              0,
              "#0d0887"
             ],
             [
              0.1111111111111111,
              "#46039f"
             ],
             [
              0.2222222222222222,
              "#7201a8"
             ],
             [
              0.3333333333333333,
              "#9c179e"
             ],
             [
              0.4444444444444444,
              "#bd3786"
             ],
             [
              0.5555555555555556,
              "#d8576b"
             ],
             [
              0.6666666666666666,
              "#ed7953"
             ],
             [
              0.7777777777777778,
              "#fb9f3a"
             ],
             [
              0.8888888888888888,
              "#fdca26"
             ],
             [
              1,
              "#f0f921"
             ]
            ],
            "type": "histogram2d"
           }
          ],
          "histogram2dcontour": [
           {
            "colorbar": {
             "outlinewidth": 0,
             "ticks": ""
            },
            "colorscale": [
             [
              0,
              "#0d0887"
             ],
             [
              0.1111111111111111,
              "#46039f"
             ],
             [
              0.2222222222222222,
              "#7201a8"
             ],
             [
              0.3333333333333333,
              "#9c179e"
             ],
             [
              0.4444444444444444,
              "#bd3786"
             ],
             [
              0.5555555555555556,
              "#d8576b"
             ],
             [
              0.6666666666666666,
              "#ed7953"
             ],
             [
              0.7777777777777778,
              "#fb9f3a"
             ],
             [
              0.8888888888888888,
              "#fdca26"
             ],
             [
              1,
              "#f0f921"
             ]
            ],
            "type": "histogram2dcontour"
           }
          ],
          "mesh3d": [
           {
            "colorbar": {
             "outlinewidth": 0,
             "ticks": ""
            },
            "type": "mesh3d"
           }
          ],
          "parcoords": [
           {
            "line": {
             "colorbar": {
              "outlinewidth": 0,
              "ticks": ""
             }
            },
            "type": "parcoords"
           }
          ],
          "pie": [
           {
            "automargin": true,
            "type": "pie"
           }
          ],
          "scatter": [
           {
            "fillpattern": {
             "fillmode": "overlay",
             "size": 10,
             "solidity": 0.2
            },
            "type": "scatter"
           }
          ],
          "scatter3d": [
           {
            "line": {
             "colorbar": {
              "outlinewidth": 0,
              "ticks": ""
             }
            },
            "marker": {
             "colorbar": {
              "outlinewidth": 0,
              "ticks": ""
             }
            },
            "type": "scatter3d"
           }
          ],
          "scattercarpet": [
           {
            "marker": {
             "colorbar": {
              "outlinewidth": 0,
              "ticks": ""
             }
            },
            "type": "scattercarpet"
           }
          ],
          "scattergeo": [
           {
            "marker": {
             "colorbar": {
              "outlinewidth": 0,
              "ticks": ""
             }
            },
            "type": "scattergeo"
           }
          ],
          "scattergl": [
           {
            "marker": {
             "colorbar": {
              "outlinewidth": 0,
              "ticks": ""
             }
            },
            "type": "scattergl"
           }
          ],
          "scattermap": [
           {
            "marker": {
             "colorbar": {
              "outlinewidth": 0,
              "ticks": ""
             }
            },
            "type": "scattermap"
           }
          ],
          "scattermapbox": [
           {
            "marker": {
             "colorbar": {
              "outlinewidth": 0,
              "ticks": ""
             }
            },
            "type": "scattermapbox"
           }
          ],
          "scatterpolar": [
           {
            "marker": {
             "colorbar": {
              "outlinewidth": 0,
              "ticks": ""
             }
            },
            "type": "scatterpolar"
           }
          ],
          "scatterpolargl": [
           {
            "marker": {
             "colorbar": {
              "outlinewidth": 0,
              "ticks": ""
             }
            },
            "type": "scatterpolargl"
           }
          ],
          "scatterternary": [
           {
            "marker": {
             "colorbar": {
              "outlinewidth": 0,
              "ticks": ""
             }
            },
            "type": "scatterternary"
           }
          ],
          "surface": [
           {
            "colorbar": {
             "outlinewidth": 0,
             "ticks": ""
            },
            "colorscale": [
             [
              0,
              "#0d0887"
             ],
             [
              0.1111111111111111,
              "#46039f"
             ],
             [
              0.2222222222222222,
              "#7201a8"
             ],
             [
              0.3333333333333333,
              "#9c179e"
             ],
             [
              0.4444444444444444,
              "#bd3786"
             ],
             [
              0.5555555555555556,
              "#d8576b"
             ],
             [
              0.6666666666666666,
              "#ed7953"
             ],
             [
              0.7777777777777778,
              "#fb9f3a"
             ],
             [
              0.8888888888888888,
              "#fdca26"
             ],
             [
              1,
              "#f0f921"
             ]
            ],
            "type": "surface"
           }
          ],
          "table": [
           {
            "cells": {
             "fill": {
              "color": "#EBF0F8"
             },
             "line": {
              "color": "white"
             }
            },
            "header": {
             "fill": {
              "color": "#C8D4E3"
             },
             "line": {
              "color": "white"
             }
            },
            "type": "table"
           }
          ]
         },
         "layout": {
          "annotationdefaults": {
           "arrowcolor": "#2a3f5f",
           "arrowhead": 0,
           "arrowwidth": 1
          },
          "autotypenumbers": "strict",
          "coloraxis": {
           "colorbar": {
            "outlinewidth": 0,
            "ticks": ""
           }
          },
          "colorscale": {
           "diverging": [
            [
             0,
             "#8e0152"
            ],
            [
             0.1,
             "#c51b7d"
            ],
            [
             0.2,
             "#de77ae"
            ],
            [
             0.3,
             "#f1b6da"
            ],
            [
             0.4,
             "#fde0ef"
            ],
            [
             0.5,
             "#f7f7f7"
            ],
            [
             0.6,
             "#e6f5d0"
            ],
            [
             0.7,
             "#b8e186"
            ],
            [
             0.8,
             "#7fbc41"
            ],
            [
             0.9,
             "#4d9221"
            ],
            [
             1,
             "#276419"
            ]
           ],
           "sequential": [
            [
             0,
             "#0d0887"
            ],
            [
             0.1111111111111111,
             "#46039f"
            ],
            [
             0.2222222222222222,
             "#7201a8"
            ],
            [
             0.3333333333333333,
             "#9c179e"
            ],
            [
             0.4444444444444444,
             "#bd3786"
            ],
            [
             0.5555555555555556,
             "#d8576b"
            ],
            [
             0.6666666666666666,
             "#ed7953"
            ],
            [
             0.7777777777777778,
             "#fb9f3a"
            ],
            [
             0.8888888888888888,
             "#fdca26"
            ],
            [
             1,
             "#f0f921"
            ]
           ],
           "sequentialminus": [
            [
             0,
             "#0d0887"
            ],
            [
             0.1111111111111111,
             "#46039f"
            ],
            [
             0.2222222222222222,
             "#7201a8"
            ],
            [
             0.3333333333333333,
             "#9c179e"
            ],
            [
             0.4444444444444444,
             "#bd3786"
            ],
            [
             0.5555555555555556,
             "#d8576b"
            ],
            [
             0.6666666666666666,
             "#ed7953"
            ],
            [
             0.7777777777777778,
             "#fb9f3a"
            ],
            [
             0.8888888888888888,
             "#fdca26"
            ],
            [
             1,
             "#f0f921"
            ]
           ]
          },
          "colorway": [
           "#636efa",
           "#EF553B",
           "#00cc96",
           "#ab63fa",
           "#FFA15A",
           "#19d3f3",
           "#FF6692",
           "#B6E880",
           "#FF97FF",
           "#FECB52"
          ],
          "font": {
           "color": "#2a3f5f"
          },
          "geo": {
           "bgcolor": "white",
           "lakecolor": "white",
           "landcolor": "#E5ECF6",
           "showlakes": true,
           "showland": true,
           "subunitcolor": "white"
          },
          "hoverlabel": {
           "align": "left"
          },
          "hovermode": "closest",
          "mapbox": {
           "style": "light"
          },
          "paper_bgcolor": "white",
          "plot_bgcolor": "#E5ECF6",
          "polar": {
           "angularaxis": {
            "gridcolor": "white",
            "linecolor": "white",
            "ticks": ""
           },
           "bgcolor": "#E5ECF6",
           "radialaxis": {
            "gridcolor": "white",
            "linecolor": "white",
            "ticks": ""
           }
          },
          "scene": {
           "xaxis": {
            "backgroundcolor": "#E5ECF6",
            "gridcolor": "white",
            "gridwidth": 2,
            "linecolor": "white",
            "showbackground": true,
            "ticks": "",
            "zerolinecolor": "white"
           },
           "yaxis": {
            "backgroundcolor": "#E5ECF6",
            "gridcolor": "white",
            "gridwidth": 2,
            "linecolor": "white",
            "showbackground": true,
            "ticks": "",
            "zerolinecolor": "white"
           },
           "zaxis": {
            "backgroundcolor": "#E5ECF6",
            "gridcolor": "white",
            "gridwidth": 2,
            "linecolor": "white",
            "showbackground": true,
            "ticks": "",
            "zerolinecolor": "white"
           }
          },
          "shapedefaults": {
           "line": {
            "color": "#2a3f5f"
           }
          },
          "ternary": {
           "aaxis": {
            "gridcolor": "white",
            "linecolor": "white",
            "ticks": ""
           },
           "baxis": {
            "gridcolor": "white",
            "linecolor": "white",
            "ticks": ""
           },
           "bgcolor": "#E5ECF6",
           "caxis": {
            "gridcolor": "white",
            "linecolor": "white",
            "ticks": ""
           }
          },
          "title": {
           "x": 0.05
          },
          "xaxis": {
           "automargin": true,
           "gridcolor": "white",
           "linecolor": "white",
           "ticks": "",
           "title": {
            "standoff": 15
           },
           "zerolinecolor": "white",
           "zerolinewidth": 2
          },
          "yaxis": {
           "automargin": true,
           "gridcolor": "white",
           "linecolor": "white",
           "ticks": "",
           "title": {
            "standoff": 15
           },
           "zerolinecolor": "white",
           "zerolinewidth": 2
          }
         }
        },
        "title": {
         "text": "Transactions vs Sales"
        },
        "xaxis": {
         "anchor": "y",
         "domain": [
          0,
          1
         ],
         "title": {
          "text": "Number of Transactions"
         }
        },
        "yaxis": {
         "anchor": "x",
         "domain": [
          0,
          1
         ],
         "title": {
          "text": "Sales"
         }
        }
       }
      }
     },
     "metadata": {},
     "output_type": "display_data"
    }
   ],
   "source": [
    "# Holiday Impact\n",
    "holiday_sales = train1.groupby('is_holiday')['sales'].mean().reset_index()\n",
    "fig = px.bar(holiday_sales, x='is_holiday', y='sales',\n",
    "             title='Average Sales: Holiday vs Non-Holiday',\n",
    "             labels={'is_holiday': 'Is Holiday', 'sales': 'Average Sales'},\n",
    "             color='is_holiday')\n",
    "fig.show()\n",
    "\n",
    "# Oil Price vs Sales\n",
    "daily_data = train1.groupby('date').agg({\n",
    "    'sales': 'sum',\n",
    "    'dcoilwtico': 'first'\n",
    "}).reset_index()\n",
    "\n",
    "fig = px.scatter(daily_data, x='dcoilwtico', y='sales',\n",
    "                 title='Oil Price vs Daily Sales',\n",
    "                 labels={'dcoilwtico': 'Oil Price', 'sales': 'Total Daily Sales'})\n",
    "fig.show()\n",
    "\n",
    "# Transactions vs Sales\n",
    "fig = px.scatter(train1.sample(1000), x='transactions', y='sales',\n",
    "                 title='Transactions vs Sales',\n",
    "                 labels={'transactions': 'Number of Transactions', 'sales': 'Sales'})\n",
    "fig.show()"
   ]
  },
  {
   "cell_type": "code",
   "execution_count": 100,
   "id": "3976117c",
   "metadata": {},
   "outputs": [
    {
     "data": {
      "image/png": "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",
      "text/plain": [
       "<Figure size 1500x600 with 2 Axes>"
      ]
     },
     "metadata": {},
     "output_type": "display_data"
    },
    {
     "data": {
      "image/png": "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",
      "text/plain": [
       "<Figure size 1200x600 with 1 Axes>"
      ]
     },
     "metadata": {},
     "output_type": "display_data"
    }
   ],
   "source": [
    "# Sales Distribution\n",
    "plt.figure(figsize=(15, 6))\n",
    "\n",
    "plt.subplot(1, 2, 1)\n",
    "sns.histplot(data=train1, x='sales', bins=50)\n",
    "plt.title('Distribution of Sales')\n",
    "plt.xlabel('Sales')\n",
    "plt.ylabel('Count')\n",
    "\n",
    "plt.subplot(1, 2, 2)\n",
    "sns.boxplot(data=train1, y='sales')\n",
    "plt.title('Sales Boxplot')\n",
    "plt.ylabel('Sales')\n",
    "\n",
    "plt.tight_layout()\n",
    "plt.show()\n",
    "\n",
    "# Log-transformed sales distribution\n",
    "plt.figure(figsize=(12, 6))\n",
    "sns.histplot(data=train1[train1['sales'] > 0], x='sales', log_scale=True)\n",
    "plt.title('Distribution of Sales (Log Scale)')\n",
    "plt.xlabel('Sales (log scale)')\n",
    "plt.ylabel('Count')\n",
    "plt.show()"
   ]
  },
  {
   "cell_type": "code",
   "execution_count": 103,
   "id": "dcaf990c",
   "metadata": {},
   "outputs": [
    {
     "data": {
      "image/png": "iVBORw0KGgoAAAANSUhEUgAABdEAAAJOCAYAAABYwk4SAAAAOnRFWHRTb2Z0d2FyZQBNYXRwbG90bGliIHZlcnNpb24zLjEwLjAsIGh0dHBzOi8vbWF0cGxvdGxpYi5vcmcvlHJYcgAAAAlwSFlzAAAPYQAAD2EBqD+naQAAuoJJREFUeJzs3QeYFFX29/E7ZEGJLkkRQRQURRAFMaAuKmZx0ZVgRlxBXcyuImDALCruksyuoAK6CkpQBHUUkJxEQVQkSFLCICK53ud3/+9tq3umh2amp7ur5vt5nqGo6jsz3dU11bdOnXtulud5ngEAAAAAAAAAALmUyL0JAAAAAAAAAAAIQXQAAAAAAAAAAOIgiA4AAAAAAAAAQBwE0QEAAAAAAAAAiIMgOgAAAAAAAAAAcRBEBwAAAAAAAAAgDoLoAAAAAAAAAADEQRAdAAAAAAAAAIA4CKIDAAAAAAAAABAHQXQAGen000+3X5kuKyvLPPDAA0X+ez777DP7u7R0tH+OPvpokwo//fST/f2vvfaaSbVUvs6ge+qpp0z9+vVNyZIlTdOmTU1Q8B4DAACH64BoXAfQR5RrrrnG7L///ul+GkCxRhAdQFIsWLDAXHrppaZu3bqmXLly5qCDDjJnnXWW+fe//22C4tBDD7UdRH2VKFHCVK5c2RxzzDHmhhtuMNOmTUva73nzzTfNc889ZzJRJj+3oubee32VKlXKVK1a1TRv3tz06NHDfPPNNybTffzxx+buu+82J598snn11VfNo48+mme77t272+N7w4YNUdu1ru1ly5Y127Zti3rsxx9/tPvlvvvuK9LXAAAAgofrgHD0tTP5uRU1995ff/31eT7es2fPSJtff/21yJ7H1q1b7Y0Z/w0TAJmjVLqfAIDgmzJlijnjjDPMIYccYrp27Wpq1qxpVqxYYb766ivTv39/c8stt5igUPbuHXfcYf//22+/mW+//daMHDnSvPjii+a2224zzzzzTFT7P/74wwZc97WD+vXXX5tbb7014e9p3bq1/V1lypQxRSnec9NFkX5/6dKlTZjpgu+qq64ynueZnJwcM2/ePPP666+bgQMHmieeeMLcfvvtJlNNmjTJXvS9/PLL+R4np5xyihk0aJCZPHmyufDCC6P+jvX9O3fuNDNnzrTtHLV13wsAAOBwHcB1QFjoBtC7775r+/2x+/qtt96yj8cmmhRFEP3BBx+0/w/CaAyguCGIDqDQHnnkEVOpUiUzY8YMm7Xht27dOhMkypy54oororYpeNqpUyfz7LPPmsMPP9x069Yt8pg6U0VJHTV14hTcLOrflR9lXaTz96fKEUcckev9f/zxx22wWRdVjRo1Muedd57JRPpb22+//fZ6geUC4V9++WVUEF2B8iZNmtiLJD3mD5hrXcfgSSedVISvAAAABA3XAUWH64DUOuecc8zo0aPNuHHjzMUXXxx1o2jp0qWmffv2NsgOoPiinAuAQvvhhx9M48aNc3WcpXr16lHrKjPx17/+1W5X2YijjjrKZsUmYvv27aZPnz6mQYMG9nvr1Kljy1dou9+ECRNsAFDPR3XjGjZsWKgyFApMvvHGG7a8hy4UlKUcrxaislaUvaEhoXqOep3Kbp49e3Yko2DMmDFm2bJlkSGBauuvd/j222+b+++/33bky5cvbzZv3pxnLURn1qxZNrip51mvXj0zePDgqMdVv1Dfq3qGfrE/M7/nFq8WorKfTz31VFOhQgW7v9XhVNaOn/aPvvf777+3tfzUThdb1157rc22SFR+r3PLli32Oaj0SqyVK1faGuGPPfaYKYhq1arZ90SZRnr/nR07dpjevXvbki96Pfr92heffvpppI2OFe1Df0fcf2Gk7/vHP/6R7+/ftWuXefjhh81hhx1mjyn9PB3P/uNe+1d/W7///nvkvYtXt1KZYvrbcdnljtZVCkb7OK/H/H/jif4tytChQ+0+0vumv6EOHTrYDLVEytPo+O/YsaPdBwAAIPNwHcB1QFiuA7TPlfWvjHy/YcOG2dI+8Wqza7SC6+seeOCB9kbMzz//nGc9c21v166d/f9f/vIXc+edd5rdu3dH9rO2ibLR3fsQW3c/v58BoGiRiQ6g0DTEb+rUqXb4394mflFHWR3tiy66yAYlP/jgA1ujec+ePeamm26K+316XN+jjFjVJjzyyCNt/UVlhXz33Xfm/ffft+0WLlxoLrjgAptR+9BDD9kOrDptsUHBfaVOyiWXXGJLZag+tl5DXm688UbzzjvvmJtvvtleGKxfv94+Z3UojzvuOFtPT2VC1KHTc3c/208BU2WdqEOkC4P8Mos3btxoM6P//ve/22DjiBEjbIaMvue6667bp9eYyHPz++STT8y5555rJ7JU504ZzKp9qUCsLhZcx9vRc1SnV51YPf7SSy/Ziwtl+OzN3l6ne3+GDx9uh9qqs+wffqkLns6dO5uCUuD5tNNOswFyXcxUrFjRLvUa9Hw0fFkXTjo+2rZta6ZPn26HBKvjq470k08+aWuO6wLM0bGvnxGb8RRLtRlVUka1RpUNr7qc2oc6pt577z3bRhd3L7zwgv29ek6SX9a4Li7/97//2eNLfyO6IaAMMu1TXdDoolT7TM9f+17HvI7tfflbFF1s9urVy75veh2//PKLPUZ0gTJnzpw8L7jlww8/tK/38ssvN6+88krU+wkAADIH1wF/4jog+NcBGnWgYLwC8/q5SuRQkFwlHfMq5aIbC7ohcMIJJ9jXtnbtWlvGSMdcbF9XgW5dJ7Rs2dI8/fTTdh/269fPJsro9Sggrr8R/V+v529/+5v9Ph3Pif4MAEXMA4BC+vjjj72SJUvar1atWnl3332399FHH3k7duzI1Xbr1q25trVt29arX79+1LbTTjvNfjlvvPGGV6JECe+LL76Iajd48GClg3iTJ0+2688++6xd/+WXX/b5ddStW9c7//zz4z7ufvaoUaMi27Tep0+fyHqlSpW8m266Kd/fo9+h3xXr008/tT9P+yJ2P7nHtHS0f7StX79+kW3bt2/3mjZt6lWvXj2y/1999VXbbunSpXv9mfGem75XbfWzHPd71q9fH9k2b948+z5dddVVkW3aP/re6667LupnXnLJJV61atXy3Vf78jp1zKnduHHjor6/SZMmUcdSPPre/N67Hj162DZ6jbJr1y77PPw2btzo1ahRI+q1Ll682H7foEGDotpedNFF3qGHHurt2bMn7u+cO3eu/d7rr78+avudd95pt0+aNCmy7eqrr/YqVKjgJWLAgAH2+93f09SpU+36smXLvG+++cb+f+HChfaxDz/80K4PGzZsn/4Wf/rpJ3tOeOSRR6LaLViwwCtVqlTUdr0/jRs3tv9/9913vdKlS3tdu3b1du/endDrAQAA6cF1ANcBYboO2LBhg1emTBl7zMmYMWO8rKws2691r8UdX/rdeg5HH32098cff0R+lus79+7dO6qfrm0PPfRQ1O9t1qyZ17x588i6fnbscbWvPwNA0aGcC4BC0zBFZaAoQ0QTMSrrVnfINSROdeX8NMzNUbaDZjdXhu+PP/5o1+NRBoCyTlSTWt/jvjQkVFwJDXe3f9SoUTZrJZlcNoYyjuPR71em8KpVqwr8e66++uqo/ZQfZfH4y4EoI0PrqkGpYY9FZfXq1Wbu3Ll2aKI/u1qZEjoexo4dm+t7XCazo+GfytBRNnYyXueZZ55pateubYdcOsqKmj9//l6zvQvy/ivLxWUH6VhTprmyVY4//vjIsF1XZ13ZIv7npbaqt6isGGV7x+P2Y+yEpm7SKw27LQh/XXRRtoz+XpVxr78xvacuayt2UtFE/xaV6a79oqwhfztNOKaaov6yN/5sIWWf670dMmSIrQEKAAAyF9cBf+I6IPjXAVWqVLG10dUnFZV20ehOjbiINXPmTPscNJrCXzP+/PPPt8dqXv30vPaDjv99kYyfAaBguDoFkBQawqagmYbbqaTEvffeazuZKsmgYY+OAnLq5LjaeRq25uoU5td5XrJkiR2iqfb+LwUo/RMXKQCnYYQqHVGjRg1bf1lD/pLRkdawPjnggAPittGFgzpsqtPYokULO7xxXzs1GuqYKHUWtS/93D6JrX2YTKqXKKozGUsXObqwUX1uPwVoYzupomMmGa9TAVcFpTWk19VYVEdandrLLrvMFMX7rzIrumDQ71DtdB2T6jDHHstXXXWVPfbdftPF4M6dO82VV16Z7+9Ue70u1f/0UyBafz/u5+0rDbfW9/sD5fq7EQX1W7VqFfWYjmf3/iX6t6h2SuxRwDy2rYY1x042pgmbdJGjSZs0HDi/mwsAACBzcB3wf7gOCMd1gEq6qLb+8uXL7c/T+r7uBwXRY/vpei6u5rl/PySyD5L5MwAUHDXRASSVMgPUkdaXOjeqEaeAoSYC0sRDbdq0sZ0K1atTB1Ptla2g2nv5dXD1mCZ00fflRT9LlLmRnZ1tM1IUzBw/frytj6dMFU1UWJjayuoUS2xA009Zt8oGUK1q/b6nnnrK1vrThYXqBiYi0eyTRMULRqZ6App4+94/QVNhKVitfa4Or2omKntEtTE1gVFh6f3Xa3AXN5owUxk4mtjnrrvusnUd3cRFOtb9dBF322232c68Lhb1vcpYz6vTnZdkB5R1oaFA+ZQpU+z+10Wtf9ItZdyoFrmrla7XuK9/i2qn562M+7ze+9g6m7Vq1bJfOh8os0f7BwAABAfXAVwHhOE6QKMqVE9fowJUl17vazIkY44f5gkC0osgOoAi44JgGvInmjxIHREN7fRnI+RV1iGWJkvREFF1vvcWUFSAUO30pc72o48+aifL0e9R9ktBs0/UIVYnXRkW+VEgUMP69KXMGE0kpAkWXec5mQFRDRdVpoc/O0MTLImb0MdlemzatCnqe/PKYk70ubkhjYsXL8712KJFi+zM9LEZI0X9Ol2GdbNmzWyw+uCDD7YZJMpqLiz9nM8//9wGnl0GkiaO0mRKujDy7zddKMbSUFcN7dTzUpaMgtbPPfdcQvtZF47KwPIfd5q0SO9nXkNLE6XyLApw6+9Rx6nLRHdBdP3N6MJWE0W5Ui778reodrow0k0Hly20t8waTSiqC10No9X+jjdxFwAAyGxcB3AdENTrAN3IUAKJkl70vun17G0/uNJCjrYVpJ/OSEwgs1HOBUChqVOaVxaBq4fnsm3dnXN/Ww3dfPXVV/f6O5QB8PPPP5sXX3wx12MK8rkhg6o1Hatp06Z2qY57Qejnq+yGfrY64flldMQORVV2soYg+n+3OoD5DVndF6rBrdrRjjKHta5hfs2bN49ceIgyc/zP9YUXXsj18xJ9brpA0H5VORN/p1xZOsq8Oe+880wyJfI6Hb1Xeg4KUqvESqKZP/HofVc2i/aZ3n8nr+NZdTBVFzQvel4a0qysdX2vstP3xu3H2IC7y8RSYL6gXGBcGVLly5eP/J2IhiCr/qSGJfvb7svf4t/+9jf7Oh988MFc5wetqw5mLGUKffTRR/bvRjU1YzP6AQBAZuE64P9wHRCu64A777zTJsb06tUr3xtFeo8HDx4c9R4rSUWlCwvST1efPK+bHgAyA5noAArtlltusbXnLrnkEjtEUx0blYnQ8EllB2gop5x99tl22OaFF15oJ4NRVoc6w+p8uCyVeNQhUk1DTaSizrqyZtUBVLaDtivwpo7MQw89ZDuJ6rTo7r8yQAYOHGizEfyBwHjUQVfWgej5KeipYahr1qyxkzn6J7WJpdqP+j2q/3jsscfachWffPKJLYfRr1+/SDt19rRvNFmkhruqnfZJQahjriCo6gEq21c/VxP9qGNcunRp20bZvCeeeKKtT6kLAGVFv/3227ZDGmtfnpuGS6pjquzsLl262IsMZXsoEKoakMmUyOt0VLfw7rvvthlD3bp1y/V4fpTVovdfF3ia6EhZT3r/dSwocK0MaUfDQ5WFruNex5tqeqsTfdRRR0XqZvqpjTrz+nnabzru90bHkYaS6nWqM63Jt1RrVBctypA544wzTEEpUK6/RwX9Tz/9dBs093fg9bv1mGqWKrNnX/8WddHWt29fe9zpfdPzVRa/9pPemxtuuMFeoMRSto/qUOrvVRljmvxUk5MBAIDMw3XA/+E6IPjXAX56D/WVH/1sPS8d4+qjK+lGo0X79+9vj32VcixIFryuJfQa9Vr1fqkf7u+LA0gjDwAKady4cd51113nNWrUyNt///29MmXKeA0aNPBuueUWb+3atVFtR48e7TVp0sQrV66cd+ihh3pPPPGE98orryglxVu6dGmk3WmnnWa//Hbs2GHbN27c2CtbtqxXpUoVr3nz5t6DDz7o5eTk2DYTJ070Lr74Yq927dr2eWjZsWNH77vvvtvr66hbt659HvrKysryKlasaH9X165dvWnTpuX5PWrbp08f+//t27d7d911l3fsscd6BxxwgFehQgX7/4EDB0Z9z5YtW7xOnTp5lStXtt+v3yuffvqpXR85cmSu3+Me09K/j/T8Zs6c6bVq1cruU/2s//znP7m+/4cffvDOPPNMu99q1Kjh3Xfffd6ECRNy/cx4z03vjdZfffXVqJ/7ySefeCeffLK333772f114YUXet98801UG+0ffe8vv/wStV0/K/Z9z8u+vE7nvPPOsz97ypQpXqLce6+vEiVK2H3QrFkzr0ePHt7ChQtztd+zZ4/36KOP2uei/aq2H374oXf11VdH9lus7t2725//5ptvJvy8du7caY/xevXqeaVLl/bq1Knj3Xvvvd62bdui2un36pjbF9qfej46HmL985//tI+de+65uR5L5G/Reffdd71TTjnFPjd96Txx0003eYsXL871Hvt9//33Xq1atbwjjzwy17EDAAAyA9cBXAeE5TpA/dP8xHstw4cPt9cB2r9Vq1b1Onfu7K1cuTKhfrr7mX563jq2dQz7j7F9+RkAikaW/klnEB8AgGRTNtSCBQvM999/bzKJMlJefvllm9HkhmsCAAAACPd1AIDgoyY6ACBUNCR4zJgxduhvJtm2bZsdIty+fXsC6AAAAEAxuQ4AEA7URAcAhIJqbU+ePNm89NJLtkZhfnUrU0n1OFUT85133rGTafbo0SPdTwkAAAAIjUy9DgAQLgTRAQCh8Pnnn9uJfQ455BA78WbNmjVNJtCkVJ07d7YTZz3//POmadOm6X5KAAAAQGhk6nUAgHChJjoAAAAAAAAAAHFQEx0AAAAAAAAAgDgIogMAAAAAAAAAEAc10VNoz549ZtWqVeaAAw4wWVlZ6X46AAAASBNXUbFixYr0C9OAfjkAAABcv/y3334ztWvXNiVKxM83J4ieQuqo16lTJ91PAwAAABkiJyfHBtKRWvTLAQAA4LdixQpz8MEHx32cIHoKKdPFvSlcLAEAABRfmzdvJoibRvTLAQAA4O+Xu/5hPATRU8gNFVVHnc46AAAAkB70ywEAAOC3txJ/TCwKAAAAAAAAAEAcBNEBAAAAAAAAAIiDIDoAAAAAAAAAAHEQRAcAAAAAAAAAIA6C6AAAAAAAAAAAxEEQHQAAAAAAAACAOAiiAwAAAAAAAAAQB0F0AAAAAAAAAADiIIgOAAAAAAAAAEAcBNEBAAAAAAAAAIiDIDoAAAAAAAAAAHEQRAcAAAAAAAAAIA6C6AAAAAAAAAAAxFEq3gOA7N6928yfP99s2LDBVK1a1TRp0sSULFky3U8LAAAAAFCMca0KAEglguiIKzs72wwcONCsWbMmsq1mzZqme/fupnXr1ml9bgAAAACA4olrVQBAqlHOBXE7JX369DH169c3AwYMMGPHjrVLrWu7HgcAAAAAIJW4VgUApEOW53leWn5zMbR582ZTqVIlk5OTYypWrGgyeVhc586dbSekb9++pkSJP++17Nmzx9x///1m6dKlZujQoQyXAwAACHG/MKzY/0Awca0KAEhXv5BMdOSiunIaFqfOib9TIlrX9tWrV9t2AAAAAACkAteqAIB0IYiOXDQxi9SrVy/Px9121w4AAAAAgKLGtSoAIF0IoiMXzWwuGgaXF7fdtQMAAAAAoKhxrQoASBeC6MilSZMmdmbzYcOG2bpyflrX9lq1atl2AAAAAACkAteqAIB0IYiOXDQBS/fu3c3UqVPtxCwLFy40W7dutUuta3u3bt2YqAUAAAAAkDJcqwIA0iXL8zwvbb+9mEl0ttdMkZ2dbQYOHGgnbnF0V1+dktatW6f1uQEAAARZ0PqFYcP+B4KNa1UAQKr7hQTRUyiInfXdu3fbmc01MYvqymlYHHf1AQAAil+/MEzY/0Dwca0KAEhlv7BUUn4bQkudkGbNmqX7aQAAAAAAEMG1KgAglaiJDgAAAAAAAABAHATRAQAAAAAAAACIgyA6AAAAAAAAAABxEEQHAAAAAAAAACATg+jZ2dnmwgsvNLVr1zZZWVnm/fffjzy2c+dOc88995hjjjnGVKhQwba56qqrzKpVq6J+hmbi7ty5s509tXLlyqZLly5my5YtUW00Y/epp55qypUrZ+rUqWOefPLJXM9l5MiRplGjRraNfufYsWOjHvc8z/Tu3dvUqlXL7LfffubMM880S5YsSfo+AQAAANKBvjkAAACQgUH033//3Rx77LFmwIABuR7bunWrmT17tunVq5dd/u9//zOLFy82F110UVQ7ddIXLlxoJkyYYD788EPb+b/hhhsij2/evNmcffbZpm7dumbWrFnmqaeeMg888IB54YUXIm2mTJliOnbsaDv5c+bMMe3atbNfX3/9daSNOvfPP/+8GTx4sJk2bZq9eGjbtq3Ztm1bke0fAAAAIFXomwMAAAB5y/KUxpEBlO3y3nvv2Q5yPDNmzDAtWrQwy5YtM4cccoj59ttvzVFHHWW3H3/88bbN+PHjzXnnnWdWrlxpM2QGDRpkevbsadasWWPKlClj2/zrX/+ymTWLFi2y65dffrm9aFBH3znxxBNN06ZNbcdcu0g/64477jB33nmnfTwnJ8fUqFHDvPbaa6ZDhw4JvUZdNFSqVMl+r7JzAAAAUDxler8w7H3zTN//AAAASI1E+4WBqomuF6MOvYaGytSpU+3/XSddNJSzRIkSNiPFtWndunWkky7KUlHmzMaNGyNt9H1+aqPtsnTpUtvR97fRzm3ZsmWkTV62b99u3wj/FwAAABAGQeqb0y8HAABAYQQmiK6hmarDqKGd7q6AOs/Vq1ePaleqVClTtWpV+5hro6wUP7e+tzb+x/3fl1ebvDz22GO2Q+++VPMRAAAACLqg9c3plwMAACD0QXRNZPT3v//dDt3UENCguPfee22GjvtasWJFup8SAAAAUOz65vTLAQAAUBilTEA66aq1OGnSpKjaNDVr1jTr1q2Lar9r1y6zYcMG+5hrs3bt2qg2bn1vbfyPu221atWKaqPajPGULVvWfgEAAABhENS+Of1yAAAAhDYT3XXSlyxZYj755BNTrVq1qMdbtWplNm3aZGbNmhXZps78nj17bE1E1yY7O9v+LGfChAmmYcOGpkqVKpE2EydOjPrZaqPtUq9ePdtZ97dRHUXVdnRtAAAAgDCjbw4AAIDiKq1B9C1btpi5c+faLzdJkP6/fPly27G+9NJLzcyZM82wYcPM7t27bY1Dfe3YscO2P/LII80555xjunbtaqZPn24mT55sbr75ZtOhQwdTu3Zt26ZTp0524qIuXbqYhQsXmuHDh5v+/fub22+/PfI8evToYcaPH2/69etnFi1aZB544AH7e/WzRBMm3XrrraZv375m9OjRZsGCBeaqq66yv6Ndu3Zp2XcAAABAMtE3BwAAAOLw0ujTTz/19BRiv66++mpv6dKleT6mL32fs379eq9jx47e/vvv71WsWNG79tprvd9++y3q98ybN8875ZRTvLJly3oHHXSQ9/jjj+d6LiNGjPCOOOIIr0yZMl7jxo29MWPGRD2+Z88er1evXl6NGjXsz2nTpo23ePHifXq9OTk59vlrCQAAgOIrE/uFxalvnon7HwAAAKmXaL8wS//EC7AjuTTMtFKlSnYyI3/9SAAAABQv9AvTi/0PAACAfekXZnRNdAAAAAAAAAAA0okgOgAAAAAAAAAAcRBEBwAAAAAAAAAgDoLoAAAAAAAAAADEQRAdAAAAAAAAAIA4CKIDAAAAAAAAABAHQXQAAAAAAAAAAOIgiA4AAAAAAAAAQBwE0QEAAAAAAAAAiIMgOgAAAAAAAAAAcRBEBwAAAAAAAAAgDoLoAAAAAAAAAADEQRAdAAAAAAAAAIA4CKIDAAAAAAAAABAHQXQAAAAAAAAAAOIgiA4AAAAAAAAAQBwE0QEAAAAAAAAAiIMgOgAAAAAAAAAAcRBEBwAAAAAAAAAgDoLoAAAAAAAAAADEQRAdAAAAAAAAAIA4CKIDAAAAAAAAABAHQXQAAAAAAAAAAOIgiA4AAAAAAAAAQBwE0QEAAAAAAAAAiIMgOgAAAAAAAAAAcRBEBwAAAAAAAAAgDoLoAAAAAAAAAADEQRAdAAAAAAAAAIA4CKIDAAAAAAAAABAHQXQAAAAAAAAAAOIgiA4AAAAAAAAAQBwE0QEAAAAAAAAAiIMgOgAAAAAAAAAAcRBEBwAAAAAAAAAgDoLoAAAAAAAAAADEQRAdAAAAAAAAAIA4CKIDAAAAAAAAABAHQXQAAAAAAAAAAOIgiA4AAAAAAAAAQBwE0QEAAAAAAAAAiIMgOgAAAAAAAAAAcRBEBwAAAAAAAAAgDoLoAAAAAAAAAADEQRAdAAAAAAAAAIA4CKIDAAAAAAAAABAHQXQAAAAAAAAAAOIgiA4AAAAAAAAAQBwE0QEAAAAAAAAAiIMgOgAAAAAAAAAAcRBEBwAAAAAAAAAgDoLoAAAAAAAAAADEQRAdAAAAAAAAAIA4CKIDAAAAAAAAABAHQXQAAAAAAAAAADIxiJ6dnW0uvPBCU7t2bZOVlWXef//9qMc9zzO9e/c2tWrVMvvtt58588wzzZIlS6LabNiwwXTu3NlUrFjRVK5c2XTp0sVs2bIlqs38+fPNqaeeasqVK2fq1KljnnzyyVzPZeTIkaZRo0a2zTHHHGPGjh27z88FAAAACCr65gAAAEAGBtF///13c+yxx5oBAwbk+bg61M8//7wZPHiwmTZtmqlQoYJp27at2bZtW6SNOukLFy40EyZMMB9++KHt/N9www2Rxzdv3mzOPvtsU7duXTNr1izz1FNPmQceeMC88MILkTZTpkwxHTt2tJ38OXPmmHbt2tmvr7/+ep+eCwAAABBU9M0BAACAOLwMoafy3nvvRdb37Nnj1axZ03vqqaci2zZt2uSVLVvWe+utt+z6N998Y79vxowZkTbjxo3zsrKyvJ9//tmuDxw40KtSpYq3ffv2SJt77rnHa9iwYWT973//u3f++edHPZ+WLVt6//jHPxJ+LonIycmxz1dLAAAAFF+Z3i8Me9880/c/AAAAUiPRfmHG1kRfunSpWbNmjR2a6VSqVMm0bNnSTJ061a5rqWGixx9/fKSN2pcoUcJmpLg2rVu3NmXKlIm0UZbK4sWLzcaNGyNt/L/HtXG/J5Hnkpft27fbbBv/FwAAABA0Qe+b0y8HAABAYWRsEF0dY6lRo0bUdq27x7SsXr161OOlSpUyVatWjWqT18/w/454bfyP7+255OWxxx6zHXr3pZqPAAAAQNAEvW9OvxwAAAChDKKHwb333mtycnIiXytWrEj3UwIAAACKHfrlAAAACGUQvWbNmna5du3aqO1ad49puW7duqjHd+3aZTZs2BDVJq+f4f8d8dr4H9/bc8lL2bJlTcWKFaO+AAAAgKAJet+cfjkAAABCGUSvV6+e7QRPnDgxsk21C1VPsVWrVnZdy02bNplZs2ZF2kyaNMns2bPH1kR0bbKzs83OnTsjbSZMmGAaNmxoqlSpEmnj/z2ujfs9iTwXAAAAIKzomwMAAKA4S2sQfcuWLWbu3Ln2y00SpP8vX77cZGVlmVtvvdX07dvXjB492ixYsMBcddVVpnbt2qZdu3a2/ZFHHmnOOecc07VrVzN9+nQzefJkc/PNN5sOHTrYdtKpUyc7cVGXLl3MwoULzfDhw03//v3N7bffHnkePXr0MOPHjzf9+vUzixYtMg888ICZOXOm/VmSyHMBAAAAgoy+OQAAABCHl0affvqpp6cQ+3X11Vfbx/fs2eP16tXLq1Gjhle2bFmvTZs23uLFi6N+xvr1672OHTt6+++/v1exYkXv2muv9X777beoNvPmzfNOOeUU+zMOOugg7/HHH8/1XEaMGOEdccQRXpkyZbzGjRt7Y8aMiXo8keeyNzk5Ofb1aQkAAIDiKxP7hcWpb56J+x8AAACpl2i/MEv/xAuwI7k0zLRSpUp2MiPqMAIAABRf9AvTi/0PAACAfekXZmxNdAAAAAAAAAAA0o0gOgAAAAAAAAAAcRBEBwAAAAAAAAAgDoLoAAAAAAAAAADEQRAdAAAAAAAAAIA4CKIDAAAAAAAAABAHQXQAAAAAAAAAAOIgiA4AAAAAAAAAQBwE0QEAAAAAAAAAiIMgOgAAAAAAAAAAcRBEBwAAAAAAAAAgDoLoAAAAAAAAAADEQRAdAAAAAAAAAIA4CKIDAAAAAAAAABAHQXQAAAAAAAAAAOIgiA4AAAAAAAAAQBwE0QEAAAAAAAAAiIMgOgAAAAAAAAAAcRBEBwAAAAAAAAAgDoLoAAAAAAAAAADEQRAdAAAAAAAAAIA4CKIDAAAAAAAAABBHqXgPAACAYNu9e7eZP3++2bBhg6latapp0qSJKVmyZLqfFgAAAACkFNdGKCyC6AAAhFB2drYZOHCgWbNmTWRbzZo1Tffu3U3r1q3T+twAAAAAIFW4NkIyUM4FAIAQdhL79Olj6tevbwYMGGDGjh1rl1rXdj0OAAAAAGHHtRGSJcvzPC9pPw352rx5s6lUqZLJyckxFStWTPfTAQCEdJhi586dbaewb9++pkSJP++X79mzx9x///1m6dKlZujQoQxfBNKIfmF6sf8BAAg/ro2QzH4hmegAAISI6vxpmKI6i/5Oomhd21evXm3bAQAAAEBYcW2EZCKIDgBAiGiiHKlXr16ej7vtrh0AAAAAhBHXRkgmgugAAISIZpoXDUvMi9vu2gEAAABAGHFthGQiiA4AQIg0adLEzjQ/bNgwW+fPT+vaXqtWLdsOAAAAAMKKayMkE0F0AEDK7Nixw4wcOdL079/fLrWO5NKEON27dzdTp061E+UsXLjQbN261S61ru3dunVj4hwAAIoJ+l8AiiuujZBMWZ7neUn9iSj0bK8AEEaDBw+2F26aId1RZ+Wyyy4zN954Y1qfWxhlZ2ebgQMH2ol0HGVZqJPYunXrtD43APQL0439j+KC/hcAcG2E5PQLS+3l5wAAkJQLuLfffttUqVLFdOnSxbRq1cre9X/55ZftduFCLrnUGTz55JPtTPOaKEd1/jRMkSwLAACKB/pfAPB/uDZCMpCJnkJkvAAojjRk+Nxzz7XnPWVClSr15/3bXbt22UwonR/HjRtnypQpk9bnCgCpQr8wvdj/CDv6XwAAJLdfSE10AECRGjVqlB1CrAwo/wWcaP26666zj6sdAAAACo/+FwAAyUUQHQBQpFatWmWXGkKcF7fdtQMAAEDh0P8CACC5CKIDAIpU7dq17VI1OPPitrt2AAAAKBz6XwAAJBdBdABAkbr44ovthC2axEo1OP20/sorr9jH1Q4AAACFR/8LAIDkIogOAChSmqxKk1dt3LjRLj/44APz66+/2qV/O5NaAQAAJAf9LwAAkit6hhEAAIrAjTfeaJcjR440/fr1i2xXBlSHDh0ijwMAACA56H8BAJA8WZ7neUn8ecjH5s2bTaVKlUxOTo6pWLFiup8OAKTcjh07zKhRo+wkVqrBqSHEZEABKI7oF6YX+x/FCf0vAAAK3y8kEx0AkPKhxQAAAEgN+l8AABQeNdEBAAAAAAAAAIiDIDoAAAAAAAAAAHEQRAcAAAAAAAAAIA6C6AAAAAAAAAAAxEEQHQAAAAAAAACAOAiiAwAAAAAAAAAQB0F0AAAAAAAAAADiIIgOAAAAAAAAAEAcBNEBAAAAAAAAAIiDIDoAAAAAAAAAAHEQRAcAAAAAAAAAIA6C6AAAAAAAAAAABDGIvnv3btOrVy9Tr149s99++5nDDjvMPPzww8bzvEgb/b93796mVq1ats2ZZ55plixZEvVzNmzYYDp37mwqVqxoKleubLp06WK2bNkS1Wb+/Pnm1FNPNeXKlTN16tQxTz75ZK7nM3LkSNOoUSPb5phjjjFjx44twlcPAAAAZA765gAAACiuMjqI/sQTT5hBgwaZ//znP+bbb7+16+pA//vf/4600frzzz9vBg8ebKZNm2YqVKhg2rZta7Zt2xZpo076woULzYQJE8yHH35osrOzzQ033BB5fPPmzebss882devWNbNmzTJPPfWUeeCBB8wLL7wQaTNlyhTTsWNH28mfM2eOadeunf36+uuvU7hHAAAAgPSgbw4AAIDiKsvzp45kmAsuuMDUqFHDvPzyy5Ft7du3t1ktQ4cOtZkutWvXNnfccYe588477eM5OTn2e1577TXToUMH28E/6qijzIwZM8zxxx9v24wfP96cd955ZuXKlfb7dTHQs2dPs2bNGlOmTBnb5l//+pd5//33zaJFi+z65Zdfbn7//Xfb0XdOPPFE07RpU3uRkAhdEFSqVMk+R2XeAAAAoHgKYr8wTH3zIO5/AAAAJF+i/cKMzkQ/6aSTzMSJE813331n1+fNm2e+/PJLc+6559r1pUuX2s61hok6etEtW7Y0U6dOtetaapio66SL2pcoUcJmx7g2rVu3jnTSRRkzixcvNhs3boy08f8e18b9HgAAACDM6JsDAACguCplMpgyTnQ3QLUOS5YsaeswPvLII3YIqKiTLspu8dO6e0zL6tWrRz1eqlQpU7Vq1ag2qu0Y+zPcY1WqVLHL/H5PXrZv326/HL0WAAAAIIiC3DenXw4AAIDCyOhM9BEjRphhw4aZN99808yePdu8/vrr5umnn7bLIHjsscds9o370qRIAAAAQBAFuW9OvxwAAAChDaLfddddNuNF9ROPOeYYc+WVV5rbbrvNdoKlZs2adrl27dqo79O6e0zLdevWRT2+a9cus2HDhqg2ef0M/++I18Y9npd7773X1tNxXytWrCjwvgAAAADSKch9c/rlAAAACG0QfevWrbY+op+Gju7Zs8f+X8M81VFWbUb/0EzVU2zVqpVd13LTpk1m1qxZkTaTJk2yP0P1GV2b7Oxss3PnzkibCRMmmIYNG9rhoq6N//e4Nu735KVs2bK2IL3/CwAAAAiiIPfN6ZcDAAAgtEH0Cy+80NZZHDNmjPnpp5/Me++9Z5555hlzySWX2MezsrLMrbfeavr27WtGjx5tFixYYK666ipTu3Zt065dO9vmyCOPNOecc47p2rWrmT59upk8ebK5+eabbQaN2kmnTp3sxEVdunQxCxcuNMOHDzf9+/c3t99+e+S59OjRw4wfP97069fPLFq0yDzwwANm5syZ9mcBAAAAYUffHAAAAMWWl8E2b97s9ejRwzvkkEO8cuXKefXr1/d69uzpbd++PdJmz549Xq9evbwaNWp4ZcuW9dq0aeMtXrw46uesX7/e69ixo7f//vt7FStW9K699lrvt99+i2ozb94875RTTrE/46CDDvIef/zxXM9nxIgR3hFHHOGVKVPGa9y4sTdmzJh9ej05OTmedrmWAAAAKL6C2C8MU988iPsfAAAAyZdovzBL/6Q7kF9caDirJjJSHUaGkAIAABRf9AvTi/0PAACAfekXZnQ5FwAAAAAAAAAA0okgOgAAAAAAAAAAcZSK9wAgu3fvNvPnzzcbNmwwVatWNU2aNDElS5ZM99MCAAAAACSAazoAAAqPIDriys7ONgMHDjRr1qyJbKtZs6bp3r27ad26dVqfGwAAAAAgf1zTAQCQHJRzQdzOVp8+fUz9+vXNgAEDzNixY+1S69quxwEAAAAAmYlrOgAAkifL8zwviT8PSZjtNROG+3Xu3Nl2rvr27WtKlPjzXsuePXvM/fffb5YuXWqGDh3KMEAAAIAQ9wvDiv2PsOOaDgCA5PYLyURHLqqXp+F+6nT5O1uidW1fvXq1bQcAAAAAyCxc0wEAkFwE0ZGLJpyRevXq5fm42+7aAQAAAAAyB9d0AAAkF0F05KIZ20XD+/Litrt2AAAAAIDMwTUdAADJRRAduTRp0sTO2D5s2DBbL89P69peq1Yt2w4AAAAAkFm4pgMAILkIoiMXTSzTvXt3M3XqVDvhzMKFC83WrVvtUuva3q1bNyagAQAAAIAMxDUdAADJleV5npfkn4lCzvaaKbKzs83AgQPthDSOshXU2WrdunVanxsAAECQBa1fGDbsfxQXXNMBAJCcfiFB9BQKYmd99+7ddsZ2TTijenka7ke2AgAAQPHrF4YJ+x/FCdd0AAAUvl9YKp+fAdjOVbNmzdL9NAAAAAAABcA1HQAAhUdNdAAAAAAAAAAA4iCIDgAAAAAAAABAHATRAQAAAAAAAACIgyA6AAAAAAAAAABxEEQHAAAAAAAAACAOgugAAAAAAAAAAMRBEB0AAAAAAAAAgDgIogMAAAAAAAAAEAdBdAAAAAAAAAAA4iCIDgAAAAAAAABAHATRAQAAAAAAAACIgyA6AAAAAAAAAABxEEQHAAAAAAAAACAOgugAAAAAAAAAAMRBEB0AAAAAAAAAgDgIogMAAAAAAAAAEAdBdAAAAAAAAAAA4iCIDgAAAAAAAABAHATRAQAAAAAAAACIgyA6AAAAAAAAAABxEEQHAAAAAAAAACAOgugAAAAAAAAAAMRBEB0AAAAAAAAAgGQG0VesWGFWrlwZWZ8+fbq59dZbzQsvvFCQHwcAAACgAOiXAwAAABkaRO/UqZP59NNP7f/XrFljzjrrLNth79mzp3nooYeS/RwBAAAA5IF+OQAAAJChQfSvv/7atGjRwv5/xIgR5uijjzZTpkwxw4YNM6+99lqynyMAAACAPNAvBwAAADI0iL5z505TtmxZ+/9PPvnEXHTRRfb/jRo1MqtXr07uMwQAAACQJ/rlAAAAQIYG0Rs3bmwGDx5svvjiCzNhwgRzzjnn2O2rVq0y1apVS/ZzBAAAAJAH+uUAAABAhgbRn3jiCTNkyBBz+umnm44dO5pjjz3Wbh89enRkOCkAAACAokW/HAAAACh6WZ7neQX5xt27d5vNmzebKlWqRLb99NNPpnz58qZ69erJfI6hof1VqVIlk5OTYypWrJjupwMAAIAQ9Avpl+87+uUAAADYl35hKVNAir3PmjXL/PDDD6ZTp07mgAMOMGXKlLGddQAFvwieP3++2bBhg6latapp0qSJKVmyZLqfFgAAyGD0ywHkh2sMAAAKr0BB9GXLltl6i8uXLzfbt283Z511lu2sazip1lWXEcC+yc7ONgMHDjRr1qyJbKtZs6bp3r27ad26dVqfGwAAyEz0ywHkh2sMAADSWBO9R48e5vjjjzcbN240++23X2T7JZdcYiZOnJikpwYUr85tnz59TP369c2AAQPM2LFj7VLr2q7HAQAAYtEvBxAP1xgAACRPgWqiV6tWzUyZMsU0bNjQZrrMmzfPfhCr9uJRRx1ltm7dmsSnGB7UXkS84ZWdO3e2f0N9+/Y1JUr8eW9rz5495v777zdLly41Q4cOZdglAAAhkax+If3ygqFfjrDjGgMAgOT2CwuUia4PXX0ox1q5cqXtvANInOoTanilOrn+zq1oXdtXr15t2wEAAPjRLweQF64xAABIrgIF0c8++2zz3HPPRdazsrLMli1b7JCw8847L5nPDwg9TfAj9erVy/Nxt921AwAAcOiXA8gL1xgAAGRAEL1fv35m8uTJdojotm3bTKdOncyhhx5qfv75ZzuJEYDEVa1a1S41nDIvbrtrBwAA4NAvB5AXrjEAAEiuUgX5poMPPtjWW3z77bft8C9lu3Tp0sUOCfNPaARg75o0aWJq1qxphg0blme9Qm2vVauWbQcAAOBHvxxAXrjGAAAgAyYWRcEwgRHiyc7OtsOuW7VqZS96NbxS2SHq3E6dOtU8+OCDpnXr1ul+mgAAIEnoF6YX+x/FAdcYAAAkr1+YcBB99OjRJlEXXXRRwm2LEzrr2Fsnd+DAgXYCIEfZId26daNzCwBAyBSmX0i/vPDol6O44BoDAIAUB9FjZ/SO+wOzsszu3bsTalvc0FnH3uhvR0OxNcGP6hNqeGXJkiXT/bQAAEAG9Qvplxce/XIUJ1xjAABQ+H5hwhOLqm5aIl/J7qhrUqQrrrjCVKtWzdZ1POaYY8zMmTMjj+seQO/eve3ddD1+5plnmiVLlkT9DHUWNHxNO6Jy5cq2TqTqRfqpU3HqqaeacuXKmTp16pgnn3wy13MZOXKkadSokW2j5zF27NikvlZAndlmzZqZNm3a2CWdWwAAkCn9cqFvDgQP1xgAABRewkH0dNi4caM5+eSTTenSpc24cePMN998Y/r162eqVKkSaaMO9fPPP28GDx5spk2bZipUqGDatm1rtm3bFmmjTvrChQvNhAkTzIcffmiHtN1www1RdxzOPvtsU7duXTNr1izz1FNPmQceeMC88MILkTZTpkwxHTt2tJ38OXPmmHbt2tmvr7/+OoV7BAAAAEgP+uYAAAAorgo8sejvv/9uPv/8c7N8+XKzY8eOqMf++c9/JuXJ/etf/zKTJ082X3zxRZ6P66nXrl3b3HHHHebOO++025R6X6NGDfPaa6+ZDh06mG+//dYcddRRZsaMGeb444+3bcaPH2/OO+88s3LlSvv9gwYNMj179rR14sqUKRP53e+//75ZtGiRXb/88svta1ZH3znxxBNN06ZN7UVCIhg2CgAAgGT3C1PRLw9b35x+OQAAAIqknIufsj0aNGhgsz9uvvlm07dvX3Prrbea++67zzz33HMmWTRpkjrXl112malevbodevbiiy9GHtfM4upca5iooxfdsmVLO9u4aKlhoq6TLmqvWpLKjnFtNKmK66SLMmYWL15sM25cG//vcW3c7wEAAABSLVX9cqFvDgAAgOKqQEH02267zVx44YW2E6tah1999ZVZtmyZad68uXn66aeT9uR+/PFHm4ly+OGHm48++sjOIK5smtdff90+7mYYV3aLn9bdY1qqk+9XqlQpO6GKv01eP8P/O+K18c9yHmv79u32bob/CwAAAEiWVPXLg943p18OAACAlAfR586da4dpKmNEk5KoU+om/FHWS7JoQqTjjjvOPProozbTRbUSu3btmnD5lHR77LHHbPaN+9I+AgAAAJIlVf3yoPfN6ZcDAAAg5UF0TSakjrook0T1F0Ud0hUrVphkqVWrlq2Z6HfkkUdGfl/NmjXtcu3atVFttO4e03LdunVRj+/atcts2LAhqk1eP8P/O+K1cY/n5d5777X1dNxXMvcNAAAAkKp+edD75vTLAQAAkPIgujJPNBmQnHbaaaZ3795m2LBhtv7i0UcfbZLl5JNPtrUP/b777jtTt25d+/969erZjvLEiRMjj2topuoptmrVyq5ruWnTJjNr1qxIm0mTJtlMGtVndG2ys7PNzp07I20mTJhgGjZsaKpUqRJp4/89ro37PXkpW7asLUjv/wIAAACSJVX98qD3zemXAwAAoFC8ApgxY4Y3adIk+/+1a9d6bdu29Q444ACvefPm3pw5c7xkmT59uleqVCnvkUce8ZYsWeINGzbMK1++vDd06NBIm8cff9yrXLmyN2rUKG/+/PnexRdf7NWrV8/7448/Im3OOeccr1mzZt60adO8L7/80jv88MO9jh07Rh7ftGmTV6NGDe/KK6/0vv76a+/tt9+2v2fIkCGRNpMnT7bP5emnn/a+/fZbr0+fPl7p0qW9BQsWJPx6cnJyPO1yLQEAAFB8JatfmKp+edj65vTLAQAAsC/9wgIF0bdu3er9/vvvkfWlS5d6zzzzjDd+/Hgv2T744APv6KOP9sqWLes1atTIe+GFF6Ie37Nnj9erVy/b0VabNm3aeIsXL45qs379etsx33///b2KFSt61157rffbb79FtZk3b553yimn2J9x0EEH2QuAWCNGjPCOOOIIr0yZMl7jxo29MWPG7NNrobMOAACAZPYLU9kvD1PfnH45AAAA9qVfmKV/9jV7/eyzzzZ/+9vfzI033miHYzZq1MjWY/z111/NM888Y7p161a49PiQ0nBW1adUHUaGkAIAABRfyeoX0i8vGPrlAAAA2Jd+YYFqos+ePduceuqp9v/vvPOOqVGjhlm2bJn573//a55//vmC/EgAAAAA+4h+OQAAAFD0ChRE37p1qznggAPs/z/++GOb/VKiRAlz4okn2k47AAAAgKJHvxwAAADI0CB6gwYNzPvvv29WrFhhPvroIzuMVNatW8dwSAAAACBF6JcDAAAARa9AQfTevXubO++80xx66KGmZcuWplWrVpHsl2bNmiX7OQIAAADIA/1yAAAAoOgVaGJRWbNmjVm9erU59thj7ZBRmT59us140YRGyI0JjAAAAJDsfiH98n1HvxwAAAD70i8sZQqoZs2a9suvRYsWBf1xAAAAAAqAfjkAAACQgeVcAAAAAAAAAAAoDgiiAwAAAAAAAAAQB0F0AAAAAAAAAACSXRMdAIB9tWPHDjNq1CizatUqU7t2bXPxxRebMmXKpPtpAQAAhBb9LwAACo8gOgAgJQYPHmxGjhxpdu/eHbXtsssuMzfeeGNanxsAAEAY0f8CACA5CKIDAIqcLtbefvttU6VKFdOlSxfTqlUrM3XqVPPyyy/b7cKFHAAAQPLQ/wIAIHmyPM/zkvjzkI/NmzebSpUqmZycHFOxYsV0Px0ASNkQ4nPPPdee95QJVarUn/dvd+3aZTOhdH4cN24cQ4sBFBv0C9OL/Y+wo/8FAEBy+4VMLAoAKFKqwakhxMqA8l/Aidavu+46+7jaAQAAoPDofwEAkFwE0QEARUqTWImGEOfFbXftAAAAUDj0vwAASC6C6ACAIlW7dm27VA3OvLjtrh0AAAAKh/4XAADJRRAdAFCkLr74YlOyZEk7iZVqcPpp/ZVXXrGPqx0AAAAKj/4XAADJRRAdAFCkNFmVJq/auHGjXX7wwQfm119/tUv/dia1AgAASA76XwAAJFf0DCMAABSBG2+80S5Hjhxp+vXrF9muDKgOHTpEHgcAAEBy0P8CACB5sjzP85L485CPzZs3m0qVKpmcnBxTsWLFdD8dAEi5HTt2mFGjRtlJrFSDU0OIyYACUBzRL0wv9j+KE/pfAAAUvl9IJjoAIOVDiwEAAJAa9L8AACg8aqIDAAAAAAAAABAHQXQAAAAAAAAAAOIgiA4AAAAAAAAAQBwE0QEAAAAAAAAAiIMgOgAAAAAAAAAAcRBEBwAAAAAAAAAgDoLoAAAAAAAAAADEQRAdAAAAAAAAAIA4CKIDAAAAAAAAABAHQXQAAAAAAAAAAOIgiA4AAAAAAAAAQBwE0QEAAAAAAAAAiIMgOgAAAAAAAAAAcZSK9wCA1Nu9e7eZP3++2bBhg6latapp0qSJKVmyZLqfFgAAAAAAADIIMaTUIogOZIjs7GwzcOBAs2bNmsi2mjVrmu7du5vWrVun9bkBAAAAAAAgMxBDSj3KuQAZcvLr06ePqV+/vhkwYIAZO3asXWpd2/U4AAAAAAAAijdiSOmR5Xmel6bfXexs3rzZVKpUyeTk5JiKFSuaIGBoSGr2cefOne3Jrm/fvqZEiT/vbe3Zs8fcf//9ZunSpWbo0KHsewAAQiKI/cIwYf8DAIAgKg4xpN0pjkUm2i+knAviYmhIaujEoH3cq1evqJOfaF0nx5tuusm2a9asWdqeJwAAAAAAANIn7DGk7AyORVLOBXliaEjq6M6a1KtXL8/H3XbXDgAAAAAAAMVPmGNI2RkeiySIjjyHTeiuT6tWrezQkMaNG5vy5cvbpda1fdCgQbYdCk9DU0TDbfLitrt2AAAAAAAAKH7CGkPaHYBYJEF0xB0aoiEg8YaGrF692rZD4am2k4amDBs2zNav8tO6tteqVcu2AwAAAAAAQPEU1hjS/ADEIgmio1gNDclEmhxBtZ2mTp1qJ4BYuHCh2bp1q11qXdu7desW2AkhAAAAAAAAUHhhjSFtCEAskolFke/QEA2bCMvQkEymyREefPBBO3RFE0A4unuo7emePAEAAAAAAADpF8YYUtUAxCIJoiPfoSGqO+QfRhHkoSGZTie5k08+2Q5N0Z01nRi0j4N29xAAAAAAAABFJ2wxpCYBiEVSzgXFZmhIEGifNmvWzLRp08Yu2ccAAAAAAAAIcwypZABikVme53lp++3FzObNm02lSpVMTk6OqVixosl02dnZdmiICvs7uuujgzaIQ0MAAAAyRdD6hWHD/gcAAMg82WmIRSbaLySInkJB7Kzv3r07NENDAAAAMkUQ+4Vhwv4HAADITLtTHItMtF9ITXQkNDQEAAAAAAAAAIpjLJKa6AAAAAAAAAAAxEEQHQAAAAAAAACAOAiiAwAAAAAAAAAQB0F0AAAAAAAAAADiYGJRZNSMuAAAAAAAAACKp90ZGoskiI64srOzzcCBA82aNWsi22rWrGm6d+9uWrdundbnBgAAAAAAACA8sjM4Fhmoci6PP/64ycrKMrfeemtk27Zt28xNN91kqlWrZvbff3/Tvn17s3bt2qjvW758uTn//PNN+fLlTfXq1c1dd91ldu3aFdXms88+M8cdd5wpW7asadCggXnttddy/f4BAwaYQw891JQrV860bNnSTJ8+3YT5oO3Tp4+pX7++fd1jx461S61rux4HAABA8UXfHAAAAMUlFhmYIPqMGTPMkCFDbAq/32233WY++OADM3LkSPP555+bVatWmb/97W9RQwDUSd+xY4eZMmWKef31120nvHfv3pE2S5cutW3OOOMMM3fuXHshcP3115uPPvoo0mb48OHm9ttvt2/a7NmzzbHHHmvatm1r1q1bZ8JG+0x3fVq1amX69u1rGjdubC9ytNS6tg8aNMi2AwAAQPFD3xwAAADFKhbpBcBvv/3mHX744d6ECRO80047zevRo4fdvmnTJq906dLeyJEjI22//fZbTy9r6tSpdn3s2LFeiRIlvDVr1kTaDBo0yKtYsaK3fft2u3733Xd7jRs3jvqdl19+ude2bdvIeosWLbybbropsr57926vdu3a3mOPPZbw68jJybHPTctMNnv2bLufv/766zwf13Y9rnYAAADYd0HpF4a1bx7k/Q8AABA2s9MYi0y0XxiITHQNCVU2yplnnhm1fdasWWbnzp1R2xs1amQOOeQQM3XqVLuu5THHHGNq1KgRaaMslc2bN5uFCxdG2sT+bLVxP0OZMvpd/jYlSpSw665NmKhwv9SrVy/Px9121w4AAADFB31zAAAAFLdYZMZPLPr222/bIZoaMhpLRebLlCljKleuHLVdnXJXgF5LfyfdPe4ey6+NOvN//PGH2bhxox0ukFebRYsWxX3u27dvt1+Ofl4QaOZbN5RWwyZiabu/HQAAAIqHoPbNg9ovBwAAKA6qBiAWmdGZ6CtWrDA9evQww4YNsxMGBc1jjz1mKlWqFPmqU6eOCQLVttTMt9rve/bsiXpM69peq1atXDUwAQAAUkVB1Dlz5piJEyfaJXO1FL0g982D2i8HkoHzJQAg0zUJQCwyozPRNUxTkwMdd9xxkW36wNdsrP/5z3/s5EIazrlp06aojJe1a9faHS9aTp8+Pern6nH3mFu6bf42FStWNPvtt58pWbKk/cqrjfsZebn33nvthEf+jJcgdNj1Wrt3724narr//vtN586d7bAJ3fXRQathsg8++KBtBwAAkGrqC2riIZe5LOqTqf/SunXrtD63MAty3zyo/XKgsDhfAgCCoGQAYpEZnYnepk0bs2DBAjN37tzI1/HHH293pPt/6dKl7R11Z/HixWb58uV21lbRUj9DHX5nwoQJthN+1FFHRdr4f4Zr436GhqU2b948qo3ugmjdtclL2bJl7e/xfwWFOlQ6OH/88Udb9/K8886zSx282k6HCwAApCsgpM51/fr1zYABA8zYsWPtUuvarsdRNILcNw9yvxwoKM6XAIAgaZ3hscgszS5qAuT00083TZs2Nc8995xd79atm+0MvPbaa7YzfMstt9jtU6ZMiWTHqH3t2rXNk08+ae/AX3nlleb66683jz76qG2jN+Poo4+2b8x1111nJk2aZP75z3+aMWPG2EmMZPjw4ebqq682Q4YMMS1atLC/f8SIEbbuYmw9xniU8aLhozk5OYHpuCubaNSoUWbVqlV2H1588cX2wgUAACDV1K9TwFYBoL59+9rJJP1BVGWtqF83dOjQjB8xF8R+YZj65mHZ/0BxOF8iHMfj/Pnz7YSAqmescgwcdwAy5ZyRaL8wo8u5JOLZZ5+1HYL27dvbyYLUsdZwNUc7+cMPP7QdemWmVKhQwXa4H3rooUgbDQ9Qp/y2224z/fv3NwcffLB56aWXIp10ufzyy80vv/xievfubTv76vyPHz8+4QB6WIb+vfvuuwz9K0J0LgAAiE+fkeqX9OrVKyogJFpXwEiBV7Vr1qxZ2p5ncUbfHMgMnC+RKSgpBCAsApeJHmRBynhxQ/90cROvDhEfeMlF5wIAgPypXMfDDz9sM53Lly+f6/GtW7faYZ8KGqn0SCYLUr8wjNj/CLswnS8RXMQVAAQhNpZovzCja6IjfdnQOmD1Qaehf40bN7YdLy21ru2DBg1iVvckol4hAAB7p1FaogvwvLjtrh0AFFecL5FuxBUAhC02RhAdcYf+6U5xvKF/q1evtu1QeHQuAABIjMqcKRNFGWyq6eundW2vVauWbQcAxRnnS6QbcQUAYYuNEURHLqrHLRpqlRe33bVD4dC5AFBU1MGYM2eOHdKtJTfjEHSqp62hnBoCrknxFi5caEsSaKl1bVetbeYTAVDccb5EuhFXAFDQ2Jgqj/uvY7WeCbGxwE8siqId+qc7PrEY+pdcdC4AFAXmWUBY6fhVDVUd35oUz1FGJbVVAeBPnC+RTsQVAOwLF/NatWqVndMj9jq2S5cuUe3SgSA68h36pyET/uxohv4lH50LAEU5iZMmDPNP4qTtXDgj6HT8nnzyyTYTRR1pfUaqX0JGJQBE43yJdCGuAGBfuJjXo48+mud1rLb726VDlqeceKREorO9ZgJm0U4dlVfQPtZECXl1LjTcUvt+6NChdHYB7BXnFCAYgtQvDCP2PwAUPeIKABK1Y8cOc+6559p+2ciRI02pUn/mfe/atctcdtlltv82btw4U6ZMGZOOfiE10ZHv0L8ff/zRDv0777zz7FIfeHzQJRf1CgEkE/MsAAAAIBMQVwCQKMXAlBC2ceNG07t376jYmNa1XY9rPV0o54K4GPqXOtQrBFAU8yyokxF7DmeeBQAAAKQKcQUAiXDXpz179jQvvfRSVGxMpaG0/ZFHHqEmOjKXPtiaNWuW7qdRLNC5AJAMrkbce++9Zz744INcE7JceOGFUe0AAACAokRcAcDeuOvTdevWmaysrFyPa7u/XTpQEz2FqL0IAChqyj5v37692bRpk60/ecUVV0TqT6oOukpEVa5c2bz77rvcpAPSiH5herH/AQAAMsfuNF7HUhMdAADkKa87+wAAAAAAZKqsNF/HUs4FQLGVV71oMnMRdDqmdfe+a9eutpxL7DwL119/va0xp3YMqwUAAACAYApTTGN+AK5jCaIDKJays7PtRK6x9aK7d+/ORK4INDfRyiWXXGI6dOiQq1O1fft22/lgYlEAAAAACKawxTQ2BOA6lnIuAIrlh02fPn1M/fr1zYABA8zYsWPtUuvarseBoHITrah2nJvEqU2bNnapdW33twMAAAAABEcYYxpVA3AdSxAdex0aMmfOHDNx4kS71DoQZDqGdbdWE1X07dvXNG7c2JQvX94uta7tgwYN4lhHYOkuvTIQhg0bZvbs2RP1mNa1XcPh1A4AAAAAEBxhjWk08V3H7ty5MyoWqfVMuI6lnAuKzdCQIAhTPatMpf2rY7pXr16mRIno+4ha79y5s629Rb1oBJXOGTpPKwPh/vvvt8e0m9VcHQ/Nav7ggw9ybgEAAACAgAlrTKOk7zr2/PPPNzt27Ig8VqZMGRtIT/d1LEF05Ds05MQTTzSXX365KVu2rK0/NH36dLtdBy6B9OTipkVquPpZCirmxW2nXjSCTOcMnad1TomdkIXzNwAAAAAEU9hjGp7nRQXQJXY9XQiiI+7QkCOOOMJmLipr0R/U1XYNDTn55JPJZEzyTQsNu9HdRH/WKDctiq7OVqNGjXJl/mdCnS0gGXTO0Hma0S0AAAAAEL6Yhkq4xApqTGP37t3mmWeesf93ibyOW9fj6YxFEkRH3KEha9euzTMT/auvvrJ3hoI2NCQo9azccBxXz0rlGLhpkfw6W88//7zZtGmTPc6dGjVqmMqVK6e9zhaQLG5CFgAAAABA8Plrh/tjSEGfA2vu3Lk2RiN5ze0lelztmjdvnpbnyMSiyOXXX3+1ywYNGtg7WP379zdPPvmkXWpd2/3tkJybFqpbFa+e1erVq207JCeoePrpp5vFixfbIUF33HGHeeedd+xS69p+2mmnccMCAAAAAABkZO1wVY1Q0uXChQvN1q1b7VLr2t6tW7fAxTRmz54d+X9esbG82qUamejIxd35WbJkiTnppJNylReZMmVKVDsUTtjrWWVi5v9nn31mGjZsaHJycky/fv0ij+lurbZ//vnnpmvXroH70AEAAAAAAOEWxjmw1vqqBBx33HHmiiuuiMQihw4dGik17W+XagTRkUvFihXtUmUtHnroIVOqVKlIeRGtX3rppTaA7tqhcMJazyoIM1nnVRN90aJFgZzJGgAAAAAAFA9hmwPL8zy7LF++vHn44YejYpFav/DCC80ff/wRaZcOBNGRy+bNm+1SgfLevXvbciL+THSXge7aoXDCWs8qCJn/edWLJvMfAAAAAABkujDNgZWVlWWXKk2jpMfYTHQF0P3t0oEgOnJRBrocfvjh5vvvv48aGqKJF7VdpV5cOySnnlWfPn1Mz549TYsWLXJN5KrhOEG9m5hpyPwHgPCU5wpL5g0AFCXOl8HBewWguKpRo0bk/zNnzoyUb5HSpUvn2S7VCKIjlwMPPNAuFSgvU6ZM1GMbN26M1B9y7ZCcYTiXX365GTlyZNSJQh0mbQ9iPatMReY/AARfdna2rQGp8lyOzu26Kc1nJgBEny8HDBgQVUNWAQglSnG+zCx8tgEozo477jgbj5GdO3dGPeZfV7t0iZ7uFPj/QUaXZb5jx46ox9x6lSpVCDImucM0fPhwm4Xeo0cPc88999il1rVdjyM5wjqTNRAvm2nOnDlm4sSJdql1IOj0majRW/Xr17eBobFjx9ql1rWdz0wA+D86H6o8pyvH6biynZwvM++zTaUL/NeDWuezDUBx0LRpU1sPPa+SLW69QoUKtl26ZHnprMhezKiGeKVKlUxOTk5GT8qpIIsK9iuwqGD5WWedZTNzV69ebSZMmGCz0XXgjh49mkBjkva36s7r4j+vzGgFdl0NKPZ30WZ66DhXAJ1MD4QB2UwIozB9ZgalXxhW7H8Uh/Nl+/btbcC8VatWuWrLKnFEiVPvvvtuxp8vi8tnm85Jer9iRw3ofdI5KwifbQCQjM8tlW/xZ5+rSoaSehWjfOedd5J+Lky0X0gmOnKZO3euDaAfcsghtjb3iBEjTP/+/e2yXLlydvvvv/9u26HwVPNOQS51nPzBANG6tusGhtoheRRE1FChZ5991k5aoaU6pgQXEQZk6iKs+MwEgMToWk2BiGOOOcY88sgjdi4gZfhpqXVt1+Nc02XOZ9vixYvNYYcdFtV307q289kGIOzmz59vP5e6du1qqlWrFvWY1q+//nqb1JvOcyE10ZGL60hp+JiGScRObKLH77jjDrts3rx5up9u4GnfijJD8uK2u3ZInjDNZA347+ArA11ZZ/5MXV00a12ZuoMGDTInn3wy2UwIHD4zAWDfrumuvfbaPG86XnPNNVzTZYhff/3VLlu2bJln3+3ee+8106ZNi7QDgDDa8P/775dcconp0KFDrljk9u3bzUsvvZTWfj6Z6IhLNYdckLFNmzZ2ScAl+XRCEA2tzIvb7toBQH7I1EWY8ZkJAPuG6q2Zz9WsP/XUU/Psu51yyilR7QAg7P38knnEIjOhn08QHbm4Iv2vvvqqrS/qp/XXXnstqh0KR3fUVKdYpUXy2t/arlrdTOQKIBFk6iLM+MwEgMS4azVdu3FNl9lU81y++OKLPN+rL7/8MqodAIRRkwD08wmiIxd1pPQBvWDBAtOzZ0+zcOFCWyNdS61rux6nw5UcuqOmif40uY/KLPj3t9a1XZNdMgoAQCLI1EWY8ZkJAMm7ptMEbVzTpd+BBx5ol9OnT8/zs03b/e0AIIxKBqCfn+UxvitlEp3tNRNo0rnevXvbiUVVd8hx6w899BATMBbBPlcdY5VhcHSXTScJ9jWAfamJrpItmkTUX1fT3cFXB0SBdE2kS6ARQRWGz8wg9QvDiP2P4jTReJkyZXJd0+3YscM8+OCDgTlnFoe+mzsnxX626RylcxZ9NwDFQXYa+vmJ9gsJoqdQ0DrrOnA1I/jatWsj2zS0QneG6GwVXQcqdvIEOkoACnrRrMlFdVGmEi4KnGsInO7gc9GMMAj6Z2bQ+oVhw/5HcRGGm47Fqe924oknmhYtWkSS15SF/tVXX9F3A1Cs7E5xP58gegYKYmc96BeoADIL55TU4aIZyGxB7BeGCfu/cPg8Dxber2Cg7wYAmd0vLJXSZwUAKLbyGt1So0YNc9NNN3FhUAS0T08++WQumhFaBIWAzAn0MVo1s+nc2KxZs3Q/DewFfTcA+D9//PGHGTJkiFm5cqU5+OCDzT/+8Q+z3377mXQjEz2FgpbxQgcZQLIwzwKAZApDHyVo/cKwYf8XDOXCAABAUdLk15MnT861XTcZH3nkkSL5nZRzyUBB6qzH1mQrV66c2bZtGzXZABQoW7R9+/Zm06ZN9qL7iiuuiFx0a4IkXXRXrlzZvPvuu2TaACg2fZQg9QvDiP2/75i4OrgYuQMACFIAvXTp0rY/37BhQ7N48WLb/9+5c2eRBdIJomegoHTW/bODK+gVW3pBwS5mBy8adHARRrNmzTJ33HGHOeaYY0z//v1zXXT36NHDLFiwwPTr1880b948rc8VQGYLUx8lKP3CsGL/77s5c+aY2267zZZma9y4ca7HFy5caEu0Pfvss5QOySCU0wMABKWEy7nnnmv78NWqVTPr1q2LPFa9enWzfv16ey0wbty4pJd2oSY6CkxBXA2P1tdJJ51kSzD4h2pOmTIl0o4OcvKEYWg6kJe5c+fa5bXXXmt27dplRo0aZVatWmVq165tLr74YnPNNdfYILvaEUQHkGgfRSNbOnToECkLpUx0jWxx7eijAMmlJA/RdUFe3HbXDplTTk8ZfX56j7SdcnqZh6QqAMXVkCFDIufBBg0a2JGn/likC6qr3a233pqW50gQHbn8+uuvdtmyZcuooZrKONH6vffea6ZNmxZph+TWl+zVq1fUiULbgzI0HcjP6NGjbbDcPwBKN45OO+20tD4vIFm48C16ru9x+OGH289JFzR3N561fcmSJfRRgCKg85roby+vTHRt97dD+j+TnnnmGft/DYH3c+t6XEPjg/pZtWPHjlzJGWXKlDFBRVIVgOJs5cqVdqlEmLxikYolaFSca5cOf46pB/4/DY+WU0891Qa7dJBOnDjRLrV+yimnRLVD4Tu46iwpgK4Tg04Q5cuXj5wotH3QoEG2HRBETZs2tcvPPvssKoAuWtd2fzsgqBe+nTp1sqUOHn74YbvUurYjeVzfQ4Fy1WVWiYKxY8fapda13d8OSDf13/x96SD353RjUAE9JXmoHJuf1rW9Vq1ath3STyP83LkwKysr6jG3rsfdiMGgGTx4sB32r/P/e++9Z5da1/YgJ1Xl9dmm7fQnAIRd2bJl7fIvf/lLVAlY0fqBBx4Y1S4dyERHLqonKrqrr5qisXfCDzjggKh2SM7QdGWg53WiUO1X1SxkaDqC6qijjor8v1SpUrY2umqcqaaZaqGrxEtsOyCIw+Vjqf4sw+WTy9UoVB9E+1XnFNGNZ61feumlNihEjWtkgrBllSpbWc9dAT1NIqo+qn/0pEaGaPRkULOaw2bmzJmR/+eVxOBvF7RyegqUv/3226ZKlSqmS5cuNulIx9/LL79st8uNN95ogppUFZt9qb83JVUFedQAAOyNEnY1qeikSZPMnXfeGTWySCOPPv3000i7dCETHbm4uzvK5lKNUR287777rl1q3WV5uXYoHOpLIuzef//9yP8VMFcm3ieffGKXLoAe2w4I0oXvE088EQns+j8z3c1mPR7k7NNMokl/RIFy3aDQRIZbt261S627rEvXDkiXsGaVKvivQPmPP/5okzzOO+88u1QgnfKDmWXx4sVJbZcpFEgZOXKkDaBrecEFF9jkDC3929UuaElVujEVL6lq9erVth0AhFXNmjXtUjGC888/39Y+X7FihV1q3cUOXLt0IBMdueiOt+5wlytXzt75efrppyOP6WCtUKGC2bZtW561EFG4+pKNGjXKVU+X+pIIOt1N9l8I+IeA+9fVrmPHjml5jkBBzZ492/z+++92lNbw4cPNN998Y4fGH3TQQXZdmdG//fabbXfCCSek++kGnrsxodrnLojnqIyEq4nOaDmkU9izShUo13NnDojMpus1R6NzzjnnHFs3XPXDx48fH7nZ6G8XBBotrb8xZaC70UiO1q+77jrTr18/2+6yyy4zQUBSFZAazF8UjLJx27dvNxs3bjRvvfWW/XJ0k1RxynSWjSOIjlyUzaWTi4ICKrugoRI6iFV36OeffzZfffVVpB3lRZJ3onj++efticLNOCzVq1e3JwrqSyLI3JBhfeDpgkZBRtdxUQkXTQKlC7jYocZAEHz88ceReUSuvvrqXGUb9Bk6btw4244genJHyylAefnll9v+ifop06dPj0w0ymg5ZEqpPje/kP+CPQyl+hR0COpzLy78mdjqZ40YMSKyHjtEPkh0E0D0GZAXt921CwIm7QWKXthKrIVRSV/ZuJYtW9o+vpKRlKzk+vrpLhtHEB25uDvc7du3t+UVXNBcdLBqu4aqcyc8ObRPTz/9dFu/L3b43q+//mqD6h06dOAOKQLL1SbWzbnYi24NyXJlLqhhjCD6448/7FKBcl24K2jmrxGsbD9/OyTnxnOlSpVsJroLmou2N2zY0GZXcuMZ6eT6yAriaaLh2At2ZdD62wFFwV8yLzZQ7l/3twsCZdOLzv8q4RLLfS64dkGbtNc/ekWYtBdIXom1vPrq2k45sswrGzcw5oaHzoGZ8D5REx25uDvcCpTHBm61ru3+digcBRBdkKV06dJRj7l1PU49XQSVRlTIzp077U24Dz74wN4g0lLr2u5vh+TReUMZkBMnTrRLziPJ5zLG9ttvP9sJV2BCF/Baal3b/e2QnAyV7777zl4A6RyiIIqWhx56qN3erVs3bjwjrVwf+ZFHHrHHaY8ePcw999xjl1rXdn87oCiUL18+qe0yhUYw6hyvSURjbwBo/ZVXXrGPq13QPtvUf1C5J/98H1rXdj7bgOSUWFOfXOc9V2JN21VijeukzLI75v3IlBu+ZKIjF51MXJ3ieDO563ECAsmh2rmaCE2lc5555hnz9ddfR4b8Hn300eb22283CxYssO2aN2+e7qcL7LODDz448v+cnBxbp3Jv7VB4DFlMjQYNGtilLnYvuugiO9TQcWVG/O1QeDp+VcZFpQli51jQdo5vZNL8Qt9//33UiIm//OUvzC+ElNANG5XQS6RdkKgUjWqdaxSvlqqBriCY/s4UQFd5TI3i9ZesCVr2Zex8H5mQfQmEocRavIl7g1xiLWx13rOzs03v3r1zbf/ll1/s9oceeiit50OC6MhFAVt3UZrX3X3R42pHULfwFByXa6+91maex564r7nmGnPHHXcQRC8CYfvAyVTKBBo8eLDJysrK8w6yJoHSDbogZQxlOoYspo6bmE38AfTYdX87FP74VvAklvom2q65Fji+kSnzC8WWclq/fn2kn838QpknTH1Dlb1KZrtMcuONN9rlyJEjo5Iz9F4pgO4eD6LYJDb/zWIAhZu4VyNFNUeXyq2p5JOuP4M8cW/YkqZ2795tHn/8cft/zQ141llnRSbEnjBhgr1JqsfTOTE7QXTkMnv27Mj/42Wiu3YEdZOHSRVTK2wfOJlMmUAnnniimTx5sv2w0wWpJv1TSRddqCqwrg/CoGUMBWHIYs+ePc2LL75oVq5caTP9ta4yAhqymM7OR5hUrlzZLlW2Ja+65267a4fCH9/KQMmPHv/oo484vpE2+nzz3yj2159WwoS7weZvh8zoGw4YMMCsXbs2sq1GjRo2QzGIfUMlLySzXaZRoFwTeg8ZMiTSz/nHP/4RKaMW5AQIZVuSAAEkhyudplH/n376aVSZECV6aX46f7ugnTN0na2RmG4ErCbfDOo5Y/bs2XZ0r87j6j/5J8TWSD5t1+Nqd8IJJ6TlORJERy7+jmMy2iF/TZs2NW+88YZ57bXXbDZS7EQy2u7aITnI0k0tdVR++OEHexdZ5w3V5nYU5NJ2TRDoJh5FcoYsqsb8+eefH9k+c+ZMO1m0bmKsXr06sEMWM5UC5Zo5vn79+vamqIISOq41ozySRxcGe6uJqMfVTud4IB1cNpsCsDofaJJ4f9avzg/6PAxi1ltYueHjCkL4qeRiJgwfL4iw1kSPd9ND/RyVdAniTY/ikAARplEeCBYdazrPffLJJ/YzWHPouL76Tz/9ZOeOUpm1IE3c684ZRxxxhI1j+MvGKTFQ24N4zvj4448j11WxyUkq5+JvRxAdGSPRIWMMLUsOBceVoajyOPfee6/tLOkOojrx6jxpu4ayEEQvmolF3E0LN7GIJu8J4gdOEIK6utCpW7eueeyxxyJD6HTML1u2LNB16DKNC8pof+bFbSd4kxz+TFJlm86bNy+y7g/GkHGaHJpILtF2BNGRLu7mmYJ7sUFZzQ3iMtG5yZY5fUNlKMpxxx1nrrjiikiCxdChQ21wQo8HrW84Y8aMhNupJnCQhO2mx94SIDR3VpATIBgBjHSf4zUPifsM9vfVHQVsg5TQ5c4Z6mfklRiozy3dKAjaOWPr1q1JbVcUoqvqA/sQWCEAkxw6UWvyUJk2bZp59913zYcffmiXWpfbbrstMCf0oHzg6GIh3sQirpOK5HDnikmTJtm6cyrrog94LbWu7f52KJz9998/8n8N79PNi7Fjx9ql1vNqh4L79ttvk9oO+fNfgCejHVDUJfr8pVxi1ynllxk075CCrwpUakSiJuNUJrCWWtd2Pe7mMQoK9bWS2S4Tb3rEm4tEj/tLNgQpAUIln9q0aWMDzFpqXUlV/nZBHAGskXr+PqnWtV2PA0VJNdD3lgCqx9UuKFxyTosWLWwioBIClW3vEgO13d8uKConWP4ynWUyyURHLgTRU0+ddBfE9Z/g3boe5y59coR5YpFM5erL6caQRlV06dLF3jHXHXJli2q7vx0K58svv7RLZWepE6V6cuI6Vcpw0kWm2rVs2TLNzzb4XBBMHVcNBfUPNaxYsaKdWFDZEgTLgOLDf5Myv/mFuJmZGVxwXPO16DMytl7uqaeeGmkXpPmg3Od/stpl2k2P/LibHkF5v9y5QNd+Cg6pvIS+XB1gNyFx0M4ZjABGJli+fHlS22UCdw7U55P6FSqX6i+VdMopp9iEzL2dKzPNli1botZVlsZNLPrdd9/FbZdKGZ2JriH/qnOjGqMa2tSuXTuzePHiqDYalqEyANWqVbMfKu3bt89Vq1t/DOoQ6QJXP+euu+7KVU/zs88+s8P3FHRo0KBBpA61n+6Yqn5SuXLlbOBB9TbDKNGhpQxBTQ4FcjWzvIKLykDX8XzJJZfYpda1XY/HZjKh8BOLnHPOOfbv+r333rNLrbvMFgK6ydOoUSO7VCbN8OHDzQUXXGDP2VpqXdv97VA4roOhQLmGNC9cuNAGcbXUusvS8ndEUHBuQjbtY/Ut/v73v5tbb73VLrXuhhsGdeK2TKObEslsh31D3zwx9KWDSRPO6djWJHPqE2qpdR2LQaTgazLbZYpZs2ZF/h9bzsW/7m+X6TQ6UxQoV7kJP627JCvXLogjgHWO1zVt//797VLrjABGKmiOomS2ywQuE1sJgZ06dbKVCx5++GG71Pro0aOj2gXF3JgRX7pe1Wdw7HVrOkeGZfRt588//9x2wtVZ10n2vvvuM2effbbNylW2l+ggGTNmjD0Ra5KAm2++2fztb3+LfMDo7qc66aq5NWXKFHuSvuqqq2zQ5tFHH40MYVMbzfCt+kG663v99debWrVqmbZt29o2CvSo5IayEdRJf+655+xjunBQ5z9MYktcFLYd8qcTn45T3UW87rrrooagK0NXdxE/+OAD2+6yyy5L63MN28QisUEt3cXVdj0epIlFMp1uBsnOnTvtsE0NL/PPHq7trh3HeOG5LCVl/SxZssR+jjr6vFJJl6+++ipw2UyZqmHDhnap84kudP2zyOtzUtt1bnHtUDiJZvST+V806Jsnxj+RaDLaoWgdffTRdqnz9ebNm6OC5v7zuGsXFGG9pvPfuItXziW2XaZTlqWjc+ktt9wSGbX5yiuvRJKp/O2CVtLxn//8Z65RHroR628HFIVEs7GDlLWtkVOia71YSlxwyQuuXVD8ETOZaGHbFbsg+vjx46PWlYGiTrHuKqu0hS5WVQrgzTffNH/9619tm1dffdUceeSRNkCgQIFmbVXHXoGxGjVq2MkZdYfmnnvuMQ888IApU6aMPYGrhEO/fv3sz9D3a5j7s88+G+moKzu1a9eu5tprr7Xr+h5dIOhD7V//+pcJE+2TZLZD/lxnSHcL1Vm6/PLLowKMCqD726Fw1Hnb20k3aBOLZDp37KpcjgLl/tnDtY8vuugie/xzjCeHMqD1Oenfz/6AjQvaqB0Kzw0nVIAlNnDrL8+VzmGHQLLQN09MorWYg1SzOcx++umnhM7jakcZtPRzEwSKu8GR17q/XaZz19Ua+aDrQHfuE91w1HaNXAna9be/pGNs8pL+tijpiFSIHelW2HaZQCWRYs9/sfS42gVJuXLlEqrAoHbpEqjbzm5okzvJqsOuDMYzzzwz0kblAA455JBI8EBLTQajTrqjzreyDDS03bXx/wzXxv0MvYn6Xf42umOv9byCFI6CoPo9/q8gcKUVktUO+VPHSHSMKvNKQ9yefPJJu9S6O3ZdOxSOSre4D5vYGpDumNbjaofkUB0z0WgKZaH36NHDBku01LobbubaoXCOP/74qAsVBZ+eeuopu3T0uNqh8FT3PJntgCAJUt88lf3yjRs3JrUdilaiN/G52Z8Z/IFkjXbxl9/Rel7tMp3Oka4UmRuh6WjdlShz7YLCX6oxdsSDf52SjihKiY6+DdIo3Xnz5u111KUeV7sgqZlgzCudsbHABNF1p1I1RjXphBtKp7IX+nCMrfOjTrkriaGlv5PuHneP5ddGnWtlpGpGW2WK5NXGX3ojr7qR+iB3X3Xq1DFBENahf5lKM5OLhtyorqd/1nKtu6E4rh0Kx9XcO+igg3JlPaj+vAvkUpsveVT73N2kePDBB23N/3PPPdcute5uXrh2KBwFl/ydqm+//dbWG9bS0ePMs5AcYRwiCoSxb57KfjlB2WCJrdlf2HaZIjYYW9h2mUifrSq/o1EyWgb1s9b1hXVe1SSifm5SUX+7oHCJMnmNvPGv+9shM+j90WSVKqemZZBHToWx0kLsyMDCtssUvwdg7qPAREFVf/Hrr782b7/9tgmKe++912bouK8VK1aYIDjssMOS2g7583f2VLtPE1poIjot/bX8gtopzDRuaOfPP/+c62JI6+6CNkhDQDPdokWLIhdpKlekEkUKgGipdXfx5tqhcIYMGWKXmk8hdrIwlV3Qdn87FI6O5WS2A4IiaH3zVPbLg1DTE39SXf5ktssUKgGSzHaZIow3BxKdiyloczYlmpRE8lJmyc7OtpO++ier1Lq2B1EYzxk//PBDUttlinUBmFMmEEF0TUikOrqaMf3ggw+OSuFXJl1scFGBMJfer2VegTL3WH5tNPR6v/32s8X4Vbc3rzb5DSNQPTP9DP9XEGg4XDLbIX/u+FVpBWVYqQbepZdeapdadyUXCKInR4MGDSL/Vyaa6kIrk05L/xBQfzsUjpssqH379nbouv8Y17q2+9uhcFauXGmXzZs3z1XXXyOIjjvuuKh2KBw3WWKy2gFBEMS+eSr75WGsvxrmLMVE+x9B66dovoFktssUiU4cnO4JhveFv/Z+MtplCm4oBo8C5X369Ml1vtO6tgcxkB5bwrWw7TJBWM8ZOwNwwyOjg+gabq5OumoTa0ZnTTDkpwCBhjSp8+Yoc3f58uV2gkbRcsGCBVF3KiZMmGA7zkcddVSkjf9nuDbuZ2hYh36Xv40ORq27NmFyxBFHJLUd8ueGPOtiUMe6hkXrWNdS6y4IFjs0GgXjD5TrJsWIESPMc889Z5f++qj+digcVzZn5syZeT7utjOpUHK4gJbmVVAZKH+JKK0///zzUe1QOLHDrgvbDshk9M0TE/bSiAqidOrUKSpLUetBDK6EeSJYza2UzHaZQjfEktkuE+j8lsx2mcJfXlDXsrpho2x6Lf3Xtnur7YzU0DlOk3br/YidCNZNYqkJvoN2LnTztySrXSYIQrA5rEpk+jDRoUOHmjfffNMOM1ONQ325O5UKcnXp0sXcfvvtNhNGEwxde+21tvN84okn2jZnn3227ZBfeeWVtqj+Rx99ZO6//377s90H64033mhLZ9x99922nMDAgQNtQE0dQke/48UXXzSvv/66rSvbrVs3W4dHvy9snnjiiaS2Q/6UTSXTpk0zF110kc1WVGdWS61ru78dCkd/6/E6bP51fzsUjjrLurO/bNky2wHTefmll16yS61rux4P2hDVTHX99dfbpfZtz549bVaoJtrTUuuuU+zaoXA0WWEy2wGZjL55YmKDD4Vtl0kUKO/du3eu0QZa1/YgBtLDmtEX1uH+bgLiZLXLBGEtKeTv++gcMXfuXFu6RUv/OYQ+Umbwvy+x5zu3rlHEahckW7ZsSWq7TJDo3FbMgZV8GT1eYdCgQXapmbb9Xn31VXPNNdfY/+tOmLI4VA5AJ9+2bdvajrajLF4NN1XHWh34ChUqmKuvvto89NBDkTbKohkzZoztmCtzT9l5CvDoZzmq2/vLL7/YzqEuFnT3VEX6Yyc0CoNEg4cEGZNDgcPy5cvbOuix3B1fPU6AMTkYVph62pduyLrKEx155JHmu+++s0t1xGbMmGEfV7sgzYqeqZYsWWKXOnecf/75+bZr1qxZCp8ZgKCjb168uSzFvIJebl2PazRlbDmxTBbWjL6wztmR1zVTYdplAv/fk67/DjroINsnVlBP8zi5RJ+gBZvD+rcVe17UjQGVO9GoWl2zB+n85zd79uy474l/Xe00GiwowhhwDusIqiDI6CB6IsN6ypUrZ4eo6yueunXr2qHs+dHFgOr55UfDV/UVdsXhwy6T6MTmJrHU8GT/yVtDorWux9UuqB/ImSTRsjiUz0mexx57zC4PPfRQGzDXV+w5WtnoavfII4+k6VmGR1hruwJIP/rmxfviNjZ7NC8u2zRIAZawZqKHMdgc1vfLXQu682y8eWv87YKgWrVqkeSOvbULIo280Wedf34O3cjVyKrWrVuboImdZ6Sw7TKFRjwncgOKmugIfDkXpIcmbEpmO+Rv1KhRkZNb7N1Pt67H1Q6Fp2yOZLbD3q1atcouf/rppzwfVwDd3w6Fw40iAEivRANdQQuIxZvbpKDtMkWiSSoks2SGMJZm2NvNqX1tlynCWIs6trRVXhNcB7W0VVgnxQ7j62J0ffoQREcuKq+QzHbIH0Hd1IqX2VHQdti7WrVqRY2u0ORjqqmrpdbzaoeC82daxF7w+9eDNiQYAIIi0UnygjaZXuxIssK2yxQaCZrMdihaYSzNkGgGbJAyZcN8c0CjiNz8cHlNwCl6PGijjcJ6nRzGIDrVI9KHIDqKRcckk4XxpJ7JVF8+me2wd/4atm+99ZapUqWKeffdd+1S63m1Q8G98847CU2e628HAEBxTfwIa9kTBEfFihWT2i5ThDVbVjXBNZG1tGjRwvTo0cNOhK2l1kWP+2uMB0FYz4VhLLGmuWeS2Q6JC9atTKREGE8ymWzFihVJbYf8qU7d8uXLE2qH5Bg9enTk/5deemnUY/6auWp32mmnpfS5hdG6devi1sHzr/vbAQCwr+Vnatasaev+qmyBJneN1w5A8cwqLVu2bFLbZYqPPvrILv/yl7/YcpXTpk2LuobUdk18rXYnnHCCCYqw3vQIo7COeAsCgujIhUkKUmvp0qVJbYf8+S/yktEOxbN2ZSbTpH5O7GTF/nV/OwAA9vViXH2lESNG7LUdgPytX78+qe0yRaVKlRKahFLtgsRdJypQHsv/eoN2PUlZ3+AgiJ4+5PYDaRbWzINMFdahyJns8MMPj+okH3DAATaYq6W/0+xvh4I7+OCD4543/Ov+dgAAAEiPsJZTDeuI60RHLDOyGQgfMtGRiybDSOSOVewkGigYMv9Ti/2dehrS6OTk5MS9EPC3Q8H5Jw/NryZ67KSjAADsrbZqIv2joNVgDevrCiv1XxIpK0o/J/3CWh6kXr16UeuNGjUyJ554ovnqq6/MokWL4rYDEHz0BFBsZgfPVNu3b09qOyDTzJgxI6ntAABA6lWuXDmp7TIFCRbBwvxdSLfvv/8+al2B89deey0qgJ5XOwDBRxAdxWYCEADpwcVpanFxCQAoCrt27UpqOwAIonnz5iW1HYDgIIiOXAjAAEgmzimpFdb6kwCA9Nq8eXNS2wFAECVa1pbyt0D4UI8DxaZ2GYD0WLlyZdR6s2bNTLVq1cz69evNnDlz4rZDwfzyyy9JbQcAAADg/1SvXt1s2LAhoXYAwoUgOgCgSMVOIOoPnOfXDgWzdevWpLYDAAAA8H+2bNmS1HYAgoNyLgCAIlWmTJmktkP+qFkLAAAAFI1ER88yyhYIH4LoAIAi1aBBg6S2AwAAAAAASCWC6ACAIlWjRo2ktgMAAAAAAEglgugAgCI1efLkpLYDAAAAAABIJYLoAIAitW3btqS2AwAAAAAASCWC6ACAIrV79+6ktgMAAAAAAEglgugAAAAAAAAAAMRBEB0AAAAAAAAAgDgIogMAAAAAAAAAEAdBdAAAAAAAAAAA4iCIDgAAAAAAAABAHATRAQAAAAAAAACIgyA6AAAAAAAAAABxEEQHAAAAAAAAACAOgugAAAAAAAAAAMRBEB0AAAAAAAAAgDgIogMAAAAAAAAAEAdBdAAAAAAAAAAA4iCIDgAAAAAAAABAHATRAQAAAAAAAACIgyA6AAAAAAAAAABxEEQHAAAAAAAAACAOgugAAAAAAAAAAMRBEB0AAAAAAAAAgDgIogMAAAAAAAAAEAdBdAAAAAAAAAAA4iCIDgAAAAAAAABAHATRAQAAAAAAAACIgyA6AAAAAAAAAABxEEQHAAAAAAAAACAOgugAAAAAAAAAAMRBEB0AAAAAAAAAgDgIogMAAAAAAAAAEAdBdAAAAAAAAAAA4iCIDgAAAAAAAABAHATRAQAAAAAAAACIgyA6AAAAAAAAAABxEEQHAAAAAAAAACAOgugAAAAAAAAAAMRBEB0AAAAAAAAAgDgIogMAAAAAAAAAEAdBdAAAAAAAAAAA4iCIDgAAAAAAAABAHATR99GAAQPMoYceasqVK2datmxppk+fnu6nBAAAABRL9M0BAACQCqVS8ltCYvjw4eb22283gwcPtp305557zrRt29YsXrzYVK9ePd1PDwAAFNC2bdvM8uXLi/R3fPfddwX6vkMOOcQGCMOE/Y1koG8OAOH4PI/3mc1nMhAu2wJ+ziCIvg+eeeYZ07VrV3PttdfadXXYx4wZY1555RXzr3/9y2SaTL1ADesHYabu77Duc/Z3+Pa3cE75P+zvxK1du9bk5OQU+ucsW7bMPPLII6Yo3XDDDQX6vp49e5q6desW6ndXqlTJ1KhRwxQW+zu1+xuZ3TdPxrk60wJHQb+4jYfXte+vK52f97yu4ByDej0F/bz1i/czXnjhBXPEEUeYVOOcUfz+tsL6ulJ5DK5N4DohWdcA8c4ZifbjC9pXz/I8z9vn7yqGduzYYcqXL2/eeecd065du8j2q6++2mzatMmMGjUq1/ds377dfjmbN282derUsQdVxYoV4/6u77//3ixdurTQz3nFihXmv//9r8k0V111ld0PhVWvXj3ToEGDQv+csO/vZO3zZO3vZO1z9nfi2N/BO6ewvxPvqHW+4kqza+eOQj+fsCtVuowZNvSNQgV22d/J3d/qF6oDv7d+IZLTN9+Xfnmi5/GiPFcneq7dl3NpIq+rqD9/kv26MuG9SvR1Jfu9CusxKLyu4LyurVu3mh9++CHPx0aPHm0SddFFF+W5/bDDDrPn+r3hnJH+18XfVvF+XWsDdp0Q21dPtF9OED1Bq1atMgcddJCZMmWKadWqVWT73XffbT7//HMzbdq0XN/zwAMPmAcffDDX9r29KT169DDz5s1L4rMPp2OPPdb079+/0D+H/Z3a/S3s871jf6ce55Tg7W911jp27GT27NmdtOcVViVKlDRvvfVmoYPo7O/k7W+C6Kntm+9LvzxI5/F9OZeG8XWF8TUJryv9eF3hfF1hfE3C60q/4v661gbsOiG2r04QPQOC6OnORN+5c6f59ddf9/n7NAQ2Udddd90+//wDDzzQlC5d2oQpazST93ey9nmmZUazv4Oxv4Vzyr5jfydu0aJFNkujsIp6nxf0fJKsfa7+R6NGjUxhsb+Tt78Joqe2b14UmejxjuNknIcTPQ6TnfmW399mJr6uwr5XqXxdRZGlWJSvK13HYHF8XZn4t5WMc0YyPrM5Z/C3xesKzjljUQLXCZlyzojtqxNEz4ByLkG+WDr99NP32uazzz5LyXMpDtjfqcX+Tj32eWqxvzNrn7Ovky8M+ztI/cIw9s2Lev+H9TzM6woWXldwhPE1hekzu7i8X7yu4Ajja0rnOSPRfmGJIvntIVSmTBnTvHlzM3HixMi2PXv22HV/9ktY7O3ADOofY6Zif6cW+zv12Oepxf5OvXj7lH1dNNjfyPS+eVjPw7yuYOF1BUcYX1OYP7PD+n7xuoIjjK8pCOcMMtH3wfDhw212y5AhQ0yLFi3Mc889Z0aMGGGHLCRSYzSIGUd53QHKhAM3rNjfqcX+Tj32eWqxv4HMFcR+YZj65qna/2E9D/O6goXXFRxhfE1hFtb3i9cVHGF8TelAOZci8p///Mc89dRTZs2aNaZp06bm+eefNy1btkzoe7lYAgAAgNAvTG/fnP0PAAAAIYiegeisAwAAQOgXphf7HwAAAEJNdAAAAAAAAAAACokgOgAAAAAAAAAAcRBEBwAAAAAAAAAgDoLoAAAAAAAAAADEQRAdAAAAAAAAAIA4CKIDAAAAAAAAABAHQXQAAAAAAAAAAOIgiA4AAAAAAAAAQBwE0QEAAAAAAAAAiIMgOgAAAAAAAAAAcRBEBwAAAAAAAAAgDoLoAAAAAAAAAADEQRAdAAAAAAAAAIA4SsV7AMnneZ5dbt68Od1PBQAAAGlEfzC96JcDAADA3x90/cN4CKKn0G+//WaXderUSfdTAQAAAIot+uUAAACI7R9WqlTJxJPl7S3MjqTZs2ePWbVqlTnggANMVlaWCdIdGV1grFixwlSsWDHdTyf02N+pxf5OPfZ5arG/U4v9nVpB3t+uC67nHaR+YViksl8e5OM0P7yuYOF1BUcYX5PwuoKF1xUcYXxNqX5d6pcrgF67dm1TokT8yudkoqeQ3oiDDz7YBJUO2jD9QWY69ndqsb9Tj32eWuzv1GJ/pxb7G0Hol4f1OOV1BQuvKzjC+JqE1xUsvK7gCONrSuXryi8D3WFiUQAAAAAAAAAA4iCIDgAAAAAAAABAHATRsVdly5Y1ffr0sUsUPfZ3arG/U499nlrs79Rif6cW+xtBENbjlNcVLLyu4AjjaxJeV7DwuoIjjK8pU18XE4sCAAAAAAAAABAHmegAAAAAAAAAAMRBEB0AAAAAAAAAgDgIogMAAAAAAAAAEAdBdCBE/FMcMN0BAABA+mRnZ5sLL7zQ1K5d22RlZZn333/fhMFjjz1mTjjhBHPAAQeY6tWrm3bt2pnFixeboBs0aJBp0qSJqVixov1q1aqVGTdunAmTxx9/3B6Lt956qwmyBx54wL4O/1ejRo1MGPz888/miiuuMNWqVTP77befOeaYY8zMmTNNkB166KG53i993XTTTSaodu/ebXr16mXq1atn36fDDjvMPPzww6G4Bv/tt9/sOaJu3br2tZ100klmxowZJkyfv3qfevfubWrVqmVf45lnnmmWLFligv66/ve//5mzzz7bnj/0+Ny5c00QZOfzunbu3Gnuueceey6sUKGCbXPVVVeZVatWpeW5EkQHQkQnHP//w/AhHmR79uyxS96H5Ivdp25fA0AiOC8jFX7//Xdz7LHHmgEDBpgw+fzzz23w66uvvjITJkywF7i6aNfrDbKDDz7YBplnzZplg5Z//etfzcUXX2wWLlxowkBBsCFDhtgbBWHQuHFjs3r16sjXl19+aYJu48aN5uSTTzalS5e2N3C++eYb069fP1OlShUT9GPP/17pvCGXXXaZCaonnnjC3nj7z3/+Y7799lu7/uSTT5p///vfJuiuv/56+x698cYbZsGCBfb8riCzbvCE5fNX79Xzzz9vBg8ebKZNm2aDs23btjXbtm0zQX5devyUU06xx2OQ/J7P69q6dauZPXu2vWmlpW4U6Mb9RRddlJbnmuVxFYEioqBWiRLcp0k1nXjUUXnttdfS/VTw//3www82OwHJ9/TTT5tzzjnHHH300TYo5r+RhMTF7jvO35nzfvBeFK01a9aYmjVrpvtpoBjQ3/R7771ns7bD5pdffrEZ6Qqut27d2oRJ1apVzVNPPWW6dOligmzLli3muOOOMwMHDjR9+/Y1TZs2Nc8995wJcia6MhWDkmWZqH/9619m8uTJ5osvvjBhpiznDz/80Gb+BrXvfsEFF5gaNWqYl19+ObKtffv2Nqt56NChJqj++OMPO8po1KhR5vzzz49sb968uTn33HPt+SPon7/qZyub+Y477jB33nmn3ZaTk2PfT8VQOnToYILer/jpp5/sKIk5c+bY833Y+kszZswwLVq0MMuWLTOHHHJISp8fV2UoMu6i/+OPPzbr1q0j6ysFdu3aZTMYdNLcvHlzup8OjLFZJLobrPcEyaW70rqAUhaBhlQGtROeCdy+++9//2uWL19O0DZD3o/+/fub6dOn2/8z2iL5lC2mgIXQRwEKTsEHF3AOC/Ur3n77bZsdp7IuQaeRAwqIKZs0LBSAVSCsfv36pnPnzrb/EnSjR482xx9/vM3Q1o2pZs2amRdffNGEyY4dO2yQ+brrrgt0310lTiZOnGi+++47uz5v3jw7GkKB5qDHE3T+K1euXNR23RwIw2gPWbp0qU2i8J8PK1WqZFq2bGmmTp2a1ueGxPsdOn9UrlzZpBpXySgyuuD/+uuvbZaou8vMRWrRKlWqlLn00kvtENSRI0em++nAGDs0TEMwV65cadcJhCVP+fLlzXnnnWeHdbkh5JxjCu7777+3w9g/++wzu64ONNJLw2gfeeQR+39ubCSfAhRvvvmmzWQM8oU8kE7q1yirVCUoNCos6FS6YP/99zdly5Y1N954o82GO+qoo0yQ6WaA+kqqZR8WCnYpY3T8+PG2pIaCYqeeeqqt5RxkP/74o309hx9+uPnoo49Mt27dzD//+U/z+uuvm7BQAsymTZvMNddcY4JMN+GVsaxa/Cq/oxseOhfqhk6QKQtdNw5V3101p3U9oJseCi6rFE8YKIAuyjz307p7DJlr27ZttkZ6x44d7fwlqcYVGYqMLvjVmf773/9uAzMaRshFatHTB7mGJunDLiwfdEGRV4Bcw5obNmwYGSpGIKxg4t18uO222+xIF9W1E84xBdegQQNz5JFHmldeecWulyxZMt1PyRT3410XaDq+58+fb9e5SZS8ibe1j8866yxb5/ODDz6w27nJCRQsw1lJMwrUhoH6bLqxphq5CmBeffXVti51UK1YscL06NHDDBs2LFdmaZAp21fZ2qrvrjrGY8eOtYHZESNGmCDT55DK7jz66KM2KHvDDTeYrl272rrNYaHyJ3r/NIogyHSs6e9KN+N1k0o3OlRmMgw3PJTEob7SQQcdZG8oatSvApZcxyLdNAeL4os6PnXDMR34K0DSxF586gB39cI0CYWbPZeL1OTSXWIFaJWt4Jx++uk2k0FZGcI+Tw3XsdANIz8FwjQ0TtkyQiCs4PtWN4c++eQTW8rFDS10k5upJisSE3tOcFnnynrWBfdbb72VpmdWPMWeE9zxrptwv/76a2RkETeJCs7tO2Up6v/axyo9oUmMNFReWS3axvkZSNzNN99s6xp/+umndlLOMChTpoy9qaz6v8rc1jlCpbWCSpOk6masArMasaov1a5XUEz/D8uoMw3pP+KII+youiCrVatWrpEPSnAIQ6kaUf1i9eM1cWXQ3XXXXZFs9GOOOcZceeWVNrknDCM+NJeXzhO6ptV1gUoLKraj0klh4ObCWbt2bdR2rTNPTuYH0JctW2Ynvk1HFroQREfSuIt+daTXr19vhzXJFVdcYbZv386Q9CJy4IEH2gloNHxMtQ61/8844wx7h1/DXNQ5Zp+nzksvvWQ7GL17945kj2pEhoK977zzjl0nEFYw6sjpptG9995rhxnqw1ND7pQlpslF1NlDYtw5QbU3tV/dRbTOJ7oQyM7OtusEFFPDnROGDx9uJ33zlxu5//777XZ3PkHBaei/Ms8V9HM33dQ3qVatWqSPwvkZ2Dt9NiiArlInkyZNspOXhfmms65jgqpNmza2RI2y692Xam6r5IT+H5ZRZ+rL/PDDDzYIHWQqi7R48eKobaq5XbduXRMGr776qu3b+CesDCol9MReY+vvKUzJaypLqr8pzbmmhL2LL77YhIE+sxQsV017R/PJaQRSGObACHMAfcmSJfZGnPru6UJkDUmlAK6yQhU01FAtnYjkwQcftAe8ZgdGweX1oayhpqotpwkBdXLRHXHNwKyhV/rAUwZKvO9F8mloqSbKUcDrxBNPtBkJ+v9TTz1lxowZE5oJWVIh9phVjVJd8CnIqAtA1Yi88MILbUDsoosuspME6gYeEqNzsoZmKttZ5+1FixbZIPrtt99ug406Vgkopo4yzlVKR+cKDeHW0G2NJtKFpiY7ckH0sGQNpoMudpVVqmwx1WJV30QXTfob0Ogt9i2KIrDnApeiv2n9P+hZpfrM0MgwlTFQ/Vzd0NbXH3/8YYJMN+l1E1mTwSvwrHXNExLkGsd6f3Rd5v9SYEwBiCDXsNcoXCVP6L2aMmWKueSSS2wAU/2aINN1g0ZXqpyLsur1N/bCCy/Yv7kw9OsVRFfyi0ZBBJ2uQXQDXtd3Og51U/GZZ56xx2LQKWCuEdT6zFLSkhL0VDL22muvNWH4/NX1jRIQ+/btaxOKdL6/6qqrbImhdu3amSD3KzZs2GDXXRky3ZTTeqbXet+Sz+tSjMvN+6cSSuqvu36HJipOOQ8ohD179kSt79y501uyZInXq1cv78QTT/Tq16/v3XPPPd6bb75p///666+n7bkG3e7duyP/nzBhgvff//7Xe//9972NGzdGtZs1a5Z33333eQcffLCXlZXl3XzzzWl4tsXvPYm1efNmb+TIkV67du28evXqeU2bNvVq167tPfnkk/bxXbt2pfCZBnvfLly40J5Xvvvuu6g2X331lTdo0CCvVq1adt+WK1fOmzZtWq7vR97na/n999+9p59+2rvooou8ChUq2PPFa6+95nXp0sW7++677X5kXxaNvPbrpk2bvPXr13tdu3b1zjrrLK9atWr2XN+yZUt7Dtm6dWtanmsQ5XfcTp061XviiSfseeP888/3LrjgAvt5OWLEiJQ+R4Tfp59+quE8ub6uvvpqL8jyek36evXVV70gu+6667y6det6ZcqU8f7yl794bdq08T7++GMvbE477TSvR48eXpBdfvnltv+n9+qggw6y699//70XBh988IF39NFHe2XLlvUaNWrkvfDCC14YfPTRR/Y8sXjxYi8MdK2nv6NDDjnEXoMo1tGzZ09v+/btXtANHz7cvh79fdWsWdO76aabbB81TJ+/ui5SzKpGjRr2b03n+yAcm3t7XfoczuvxPn36eEF9XUuXLo3b79D3pVqW/kl96B5hoLvJbgiTMk9+//13m8Xoz3JUZuN9991nGjdubCff0NAZDfsMy5C0VNGfqcsIVaa5yoIo20IzSOs90Lp/37v9rzvjAwYMsJM9qbYjiub41wQyGnWhzB7tZ9XGczTJkWpR6k63MmU09E93VTWUEXs/3h944AF7fGu/aXRFnz59ovavaAJdzRivCYyrVKkSNT8Ach+vqvenclvKAlItObe/lVWoY/Tdd9+1pS4OOeQQm/3sb4Pkvx+akE8ZFjqf+yfZ0vukc/eoUaPsMa5MEq27yXR4PxLbvzqeXaaKsox0jnCPqd+iESwaKq/RFxqmrKWOefYvAAAAgCgpD9sjdBlejz32mHfmmWfau7B33nmn9/XXX0e1/eWXX7xJkyZ5//jHP7yqVava7FwhE3ffKWNUWRfKopNHH33UZs8dc8wx3po1a+w2/91vZWQog4HsuqLL6FW2rrIZr7rqKvulEQDPPvts1OgMZ/bs2V7r1q0jj+eVGVzc+feJ7phXr17dZq4sWrTI69ixoz3eX3rppUgb/3lk/PjxXpMmTQKRRZCu8/XDDz9sj0Edp9dff70d1eKn88cPP/zg3XXXXXYEhUYSoeiOcWXAKNNHXwcccIDNOlcmut/y5cvtCItjjz3WO/fcc9PwjINLx68yjM4++2y7/Otf/+qNGzcuzyx1nVeqVKnizZ8/Py3PFQAAAEBmI4iOfRIb9NOQJQ3xUVBQpUUqV67sdejQwfvyyy/z/P4rr7zSa9GiRYqebbCpTMXKlSujAikqDeJuQowdO9bbf//9bbCrWbNmdqi/bljEBm5POukk+z4JQdvCib3x8/LLL9vgl8qKyBtvvOGVLl3aDgl78MEHI+3cjQ3tf/19dOrUKcXPPPPpxpD/BtDMmTPtcOOJEyfa9Q8//NCeXxREVCBd+95xx7VuJOl8lJ2dnYZXkPnuv/9+Wx7k7bfftl8atnjkkUfafevs2LHDLv/44w/bXsFH//kEyTuH6Byhm6K6SaRjWOcFHeP9+vXzcnJych3fKmukQPAXX3yRluceBP7g+HPPPefVqVPHljiTd955x547TjnlFPv56dr635MzzjjDu+2229LwzAEAAABkOiYWRcJycnLs8GY38da4ceNsmQUNldbEDBqGrgkBNMuxJutyk4qKK/ivCRfdRACIb968eaZ79+7m4YcfjuyrOnXqmOuvv960aNHCThZ644032gnonnzySTsBhr5HZXM0mYSbrEUTZaisS6dOnew6w9MLTpPQqazCrl277LrKLyxbtsy+Dy1btjQffPCBufnmm+1EQHfddZf9G3juueds2zJlykTKL6jsjt7Tbdu22W0w9jhXiQpNEKr9Kn/5y1/Mueeeayf8Uwmorl27mscee8yWhfrrX/9q/xaef/75qONaE9/oPKW/leJOkwr7qcSNJjxSiafLL7/cHoeTJ0+2E1Zqci5XAkdlXnSMlytXzk7gosmgNbEVCkfnDlEZLtFkP1988YWdLOzss8+252p9pp566qn2/XjppZci76GOb50ratWqZSeCc38j+NPdd99tpk+fbsu0aF+pjNbPP/9sevfubY477jjbT9E5Q5+XmkhUZdG0v9Uf0XviPxeHYbIzAAAAAEUg3VF8BIMymY877rhIyRBlJirbfMCAAXZdw6M1DHrYsGHet99+ayeh+Pvf/+598sknUT/nlltusZmisZNhwsuVdagyC8pqvuGGG2wWut9TTz3ltW/fPjLJnCaQ0IQ6Grruz6r78ccf7UQMKLxTTz3VlhZRBqPLmNZxrAkv9f4oo1cZpKJM0fLly9usxyFDhkR+xrx587wTTjjBmzNnTtpeRybScXzOOed4xx9/vB1psW3bNrvdZeNec801Xvfu3SMZ0Zp0UecjZZS6vxct33rrLe+bb77xijvtq4YNG3qrVq2KbFOJG5XbEh3DBx54oPfiiy96M2bMsJOoHX744ZFRLs7jjz9uJ+tau3Ztyl9DmGhCMI1Y0XnbWbZsmffKK6/YzH+NnFBJqH//+9/2sUsvvdSWPnvooYe8LVu2RL5Hn686p+i8jj+p/IpGXPnPrdqv6qOsW7fOlpjT8a3MdFf2SZ+tKo/jRs3p/KHzs/bv3Llz0/p6AAAAAGQmMtGRkMMPP9wccMABNhtXWbTK1DrqqKPM3/72N5vVpQn97rjjDpvxfNhhh5kjjjjCZqkrK91Rppd+hjLyKleunNbXk8lcpv+ZZ55p95UyEjXx2cqVKyNtNMmcsu6UoaisRGUx6v3Q+6CsOpctrYlcDz300LS9lrBMUCfZ2dnm5JNPthPTffLJJ3aiSx3HDRo0MAsXLrT7/YorrrBty5cvb/82/ve//5kuXbpEflaTJk3M+PHjTdOmTdP2ejKNMvL3228/myGtLFtl7+t41nGtyf1+++03mw2tjGmddzSJ8fr16+1Ercrk1d+A3iMtNeHokUceaYo7jQzSPtH+WLVqld2mc7KycrVf//Of/9iRLsrMPf74403Dhg3t8av9Li4rV5nQGh3AJLiFo0xzjapQNrTO0aJJWzWJpTL/33jjDXPOOeeYf/zjH3bfa38ffPDBdnSAziWi7focVga7zuv40zHHHGNHs9SsWdMe07Nnz7b7VaO2NKJFn5UaeeEmJFafRaMxWrVqZU488US7TecPnZ81meuxxx6b5lcEAAAAIBMRREdCrr76anPLLbfYC00FEX/55RdTpUoVe9GqIJhKiLgLe62fcsopNoCuC1tH3/vII4/YC1vkTYESN5T8gQcesMEA7eenn37alglxAbHLLrvMBgfq169vTjjhBLNo0SJz33335foZSK5hw4bZ4Nc999xjPvvss0hZhQoVKpgffvjBBiEVhOnVq5ctK6Agmbup4YLxVatWTfOryBzaJyobIrq5cNppp9mA10MPPRQp7aIbbxdeeKH9G1C5nNNPP90sXbrUBibd8a59jf+jY03BVpW20bF45ZVXRm7AaV+q3I1u+uj8ITp36xyjc/Xrr78eFURXwJcbPoWjY7hu3br2mFbAVjeLXJknnQt0U0glt/bff38b+NXnpG6SKrDubhK5UlA61zdq1CjdLymjuHOwSjypb6Ljulu3bvYY1/7Uvlu3bp0t76LPT90YGjp0qA2YDxo0yJ6f3Y1rcX8XAAAAABArS+noubYCviCXC1Cpfqgy43Thqaw5ZUjrglN1oc844wxby1VfyrbTherUqVMjNdRdHVgk5oknnrBfI0eOtEEA1SRWAFFZzboRoeCLgo26UaF9qxq6Cpyzr4vObbfdZr777jt7k0iZ0Qr+6m/grLPOsoEw3fTQ34bqFitrWu+PC+JQiz5/PXv2NEOGDLF15H///XcbQNSxrGxz3YhQ4FejMaZMmWIzdAcPHmz3Lcd7/PO1gujffvutzUo/77zz7P496KCD7LwVqi+vetGXXHKJGTt2rB1VoYCtvtf/M1A4/r99jczSCBaNTtG5WjW5//nPf9rH7r//fju/heYFUKa5zjGa40LtOH/E5983+lycOXOm+emnn+y+0wgL1ZvXTaDly5fbUUTuuNZNoxkzZthzCAAAAAAkiiA6Eg4gfvzxx6ZNmzb2Il/BGQ2hfu2112w2ugI2N910k82m0wWqskoJIBaMgljKvFV5FgVWHGU5K+ilMgwKOmq/+xFQLDrK0O3Ro4f59NNP7QS6OqavvfZaGyjX38D5559vSwToZofKHbVt2zaSgc6ogPwp6KWbcJrwTyMsREFE3ZxQRm6/fv3s/nWlXFT6Rdi38WmkxJtvvmmD5YsXL7Y321TOZfjw4fYmj26GvvrqqzZbVyOIdONT52sC6EVD52sFdJWNrvOCzic6llVSRO+V6AaSPldVIko3jLhJlDiVJ7r33nvN+++/b8tr6XjXqCGdk3XDrXnz5mbFihX2JoaO786dO9tzB+cQAAAAAPuCIDr2avLkyTa4pQCMMs3llVdesVm4qlmsgECNGjVswEsX/qprrCAjF6iJib3RoOCKhqZr6P+zzz5rAymuRIuy0RUUUO1tBR2pVZwaKmuhwKNuFimo5d4vlRRRdvrAgQPte+ZKkwgBsMSOd5VY0HnlmWeesVnn27dvN2XLlrXZ0arVrfI5qhXdsWPHSOYoN+f+tGPHDlOmTJnIurJwdQPiv//9rx0x5LbpBpwy0ZURrfO19rPONRo1wfk6ufzHpzL+9X6oHr2rya3MaAXUv/zyS3vzWaXSxB37wvuRGJ1nNVeLasdrtIWjsjnK8Nf+1A0MlW+J/T7OzwAAFI5G4uom9ty5c9P9VAAgJUg5w15pYj8FWxSAcVRnV0PPNdmiAlwKhCnDUZN3uYn+CADsnZsQUZQVqoCYMm01KaUyRZXprAt9lx2q4JeCtT/++KPd10g+V7vcTwFdZUzrmNb7pUxpUakMBcQuvfRSW7/ejwBN/se7ahSLRq4o0PXBBx/Ydf1fdY61VG1vBYB1I89feoEA+v9RBr9u7PjpXC2udrYCupooUSVyZs2aZUey6JjV/lXWM+frojvGFUBXHXoFxH/99dfI+6EbQyo/ovO96qMrwC4ugC68H4nReVb7WHXldRPC0egVTeaqz9CLLrrIzhsS+30AACBx6t8oYA4AxRlBdETxD0xw/1cNYn2p3qgLMCqgpXIWderUsQEu1e/2oyTA3vlLJ/Tp08fcfvvtNpCo/a4gukqCXHfddearr76y7RTIVUBAZUV088LVL0bRvCfKPFfQUa6//nr7vtxwww123WWca0LRO+64w44QaNmyZRqfebD2rUq0qI6/yt/oppEmDVX5EU3IKm6CRQUbVUZKteaRmzKczzzzTPt/NznikUceaY/VESNG2HUX0D3ssMPsBJfvvfeenaTYj/N18rh9qfPCXXfdZcs76Qa05lFQvX/R+6MbojpnqASayo4wKHDv4n3eKctcNyx0znY3ON2NJAXSdd7WDTkAAAAAKAyunJFnBp0yQV1Wl4Ivqr+t0iKajMvRhf/RRx9tBgwYYB9DwYItquWqciAKoqushd4D7XNt1/7VNk2SpmzSH374wQbXRUEXgl/J49+fmvRP74duHCljWhPo3nffffbmherpKpN3wYIFtsyLgjYqraPMRhfIRG5u3yqwqFr/p59+emTbaaedZgPp2q4SOQp66bifNm2aLWukduzb3MFEHZPKXlZQXCNXNGmoyrNodJCC6Cq75eiGj4K2CubqnI2io9rmGiGgm2uqRa+a6Jo7Qe/Thg0b7Dlen686phVs1+enthFIT+wmnLLgVF7OjV658cYb7X7WvlS5Ik12rvO2JnFVPXR9lnJ+BgCEhfrQKgWnEbEa0akb8y+++KK9Wa8kN43Q0hwh48aNi3zP559/blq0aGH7jRo9rmsdjZTz/0xNeH733XebqlWr2mt/lWpxDj30ULtUeUD1Wdy6oxGP2qZ+qMrXaSQ7AIQRNdGRy2OPPWY/aHXBqYnpVLYlJyfHBrWUgavsR00qqjqj+iBW7VGXFU1Qd99MmTLFXH311TYL94QTTrCdn3Xr1tmMc2WYqr68MkeVsat9rVIMGuZPPdei8/DDD9uJ/TTZogK4royIOprapmzptWvX2k6iatJPnTo1qtQI4lPgS4EuBcF0Y0hU0kLHvBvtohsS6pwrQ1f1/5nwMjf//tD/NfGzJldUHXTd5FG5J93g+eyzz+wNiqZNm5qRI0faILvOLe6mBOeQovn81GSuogtad27QTQ2VQdP7oWNbGeq6Ea1yRXofOMYTqzGvm3Dqe2iCZ91U7tatm+nfv799TBO16gaGJhFVgEDfp5ud+sxkHgUAQFgo4K0ykgp467NP/WsFvJWIoiC3HtcNevU9lPizceNGe7NZc4go+K4SZ7rG17wsLlCu71GihZKIOnXqZK9v1F6jvHTt/8svv9jrHiVtaM4d9V2UZKTv1whT/W5Nkq7fpdiBRlOrdB0AhA1FNxF18a7Aiz50r7rqKvuhqzvJS5cuNffcc4+dBE3LSZMmmVGjRtmg1+jRowmgF4ICLG5iQF38a7JW7VuVblGQSwEAdYb8CH4VHdX2//DDD23wVjeNtK5auwpAqmSAMqTVWVVwUhPZKctR7wWTAOYt9rygutD169e3AXTNATB+/Hh7zGtSYpUpUudbFwL+YBf7Nv6ICZXEUWazMs61r7t06WKXCtaqzrYyjlRzWxdLqn+u7Gh3vuYcUjTHuN4f3cxo3LixDZLrRqi26YJSGVq6Kaogr26aavQFAfS9c+cDnY81GuiLL76wmXe6IaS+im4Ovfzyy/bcoW26iSSaEN1loHO8AwDCRCOUNYG2aMSVruE1X5aC46J+oMohzp8/347cUglWJVzoM1XlzvSZqut6tXN9EF3rqMSoqAya2k+cONEG0RUwF/UnlaXup36MRtwpA17UD9X3EUQHEEZEJhD54Pzuu+9stvNbb71l2rRpY4NXCiRqqJiCABr2pQ9TlXrRUGkNHdMHMUGuxOQVKFFHRKVblD2qwIpuWuiOvrIBTj75ZBtQd50hh2BA0dH7Iarzr/8r41HZjsocVckdBXvVudT74yhAw/G/95JFGhrasGFDe1NCNf8VRFcgUfXmK1asaEuQKNCo4KOj8w779k+64FEGrnz66af2AkXnZNHoCZ1j3PlC5xTtW2UC6Uadq+PP+bpojnGdv1X7XCV2dKxr1JBuEClLzJVq0U0NffnxfiSe4a85KlTiTBf/uvGsgICOa93Y1PugzP/YfUwAHQAQRgp4O/qc0017jRR3dJ0uGu2pRK1WrVpFJanoOlM3oVeuXGnnIIr9maJRXfr+vVGSgAug78v3AUAQceWGSEBGgXPdwVYQXXRhryFf+sBVIF0f0BpKraW7A62gDQGAfQuga3icOhba18rIVRap9r8CMKeccorNcFYGo4bM6Qupu6mhwIwmolM2+vPPP2+zoxWU1N+Gsnzz6hASoMl/32q0ioaTKktUQS/VhVY5F2W/aL9qskt17lU6xwV6Hcov/EnHo4bLamSQbq5pv+oCSF+qy69952qd64aE9v/FF19sbwC5/cpNiaKhLGhNrq2bbq1bt7Y1ulWaSwF0TZyrGqPuWPb/bfB+xBe7n7Qfx44da4466ih7nnbOP/98e27R0HN9bur/fpyfAQBhFFtKUv0M/zZ/v6MwPzOR7y/o9wFAEHH1Bks1c5UB3bdvX1vPVcEtV0NUk6PpYlZLBXp1seowBD0xbj8pcKgAmDoW2peqNa8hdpoERpQxqoxG1XnVvr/gggvS/MzDH6DRTaOvv/7aBrM08kJ/BwpCqqafAjaORmqcccYZaXzWweH27ccff2wDXzq+XQ10/V8lGFyZBQUbdXNOgd569eql+ZlnpiFDhtiArIbKat9qVIRGS+jGg2jfubJQCqSrjYbSakIpNxGxcFOiaLRv396WzVEWuoZT62aoav+Laotqv+uGdOxnJu9HfG4/qXa8btrrM9GNWNE52j/ZmQLpuhmtYeuUxgEAINqRRx5p53Xyzw+ifqSyx1WeNVEKljNJN4DijiuNYiivO8OqL6qLfk1Qp4v92LrEGpr+zjvv2HILKBgFvjQZiwJhCsjqRsXcuXPtxDCiMjka/q+62+vXr7edGxdoRHK5IIsCk6or/fPPP9s6ugqGqWyAhiEqgK4ArybZ0QQ6ynJU3UDE5+ap1jlGk+FqBIvqQ2syIsfV41bdf9Wa140ilSnRxEWuXjf+pBIVymR+++23bbkn+d///mePSQUYFTTXflcAXYF0V9rlqaeesucYJFdex6dKP+l8/ccff9gbQpo/RO30maqJcjWiRcc69s0bb7xhS7fMmDHDlprTJNwakaGb/ZoA2k/n7k8++YRzCAAAMXQdryQtN6moErpUnlI3+vflxrPKtqiUoPqfSjYCgOKIIHox48/SUlBGgRZ9iGrSEd1d1pB0Nyu3GxbtAmOqY6xsXdVwxb5RIFzBWAVVlD2qUgxu+P+FF15oA4q6aaEa0QoGKAij90P7muHoRWPMmDH2GFdmhm5sKGNXQUj/ZDkaJaBgjf4GZs6caY9/bmrE5268admgQQMbzFV9RnW4NamluPPPb7/9ZifFbNmypZ0M0B3vZJH+SRPYKvO2Z8+epl27dpHtvXr1siNZlFmk87huzokC6du3b7f/17mG83XyueNz2LBhtq6/oyxpvV8qraOguYLq+rzV56naxk4Qjb3TTSPdzFR9f51/9Vmom8w6rzz00ENxJyzjHAIAwJ/UZ9TIUPW3NSGpys6pTKWbmDRRKiuo/rzKMzZr1qzIni8AZLIsz0VIEXr+IVzKvlXgUAEsBXc1EZqCtyo3otqjmkT02WeftWUEXKkR7PvNCv8+79ixoznttNNsx0PBAd3AUCdGQVkNRVcATJl2DhOiFS1NyKgOpb6U2XvNNdeYp59+2gZpFOD96aef7ESY6nCedNJJ9v1kEsC9U0BXGaE6vygwrv+7oK8yYPQ34ChzV+cb4XjPTZOw6iJHI4W0D1USR+fpBQsW2FEsuvmmc4gy/XX8cq4uGjqPuxEU7rhV9rkm6dJnpM4Tjkp0HXHEEfbiUiO7zj777MhnAOeP+Pyflf517bO//vWvduIzza2gvwGdKzRCQ5l1+uzUsQ8AAAAARY10nWLEXaAqu1bZi6pXrGxclVJQTVFli7rSALozff3119sLVOw7lwmnkhaifaoSIf3797dZdRrir+CXKBtX2dD+khdCQLFouPuGyhxVYFf7XjcvdFNDAXTRRK+vv/66DZapvrErEUAALH8KeC1btsxOFKpsXJUoOvPMM+1oF51ndOMiOzs70t4F0IXjPbfDDz/cTlqpERKqAa2a/bq5o3O3JiDW5MTapzVq1LDnFJ3PkXw//PBD5PhUya1ff/3VbtNNjptuusnOI+JUqFDBNG7c2L5HujnnDwxz/sibRk+4/aSbcDqHaN1NvDpp0iR7rtbNZ5eRrv6Jzt1XXHFFup8+AAAAgGKCTPRiQBfzCtS6errKnFNd0SlTpthAoi5WFSxU/WLVHtWXq1msIBeTnxWMJvVT1qjqumqp7GYFZDdt2mTrPyvwpX3ctWtX+/6ohAtBluSLN9Gc/i5UokjvgW4eaeI60bq2a5JL1bHn+N+3fas68prgT1mjxx13nC29oIz08ePH2/IL+v8zzzxjJzNGYhSsVdatzs3KwL3sssvsdt2k0P7UDQodwypxwc2I5FKps+bNm9vgriYg1ufntGnTbLa5sqOVGa2guY5zlR5Rl0ojLnSTVOV2eD/yp/PwvHnzTOvWre3+UxkoTXKmeq1auox0fW4qu7927dr2hqdGBzlk+AMAAABIBTLRQ051WTUBnWqYaYI/lymnoLmyG3VxqkCMguWqu6uLWZcpqkxHlw2GvVPw1U8BAJVwUekcTcqqGdDfe+89G1S5+OKLbeBFE7Uqq/GLL76g3nYR0LHrgry6maG/AwV4FfxVmQVNIuoCv6pn/NVXX9na05owR0Exjv/8uX2rG0COzi+6IaFArybNdRnpOg/pb0HBxyZNmqTxWQczI33w4MF2PgUFc93+VgBd+1aBRd2gYCLi5KtevbodSaFRKnoPvvnmG3sMq/a5zvHKjNZNjuuuu86OaNFkrvoMVUCY9yN/Opa135YuXWrPJfqM1P5UZrpuPGsSNHcTU+XOVDZn6tSpttScHwF0AAAAAKnAlUfIKUDrAuIaWq5guYKEmnTurrvuitQtls2bN5tGjRqZatWqRf0MMnH3TvtRF/y6EeECi5pQUUFDBVJUG1fbleGsIMyHH35oM+sOOeQQG3RRG7Lpin4OAO1v7XfdUFIgUhmjOu6VxavtCo5pfgBl/LqbGmSS5k81z1XSQjeMVHLEBdL/X3v3AmRz/f9x/E1/UmzKra30U2hSiLRuI5dyWdati0sqGzFFI21NiAbjmiKEIbeSu1GNRTNKYi3KpULKZSolpa3Y3XSTif+83s1352BPpOUcZ5+PmR12z9o9+92z33Ven/f39dEkbmZmptdf6LyjBQstHunln64QQO4qVKjgCzu9e/f2wFyVW/Xq1cs5fwd4vOYtbTSsF4XmOp9oQ63k5GQrUqSIh70K0nW+0Pfj4MGDXjuiK42CCii+H7lTpVyvXr08SNcCm66KE+0ZoqtWkpKSfDNWLTzrmOr/MDrWWrDQVUIAAAAAcL5R55IP6An/vn37PBxX73bfvn19UzQ9QdUl1KoT0evDhg3zWhFNrxNunblp06Z5YKjj9uWXX/oT/kaNGuXcrtB8/PjxvoGl6kHatGlzyscgrD139JjWZLRCruuuu8430tX3S+GjJqV13NVdr0BM4W+5cuVyNrRjUeP0GwBmZGR4qPvhhx9aYmKiDRo0KOc2dRsr6NVVL1pI6t+//yn/Hv+OQkQdSx139aUz1Z/3gsdocF7W708db4Xj6p5Xncijjz7q7xd6tUsozh/h6f8hugqrXbt2vgAX+OWXX+zTTz+1iy++2BcztX+IziHaV0GPe1Wi6Zyt483vTAAAAADnG0lpDFMoKAq2NGGr8Lx06dI2ZswYDwW0kag2R1OIrqBddSS6DD2YoMPpqSJE03TarFX9t5qq0+vqmw/osn4FBVqoUJi7ePHiUz4OYUDeUGexBGuDql+oXbu2hy9a3FBdgDZn1PdJNRjq7FYYox5e1esoZFd4xiaiudOxCg3AdY5Rt7+uwKhVq5ZvbKnFuNDbtaCkc06/fv38bQTo/73aRSGuFkCrVKkS6bsTc/SzHzxGNX2ux7yuYKlZs6Z17tzZrwTQVVy6wkLvp9+XI0eO9Gn0QLAhJsL74Ycf/JwcUM1W165drW7duj6FroVObSiqK+dUt6Xpcx1jJvwBAAAARAqT6DFm9erVPg3drVu3nLcdOHDAAwCFWy1atPBAVzUvmgpVL/S3337rlRYKgfUElQm6M6N6EPW5akpOm6OJFiY0mb57926vCNEUbkAd0Qp5Faq/8cYbEbznsUlT/lrA0Pfgjjvu8JBcFUaqEVHNgup2AjrtKZDp3r27/yzoZ4BwNzw9ntVHHFAoruOnc4WqobTJn6ZLdaxVk6NziRbmNLWrhTstNoVO9iLvUItzbo6lrh7S5tB6mxYudH4RnUd0jtdChnrSd+7c6YvSuuKIx/aZ0blCC5iqcVENlI7tnj17fONtXSGXnZ1tTz31lNdwadEiFP8/AQAAABApPPOOsQBd/dqaLNeTU03hKrS96qqrPPRSt2ixYsVs6NChHmw9//zzPpGrDlJN4QYTXjxBPb3p06f7QoVedPm5wlvR8dcEnSab1be9ceNGf7sm6dQLrYlFbTKKvKdFCn0/WrVq5UG66lr0dz3eFZrrZyKgQFcLSwpv7rzzTq68+AcKExWKq65I1HuucFwdxuo812T/ggUL/JyiiXRVMGhzQP0caCFD55hgg1ZCxrxHgJ73x1ILzPr9qMU4bXCpq4c0Ea0AV78vdb7X5paqMNLGo/o9q8c255Ezo3OFFqF1XPX/FdVp6Tyjhf6mTZv679Ggfi4UE/4AAAAAIolnIzFET+4VaOlJpmoUNBmnHuiBAwf6k3sFuVu3bvVpLwWLmkjX66EdxQQyp6cn+5qSU3WFJvunTp3qx1nHUBv/KXgRLWKoSkcbKe7atcvfpj70oC6EY5139BhWMKNgS4sVrVu39qsD9FhXKKOrAjQxrVBdm7qKvg+6UkDvI0xJ506PWU2iaxFCndCiCX8dt99//92GDBniU+f6Htx///1+XtFixnfffeeLSVzdgmin35fq4ZbU1FRbunSpP8ZVLaK/63GuDUV1blfFiCqMVM2lx7kW69hD4d9TUK6ec/Wg57ZRqKq39H+aUFwtBAAAACCSeMYXQxRYaUJaU3SaAFX41bJlS7/0XCGAJtU1PapgQJUimhBV12swJcoT1DNz66232vz58z1Al/vuu8+PnaZwJQjSdQWApp3T0tIsISHBw/dgWpEAPe+EHk9NRMfHx3uXsR77S5Ys8e+Faot0NYb2BdDPhYIxCX3ME6Cfat68eT4lOmDAAO+V19R+2bJlvbNYtGARdKB36dLFvw/6edAVL9qHQbi6BdFMi23btm2zhg0beq+/fnfqagr9ntRm0Orp1pUXuhpDi6IdO3a0hQsXWuHChf1FmJA+O1r41EsoTZ/rmGsz4tBaOgAAAACINDrRY5CmRlNSUjy8eumll7zPVW8bO3asV4xUq1bthNCcUPfshB5DdcorWFGQrhBRQXpAYUAQtjCteO5o8Wj27NleN6KO8/T0dN/gVZPnmnoMpkkVkKlqRJ3GCE+LbzpO6oVWeKiNAIcPH26TJk3yaihdYRGcO/S4Hjx4sHei6xjreAPRTgvJulJLC2taBFKILuo410bQetxrMU5XGmlvES3IqbtbFSS6Agl5R3tTaLNW7amgc43qozTlzxVCAAAAAKIFIXqM0mXSQU+3AgDVvAQIzc+NIEjX8VZQq2qRUEz7nzuqDlFwq0BMlSJBEKbvhTroV6xYYQ0aNLDffvvNe4y1ESbBTHjaCFRToJrkD6bOJSMjw/r16+ddxgrLdRyDx7UmeGfOnOmbtbJQhGinc7Ue4wrSVVWkq7RCaYNuTafrqhVdffT999/7lSza6FKvc/7IW6qW0/m7QoUKftWQziEsOgMAAACIJoToMR6k6wm/aEI66H7GuQ3SFy1aZI8++qiH6E888USk71K+sHfvXqtSpYofe/Wei05tmhpVCJydne3VJJosDTDhmDtt+Pfwww9bkyZNvOpCQsMs1S1oTwBNo+v20CA9QPiFaKbHcIcOHaxdu3be4R9QP7f2EtFjWfVoWnjTn08++aTXFulxrse8FqE5f+S9rKwsK168uB9/ji8AAACAaMM4cgxTjcuECRP8iahCgO3bt0f6LsU8TTO2b9/eA8bgSgDkrdzW/bQxnQIvTVAfOnTI36YgRr3cVatW9TodVY2EIqA5lfZU0HSuXj799NOcRaBgKlSCDVzvuece3xdgzZo1p1xhQYCOaKfKkGuuuSbn9SlTpngXd506dbyqSC/aNFdVaLq6QpuPqtpIAbqu5uL8kfdUoRPs0cLxBQAAABBtCNHzQZCu7mcFjJrUxfkJAhTAKAQIgkfkDYVXQWCruhYFvZmZmf66uuhVwaCAV7UtEvw5d+5c31gX4WnjW11BoQ55hemDBg3yDXRzC9JLlSrleyyoJko96cCFeNXQW2+9Ze+9955PpCtE1wLR22+/7YvPCtl37txpH3zwgaWmpvpikTq69TNAHdq5Re0ZAAAAgGhEnUs+Qx86LlShlSHqOlcnt0Iu9RZXr17d6xY0OapgTP3cCnjff/99rwXYvHmzL2rw+A8vLS3NN0/UYoSoAkf1OKqCUs+8Nik+uapF7xMXF8cxxQVn1apVdu+991rJkiX9MaxFIW26rde1MKdNRLXh6NChQ3P+DecPAAAAAMi/uOY+nyEAwIVIFS0lSpTwv48cOdKmTp1qCxYs8Ksr1PuvgFebuQ4ePNhq1arltQtff/211ahRwyZNmuQBOh27/0yLEaGLFeomDgJ1Bemi46wAXYsUmsrV+wjhIi402ohY+4aoB111ULlVc5UtW/aEnwke4wAAAACQfzGJDiCqrV271vu3NXWuKVFteNmzZ0/vntc0+t133+3hrnq8QwVBr7DR5X+rvVi4cKFP/2uhQnU5QCxvOqpu9J9++snWr1/PwhsAAAAAwDFWBSCqxcfH+xS6ahUU6GqDv0qVKtmyZcs8XB8zZowH6Hr7jBkzbMOGDf7vggBdCNDPniZyNZE+YsQIX6wIal2AWKLQfNSoUR6gqw89PT095woWAAAAAABIlgBEtfLly1unTp1syZIlPpWuUEtT0evWrbMXXnjBevTokbPR6Ouvv26PPPJIpO9yTAbpmvwvU6aMtWrVKtJ3B8hz+/fv98nzihUr+rkm2EiXBTgAAAAAgFDnAiDq7Nq1y6fNA1lZWZaQkGCJiYmWnJxsTZs2tQYNGtjy5cu9r/jw4cMetP/+++9e8UIFw7lFuIhYpPOMev7Vf84eCgAAAACAUIToAKKKalratm1rLVq0sMmTJ9vll1/uwdbq1autefPmNnr0aCtVqpQ9+OCDHqaLqlwyMzNty5YtXuNCAAbgbAUbiQIAAAAAECBEBxBVtm/fbi1btrTs7GyrX7++1atXz5KSkqx69eq+oag2GJ0yZYpPny9YsMADL1W+PPbYY1QwAAAAAAAAIM8RogOIuGPHjlnBggU9ANcUuTav1CaimkBX1/mqVau8/7xw4cLeea7AvG/fvnb06NETNhBlAh0AAAAAAAB5rWCef0QA+Je+/fZb/1MT5BdffLFPnWvj0Jo1a9rEiRMtJSXFunfvbtu2bbP4+Hh7/vnnvTc9NEAXAnQAAAAAAADkNUJ0ABG1efNmK1eunPXp08d2797tb2vWrJlXuWiz0AMHDvj0eWpqqu3fv98uueQS7z9/+eWXI33XAQAAAAAAkA9Q5wIgorKysmzOnDk2dOhQu/nmmy0xMdEGDBjgt3Xp0sWKFi1qo0aNsri4ODt06JB98cUXNnv2bBs3bhzd5wAAAAAAADjnCNEBRIU9e/bYc889Z2lpaV7ZohqXrVu3Wnp6uvXo0cPq1Knjm4gWKFAg59+wiSgAAAAAAADONUJ0AFEjOzvbg/NnnnnGfvzxR0tKSrIVK1ZYkyZNbPLkyZG+ewAAAAAAAMiHCNEBRKVnn33WduzYYWvXrvVw/c0337S77ror0ncLAAAAAAAA+QwhOoCocuzYMStY8O89jzdt2mTLly+3lStXeq0L1S0AAAAAAAA43wjRAUSdk7vPA3SgAwAAAAAA4HwjRAdwQQfrAAAAAAAAwLn0d2cCAEQ5AnQAAAAAAABEAiE6AAAAAAAAAABhEKIDAAAAAAAAABAGIToAAAAAAAAAAGEQogMAAAAAAAAAEAYhOgAAAAAAAAAAYRCiAwAAAAAAAAAQBiE6AAAAAAAAAABhEKIDQAxr1KiRpaSkWLSYNm2aXXvttVawYEEbP368RZOvvvrKChQoYFu3bo30XQEAAAAAAFHk/yJ9BwAA+cPPP/9svXr1srFjx9q9995rxYsXj/RdAgAAAAAAOC1CdADAebFv3z47evSotWzZ0q666qpI3x0AAAAAAIAzQp0LAMSIX3/91ZKTk61YsWIeUr/44osn3D5nzhxLSEiwuLg4i4+Pt/vvv99++OEHv+348eNWsWJFGzNmzAn/RtUmqjj5/PPPzygkb9u2rX/+yy67zDp06GAZGRl+26xZs6xq1ar+9/Lly/vHVH1KONnZ2XbRRRfZli1b/PVjx45ZiRIlrE6dOjnvM3fuXK+GCXzzzTf+OS+//HJ/X92Xkz/HjBkz7KabbrIiRYpYpUqVbPLkyWHvw19//WUPP/ywv5++NgAAAAAAkD8RogNAjOjTp4+lpaVZamqqvfPOO7ZmzRr76KOPcm7XFPiwYcNs27ZttmTJEg+Yu3Tp4rcp1FZg/Oqrr57wMfV6gwYNPGD/Jwq5FVofOnTI78PKlSvtyy+/tI4dO/rt+vPdd9/1v2/atMkOHDhwQgB+MlW9VK9e3b8G+eSTT/w+fvzxx/bLL7/42/R5GjZsmPO1JSYm+gJBenq6rV+/3sP85s2b259//unvM2/ePBs0aJCNGDHCdu7caSNHjrSBAwfaa6+9dsrnP3LkiLVv394XEfTx/ve//53hdwEAAAAAAMQa6lwAIAYoWJ45c6ZPZzdu3NjfpnC4bNmyOe+jkDygafAJEyZYzZo1/d8qcFagrpBZIXetWrU8mJ4/f/4p0+m5WbVqlQfde/fuzQnHZ8+ebZUrV7bNmzf75ylZsqS/vXTp0j4JfyaboipEf/rpp/3Ppk2b2q5du2zdunUejuttffv29fddtGiRB/maNFfYHiwAaCpd79esWTMbPHiwT+ffc889fvv1119vn332mU2dOtUeeuihE46lKmcUpK9evZrudgAAAAAA8jkm0QEgBnzxxRc+cV27du2ct6nS5MYbb8x5/cMPP7TWrVv7VLUmtoMp7qCq5Oqrr/bw+JVXXvHXly1bljORfTqa7FZ4HjpdfvPNN3uIrdvOhu6fAnPVqmjqXKF6EKx/9913XjGj10XT9XpdX5cWBPSir/+PP/7wY6OqG/3ZrVu3nNv1Mnz4cH97qE6dOvn7a5qfAB0AAAAAADCJDgD5gEJh1Z3oRbUmmgZXeK7Xg7oT6d69u3Xu3NnGjRvnk9yqYbn00ksjcp9VI3P48GGvpFm7dq3Xr2iCfdSoUVatWjUP/W+44Yac6fHbbrvNv7aT6WsNKmCmT59+wkKDqHs9VFJSkk/0v//++3bnnXee068RAAAAAABEP0J0AIgBFSpUsEKFCtnGjRtz+rszMzNtz549PtGtGpSDBw96AB1Miwebdp4cIBctWtSmTJliK1as8PD6TGizTm3sqZfg46sqJSsryyfSz4am2G+55RabNGmSf23a4LNMmTIe7C9fvjxnkl5q1KjhlS66XZuankwT5Qrd1dP+wAMP/OPn7dmzp1WpUsXatGljb7311gmfBwAAAAAA5D/UuQBADFA1iapKtLnoe++9Zzt27PCO84IF/z7NK1gvXLiwTZw40YPkpUuX+iajJ9NUtv5d//79fcq7bt26Z/T5mzRpYlWrVvWAWpPj6lVPTk72ADohIeGsvy7VtWi6PAiyVdGiwF6BeWi4rc9bqlQp39xUG4Gqm121L71797b9+/f7+wwZMsSee+4574LX4oI63DVtP3bs2FM+7+OPP+5VL61atfJKGQAAAAAAkH8RogNAjBg9erTVr1/fe88Vat9+++1ecRJUmsyaNcsWL17sk+GaSA+3YajCeFW8dO3a9Yw/tzbzTE1NtSuuuMJrWPT5tXmpwu7/QkG5OtGD7nPR309+mypnNDWvxQJtHKqgXV+HOtGDyXRV1WjjUQXnCvz1sXVMtMFoblJSUjx413T+hg0b/tPXAQAAAAAALlwFjh8/fjzSdwIAED00yd24cWOvZrnyyisjfXcAAAAAAAAiihAdAOCOHDliP/74oz300EO+gWdum3QCAAAAAADkN9S5AADcggULrFy5cr4Z6AsvvHDCbQrU1bue20vlypXP6vPp34X7mAT4AAAAAAAgWjCJDgA4rcOHD1tGRkautxUqVMjD93/r66+/tqNHj+Z6m2pk4uLi/vXHBAAAAAAAyGuE6AAAAAAAAAAAhEGdCwAAAAAAAAAAYRCiAwAAAAAAAAAQBiE6AAAAAAAAAABhEKIDAAAAAAAAABAGIToAAAAAAAAAAGEQogMAAAAAAAAAEAYhOgAAAAAAAAAAYRCiAwAAAAAAAABguft/89/ppLLVcZYAAAAASUVORK5CYII=",
      "text/plain": [
       "<Figure size 1500x600 with 2 Axes>"
      ]
     },
     "metadata": {},
     "output_type": "display_data"
    },
    {
     "data": {
      "image/png": "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",
      "text/plain": [
       "<Figure size 1200x600 with 1 Axes>"
      ]
     },
     "metadata": {},
     "output_type": "display_data"
    }
   ],
   "source": [
    "# Sales by Day of Week and Month\n",
    "plt.figure(figsize=(15, 6))\n",
    "\n",
    "plt.subplot(1, 2, 1)\n",
    "sns.boxplot(data=train1, x='day_of_week', y='sales',\n",
    "            order=['Monday', 'Tuesday', 'Wednesday', 'Thursday', 'Friday', 'Saturday', 'Sunday'])\n",
    "plt.title('Sales Distribution by Day of Week')\n",
    "plt.xticks(rotation=45)\n",
    "\n",
    "plt.subplot(1, 2, 2)\n",
    "sns.boxplot(data=train1, x='month', y='sales')\n",
    "plt.title('Sales Distribution by Month')\n",
    "\n",
    "plt.tight_layout()\n",
    "plt.show()\n",
    "\n",
    "# Holiday Effect\n",
    "plt.figure(figsize=(12, 6))\n",
    "sns.violinplot(data=train1, x='is_holiday', y='sales')\n",
    "plt.title('Sales Distribution: Holiday vs Non-Holiday')\n",
    "plt.xlabel('Is Holiday')\n",
    "plt.ylabel('Sales')\n",
    "plt.show()"
   ]
  },
  {
   "cell_type": "code",
   "execution_count": 102,
   "id": "2fce42b6",
   "metadata": {},
   "outputs": [
    {
     "data": {
      "image/png": "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",
      "text/plain": [
       "<Figure size 1200x800 with 2 Axes>"
      ]
     },
     "metadata": {},
     "output_type": "display_data"
    },
    {
     "data": {
      "image/png": "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",
      "text/plain": [
       "<Figure size 1200x600 with 1 Axes>"
      ]
     },
     "metadata": {},
     "output_type": "display_data"
    }
   ],
   "source": [
    "# Correlation Matrix\n",
    "numeric_cols = ['sales', 'onpromotion', 'transactions', 'dcoilwtico', \n",
    "                'cluster', 'is_weekend', 'is_holiday', 'is_month_start', 'is_month_end']\n",
    "correlation_matrix = train1[numeric_cols].corr()\n",
    "\n",
    "plt.figure(figsize=(12, 8))\n",
    "sns.heatmap(correlation_matrix, annot=True, cmap='coolwarm', center=0, fmt='.2f')\n",
    "plt.title('Correlation Matrix of Numeric Variables')\n",
    "plt.show()\n",
    "\n",
    "# Sales vs Transactions with Oil Price\n",
    "plt.figure(figsize=(12, 6))\n",
    "sns.scatterplot(data=train1.sample(1000), x='transactions', y='sales', \n",
    "                hue='dcoilwtico', size='onpromotion',\n",
    "                sizes=(20, 200), alpha=0.6)\n",
    "plt.title('Sales vs Transactions (with Oil Price and Promotion Effect)')\n",
    "plt.show()"
   ]
  },
  {
   "cell_type": "code",
   "execution_count": 106,
   "id": "8f1fc8ba",
   "metadata": {},
   "outputs": [
    {
     "data": {
      "image/png": "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",
      "text/plain": [
       "<Figure size 1500x600 with 1 Axes>"
      ]
     },
     "metadata": {},
     "output_type": "display_data"
    }
   ],
   "source": [
    "family_metrics = train1.groupby('family').agg({\n",
    "    'sales': ['mean', 'std'],\n",
    "    'onpromotion': 'mean'\n",
    "}).reset_index()\n",
    "\n",
    "family_metrics.columns = ['family', 'avg_sales', 'std_sales', 'avg_promo']\n",
    "family_metrics = family_metrics.sort_values('avg_sales', ascending=False)\n",
    "\n",
    "top_families = family_metrics.head(15)\n",
    "\n",
    "plt.figure(figsize=(15, 6))\n",
    "x = range(len(top_families))\n",
    "plt.bar(x, top_families['avg_sales'], yerr=top_families['std_sales'], \n",
    "        capsize=5, color='skyblue', edgecolor='black')\n",
    "plt.xticks(x, top_families['family'], rotation=45, ha='right')\n",
    "plt.title('Top 15 Product Families: Average Sales with Standard Deviation')\n",
    "plt.ylabel('Average Sales')\n",
    "plt.xlabel('Product Family')\n",
    "plt.tight_layout()\n",
    "plt.show()"
=======
    "# **EDA**"
>>>>>>> ef0e6d3 (inital commit)
   ]
  }
 ],
 "metadata": {
  "kernelspec": {
<<<<<<< HEAD
   "display_name": "Python 3",
=======
   "display_name": "base",
>>>>>>> ef0e6d3 (inital commit)
   "language": "python",
   "name": "python3"
  },
  "language_info": {
   "codemirror_mode": {
    "name": "ipython",
    "version": 3
   },
   "file_extension": ".py",
   "mimetype": "text/x-python",
   "name": "python",
   "nbconvert_exporter": "python",
   "pygments_lexer": "ipython3",
<<<<<<< HEAD
   "version": "3.13.3"
=======
   "version": "3.12.7"
>>>>>>> ef0e6d3 (inital commit)
  }
 },
 "nbformat": 4,
 "nbformat_minor": 5
}
