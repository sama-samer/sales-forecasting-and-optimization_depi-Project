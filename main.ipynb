{
 "cells": [
  {
   "cell_type": "code",
   "execution_count": 107,
   "id": "a469f91c",
   "metadata": {},
   "outputs": [],
   "source": [
    "import numpy as np\n",
    "import pandas as pd\n",
    "import seaborn as sns\n",
    "import matplotlib.pyplot as plt"
   ]
  },
  {
   "cell_type": "code",
   "execution_count": 108,
   "id": "49a0b076",
   "metadata": {},
   "outputs": [],
   "source": [
    "\n",
    "holidays_events = pd.read_csv('holidays_events.csv')\n",
    "oil = pd.read_csv('oil.csv')\n",
    "stores = pd.read_csv('stores.csv')\n",
    "train = pd.read_csv('train.csv')\n",
    "test = pd.read_csv('test.csv')\n",
    "transactions = pd.read_csv('transactions.csv')\n",
    "\n",
    "sample_submission = pd.read_csv('sample_submission.csv')"
   ]
  },
  {
   "cell_type": "code",
   "execution_count": 109,
   "id": "f4f6b429",
   "metadata": {},
   "outputs": [
    {
     "data": {
      "text/plain": [
       "Index(['date', 'type', 'locale', 'locale_name', 'description', 'transferred'], dtype='object')"
      ]
     },
     "execution_count": 109,
     "metadata": {},
     "output_type": "execute_result"
    }
   ],
   "source": [
    "holidays_events.columns"
   ]
  },
  {
   "cell_type": "code",
   "execution_count": 110,
   "id": "3564760b",
   "metadata": {},
   "outputs": [
    {
     "data": {
      "text/html": [
       "<div>\n",
       "<style scoped>\n",
       "    .dataframe tbody tr th:only-of-type {\n",
       "        vertical-align: middle;\n",
       "    }\n",
       "\n",
       "    .dataframe tbody tr th {\n",
       "        vertical-align: top;\n",
       "    }\n",
       "\n",
       "    .dataframe thead th {\n",
       "        text-align: right;\n",
       "    }\n",
       "</style>\n",
       "<table border=\"1\" class=\"dataframe\">\n",
       "  <thead>\n",
       "    <tr style=\"text-align: right;\">\n",
       "      <th></th>\n",
       "      <th>date</th>\n",
       "      <th>type</th>\n",
       "      <th>locale</th>\n",
       "      <th>locale_name</th>\n",
       "      <th>description</th>\n",
       "      <th>transferred</th>\n",
       "    </tr>\n",
       "  </thead>\n",
       "  <tbody>\n",
       "    <tr>\n",
       "      <th>0</th>\n",
       "      <td>2012-03-02</td>\n",
       "      <td>Holiday</td>\n",
       "      <td>Local</td>\n",
       "      <td>Manta</td>\n",
       "      <td>Fundacion de Manta</td>\n",
       "      <td>False</td>\n",
       "    </tr>\n",
       "    <tr>\n",
       "      <th>1</th>\n",
       "      <td>2012-04-01</td>\n",
       "      <td>Holiday</td>\n",
       "      <td>Regional</td>\n",
       "      <td>Cotopaxi</td>\n",
       "      <td>Provincializacion de Cotopaxi</td>\n",
       "      <td>False</td>\n",
       "    </tr>\n",
       "    <tr>\n",
       "      <th>2</th>\n",
       "      <td>2012-04-12</td>\n",
       "      <td>Holiday</td>\n",
       "      <td>Local</td>\n",
       "      <td>Cuenca</td>\n",
       "      <td>Fundacion de Cuenca</td>\n",
       "      <td>False</td>\n",
       "    </tr>\n",
       "    <tr>\n",
       "      <th>3</th>\n",
       "      <td>2012-04-14</td>\n",
       "      <td>Holiday</td>\n",
       "      <td>Local</td>\n",
       "      <td>Libertad</td>\n",
       "      <td>Cantonizacion de Libertad</td>\n",
       "      <td>False</td>\n",
       "    </tr>\n",
       "    <tr>\n",
       "      <th>4</th>\n",
       "      <td>2012-04-21</td>\n",
       "      <td>Holiday</td>\n",
       "      <td>Local</td>\n",
       "      <td>Riobamba</td>\n",
       "      <td>Cantonizacion de Riobamba</td>\n",
       "      <td>False</td>\n",
       "    </tr>\n",
       "  </tbody>\n",
       "</table>\n",
       "</div>"
      ],
      "text/plain": [
       "         date     type    locale locale_name                    description  \\\n",
       "0  2012-03-02  Holiday     Local       Manta             Fundacion de Manta   \n",
       "1  2012-04-01  Holiday  Regional    Cotopaxi  Provincializacion de Cotopaxi   \n",
       "2  2012-04-12  Holiday     Local      Cuenca            Fundacion de Cuenca   \n",
       "3  2012-04-14  Holiday     Local    Libertad      Cantonizacion de Libertad   \n",
       "4  2012-04-21  Holiday     Local    Riobamba      Cantonizacion de Riobamba   \n",
       "\n",
       "   transferred  \n",
       "0        False  \n",
       "1        False  \n",
       "2        False  \n",
       "3        False  \n",
       "4        False  "
      ]
     },
     "execution_count": 110,
     "metadata": {},
     "output_type": "execute_result"
    }
   ],
   "source": [
    "holidays_events.head()"
   ]
  },
  {
   "cell_type": "code",
   "execution_count": 111,
   "id": "19e6dff8",
   "metadata": {},
   "outputs": [
    {
     "data": {
      "text/plain": [
       "Index(['date', 'dcoilwtico'], dtype='object')"
      ]
     },
     "execution_count": 111,
     "metadata": {},
     "output_type": "execute_result"
    }
   ],
   "source": [
    "oil.columns"
   ]
  },
  {
   "cell_type": "code",
   "execution_count": 112,
   "id": "8d799aca",
   "metadata": {},
   "outputs": [
    {
     "data": {
      "text/html": [
       "<div>\n",
       "<style scoped>\n",
       "    .dataframe tbody tr th:only-of-type {\n",
       "        vertical-align: middle;\n",
       "    }\n",
       "\n",
       "    .dataframe tbody tr th {\n",
       "        vertical-align: top;\n",
       "    }\n",
       "\n",
       "    .dataframe thead th {\n",
       "        text-align: right;\n",
       "    }\n",
       "</style>\n",
       "<table border=\"1\" class=\"dataframe\">\n",
       "  <thead>\n",
       "    <tr style=\"text-align: right;\">\n",
       "      <th></th>\n",
       "      <th>date</th>\n",
       "      <th>dcoilwtico</th>\n",
       "    </tr>\n",
       "  </thead>\n",
       "  <tbody>\n",
       "    <tr>\n",
       "      <th>0</th>\n",
       "      <td>2013-01-01</td>\n",
       "      <td>NaN</td>\n",
       "    </tr>\n",
       "    <tr>\n",
       "      <th>1</th>\n",
       "      <td>2013-01-02</td>\n",
       "      <td>93.14</td>\n",
       "    </tr>\n",
       "    <tr>\n",
       "      <th>2</th>\n",
       "      <td>2013-01-03</td>\n",
       "      <td>92.97</td>\n",
       "    </tr>\n",
       "    <tr>\n",
       "      <th>3</th>\n",
       "      <td>2013-01-04</td>\n",
       "      <td>93.12</td>\n",
       "    </tr>\n",
       "    <tr>\n",
       "      <th>4</th>\n",
       "      <td>2013-01-07</td>\n",
       "      <td>93.20</td>\n",
       "    </tr>\n",
       "  </tbody>\n",
       "</table>\n",
       "</div>"
      ],
      "text/plain": [
       "         date  dcoilwtico\n",
       "0  2013-01-01         NaN\n",
       "1  2013-01-02       93.14\n",
       "2  2013-01-03       92.97\n",
       "3  2013-01-04       93.12\n",
       "4  2013-01-07       93.20"
      ]
     },
     "execution_count": 112,
     "metadata": {},
     "output_type": "execute_result"
    }
   ],
   "source": [
    "oil.head()"
   ]
  },
  {
   "cell_type": "code",
   "execution_count": 113,
   "id": "22b1db6a",
   "metadata": {},
   "outputs": [
    {
     "data": {
      "text/plain": [
       "Index(['store_nbr', 'city', 'state', 'type', 'cluster'], dtype='object')"
      ]
     },
     "execution_count": 113,
     "metadata": {},
     "output_type": "execute_result"
    }
   ],
   "source": [
    "stores.columns"
   ]
  },
  {
   "cell_type": "code",
   "execution_count": 114,
   "id": "a7290223",
   "metadata": {},
   "outputs": [
    {
     "data": {
      "text/html": [
       "<div>\n",
       "<style scoped>\n",
       "    .dataframe tbody tr th:only-of-type {\n",
       "        vertical-align: middle;\n",
       "    }\n",
       "\n",
       "    .dataframe tbody tr th {\n",
       "        vertical-align: top;\n",
       "    }\n",
       "\n",
       "    .dataframe thead th {\n",
       "        text-align: right;\n",
       "    }\n",
       "</style>\n",
       "<table border=\"1\" class=\"dataframe\">\n",
       "  <thead>\n",
       "    <tr style=\"text-align: right;\">\n",
       "      <th></th>\n",
       "      <th>store_nbr</th>\n",
       "      <th>city</th>\n",
       "      <th>state</th>\n",
       "      <th>type</th>\n",
       "      <th>cluster</th>\n",
       "    </tr>\n",
       "  </thead>\n",
       "  <tbody>\n",
       "    <tr>\n",
       "      <th>0</th>\n",
       "      <td>1</td>\n",
       "      <td>Quito</td>\n",
       "      <td>Pichincha</td>\n",
       "      <td>D</td>\n",
       "      <td>13</td>\n",
       "    </tr>\n",
       "    <tr>\n",
       "      <th>1</th>\n",
       "      <td>2</td>\n",
       "      <td>Quito</td>\n",
       "      <td>Pichincha</td>\n",
       "      <td>D</td>\n",
       "      <td>13</td>\n",
       "    </tr>\n",
       "    <tr>\n",
       "      <th>2</th>\n",
       "      <td>3</td>\n",
       "      <td>Quito</td>\n",
       "      <td>Pichincha</td>\n",
       "      <td>D</td>\n",
       "      <td>8</td>\n",
       "    </tr>\n",
       "    <tr>\n",
       "      <th>3</th>\n",
       "      <td>4</td>\n",
       "      <td>Quito</td>\n",
       "      <td>Pichincha</td>\n",
       "      <td>D</td>\n",
       "      <td>9</td>\n",
       "    </tr>\n",
       "    <tr>\n",
       "      <th>4</th>\n",
       "      <td>5</td>\n",
       "      <td>Santo Domingo</td>\n",
       "      <td>Santo Domingo de los Tsachilas</td>\n",
       "      <td>D</td>\n",
       "      <td>4</td>\n",
       "    </tr>\n",
       "  </tbody>\n",
       "</table>\n",
       "</div>"
      ],
      "text/plain": [
       "   store_nbr           city                           state type  cluster\n",
       "0          1          Quito                       Pichincha    D       13\n",
       "1          2          Quito                       Pichincha    D       13\n",
       "2          3          Quito                       Pichincha    D        8\n",
       "3          4          Quito                       Pichincha    D        9\n",
       "4          5  Santo Domingo  Santo Domingo de los Tsachilas    D        4"
      ]
     },
     "execution_count": 114,
     "metadata": {},
     "output_type": "execute_result"
    }
   ],
   "source": [
    "stores.head()"
   ]
  },
  {
   "cell_type": "code",
   "execution_count": 115,
   "id": "7a2e15cd",
   "metadata": {},
   "outputs": [
    {
     "data": {
      "text/plain": [
       "Index(['id', 'date', 'store_nbr', 'family', 'sales', 'onpromotion'], dtype='object')"
      ]
     },
     "execution_count": 115,
     "metadata": {},
     "output_type": "execute_result"
    }
   ],
   "source": [
    "train.columns"
   ]
  },
  {
   "cell_type": "code",
   "execution_count": 116,
   "id": "bd14c29f",
   "metadata": {},
   "outputs": [
    {
     "data": {
      "text/html": [
       "<div>\n",
       "<style scoped>\n",
       "    .dataframe tbody tr th:only-of-type {\n",
       "        vertical-align: middle;\n",
       "    }\n",
       "\n",
       "    .dataframe tbody tr th {\n",
       "        vertical-align: top;\n",
       "    }\n",
       "\n",
       "    .dataframe thead th {\n",
       "        text-align: right;\n",
       "    }\n",
       "</style>\n",
       "<table border=\"1\" class=\"dataframe\">\n",
       "  <thead>\n",
       "    <tr style=\"text-align: right;\">\n",
       "      <th></th>\n",
       "      <th>id</th>\n",
       "      <th>date</th>\n",
       "      <th>store_nbr</th>\n",
       "      <th>family</th>\n",
       "      <th>sales</th>\n",
       "      <th>onpromotion</th>\n",
       "    </tr>\n",
       "  </thead>\n",
       "  <tbody>\n",
       "    <tr>\n",
       "      <th>0</th>\n",
       "      <td>0</td>\n",
       "      <td>2013-01-01</td>\n",
       "      <td>1</td>\n",
       "      <td>AUTOMOTIVE</td>\n",
       "      <td>0.0</td>\n",
       "      <td>0</td>\n",
       "    </tr>\n",
       "    <tr>\n",
       "      <th>1</th>\n",
       "      <td>1</td>\n",
       "      <td>2013-01-01</td>\n",
       "      <td>1</td>\n",
       "      <td>BABY CARE</td>\n",
       "      <td>0.0</td>\n",
       "      <td>0</td>\n",
       "    </tr>\n",
       "    <tr>\n",
       "      <th>2</th>\n",
       "      <td>2</td>\n",
       "      <td>2013-01-01</td>\n",
       "      <td>1</td>\n",
       "      <td>BEAUTY</td>\n",
       "      <td>0.0</td>\n",
       "      <td>0</td>\n",
       "    </tr>\n",
       "    <tr>\n",
       "      <th>3</th>\n",
       "      <td>3</td>\n",
       "      <td>2013-01-01</td>\n",
       "      <td>1</td>\n",
       "      <td>BEVERAGES</td>\n",
       "      <td>0.0</td>\n",
       "      <td>0</td>\n",
       "    </tr>\n",
       "    <tr>\n",
       "      <th>4</th>\n",
       "      <td>4</td>\n",
       "      <td>2013-01-01</td>\n",
       "      <td>1</td>\n",
       "      <td>BOOKS</td>\n",
       "      <td>0.0</td>\n",
       "      <td>0</td>\n",
       "    </tr>\n",
       "  </tbody>\n",
       "</table>\n",
       "</div>"
      ],
      "text/plain": [
       "   id        date  store_nbr      family  sales  onpromotion\n",
       "0   0  2013-01-01          1  AUTOMOTIVE    0.0            0\n",
       "1   1  2013-01-01          1   BABY CARE    0.0            0\n",
       "2   2  2013-01-01          1      BEAUTY    0.0            0\n",
       "3   3  2013-01-01          1   BEVERAGES    0.0            0\n",
       "4   4  2013-01-01          1       BOOKS    0.0            0"
      ]
     },
     "execution_count": 116,
     "metadata": {},
     "output_type": "execute_result"
    }
   ],
   "source": [
    "train.head()"
   ]
  },
  {
   "cell_type": "code",
   "execution_count": 117,
   "id": "d3718888",
   "metadata": {},
   "outputs": [
    {
     "data": {
      "text/plain": [
       "Index(['id', 'date', 'store_nbr', 'family', 'onpromotion'], dtype='object')"
      ]
     },
     "execution_count": 117,
     "metadata": {},
     "output_type": "execute_result"
    }
   ],
   "source": [
    "test.columns"
   ]
  },
  {
   "cell_type": "code",
   "execution_count": 118,
   "id": "57482f3e",
   "metadata": {},
   "outputs": [
    {
     "data": {
      "text/html": [
       "<div>\n",
       "<style scoped>\n",
       "    .dataframe tbody tr th:only-of-type {\n",
       "        vertical-align: middle;\n",
       "    }\n",
       "\n",
       "    .dataframe tbody tr th {\n",
       "        vertical-align: top;\n",
       "    }\n",
       "\n",
       "    .dataframe thead th {\n",
       "        text-align: right;\n",
       "    }\n",
       "</style>\n",
       "<table border=\"1\" class=\"dataframe\">\n",
       "  <thead>\n",
       "    <tr style=\"text-align: right;\">\n",
       "      <th></th>\n",
       "      <th>id</th>\n",
       "      <th>date</th>\n",
       "      <th>store_nbr</th>\n",
       "      <th>family</th>\n",
       "      <th>onpromotion</th>\n",
       "    </tr>\n",
       "  </thead>\n",
       "  <tbody>\n",
       "    <tr>\n",
       "      <th>0</th>\n",
       "      <td>3000888</td>\n",
       "      <td>2017-08-16</td>\n",
       "      <td>1</td>\n",
       "      <td>AUTOMOTIVE</td>\n",
       "      <td>0</td>\n",
       "    </tr>\n",
       "    <tr>\n",
       "      <th>1</th>\n",
       "      <td>3000889</td>\n",
       "      <td>2017-08-16</td>\n",
       "      <td>1</td>\n",
       "      <td>BABY CARE</td>\n",
       "      <td>0</td>\n",
       "    </tr>\n",
       "    <tr>\n",
       "      <th>2</th>\n",
       "      <td>3000890</td>\n",
       "      <td>2017-08-16</td>\n",
       "      <td>1</td>\n",
       "      <td>BEAUTY</td>\n",
       "      <td>2</td>\n",
       "    </tr>\n",
       "    <tr>\n",
       "      <th>3</th>\n",
       "      <td>3000891</td>\n",
       "      <td>2017-08-16</td>\n",
       "      <td>1</td>\n",
       "      <td>BEVERAGES</td>\n",
       "      <td>20</td>\n",
       "    </tr>\n",
       "    <tr>\n",
       "      <th>4</th>\n",
       "      <td>3000892</td>\n",
       "      <td>2017-08-16</td>\n",
       "      <td>1</td>\n",
       "      <td>BOOKS</td>\n",
       "      <td>0</td>\n",
       "    </tr>\n",
       "  </tbody>\n",
       "</table>\n",
       "</div>"
      ],
      "text/plain": [
       "        id        date  store_nbr      family  onpromotion\n",
       "0  3000888  2017-08-16          1  AUTOMOTIVE            0\n",
       "1  3000889  2017-08-16          1   BABY CARE            0\n",
       "2  3000890  2017-08-16          1      BEAUTY            2\n",
       "3  3000891  2017-08-16          1   BEVERAGES           20\n",
       "4  3000892  2017-08-16          1       BOOKS            0"
      ]
     },
     "execution_count": 118,
     "metadata": {},
     "output_type": "execute_result"
    }
   ],
   "source": [
    "test.head()"
   ]
  },
  {
   "cell_type": "code",
   "execution_count": 119,
   "id": "53bc9851",
   "metadata": {},
   "outputs": [
    {
     "data": {
      "text/plain": [
       "Index(['date', 'store_nbr', 'transactions'], dtype='object')"
      ]
     },
     "execution_count": 119,
     "metadata": {},
     "output_type": "execute_result"
    }
   ],
   "source": [
    "transactions.columns"
   ]
  },
  {
   "cell_type": "code",
   "execution_count": 120,
   "id": "990594fe",
   "metadata": {},
   "outputs": [
    {
     "data": {
      "text/html": [
       "<div>\n",
       "<style scoped>\n",
       "    .dataframe tbody tr th:only-of-type {\n",
       "        vertical-align: middle;\n",
       "    }\n",
       "\n",
       "    .dataframe tbody tr th {\n",
       "        vertical-align: top;\n",
       "    }\n",
       "\n",
       "    .dataframe thead th {\n",
       "        text-align: right;\n",
       "    }\n",
       "</style>\n",
       "<table border=\"1\" class=\"dataframe\">\n",
       "  <thead>\n",
       "    <tr style=\"text-align: right;\">\n",
       "      <th></th>\n",
       "      <th>date</th>\n",
       "      <th>store_nbr</th>\n",
       "      <th>transactions</th>\n",
       "    </tr>\n",
       "  </thead>\n",
       "  <tbody>\n",
       "    <tr>\n",
       "      <th>0</th>\n",
       "      <td>2013-01-01</td>\n",
       "      <td>25</td>\n",
       "      <td>770</td>\n",
       "    </tr>\n",
       "    <tr>\n",
       "      <th>1</th>\n",
       "      <td>2013-01-02</td>\n",
       "      <td>1</td>\n",
       "      <td>2111</td>\n",
       "    </tr>\n",
       "    <tr>\n",
       "      <th>2</th>\n",
       "      <td>2013-01-02</td>\n",
       "      <td>2</td>\n",
       "      <td>2358</td>\n",
       "    </tr>\n",
       "    <tr>\n",
       "      <th>3</th>\n",
       "      <td>2013-01-02</td>\n",
       "      <td>3</td>\n",
       "      <td>3487</td>\n",
       "    </tr>\n",
       "    <tr>\n",
       "      <th>4</th>\n",
       "      <td>2013-01-02</td>\n",
       "      <td>4</td>\n",
       "      <td>1922</td>\n",
       "    </tr>\n",
       "  </tbody>\n",
       "</table>\n",
       "</div>"
      ],
      "text/plain": [
       "         date  store_nbr  transactions\n",
       "0  2013-01-01         25           770\n",
       "1  2013-01-02          1          2111\n",
       "2  2013-01-02          2          2358\n",
       "3  2013-01-02          3          3487\n",
       "4  2013-01-02          4          1922"
      ]
     },
     "execution_count": 120,
     "metadata": {},
     "output_type": "execute_result"
    }
   ],
   "source": [
    "transactions.head()"
   ]
  },
  {
   "cell_type": "code",
   "execution_count": 121,
   "id": "f3c2d0e2",
   "metadata": {},
   "outputs": [
    {
     "data": {
      "text/plain": [
       "Index(['id', 'sales'], dtype='object')"
      ]
     },
     "execution_count": 121,
     "metadata": {},
     "output_type": "execute_result"
    }
   ],
   "source": [
    "sample_submission.columns"
   ]
  },
  {
   "cell_type": "code",
   "execution_count": 122,
   "id": "70c0b116",
   "metadata": {},
   "outputs": [
    {
     "data": {
      "text/html": [
       "<div>\n",
       "<style scoped>\n",
       "    .dataframe tbody tr th:only-of-type {\n",
       "        vertical-align: middle;\n",
       "    }\n",
       "\n",
       "    .dataframe tbody tr th {\n",
       "        vertical-align: top;\n",
       "    }\n",
       "\n",
       "    .dataframe thead th {\n",
       "        text-align: right;\n",
       "    }\n",
       "</style>\n",
       "<table border=\"1\" class=\"dataframe\">\n",
       "  <thead>\n",
       "    <tr style=\"text-align: right;\">\n",
       "      <th></th>\n",
       "      <th>id</th>\n",
       "      <th>sales</th>\n",
       "    </tr>\n",
       "  </thead>\n",
       "  <tbody>\n",
       "    <tr>\n",
       "      <th>0</th>\n",
       "      <td>3000888</td>\n",
       "      <td>0.0</td>\n",
       "    </tr>\n",
       "    <tr>\n",
       "      <th>1</th>\n",
       "      <td>3000889</td>\n",
       "      <td>0.0</td>\n",
       "    </tr>\n",
       "    <tr>\n",
       "      <th>2</th>\n",
       "      <td>3000890</td>\n",
       "      <td>0.0</td>\n",
       "    </tr>\n",
       "    <tr>\n",
       "      <th>3</th>\n",
       "      <td>3000891</td>\n",
       "      <td>0.0</td>\n",
       "    </tr>\n",
       "    <tr>\n",
       "      <th>4</th>\n",
       "      <td>3000892</td>\n",
       "      <td>0.0</td>\n",
       "    </tr>\n",
       "  </tbody>\n",
       "</table>\n",
       "</div>"
      ],
      "text/plain": [
       "        id  sales\n",
       "0  3000888    0.0\n",
       "1  3000889    0.0\n",
       "2  3000890    0.0\n",
       "3  3000891    0.0\n",
       "4  3000892    0.0"
      ]
     },
     "execution_count": 122,
     "metadata": {},
     "output_type": "execute_result"
    }
   ],
   "source": [
    "sample_submission.head()"
   ]
  },
  {
   "cell_type": "markdown",
   "id": "2945b15d",
   "metadata": {},
   "source": [
    "# **combine all columns on one dataset**"
   ]
  },
  {
   "cell_type": "code",
   "execution_count": 123,
   "id": "e84a98e0",
   "metadata": {},
   "outputs": [],
   "source": [
    "#convert all columns to the date columns to datetime to merge the data\n",
    "train[\"date\"] = pd.to_datetime(train.date)\n",
    "test[\"date\"] = pd.to_datetime(test.date)\n",
    "transactions[\"date\"] = pd.to_datetime(transactions.date)\n",
    "holidays_events[\"date\"] = pd.to_datetime(holidays_events.date)\n",
    "oil[\"date\"] = pd.to_datetime(oil.date)"
   ]
  },
  {
   "cell_type": "code",
   "execution_count": 124,
   "id": "713ec902",
   "metadata": {},
   "outputs": [],
   "source": [
    "train['onpromotion'] = train['onpromotion'].astype(\"float16\")\n",
    "test['onpromotion'] = test['onpromotion'].astype(\"float16\")\n",
    "train['sales'] = train['sales'].astype(\"float32\")\n",
    "stores['cluster'] = stores['cluster'].astype(\"int8\")"
   ]
  },
  {
   "cell_type": "code",
   "execution_count": 125,
   "id": "34318d69",
   "metadata": {},
   "outputs": [],
   "source": [
    "def merge_with_lagged_features(df, oil, holidays):\n",
    "    # Create lagged oil prices\n",
    "    oil_lag = oil.copy()\n",
    "    oil_lag['date'] = oil_lag['date'] + pd.DateOffset(days=7)\n",
    "    oil_lag.rename(columns={'oil_price': 'oil_price_lag_7'}, inplace=True)\n",
    "    \n",
    "    # Merge lagged oil and holidays\n",
    "    df = df.merge(oil_lag, on='date', how='left')\n",
    "    df = df.merge(holidays, on='date', how='left')\n",
    "    return df\n",
    "\n",
    "train1 = merge_with_lagged_features(train, oil, holidays_events)\n",
    "test = merge_with_lagged_features(test, oil, holidays_events)\n",
    "train1 = train1.merge(stores, on='store_nbr', how='left')\n",
    "train1 = train1.merge(transactions, on=['date', 'store_nbr'], how='left')\n",
    "train1 = train1.rename(columns={\"type_x\": \"holiday_type\", \"type_y\": \"store_type\"})"
   ]
  },
  {
   "cell_type": "code",
   "execution_count": 126,
   "id": "d1222a86",
   "metadata": {},
   "outputs": [],
   "source": [
    "def temporal_features(df):\n",
    "    df['year'] = df['date'].dt.year\n",
    "    df['month'] = df['date'].dt.month\n",
    "    df['week'] = df['date'].dt.isocalendar().week\n",
    "    df['quarter'] = df['date'].dt.quarter\n",
    "    df['day_of_week'] = df['date'].dt.day_name()\n",
    "    df['day_of_month'] = df['date'].dt.day\n",
    "    df['day_of_year'] = df['date'].dt.dayofyear\n",
    "    df['is_weekend'] = (df['day_of_week'].isin(['Saturday', 'Sunday'])).astype(int)\n",
    "    df['is_month_start'] = df['date'].dt.is_month_start.astype(int)\n",
    "    df['is_month_end'] = df['date'].dt.is_month_end.astype(int)\n",
    "    df['dayofweek'] = df['date'].dt.dayofweek\n",
    "    # Make sure the 'date' column is in datetime format\n",
    "    df['date'] = pd.to_datetime(df['date'])\n",
    "\n",
    "    # Sp lit into separate columns\n",
    "    df['year'] = df['date'].dt.year\n",
    "    df['month'] = df['date'].dt.month\n",
    "    df['day'] = df['date'].dt.day\n",
    "\n",
    "    \n",
    "    return df          \n",
    "\n",
    "train1 = temporal_features(train1)\n",
    "test = temporal_features(test)"
   ]
  },
  {
   "cell_type": "code",
   "execution_count": 127,
   "id": "dbdde194",
   "metadata": {},
   "outputs": [
    {
     "name": "stderr",
     "output_type": "stream",
     "text": [
      "c:\\Users\\ali\\AppData\\Local\\Programs\\Python\\Python313\\Lib\\site-packages\\pandas\\io\\formats\\format.py:1458: RuntimeWarning:\n",
      "\n",
      "overflow encountered in cast\n",
      "\n",
      "c:\\Users\\ali\\AppData\\Local\\Programs\\Python\\Python313\\Lib\\site-packages\\pandas\\io\\formats\\format.py:1458: RuntimeWarning:\n",
      "\n",
      "overflow encountered in cast\n",
      "\n"
     ]
    },
    {
     "data": {
      "text/html": [
       "<div>\n",
       "<style scoped>\n",
       "    .dataframe tbody tr th:only-of-type {\n",
       "        vertical-align: middle;\n",
       "    }\n",
       "\n",
       "    .dataframe tbody tr th {\n",
       "        vertical-align: top;\n",
       "    }\n",
       "\n",
       "    .dataframe thead th {\n",
       "        text-align: right;\n",
       "    }\n",
       "</style>\n",
       "<table border=\"1\" class=\"dataframe\">\n",
       "  <thead>\n",
       "    <tr style=\"text-align: right;\">\n",
       "      <th></th>\n",
       "      <th>id</th>\n",
       "      <th>date</th>\n",
       "      <th>store_nbr</th>\n",
       "      <th>family</th>\n",
       "      <th>sales</th>\n",
       "      <th>onpromotion</th>\n",
       "      <th>dcoilwtico</th>\n",
       "      <th>holiday_type</th>\n",
       "      <th>locale</th>\n",
       "      <th>locale_name</th>\n",
       "      <th>...</th>\n",
       "      <th>week</th>\n",
       "      <th>quarter</th>\n",
       "      <th>day_of_week</th>\n",
       "      <th>day_of_month</th>\n",
       "      <th>day_of_year</th>\n",
       "      <th>is_weekend</th>\n",
       "      <th>is_month_start</th>\n",
       "      <th>is_month_end</th>\n",
       "      <th>dayofweek</th>\n",
       "      <th>day</th>\n",
       "    </tr>\n",
       "  </thead>\n",
       "  <tbody>\n",
       "    <tr>\n",
       "      <th>0</th>\n",
       "      <td>0</td>\n",
       "      <td>2013-01-01</td>\n",
       "      <td>1</td>\n",
       "      <td>AUTOMOTIVE</td>\n",
       "      <td>0.000000</td>\n",
       "      <td>0.0</td>\n",
       "      <td>NaN</td>\n",
       "      <td>Holiday</td>\n",
       "      <td>National</td>\n",
       "      <td>Ecuador</td>\n",
       "      <td>...</td>\n",
       "      <td>1</td>\n",
       "      <td>1</td>\n",
       "      <td>Tuesday</td>\n",
       "      <td>1</td>\n",
       "      <td>1</td>\n",
       "      <td>0</td>\n",
       "      <td>1</td>\n",
       "      <td>0</td>\n",
       "      <td>1</td>\n",
       "      <td>1</td>\n",
       "    </tr>\n",
       "    <tr>\n",
       "      <th>1</th>\n",
       "      <td>1</td>\n",
       "      <td>2013-01-01</td>\n",
       "      <td>1</td>\n",
       "      <td>BABY CARE</td>\n",
       "      <td>0.000000</td>\n",
       "      <td>0.0</td>\n",
       "      <td>NaN</td>\n",
       "      <td>Holiday</td>\n",
       "      <td>National</td>\n",
       "      <td>Ecuador</td>\n",
       "      <td>...</td>\n",
       "      <td>1</td>\n",
       "      <td>1</td>\n",
       "      <td>Tuesday</td>\n",
       "      <td>1</td>\n",
       "      <td>1</td>\n",
       "      <td>0</td>\n",
       "      <td>1</td>\n",
       "      <td>0</td>\n",
       "      <td>1</td>\n",
       "      <td>1</td>\n",
       "    </tr>\n",
       "    <tr>\n",
       "      <th>2</th>\n",
       "      <td>2</td>\n",
       "      <td>2013-01-01</td>\n",
       "      <td>1</td>\n",
       "      <td>BEAUTY</td>\n",
       "      <td>0.000000</td>\n",
       "      <td>0.0</td>\n",
       "      <td>NaN</td>\n",
       "      <td>Holiday</td>\n",
       "      <td>National</td>\n",
       "      <td>Ecuador</td>\n",
       "      <td>...</td>\n",
       "      <td>1</td>\n",
       "      <td>1</td>\n",
       "      <td>Tuesday</td>\n",
       "      <td>1</td>\n",
       "      <td>1</td>\n",
       "      <td>0</td>\n",
       "      <td>1</td>\n",
       "      <td>0</td>\n",
       "      <td>1</td>\n",
       "      <td>1</td>\n",
       "    </tr>\n",
       "    <tr>\n",
       "      <th>3</th>\n",
       "      <td>3</td>\n",
       "      <td>2013-01-01</td>\n",
       "      <td>1</td>\n",
       "      <td>BEVERAGES</td>\n",
       "      <td>0.000000</td>\n",
       "      <td>0.0</td>\n",
       "      <td>NaN</td>\n",
       "      <td>Holiday</td>\n",
       "      <td>National</td>\n",
       "      <td>Ecuador</td>\n",
       "      <td>...</td>\n",
       "      <td>1</td>\n",
       "      <td>1</td>\n",
       "      <td>Tuesday</td>\n",
       "      <td>1</td>\n",
       "      <td>1</td>\n",
       "      <td>0</td>\n",
       "      <td>1</td>\n",
       "      <td>0</td>\n",
       "      <td>1</td>\n",
       "      <td>1</td>\n",
       "    </tr>\n",
       "    <tr>\n",
       "      <th>4</th>\n",
       "      <td>4</td>\n",
       "      <td>2013-01-01</td>\n",
       "      <td>1</td>\n",
       "      <td>BOOKS</td>\n",
       "      <td>0.000000</td>\n",
       "      <td>0.0</td>\n",
       "      <td>NaN</td>\n",
       "      <td>Holiday</td>\n",
       "      <td>National</td>\n",
       "      <td>Ecuador</td>\n",
       "      <td>...</td>\n",
       "      <td>1</td>\n",
       "      <td>1</td>\n",
       "      <td>Tuesday</td>\n",
       "      <td>1</td>\n",
       "      <td>1</td>\n",
       "      <td>0</td>\n",
       "      <td>1</td>\n",
       "      <td>0</td>\n",
       "      <td>1</td>\n",
       "      <td>1</td>\n",
       "    </tr>\n",
       "    <tr>\n",
       "      <th>...</th>\n",
       "      <td>...</td>\n",
       "      <td>...</td>\n",
       "      <td>...</td>\n",
       "      <td>...</td>\n",
       "      <td>...</td>\n",
       "      <td>...</td>\n",
       "      <td>...</td>\n",
       "      <td>...</td>\n",
       "      <td>...</td>\n",
       "      <td>...</td>\n",
       "      <td>...</td>\n",
       "      <td>...</td>\n",
       "      <td>...</td>\n",
       "      <td>...</td>\n",
       "      <td>...</td>\n",
       "      <td>...</td>\n",
       "      <td>...</td>\n",
       "      <td>...</td>\n",
       "      <td>...</td>\n",
       "      <td>...</td>\n",
       "      <td>...</td>\n",
       "    </tr>\n",
       "    <tr>\n",
       "      <th>3054343</th>\n",
       "      <td>3000883</td>\n",
       "      <td>2017-08-15</td>\n",
       "      <td>9</td>\n",
       "      <td>POULTRY</td>\n",
       "      <td>438.132996</td>\n",
       "      <td>0.0</td>\n",
       "      <td>49.07</td>\n",
       "      <td>Holiday</td>\n",
       "      <td>Local</td>\n",
       "      <td>Riobamba</td>\n",
       "      <td>...</td>\n",
       "      <td>33</td>\n",
       "      <td>3</td>\n",
       "      <td>Tuesday</td>\n",
       "      <td>15</td>\n",
       "      <td>227</td>\n",
       "      <td>0</td>\n",
       "      <td>0</td>\n",
       "      <td>0</td>\n",
       "      <td>1</td>\n",
       "      <td>15</td>\n",
       "    </tr>\n",
       "    <tr>\n",
       "      <th>3054344</th>\n",
       "      <td>3000884</td>\n",
       "      <td>2017-08-15</td>\n",
       "      <td>9</td>\n",
       "      <td>PREPARED FOODS</td>\n",
       "      <td>154.552994</td>\n",
       "      <td>1.0</td>\n",
       "      <td>49.07</td>\n",
       "      <td>Holiday</td>\n",
       "      <td>Local</td>\n",
       "      <td>Riobamba</td>\n",
       "      <td>...</td>\n",
       "      <td>33</td>\n",
       "      <td>3</td>\n",
       "      <td>Tuesday</td>\n",
       "      <td>15</td>\n",
       "      <td>227</td>\n",
       "      <td>0</td>\n",
       "      <td>0</td>\n",
       "      <td>0</td>\n",
       "      <td>1</td>\n",
       "      <td>15</td>\n",
       "    </tr>\n",
       "    <tr>\n",
       "      <th>3054345</th>\n",
       "      <td>3000885</td>\n",
       "      <td>2017-08-15</td>\n",
       "      <td>9</td>\n",
       "      <td>PRODUCE</td>\n",
       "      <td>2419.729004</td>\n",
       "      <td>148.0</td>\n",
       "      <td>49.07</td>\n",
       "      <td>Holiday</td>\n",
       "      <td>Local</td>\n",
       "      <td>Riobamba</td>\n",
       "      <td>...</td>\n",
       "      <td>33</td>\n",
       "      <td>3</td>\n",
       "      <td>Tuesday</td>\n",
       "      <td>15</td>\n",
       "      <td>227</td>\n",
       "      <td>0</td>\n",
       "      <td>0</td>\n",
       "      <td>0</td>\n",
       "      <td>1</td>\n",
       "      <td>15</td>\n",
       "    </tr>\n",
       "    <tr>\n",
       "      <th>3054346</th>\n",
       "      <td>3000886</td>\n",
       "      <td>2017-08-15</td>\n",
       "      <td>9</td>\n",
       "      <td>SCHOOL AND OFFICE SUPPLIES</td>\n",
       "      <td>121.000000</td>\n",
       "      <td>8.0</td>\n",
       "      <td>49.07</td>\n",
       "      <td>Holiday</td>\n",
       "      <td>Local</td>\n",
       "      <td>Riobamba</td>\n",
       "      <td>...</td>\n",
       "      <td>33</td>\n",
       "      <td>3</td>\n",
       "      <td>Tuesday</td>\n",
       "      <td>15</td>\n",
       "      <td>227</td>\n",
       "      <td>0</td>\n",
       "      <td>0</td>\n",
       "      <td>0</td>\n",
       "      <td>1</td>\n",
       "      <td>15</td>\n",
       "    </tr>\n",
       "    <tr>\n",
       "      <th>3054347</th>\n",
       "      <td>3000887</td>\n",
       "      <td>2017-08-15</td>\n",
       "      <td>9</td>\n",
       "      <td>SEAFOOD</td>\n",
       "      <td>16.000000</td>\n",
       "      <td>0.0</td>\n",
       "      <td>49.07</td>\n",
       "      <td>Holiday</td>\n",
       "      <td>Local</td>\n",
       "      <td>Riobamba</td>\n",
       "      <td>...</td>\n",
       "      <td>33</td>\n",
       "      <td>3</td>\n",
       "      <td>Tuesday</td>\n",
       "      <td>15</td>\n",
       "      <td>227</td>\n",
       "      <td>0</td>\n",
       "      <td>0</td>\n",
       "      <td>0</td>\n",
       "      <td>1</td>\n",
       "      <td>15</td>\n",
       "    </tr>\n",
       "  </tbody>\n",
       "</table>\n",
       "<p>3054348 rows × 29 columns</p>\n",
       "</div>"
      ],
      "text/plain": [
       "              id       date  store_nbr                      family  \\\n",
       "0              0 2013-01-01          1                  AUTOMOTIVE   \n",
       "1              1 2013-01-01          1                   BABY CARE   \n",
       "2              2 2013-01-01          1                      BEAUTY   \n",
       "3              3 2013-01-01          1                   BEVERAGES   \n",
       "4              4 2013-01-01          1                       BOOKS   \n",
       "...          ...        ...        ...                         ...   \n",
       "3054343  3000883 2017-08-15          9                     POULTRY   \n",
       "3054344  3000884 2017-08-15          9              PREPARED FOODS   \n",
       "3054345  3000885 2017-08-15          9                     PRODUCE   \n",
       "3054346  3000886 2017-08-15          9  SCHOOL AND OFFICE SUPPLIES   \n",
       "3054347  3000887 2017-08-15          9                     SEAFOOD   \n",
       "\n",
       "               sales  onpromotion  dcoilwtico holiday_type    locale  \\\n",
       "0           0.000000          0.0         NaN      Holiday  National   \n",
       "1           0.000000          0.0         NaN      Holiday  National   \n",
       "2           0.000000          0.0         NaN      Holiday  National   \n",
       "3           0.000000          0.0         NaN      Holiday  National   \n",
       "4           0.000000          0.0         NaN      Holiday  National   \n",
       "...              ...          ...         ...          ...       ...   \n",
       "3054343   438.132996          0.0       49.07      Holiday     Local   \n",
       "3054344   154.552994          1.0       49.07      Holiday     Local   \n",
       "3054345  2419.729004        148.0       49.07      Holiday     Local   \n",
       "3054346   121.000000          8.0       49.07      Holiday     Local   \n",
       "3054347    16.000000          0.0       49.07      Holiday     Local   \n",
       "\n",
       "        locale_name  ... week quarter day_of_week day_of_month day_of_year  \\\n",
       "0           Ecuador  ...    1       1     Tuesday            1           1   \n",
       "1           Ecuador  ...    1       1     Tuesday            1           1   \n",
       "2           Ecuador  ...    1       1     Tuesday            1           1   \n",
       "3           Ecuador  ...    1       1     Tuesday            1           1   \n",
       "4           Ecuador  ...    1       1     Tuesday            1           1   \n",
       "...             ...  ...  ...     ...         ...          ...         ...   \n",
       "3054343    Riobamba  ...   33       3     Tuesday           15         227   \n",
       "3054344    Riobamba  ...   33       3     Tuesday           15         227   \n",
       "3054345    Riobamba  ...   33       3     Tuesday           15         227   \n",
       "3054346    Riobamba  ...   33       3     Tuesday           15         227   \n",
       "3054347    Riobamba  ...   33       3     Tuesday           15         227   \n",
       "\n",
       "         is_weekend  is_month_start  is_month_end  dayofweek  day  \n",
       "0                 0               1             0          1    1  \n",
       "1                 0               1             0          1    1  \n",
       "2                 0               1             0          1    1  \n",
       "3                 0               1             0          1    1  \n",
       "4                 0               1             0          1    1  \n",
       "...             ...             ...           ...        ...  ...  \n",
       "3054343           0               0             0          1   15  \n",
       "3054344           0               0             0          1   15  \n",
       "3054345           0               0             0          1   15  \n",
       "3054346           0               0             0          1   15  \n",
       "3054347           0               0             0          1   15  \n",
       "\n",
       "[3054348 rows x 29 columns]"
      ]
     },
     "execution_count": 127,
     "metadata": {},
     "output_type": "execute_result"
    }
   ],
   "source": [
    "train1"
   ]
  },
  {
   "cell_type": "code",
   "execution_count": null,
   "id": "6e43123c",
   "metadata": {},
   "outputs": [],
   "source": [
    "train1.describe()\n"
   ]
  },
  {
   "cell_type": "code",
   "execution_count": 91,
   "id": "7d4039e4",
   "metadata": {},
   "outputs": [
    {
     "name": "stderr",
     "output_type": "stream",
     "text": [
      "c:\\Users\\ali\\AppData\\Local\\Programs\\Python\\Python313\\Lib\\site-packages\\pandas\\io\\formats\\format.py:1458: RuntimeWarning:\n",
      "\n",
      "overflow encountered in cast\n",
      "\n",
      "c:\\Users\\ali\\AppData\\Local\\Programs\\Python\\Python313\\Lib\\site-packages\\pandas\\io\\formats\\format.py:1458: RuntimeWarning:\n",
      "\n",
      "overflow encountered in cast\n",
      "\n"
     ]
    },
    {
     "data": {
      "text/html": [
       "<div>\n",
       "<style scoped>\n",
       "    .dataframe tbody tr th:only-of-type {\n",
       "        vertical-align: middle;\n",
       "    }\n",
       "\n",
       "    .dataframe tbody tr th {\n",
       "        vertical-align: top;\n",
       "    }\n",
       "\n",
       "    .dataframe thead th {\n",
       "        text-align: right;\n",
       "    }\n",
       "</style>\n",
       "<table border=\"1\" class=\"dataframe\">\n",
       "  <thead>\n",
       "    <tr style=\"text-align: right;\">\n",
       "      <th></th>\n",
       "      <th>id</th>\n",
       "      <th>date</th>\n",
       "      <th>store_nbr</th>\n",
       "      <th>family</th>\n",
       "      <th>sales</th>\n",
       "      <th>onpromotion</th>\n",
       "      <th>dcoilwtico</th>\n",
       "      <th>holiday_type</th>\n",
       "      <th>locale</th>\n",
       "      <th>locale_name</th>\n",
       "      <th>...</th>\n",
       "      <th>week</th>\n",
       "      <th>quarter</th>\n",
       "      <th>day_of_week</th>\n",
       "      <th>day_of_month</th>\n",
       "      <th>day_of_year</th>\n",
       "      <th>is_weekend</th>\n",
       "      <th>is_month_start</th>\n",
       "      <th>is_month_end</th>\n",
       "      <th>dayofweek</th>\n",
       "      <th>day</th>\n",
       "    </tr>\n",
       "  </thead>\n",
       "  <tbody>\n",
       "    <tr>\n",
       "      <th>0</th>\n",
       "      <td>0</td>\n",
       "      <td>2013-01-01</td>\n",
       "      <td>1</td>\n",
       "      <td>AUTOMOTIVE</td>\n",
       "      <td>0.0</td>\n",
       "      <td>0.0</td>\n",
       "      <td>NaN</td>\n",
       "      <td>Holiday</td>\n",
       "      <td>National</td>\n",
       "      <td>Ecuador</td>\n",
       "      <td>...</td>\n",
       "      <td>1</td>\n",
       "      <td>1</td>\n",
       "      <td>Tuesday</td>\n",
       "      <td>1</td>\n",
       "      <td>1</td>\n",
       "      <td>0</td>\n",
       "      <td>1</td>\n",
       "      <td>0</td>\n",
       "      <td>1</td>\n",
       "      <td>1</td>\n",
       "    </tr>\n",
       "    <tr>\n",
       "      <th>1</th>\n",
       "      <td>1</td>\n",
       "      <td>2013-01-01</td>\n",
       "      <td>1</td>\n",
       "      <td>BABY CARE</td>\n",
       "      <td>0.0</td>\n",
       "      <td>0.0</td>\n",
       "      <td>NaN</td>\n",
       "      <td>Holiday</td>\n",
       "      <td>National</td>\n",
       "      <td>Ecuador</td>\n",
       "      <td>...</td>\n",
       "      <td>1</td>\n",
       "      <td>1</td>\n",
       "      <td>Tuesday</td>\n",
       "      <td>1</td>\n",
       "      <td>1</td>\n",
       "      <td>0</td>\n",
       "      <td>1</td>\n",
       "      <td>0</td>\n",
       "      <td>1</td>\n",
       "      <td>1</td>\n",
       "    </tr>\n",
       "    <tr>\n",
       "      <th>2</th>\n",
       "      <td>2</td>\n",
       "      <td>2013-01-01</td>\n",
       "      <td>1</td>\n",
       "      <td>BEAUTY</td>\n",
       "      <td>0.0</td>\n",
       "      <td>0.0</td>\n",
       "      <td>NaN</td>\n",
       "      <td>Holiday</td>\n",
       "      <td>National</td>\n",
       "      <td>Ecuador</td>\n",
       "      <td>...</td>\n",
       "      <td>1</td>\n",
       "      <td>1</td>\n",
       "      <td>Tuesday</td>\n",
       "      <td>1</td>\n",
       "      <td>1</td>\n",
       "      <td>0</td>\n",
       "      <td>1</td>\n",
       "      <td>0</td>\n",
       "      <td>1</td>\n",
       "      <td>1</td>\n",
       "    </tr>\n",
       "    <tr>\n",
       "      <th>3</th>\n",
       "      <td>3</td>\n",
       "      <td>2013-01-01</td>\n",
       "      <td>1</td>\n",
       "      <td>BEVERAGES</td>\n",
       "      <td>0.0</td>\n",
       "      <td>0.0</td>\n",
       "      <td>NaN</td>\n",
       "      <td>Holiday</td>\n",
       "      <td>National</td>\n",
       "      <td>Ecuador</td>\n",
       "      <td>...</td>\n",
       "      <td>1</td>\n",
       "      <td>1</td>\n",
       "      <td>Tuesday</td>\n",
       "      <td>1</td>\n",
       "      <td>1</td>\n",
       "      <td>0</td>\n",
       "      <td>1</td>\n",
       "      <td>0</td>\n",
       "      <td>1</td>\n",
       "      <td>1</td>\n",
       "    </tr>\n",
       "    <tr>\n",
       "      <th>4</th>\n",
       "      <td>4</td>\n",
       "      <td>2013-01-01</td>\n",
       "      <td>1</td>\n",
       "      <td>BOOKS</td>\n",
       "      <td>0.0</td>\n",
       "      <td>0.0</td>\n",
       "      <td>NaN</td>\n",
       "      <td>Holiday</td>\n",
       "      <td>National</td>\n",
       "      <td>Ecuador</td>\n",
       "      <td>...</td>\n",
       "      <td>1</td>\n",
       "      <td>1</td>\n",
       "      <td>Tuesday</td>\n",
       "      <td>1</td>\n",
       "      <td>1</td>\n",
       "      <td>0</td>\n",
       "      <td>1</td>\n",
       "      <td>0</td>\n",
       "      <td>1</td>\n",
       "      <td>1</td>\n",
       "    </tr>\n",
       "  </tbody>\n",
       "</table>\n",
       "<p>5 rows × 29 columns</p>\n",
       "</div>"
      ],
      "text/plain": [
       "   id       date  store_nbr      family  sales  onpromotion  dcoilwtico  \\\n",
       "0   0 2013-01-01          1  AUTOMOTIVE    0.0          0.0         NaN   \n",
       "1   1 2013-01-01          1   BABY CARE    0.0          0.0         NaN   \n",
       "2   2 2013-01-01          1      BEAUTY    0.0          0.0         NaN   \n",
       "3   3 2013-01-01          1   BEVERAGES    0.0          0.0         NaN   \n",
       "4   4 2013-01-01          1       BOOKS    0.0          0.0         NaN   \n",
       "\n",
       "  holiday_type    locale locale_name  ... week quarter day_of_week  \\\n",
       "0      Holiday  National     Ecuador  ...    1       1     Tuesday   \n",
       "1      Holiday  National     Ecuador  ...    1       1     Tuesday   \n",
       "2      Holiday  National     Ecuador  ...    1       1     Tuesday   \n",
       "3      Holiday  National     Ecuador  ...    1       1     Tuesday   \n",
       "4      Holiday  National     Ecuador  ...    1       1     Tuesday   \n",
       "\n",
       "  day_of_month day_of_year  is_weekend  is_month_start  is_month_end  \\\n",
       "0            1           1           0               1             0   \n",
       "1            1           1           0               1             0   \n",
       "2            1           1           0               1             0   \n",
       "3            1           1           0               1             0   \n",
       "4            1           1           0               1             0   \n",
       "\n",
       "   dayofweek  day  \n",
       "0          1    1  \n",
       "1          1    1  \n",
       "2          1    1  \n",
       "3          1    1  \n",
       "4          1    1  \n",
       "\n",
       "[5 rows x 29 columns]"
      ]
     },
     "execution_count": 91,
     "metadata": {},
     "output_type": "execute_result"
    }
   ],
   "source": [
    "train1.head()"
   ]
  },
  {
   "cell_type": "code",
   "execution_count": 92,
   "id": "7c2f3544",
   "metadata": {},
   "outputs": [
    {
     "name": "stdout",
     "output_type": "stream",
     "text": [
      "<class 'pandas.core.frame.DataFrame'>\n",
      "RangeIndex: 3054348 entries, 0 to 3054347\n",
      "Data columns (total 29 columns):\n",
      " #   Column          Dtype         \n",
      "---  ------          -----         \n",
      " 0   id              int64         \n",
      " 1   date            datetime64[ns]\n",
      " 2   store_nbr       int64         \n",
      " 3   family          object        \n",
      " 4   sales           float32       \n",
      " 5   onpromotion     float16       \n",
      " 6   dcoilwtico      float64       \n",
      " 7   holiday_type    object        \n",
      " 8   locale          object        \n",
      " 9   locale_name     object        \n",
      " 10  description     object        \n",
      " 11  transferred     object        \n",
      " 12  city            object        \n",
      " 13  state           object        \n",
      " 14  store_type      object        \n",
      " 15  cluster         int8          \n",
      " 16  transactions    float64       \n",
      " 17  year            int32         \n",
      " 18  month           int32         \n",
      " 19  week            UInt32        \n",
      " 20  quarter         int32         \n",
      " 21  day_of_week     object        \n",
      " 22  day_of_month    int32         \n",
      " 23  day_of_year     int32         \n",
      " 24  is_weekend      int64         \n",
      " 25  is_month_start  int64         \n",
      " 26  is_month_end    int64         \n",
      " 27  dayofweek       int32         \n",
      " 28  day             int32         \n",
      "dtypes: UInt32(1), datetime64[ns](1), float16(1), float32(1), float64(2), int32(7), int64(5), int8(1), object(10)\n",
      "memory usage: 536.0+ MB\n"
     ]
    }
   ],
   "source": [
    "train1.info()"
   ]
  },
  {
   "cell_type": "code",
   "execution_count": null,
   "id": "2fccb644",
   "metadata": {},
   "outputs": [
    {
     "data": {
      "text/html": [
       "<div>\n",
       "<style scoped>\n",
       "    .dataframe tbody tr th:only-of-type {\n",
       "        vertical-align: middle;\n",
       "    }\n",
       "\n",
       "    .dataframe tbody tr th {\n",
       "        vertical-align: top;\n",
       "    }\n",
       "\n",
       "    .dataframe thead th {\n",
       "        text-align: right;\n",
       "    }\n",
       "</style>\n",
       "<table border=\"1\" class=\"dataframe\">\n",
       "  <thead>\n",
       "    <tr style=\"text-align: right;\">\n",
       "      <th></th>\n",
       "      <th>Total</th>\n",
       "      <th>Percentage</th>\n",
       "    </tr>\n",
       "  </thead>\n",
       "  <tbody>\n",
       "    <tr>\n",
       "      <th>transferred</th>\n",
       "      <td>2551824</td>\n",
       "      <td>83.547258</td>\n",
       "    </tr>\n",
       "    <tr>\n",
       "      <th>locale_name</th>\n",
       "      <td>2551824</td>\n",
       "      <td>83.547258</td>\n",
       "    </tr>\n",
       "    <tr>\n",
       "      <th>description</th>\n",
       "      <td>2551824</td>\n",
       "      <td>83.547258</td>\n",
       "    </tr>\n",
       "    <tr>\n",
       "      <th>holiday_type</th>\n",
       "      <td>2551824</td>\n",
       "      <td>83.547258</td>\n",
       "    </tr>\n",
       "    <tr>\n",
       "      <th>locale</th>\n",
       "      <td>2551824</td>\n",
       "      <td>83.547258</td>\n",
       "    </tr>\n",
       "    <tr>\n",
       "      <th>dcoilwtico</th>\n",
       "      <td>964062</td>\n",
       "      <td>31.563594</td>\n",
       "    </tr>\n",
       "    <tr>\n",
       "      <th>transactions</th>\n",
       "      <td>249117</td>\n",
       "      <td>8.156143</td>\n",
       "    </tr>\n",
       "    <tr>\n",
       "      <th>store_nbr</th>\n",
       "      <td>0</td>\n",
       "      <td>0.000000</td>\n",
       "    </tr>\n",
       "    <tr>\n",
       "      <th>sales</th>\n",
       "      <td>0</td>\n",
       "      <td>0.000000</td>\n",
       "    </tr>\n",
       "    <tr>\n",
       "      <th>id</th>\n",
       "      <td>0</td>\n",
       "      <td>0.000000</td>\n",
       "    </tr>\n",
       "    <tr>\n",
       "      <th>family</th>\n",
       "      <td>0</td>\n",
       "      <td>0.000000</td>\n",
       "    </tr>\n",
       "    <tr>\n",
       "      <th>onpromotion</th>\n",
       "      <td>0</td>\n",
       "      <td>0.000000</td>\n",
       "    </tr>\n",
       "    <tr>\n",
       "      <th>date</th>\n",
       "      <td>0</td>\n",
       "      <td>0.000000</td>\n",
       "    </tr>\n",
       "    <tr>\n",
       "      <th>city</th>\n",
       "      <td>0</td>\n",
       "      <td>0.000000</td>\n",
       "    </tr>\n",
       "    <tr>\n",
       "      <th>state</th>\n",
       "      <td>0</td>\n",
       "      <td>0.000000</td>\n",
       "    </tr>\n",
       "    <tr>\n",
       "      <th>store_type</th>\n",
       "      <td>0</td>\n",
       "      <td>0.000000</td>\n",
       "    </tr>\n",
       "    <tr>\n",
       "      <th>cluster</th>\n",
       "      <td>0</td>\n",
       "      <td>0.000000</td>\n",
       "    </tr>\n",
       "    <tr>\n",
       "      <th>year</th>\n",
       "      <td>0</td>\n",
       "      <td>0.000000</td>\n",
       "    </tr>\n",
       "    <tr>\n",
       "      <th>month</th>\n",
       "      <td>0</td>\n",
       "      <td>0.000000</td>\n",
       "    </tr>\n",
       "    <tr>\n",
       "      <th>week</th>\n",
       "      <td>0</td>\n",
       "      <td>0.000000</td>\n",
       "    </tr>\n",
       "    <tr>\n",
       "      <th>quarter</th>\n",
       "      <td>0</td>\n",
       "      <td>0.000000</td>\n",
       "    </tr>\n",
       "    <tr>\n",
       "      <th>day_of_week</th>\n",
       "      <td>0</td>\n",
       "      <td>0.000000</td>\n",
       "    </tr>\n",
       "    <tr>\n",
       "      <th>day_of_month</th>\n",
       "      <td>0</td>\n",
       "      <td>0.000000</td>\n",
       "    </tr>\n",
       "    <tr>\n",
       "      <th>day_of_year</th>\n",
       "      <td>0</td>\n",
       "      <td>0.000000</td>\n",
       "    </tr>\n",
       "    <tr>\n",
       "      <th>is_weekend</th>\n",
       "      <td>0</td>\n",
       "      <td>0.000000</td>\n",
       "    </tr>\n",
       "    <tr>\n",
       "      <th>is_month_start</th>\n",
       "      <td>0</td>\n",
       "      <td>0.000000</td>\n",
       "    </tr>\n",
       "    <tr>\n",
       "      <th>is_month_end</th>\n",
       "      <td>0</td>\n",
       "      <td>0.000000</td>\n",
       "    </tr>\n",
       "    <tr>\n",
       "      <th>dayofweek</th>\n",
       "      <td>0</td>\n",
       "      <td>0.000000</td>\n",
       "    </tr>\n",
       "    <tr>\n",
       "      <th>day</th>\n",
       "      <td>0</td>\n",
       "      <td>0.000000</td>\n",
       "    </tr>\n",
       "  </tbody>\n",
       "</table>\n",
       "</div>"
      ],
      "text/plain": [
       "                  Total  Percentage\n",
       "transferred     2551824   83.547258\n",
       "locale_name     2551824   83.547258\n",
       "description     2551824   83.547258\n",
       "holiday_type    2551824   83.547258\n",
       "locale          2551824   83.547258\n",
       "dcoilwtico       964062   31.563594\n",
       "transactions     249117    8.156143\n",
       "store_nbr             0    0.000000\n",
       "sales                 0    0.000000\n",
       "id                    0    0.000000\n",
       "family                0    0.000000\n",
       "onpromotion           0    0.000000\n",
       "date                  0    0.000000\n",
       "city                  0    0.000000\n",
       "state                 0    0.000000\n",
       "store_type            0    0.000000\n",
       "cluster               0    0.000000\n",
       "year                  0    0.000000\n",
       "month                 0    0.000000\n",
       "week                  0    0.000000\n",
       "quarter               0    0.000000\n",
       "day_of_week           0    0.000000\n",
       "day_of_month          0    0.000000\n",
       "day_of_year           0    0.000000\n",
       "is_weekend            0    0.000000\n",
       "is_month_start        0    0.000000\n",
       "is_month_end          0    0.000000\n",
       "dayofweek             0    0.000000\n",
       "day                   0    0.000000"
      ]
     },
     "execution_count": 93,
     "metadata": {},
     "output_type": "execute_result"
    }
   ],
   "source": [
    "# Missing value summary\n",
    "missing = train1.isnull().sum().sort_values(ascending=False)\n",
    "missing_pct = (train1.isnull().mean()*100).sort_values(ascending=False)\n",
    "pd.concat([missing, missing_pct], axis=1, keys=['Total', 'Percentage'])"
   ]
  },
  {
   "cell_type": "markdown",
   "id": "32122b7e",
   "metadata": {},
   "source": [
    "**Filling these values would introduce fictional business activity.\n",
    "Time series models can accommodate these business-driven patterns.**\n",
    "\n",
    "Holiday Variables (83.5% missing)\n",
    "These missing values represent valid business reality - most days aren't holidays..\n",
    "Create a binary flag is_holiday to capture this information when needed.\n",
    "\n",
    "Oil Prices (31.3% missing)\n",
    "Oil prices naturally have gaps due to market closures and reporting delays.\n",
    "In time series modeling, we can build models that account for these known gaps any addings will cause aritifical patterns.\n",
    "Most time series algorithms can handle missing values in predictor variables.\n",
    "\n",
    "Transactions (8.15% missing)\n",
    "\n",
    "Missing transactions likely indicate days when stores were closed.\n",
    "Our target variable (sales) has no missing values, which is most critical.\n",
    "Core Business Variables (0% missing)\n",
    "\n",
    "By not imputing missing values:\n",
    "\n",
    "We maintain data authenticity and integrity\n",
    "We avoid introducing artificial patterns"
   ]
  },
  {
   "cell_type": "code",
   "execution_count": 94,
   "id": "fd706acc",
   "metadata": {},
   "outputs": [],
   "source": [
    "train1['is_holiday'] = train1['holiday_type'].notna().astype(int)"
   ]
  },
  {
   "cell_type": "code",
   "execution_count": null,
   "id": "dc8075c6",
   "metadata": {},
   "outputs": [
    {
     "data": {
      "text/plain": [
       "np.int64(0)"
      ]
     },
     "execution_count": 95,
     "metadata": {},
     "output_type": "execute_result"
    }
   ],
   "source": [
    "train1.duplicated().sum()"
   ]
  },
  {
   "cell_type": "code",
   "execution_count": 96,
   "id": "307edeaf",
   "metadata": {},
   "outputs": [
    {
     "ename": "PermissionError",
     "evalue": "[Errno 13] Permission denied: 'train1.csv'",
     "output_type": "error",
     "traceback": [
      "\u001b[1;31m---------------------------------------------------------------------------\u001b[0m",
      "\u001b[1;31mPermissionError\u001b[0m                           Traceback (most recent call last)",
      "Cell \u001b[1;32mIn[96], line 1\u001b[0m\n\u001b[1;32m----> 1\u001b[0m \u001b[43mtrain1\u001b[49m\u001b[38;5;241;43m.\u001b[39;49m\u001b[43mto_csv\u001b[49m\u001b[43m(\u001b[49m\u001b[38;5;124;43m'\u001b[39;49m\u001b[38;5;124;43mtrain1.csv\u001b[39;49m\u001b[38;5;124;43m'\u001b[39;49m\u001b[43m,\u001b[49m\u001b[43m \u001b[49m\u001b[43mindex\u001b[49m\u001b[38;5;241;43m=\u001b[39;49m\u001b[38;5;28;43;01mFalse\u001b[39;49;00m\u001b[43m)\u001b[49m\n\u001b[0;32m      2\u001b[0m \u001b[38;5;28mprint\u001b[39m(\u001b[38;5;124mf\u001b[39m\u001b[38;5;124m\"\u001b[39m\u001b[38;5;124mSuccessfully saved train1.csv with \u001b[39m\u001b[38;5;132;01m{\u001b[39;00mtrain1\u001b[38;5;241m.\u001b[39mshape[\u001b[38;5;241m1\u001b[39m]\u001b[38;5;132;01m}\u001b[39;00m\u001b[38;5;124m columns\u001b[39m\u001b[38;5;124m\"\u001b[39m)\n\u001b[0;32m      3\u001b[0m \u001b[38;5;28mprint\u001b[39m(\u001b[38;5;124m\"\u001b[39m\u001b[38;5;130;01m\\n\u001b[39;00m\u001b[38;5;124mColumns saved:\u001b[39m\u001b[38;5;124m\"\u001b[39m)\n",
      "File \u001b[1;32mc:\\Users\\ali\\AppData\\Local\\Programs\\Python\\Python313\\Lib\\site-packages\\pandas\\util\\_decorators.py:333\u001b[0m, in \u001b[0;36mdeprecate_nonkeyword_arguments.<locals>.decorate.<locals>.wrapper\u001b[1;34m(*args, **kwargs)\u001b[0m\n\u001b[0;32m    327\u001b[0m \u001b[38;5;28;01mif\u001b[39;00m \u001b[38;5;28mlen\u001b[39m(args) \u001b[38;5;241m>\u001b[39m num_allow_args:\n\u001b[0;32m    328\u001b[0m     warnings\u001b[38;5;241m.\u001b[39mwarn(\n\u001b[0;32m    329\u001b[0m         msg\u001b[38;5;241m.\u001b[39mformat(arguments\u001b[38;5;241m=\u001b[39m_format_argument_list(allow_args)),\n\u001b[0;32m    330\u001b[0m         \u001b[38;5;167;01mFutureWarning\u001b[39;00m,\n\u001b[0;32m    331\u001b[0m         stacklevel\u001b[38;5;241m=\u001b[39mfind_stack_level(),\n\u001b[0;32m    332\u001b[0m     )\n\u001b[1;32m--> 333\u001b[0m \u001b[38;5;28;01mreturn\u001b[39;00m \u001b[43mfunc\u001b[49m\u001b[43m(\u001b[49m\u001b[38;5;241;43m*\u001b[39;49m\u001b[43margs\u001b[49m\u001b[43m,\u001b[49m\u001b[43m \u001b[49m\u001b[38;5;241;43m*\u001b[39;49m\u001b[38;5;241;43m*\u001b[39;49m\u001b[43mkwargs\u001b[49m\u001b[43m)\u001b[49m\n",
      "File \u001b[1;32mc:\\Users\\ali\\AppData\\Local\\Programs\\Python\\Python313\\Lib\\site-packages\\pandas\\core\\generic.py:3967\u001b[0m, in \u001b[0;36mNDFrame.to_csv\u001b[1;34m(self, path_or_buf, sep, na_rep, float_format, columns, header, index, index_label, mode, encoding, compression, quoting, quotechar, lineterminator, chunksize, date_format, doublequote, escapechar, decimal, errors, storage_options)\u001b[0m\n\u001b[0;32m   3956\u001b[0m df \u001b[38;5;241m=\u001b[39m \u001b[38;5;28mself\u001b[39m \u001b[38;5;28;01mif\u001b[39;00m \u001b[38;5;28misinstance\u001b[39m(\u001b[38;5;28mself\u001b[39m, ABCDataFrame) \u001b[38;5;28;01melse\u001b[39;00m \u001b[38;5;28mself\u001b[39m\u001b[38;5;241m.\u001b[39mto_frame()\n\u001b[0;32m   3958\u001b[0m formatter \u001b[38;5;241m=\u001b[39m DataFrameFormatter(\n\u001b[0;32m   3959\u001b[0m     frame\u001b[38;5;241m=\u001b[39mdf,\n\u001b[0;32m   3960\u001b[0m     header\u001b[38;5;241m=\u001b[39mheader,\n\u001b[1;32m   (...)\u001b[0m\n\u001b[0;32m   3964\u001b[0m     decimal\u001b[38;5;241m=\u001b[39mdecimal,\n\u001b[0;32m   3965\u001b[0m )\n\u001b[1;32m-> 3967\u001b[0m \u001b[38;5;28;01mreturn\u001b[39;00m \u001b[43mDataFrameRenderer\u001b[49m\u001b[43m(\u001b[49m\u001b[43mformatter\u001b[49m\u001b[43m)\u001b[49m\u001b[38;5;241;43m.\u001b[39;49m\u001b[43mto_csv\u001b[49m\u001b[43m(\u001b[49m\n\u001b[0;32m   3968\u001b[0m \u001b[43m    \u001b[49m\u001b[43mpath_or_buf\u001b[49m\u001b[43m,\u001b[49m\n\u001b[0;32m   3969\u001b[0m \u001b[43m    \u001b[49m\u001b[43mlineterminator\u001b[49m\u001b[38;5;241;43m=\u001b[39;49m\u001b[43mlineterminator\u001b[49m\u001b[43m,\u001b[49m\n\u001b[0;32m   3970\u001b[0m \u001b[43m    \u001b[49m\u001b[43msep\u001b[49m\u001b[38;5;241;43m=\u001b[39;49m\u001b[43msep\u001b[49m\u001b[43m,\u001b[49m\n\u001b[0;32m   3971\u001b[0m \u001b[43m    \u001b[49m\u001b[43mencoding\u001b[49m\u001b[38;5;241;43m=\u001b[39;49m\u001b[43mencoding\u001b[49m\u001b[43m,\u001b[49m\n\u001b[0;32m   3972\u001b[0m \u001b[43m    \u001b[49m\u001b[43merrors\u001b[49m\u001b[38;5;241;43m=\u001b[39;49m\u001b[43merrors\u001b[49m\u001b[43m,\u001b[49m\n\u001b[0;32m   3973\u001b[0m \u001b[43m    \u001b[49m\u001b[43mcompression\u001b[49m\u001b[38;5;241;43m=\u001b[39;49m\u001b[43mcompression\u001b[49m\u001b[43m,\u001b[49m\n\u001b[0;32m   3974\u001b[0m \u001b[43m    \u001b[49m\u001b[43mquoting\u001b[49m\u001b[38;5;241;43m=\u001b[39;49m\u001b[43mquoting\u001b[49m\u001b[43m,\u001b[49m\n\u001b[0;32m   3975\u001b[0m \u001b[43m    \u001b[49m\u001b[43mcolumns\u001b[49m\u001b[38;5;241;43m=\u001b[39;49m\u001b[43mcolumns\u001b[49m\u001b[43m,\u001b[49m\n\u001b[0;32m   3976\u001b[0m \u001b[43m    \u001b[49m\u001b[43mindex_label\u001b[49m\u001b[38;5;241;43m=\u001b[39;49m\u001b[43mindex_label\u001b[49m\u001b[43m,\u001b[49m\n\u001b[0;32m   3977\u001b[0m \u001b[43m    \u001b[49m\u001b[43mmode\u001b[49m\u001b[38;5;241;43m=\u001b[39;49m\u001b[43mmode\u001b[49m\u001b[43m,\u001b[49m\n\u001b[0;32m   3978\u001b[0m \u001b[43m    \u001b[49m\u001b[43mchunksize\u001b[49m\u001b[38;5;241;43m=\u001b[39;49m\u001b[43mchunksize\u001b[49m\u001b[43m,\u001b[49m\n\u001b[0;32m   3979\u001b[0m \u001b[43m    \u001b[49m\u001b[43mquotechar\u001b[49m\u001b[38;5;241;43m=\u001b[39;49m\u001b[43mquotechar\u001b[49m\u001b[43m,\u001b[49m\n\u001b[0;32m   3980\u001b[0m \u001b[43m    \u001b[49m\u001b[43mdate_format\u001b[49m\u001b[38;5;241;43m=\u001b[39;49m\u001b[43mdate_format\u001b[49m\u001b[43m,\u001b[49m\n\u001b[0;32m   3981\u001b[0m \u001b[43m    \u001b[49m\u001b[43mdoublequote\u001b[49m\u001b[38;5;241;43m=\u001b[39;49m\u001b[43mdoublequote\u001b[49m\u001b[43m,\u001b[49m\n\u001b[0;32m   3982\u001b[0m \u001b[43m    \u001b[49m\u001b[43mescapechar\u001b[49m\u001b[38;5;241;43m=\u001b[39;49m\u001b[43mescapechar\u001b[49m\u001b[43m,\u001b[49m\n\u001b[0;32m   3983\u001b[0m \u001b[43m    \u001b[49m\u001b[43mstorage_options\u001b[49m\u001b[38;5;241;43m=\u001b[39;49m\u001b[43mstorage_options\u001b[49m\u001b[43m,\u001b[49m\n\u001b[0;32m   3984\u001b[0m \u001b[43m\u001b[49m\u001b[43m)\u001b[49m\n",
      "File \u001b[1;32mc:\\Users\\ali\\AppData\\Local\\Programs\\Python\\Python313\\Lib\\site-packages\\pandas\\io\\formats\\format.py:1014\u001b[0m, in \u001b[0;36mDataFrameRenderer.to_csv\u001b[1;34m(self, path_or_buf, encoding, sep, columns, index_label, mode, compression, quoting, quotechar, lineterminator, chunksize, date_format, doublequote, escapechar, errors, storage_options)\u001b[0m\n\u001b[0;32m    993\u001b[0m     created_buffer \u001b[38;5;241m=\u001b[39m \u001b[38;5;28;01mFalse\u001b[39;00m\n\u001b[0;32m    995\u001b[0m csv_formatter \u001b[38;5;241m=\u001b[39m CSVFormatter(\n\u001b[0;32m    996\u001b[0m     path_or_buf\u001b[38;5;241m=\u001b[39mpath_or_buf,\n\u001b[0;32m    997\u001b[0m     lineterminator\u001b[38;5;241m=\u001b[39mlineterminator,\n\u001b[1;32m   (...)\u001b[0m\n\u001b[0;32m   1012\u001b[0m     formatter\u001b[38;5;241m=\u001b[39m\u001b[38;5;28mself\u001b[39m\u001b[38;5;241m.\u001b[39mfmt,\n\u001b[0;32m   1013\u001b[0m )\n\u001b[1;32m-> 1014\u001b[0m \u001b[43mcsv_formatter\u001b[49m\u001b[38;5;241;43m.\u001b[39;49m\u001b[43msave\u001b[49m\u001b[43m(\u001b[49m\u001b[43m)\u001b[49m\n\u001b[0;32m   1016\u001b[0m \u001b[38;5;28;01mif\u001b[39;00m created_buffer:\n\u001b[0;32m   1017\u001b[0m     \u001b[38;5;28;01massert\u001b[39;00m \u001b[38;5;28misinstance\u001b[39m(path_or_buf, StringIO)\n",
      "File \u001b[1;32mc:\\Users\\ali\\AppData\\Local\\Programs\\Python\\Python313\\Lib\\site-packages\\pandas\\io\\formats\\csvs.py:251\u001b[0m, in \u001b[0;36mCSVFormatter.save\u001b[1;34m(self)\u001b[0m\n\u001b[0;32m    247\u001b[0m \u001b[38;5;250m\u001b[39m\u001b[38;5;124;03m\"\"\"\u001b[39;00m\n\u001b[0;32m    248\u001b[0m \u001b[38;5;124;03mCreate the writer & save.\u001b[39;00m\n\u001b[0;32m    249\u001b[0m \u001b[38;5;124;03m\"\"\"\u001b[39;00m\n\u001b[0;32m    250\u001b[0m \u001b[38;5;66;03m# apply compression and byte/text conversion\u001b[39;00m\n\u001b[1;32m--> 251\u001b[0m \u001b[38;5;28;01mwith\u001b[39;00m \u001b[43mget_handle\u001b[49m\u001b[43m(\u001b[49m\n\u001b[0;32m    252\u001b[0m \u001b[43m    \u001b[49m\u001b[38;5;28;43mself\u001b[39;49m\u001b[38;5;241;43m.\u001b[39;49m\u001b[43mfilepath_or_buffer\u001b[49m\u001b[43m,\u001b[49m\n\u001b[0;32m    253\u001b[0m \u001b[43m    \u001b[49m\u001b[38;5;28;43mself\u001b[39;49m\u001b[38;5;241;43m.\u001b[39;49m\u001b[43mmode\u001b[49m\u001b[43m,\u001b[49m\n\u001b[0;32m    254\u001b[0m \u001b[43m    \u001b[49m\u001b[43mencoding\u001b[49m\u001b[38;5;241;43m=\u001b[39;49m\u001b[38;5;28;43mself\u001b[39;49m\u001b[38;5;241;43m.\u001b[39;49m\u001b[43mencoding\u001b[49m\u001b[43m,\u001b[49m\n\u001b[0;32m    255\u001b[0m \u001b[43m    \u001b[49m\u001b[43merrors\u001b[49m\u001b[38;5;241;43m=\u001b[39;49m\u001b[38;5;28;43mself\u001b[39;49m\u001b[38;5;241;43m.\u001b[39;49m\u001b[43merrors\u001b[49m\u001b[43m,\u001b[49m\n\u001b[0;32m    256\u001b[0m \u001b[43m    \u001b[49m\u001b[43mcompression\u001b[49m\u001b[38;5;241;43m=\u001b[39;49m\u001b[38;5;28;43mself\u001b[39;49m\u001b[38;5;241;43m.\u001b[39;49m\u001b[43mcompression\u001b[49m\u001b[43m,\u001b[49m\n\u001b[0;32m    257\u001b[0m \u001b[43m    \u001b[49m\u001b[43mstorage_options\u001b[49m\u001b[38;5;241;43m=\u001b[39;49m\u001b[38;5;28;43mself\u001b[39;49m\u001b[38;5;241;43m.\u001b[39;49m\u001b[43mstorage_options\u001b[49m\u001b[43m,\u001b[49m\n\u001b[0;32m    258\u001b[0m \u001b[43m\u001b[49m\u001b[43m)\u001b[49m \u001b[38;5;28;01mas\u001b[39;00m handles:\n\u001b[0;32m    259\u001b[0m     \u001b[38;5;66;03m# Note: self.encoding is irrelevant here\u001b[39;00m\n\u001b[0;32m    260\u001b[0m     \u001b[38;5;28mself\u001b[39m\u001b[38;5;241m.\u001b[39mwriter \u001b[38;5;241m=\u001b[39m csvlib\u001b[38;5;241m.\u001b[39mwriter(\n\u001b[0;32m    261\u001b[0m         handles\u001b[38;5;241m.\u001b[39mhandle,\n\u001b[0;32m    262\u001b[0m         lineterminator\u001b[38;5;241m=\u001b[39m\u001b[38;5;28mself\u001b[39m\u001b[38;5;241m.\u001b[39mlineterminator,\n\u001b[1;32m   (...)\u001b[0m\n\u001b[0;32m    267\u001b[0m         quotechar\u001b[38;5;241m=\u001b[39m\u001b[38;5;28mself\u001b[39m\u001b[38;5;241m.\u001b[39mquotechar,\n\u001b[0;32m    268\u001b[0m     )\n\u001b[0;32m    270\u001b[0m     \u001b[38;5;28mself\u001b[39m\u001b[38;5;241m.\u001b[39m_save()\n",
      "File \u001b[1;32mc:\\Users\\ali\\AppData\\Local\\Programs\\Python\\Python313\\Lib\\site-packages\\pandas\\io\\common.py:873\u001b[0m, in \u001b[0;36mget_handle\u001b[1;34m(path_or_buf, mode, encoding, compression, memory_map, is_text, errors, storage_options)\u001b[0m\n\u001b[0;32m    868\u001b[0m \u001b[38;5;28;01melif\u001b[39;00m \u001b[38;5;28misinstance\u001b[39m(handle, \u001b[38;5;28mstr\u001b[39m):\n\u001b[0;32m    869\u001b[0m     \u001b[38;5;66;03m# Check whether the filename is to be opened in binary mode.\u001b[39;00m\n\u001b[0;32m    870\u001b[0m     \u001b[38;5;66;03m# Binary mode does not support 'encoding' and 'newline'.\u001b[39;00m\n\u001b[0;32m    871\u001b[0m     \u001b[38;5;28;01mif\u001b[39;00m ioargs\u001b[38;5;241m.\u001b[39mencoding \u001b[38;5;129;01mand\u001b[39;00m \u001b[38;5;124m\"\u001b[39m\u001b[38;5;124mb\u001b[39m\u001b[38;5;124m\"\u001b[39m \u001b[38;5;129;01mnot\u001b[39;00m \u001b[38;5;129;01min\u001b[39;00m ioargs\u001b[38;5;241m.\u001b[39mmode:\n\u001b[0;32m    872\u001b[0m         \u001b[38;5;66;03m# Encoding\u001b[39;00m\n\u001b[1;32m--> 873\u001b[0m         handle \u001b[38;5;241m=\u001b[39m \u001b[38;5;28;43mopen\u001b[39;49m\u001b[43m(\u001b[49m\n\u001b[0;32m    874\u001b[0m \u001b[43m            \u001b[49m\u001b[43mhandle\u001b[49m\u001b[43m,\u001b[49m\n\u001b[0;32m    875\u001b[0m \u001b[43m            \u001b[49m\u001b[43mioargs\u001b[49m\u001b[38;5;241;43m.\u001b[39;49m\u001b[43mmode\u001b[49m\u001b[43m,\u001b[49m\n\u001b[0;32m    876\u001b[0m \u001b[43m            \u001b[49m\u001b[43mencoding\u001b[49m\u001b[38;5;241;43m=\u001b[39;49m\u001b[43mioargs\u001b[49m\u001b[38;5;241;43m.\u001b[39;49m\u001b[43mencoding\u001b[49m\u001b[43m,\u001b[49m\n\u001b[0;32m    877\u001b[0m \u001b[43m            \u001b[49m\u001b[43merrors\u001b[49m\u001b[38;5;241;43m=\u001b[39;49m\u001b[43merrors\u001b[49m\u001b[43m,\u001b[49m\n\u001b[0;32m    878\u001b[0m \u001b[43m            \u001b[49m\u001b[43mnewline\u001b[49m\u001b[38;5;241;43m=\u001b[39;49m\u001b[38;5;124;43m\"\u001b[39;49m\u001b[38;5;124;43m\"\u001b[39;49m\u001b[43m,\u001b[49m\n\u001b[0;32m    879\u001b[0m \u001b[43m        \u001b[49m\u001b[43m)\u001b[49m\n\u001b[0;32m    880\u001b[0m     \u001b[38;5;28;01melse\u001b[39;00m:\n\u001b[0;32m    881\u001b[0m         \u001b[38;5;66;03m# Binary mode\u001b[39;00m\n\u001b[0;32m    882\u001b[0m         handle \u001b[38;5;241m=\u001b[39m \u001b[38;5;28mopen\u001b[39m(handle, ioargs\u001b[38;5;241m.\u001b[39mmode)\n",
      "\u001b[1;31mPermissionError\u001b[0m: [Errno 13] Permission denied: 'train1.csv'"
     ]
    }
   ],
   "source": [
    "train1.to_csv('train1.csv', index=False)\n",
    "print(f\"Successfully saved train1.csv with {train1.shape[1]} columns\")\n",
    "print(\"\\nColumns saved:\")\n",
    "print(train1.columns.tolist())"
   ]
  },
  {
   "cell_type": "markdown",
   "id": "d0eb0531",
   "metadata": {},
   "source": [
    "# **Visualization**"
   ]
  },
  {
   "cell_type": "code",
   "execution_count": null,
   "id": "f4123738",
   "metadata": {},
   "outputs": [],
   "source": [
    "import plotly.express as px\n",
    "import plotly.graph_objects as go\n",
    "from plotly.subplots import make_subplots"
   ]
  },
  {
   "cell_type": "code",
   "execution_count": 62,
   "id": "21db421f",
   "metadata": {},
   "outputs": [
    {
     "data": {
      "application/vnd.plotly.v1+json": {
       "config": {
        "plotlyServerURL": "https://plot.ly"
       },
       "data": [
        {
         "hovertemplate": "Date=%{x}<br>Total Sales=%{y}<extra></extra>",
         "legendgroup": "",
         "line": {
          "color": "#636efa",
          "dash": "solid"
         },
         "marker": {
          "symbol": "circle"
         },
         "mode": "lines",
         "name": "",
         "orientation": "v",
         "showlegend": false,
         "type": "scatter",
         "x": [
          "2013-01-01T00:00:00.000000000",
          "2013-02-01T00:00:00.000000000",
          "2013-03-01T00:00:00.000000000",
          "2013-04-01T00:00:00.000000000",
          "2013-05-01T00:00:00.000000000",
          "2013-06-01T00:00:00.000000000",
          "2013-07-01T00:00:00.000000000",
          "2013-08-01T00:00:00.000000000",
          "2013-09-01T00:00:00.000000000",
          "2013-10-01T00:00:00.000000000",
          "2013-11-01T00:00:00.000000000",
          "2013-12-01T00:00:00.000000000",
          "2014-01-01T00:00:00.000000000",
          "2014-02-01T00:00:00.000000000",
          "2014-03-01T00:00:00.000000000",
          "2014-04-01T00:00:00.000000000",
          "2014-05-01T00:00:00.000000000",
          "2014-06-01T00:00:00.000000000",
          "2014-07-01T00:00:00.000000000",
          "2014-08-01T00:00:00.000000000",
          "2014-09-01T00:00:00.000000000",
          "2014-10-01T00:00:00.000000000",
          "2014-11-01T00:00:00.000000000",
          "2014-12-01T00:00:00.000000000",
          "2015-01-01T00:00:00.000000000",
          "2015-02-01T00:00:00.000000000",
          "2015-03-01T00:00:00.000000000",
          "2015-04-01T00:00:00.000000000",
          "2015-05-01T00:00:00.000000000",
          "2015-06-01T00:00:00.000000000",
          "2015-07-01T00:00:00.000000000",
          "2015-08-01T00:00:00.000000000",
          "2015-09-01T00:00:00.000000000",
          "2015-10-01T00:00:00.000000000",
          "2015-11-01T00:00:00.000000000",
          "2015-12-01T00:00:00.000000000",
          "2016-01-01T00:00:00.000000000",
          "2016-02-01T00:00:00.000000000",
          "2016-03-01T00:00:00.000000000",
          "2016-04-01T00:00:00.000000000",
          "2016-05-01T00:00:00.000000000",
          "2016-06-01T00:00:00.000000000",
          "2016-07-01T00:00:00.000000000",
          "2016-08-01T00:00:00.000000000",
          "2016-09-01T00:00:00.000000000",
          "2016-10-01T00:00:00.000000000",
          "2016-11-01T00:00:00.000000000",
          "2016-12-01T00:00:00.000000000",
          "2017-01-01T00:00:00.000000000",
          "2017-02-01T00:00:00.000000000",
          "2017-03-01T00:00:00.000000000",
          "2017-04-01T00:00:00.000000000",
          "2017-05-01T00:00:00.000000000",
          "2017-06-01T00:00:00.000000000",
          "2017-07-01T00:00:00.000000000",
          "2017-08-01T00:00:00.000000000"
         ],
         "xaxis": "x",
         "y": {
          "bdata": "SZYdS1BiE0uRYi5LOb8nS53iNks/rTtLUX0xS70aM0sl8jNLhK4zS8+LPEvUwntLzEiQS9GwN0uIYJtLQz9ES8koTEtBg1tLtKGYS/jeU0tIwphLI5ybS9qknEtMDMhLGk9jSzyxUUsQBG5LPDJkS6BFh0ut06xLfFevS+0yr0tZULFLPi22S+38rUsakdhLpu+2Swhyp0tCe7BLRLjNS+PH2UvqkbZLIxLCS19Mq0sUCKtLW1a3Sy0aw0ukzepLMN7IS2BisUtJvMtL0zfLSzRSzUvGndRLtiPVS6u3PUs=",
          "dtype": "f4"
         },
         "yaxis": "y"
        }
       ],
       "layout": {
        "legend": {
         "tracegroupgap": 0
        },
        "template": {
         "data": {
          "bar": [
           {
            "error_x": {
             "color": "#2a3f5f"
            },
            "error_y": {
             "color": "#2a3f5f"
            },
            "marker": {
             "line": {
              "color": "#E5ECF6",
              "width": 0.5
             },
             "pattern": {
              "fillmode": "overlay",
              "size": 10,
              "solidity": 0.2
             }
            },
            "type": "bar"
           }
          ],
          "barpolar": [
           {
            "marker": {
             "line": {
              "color": "#E5ECF6",
              "width": 0.5
             },
             "pattern": {
              "fillmode": "overlay",
              "size": 10,
              "solidity": 0.2
             }
            },
            "type": "barpolar"
           }
          ],
          "carpet": [
           {
            "aaxis": {
             "endlinecolor": "#2a3f5f",
             "gridcolor": "white",
             "linecolor": "white",
             "minorgridcolor": "white",
             "startlinecolor": "#2a3f5f"
            },
            "baxis": {
             "endlinecolor": "#2a3f5f",
             "gridcolor": "white",
             "linecolor": "white",
             "minorgridcolor": "white",
             "startlinecolor": "#2a3f5f"
            },
            "type": "carpet"
           }
          ],
          "choropleth": [
           {
            "colorbar": {
             "outlinewidth": 0,
             "ticks": ""
            },
            "type": "choropleth"
           }
          ],
          "contour": [
           {
            "colorbar": {
             "outlinewidth": 0,
             "ticks": ""
            },
            "colorscale": [
             [
              0,
              "#0d0887"
             ],
             [
              0.1111111111111111,
              "#46039f"
             ],
             [
              0.2222222222222222,
              "#7201a8"
             ],
             [
              0.3333333333333333,
              "#9c179e"
             ],
             [
              0.4444444444444444,
              "#bd3786"
             ],
             [
              0.5555555555555556,
              "#d8576b"
             ],
             [
              0.6666666666666666,
              "#ed7953"
             ],
             [
              0.7777777777777778,
              "#fb9f3a"
             ],
             [
              0.8888888888888888,
              "#fdca26"
             ],
             [
              1,
              "#f0f921"
             ]
            ],
            "type": "contour"
           }
          ],
          "contourcarpet": [
           {
            "colorbar": {
             "outlinewidth": 0,
             "ticks": ""
            },
            "type": "contourcarpet"
           }
          ],
          "heatmap": [
           {
            "colorbar": {
             "outlinewidth": 0,
             "ticks": ""
            },
            "colorscale": [
             [
              0,
              "#0d0887"
             ],
             [
              0.1111111111111111,
              "#46039f"
             ],
             [
              0.2222222222222222,
              "#7201a8"
             ],
             [
              0.3333333333333333,
              "#9c179e"
             ],
             [
              0.4444444444444444,
              "#bd3786"
             ],
             [
              0.5555555555555556,
              "#d8576b"
             ],
             [
              0.6666666666666666,
              "#ed7953"
             ],
             [
              0.7777777777777778,
              "#fb9f3a"
             ],
             [
              0.8888888888888888,
              "#fdca26"
             ],
             [
              1,
              "#f0f921"
             ]
            ],
            "type": "heatmap"
           }
          ],
          "histogram": [
           {
            "marker": {
             "pattern": {
              "fillmode": "overlay",
              "size": 10,
              "solidity": 0.2
             }
            },
            "type": "histogram"
           }
          ],
          "histogram2d": [
           {
            "colorbar": {
             "outlinewidth": 0,
             "ticks": ""
            },
            "colorscale": [
             [
              0,
              "#0d0887"
             ],
             [
              0.1111111111111111,
              "#46039f"
             ],
             [
              0.2222222222222222,
              "#7201a8"
             ],
             [
              0.3333333333333333,
              "#9c179e"
             ],
             [
              0.4444444444444444,
              "#bd3786"
             ],
             [
              0.5555555555555556,
              "#d8576b"
             ],
             [
              0.6666666666666666,
              "#ed7953"
             ],
             [
              0.7777777777777778,
              "#fb9f3a"
             ],
             [
              0.8888888888888888,
              "#fdca26"
             ],
             [
              1,
              "#f0f921"
             ]
            ],
            "type": "histogram2d"
           }
          ],
          "histogram2dcontour": [
           {
            "colorbar": {
             "outlinewidth": 0,
             "ticks": ""
            },
            "colorscale": [
             [
              0,
              "#0d0887"
             ],
             [
              0.1111111111111111,
              "#46039f"
             ],
             [
              0.2222222222222222,
              "#7201a8"
             ],
             [
              0.3333333333333333,
              "#9c179e"
             ],
             [
              0.4444444444444444,
              "#bd3786"
             ],
             [
              0.5555555555555556,
              "#d8576b"
             ],
             [
              0.6666666666666666,
              "#ed7953"
             ],
             [
              0.7777777777777778,
              "#fb9f3a"
             ],
             [
              0.8888888888888888,
              "#fdca26"
             ],
             [
              1,
              "#f0f921"
             ]
            ],
            "type": "histogram2dcontour"
           }
          ],
          "mesh3d": [
           {
            "colorbar": {
             "outlinewidth": 0,
             "ticks": ""
            },
            "type": "mesh3d"
           }
          ],
          "parcoords": [
           {
            "line": {
             "colorbar": {
              "outlinewidth": 0,
              "ticks": ""
             }
            },
            "type": "parcoords"
           }
          ],
          "pie": [
           {
            "automargin": true,
            "type": "pie"
           }
          ],
          "scatter": [
           {
            "fillpattern": {
             "fillmode": "overlay",
             "size": 10,
             "solidity": 0.2
            },
            "type": "scatter"
           }
          ],
          "scatter3d": [
           {
            "line": {
             "colorbar": {
              "outlinewidth": 0,
              "ticks": ""
             }
            },
            "marker": {
             "colorbar": {
              "outlinewidth": 0,
              "ticks": ""
             }
            },
            "type": "scatter3d"
           }
          ],
          "scattercarpet": [
           {
            "marker": {
             "colorbar": {
              "outlinewidth": 0,
              "ticks": ""
             }
            },
            "type": "scattercarpet"
           }
          ],
          "scattergeo": [
           {
            "marker": {
             "colorbar": {
              "outlinewidth": 0,
              "ticks": ""
             }
            },
            "type": "scattergeo"
           }
          ],
          "scattergl": [
           {
            "marker": {
             "colorbar": {
              "outlinewidth": 0,
              "ticks": ""
             }
            },
            "type": "scattergl"
           }
          ],
          "scattermap": [
           {
            "marker": {
             "colorbar": {
              "outlinewidth": 0,
              "ticks": ""
             }
            },
            "type": "scattermap"
           }
          ],
          "scattermapbox": [
           {
            "marker": {
             "colorbar": {
              "outlinewidth": 0,
              "ticks": ""
             }
            },
            "type": "scattermapbox"
           }
          ],
          "scatterpolar": [
           {
            "marker": {
             "colorbar": {
              "outlinewidth": 0,
              "ticks": ""
             }
            },
            "type": "scatterpolar"
           }
          ],
          "scatterpolargl": [
           {
            "marker": {
             "colorbar": {
              "outlinewidth": 0,
              "ticks": ""
             }
            },
            "type": "scatterpolargl"
           }
          ],
          "scatterternary": [
           {
            "marker": {
             "colorbar": {
              "outlinewidth": 0,
              "ticks": ""
             }
            },
            "type": "scatterternary"
           }
          ],
          "surface": [
           {
            "colorbar": {
             "outlinewidth": 0,
             "ticks": ""
            },
            "colorscale": [
             [
              0,
              "#0d0887"
             ],
             [
              0.1111111111111111,
              "#46039f"
             ],
             [
              0.2222222222222222,
              "#7201a8"
             ],
             [
              0.3333333333333333,
              "#9c179e"
             ],
             [
              0.4444444444444444,
              "#bd3786"
             ],
             [
              0.5555555555555556,
              "#d8576b"
             ],
             [
              0.6666666666666666,
              "#ed7953"
             ],
             [
              0.7777777777777778,
              "#fb9f3a"
             ],
             [
              0.8888888888888888,
              "#fdca26"
             ],
             [
              1,
              "#f0f921"
             ]
            ],
            "type": "surface"
           }
          ],
          "table": [
           {
            "cells": {
             "fill": {
              "color": "#EBF0F8"
             },
             "line": {
              "color": "white"
             }
            },
            "header": {
             "fill": {
              "color": "#C8D4E3"
             },
             "line": {
              "color": "white"
             }
            },
            "type": "table"
           }
          ]
         },
         "layout": {
          "annotationdefaults": {
           "arrowcolor": "#2a3f5f",
           "arrowhead": 0,
           "arrowwidth": 1
          },
          "autotypenumbers": "strict",
          "coloraxis": {
           "colorbar": {
            "outlinewidth": 0,
            "ticks": ""
           }
          },
          "colorscale": {
           "diverging": [
            [
             0,
             "#8e0152"
            ],
            [
             0.1,
             "#c51b7d"
            ],
            [
             0.2,
             "#de77ae"
            ],
            [
             0.3,
             "#f1b6da"
            ],
            [
             0.4,
             "#fde0ef"
            ],
            [
             0.5,
             "#f7f7f7"
            ],
            [
             0.6,
             "#e6f5d0"
            ],
            [
             0.7,
             "#b8e186"
            ],
            [
             0.8,
             "#7fbc41"
            ],
            [
             0.9,
             "#4d9221"
            ],
            [
             1,
             "#276419"
            ]
           ],
           "sequential": [
            [
             0,
             "#0d0887"
            ],
            [
             0.1111111111111111,
             "#46039f"
            ],
            [
             0.2222222222222222,
             "#7201a8"
            ],
            [
             0.3333333333333333,
             "#9c179e"
            ],
            [
             0.4444444444444444,
             "#bd3786"
            ],
            [
             0.5555555555555556,
             "#d8576b"
            ],
            [
             0.6666666666666666,
             "#ed7953"
            ],
            [
             0.7777777777777778,
             "#fb9f3a"
            ],
            [
             0.8888888888888888,
             "#fdca26"
            ],
            [
             1,
             "#f0f921"
            ]
           ],
           "sequentialminus": [
            [
             0,
             "#0d0887"
            ],
            [
             0.1111111111111111,
             "#46039f"
            ],
            [
             0.2222222222222222,
             "#7201a8"
            ],
            [
             0.3333333333333333,
             "#9c179e"
            ],
            [
             0.4444444444444444,
             "#bd3786"
            ],
            [
             0.5555555555555556,
             "#d8576b"
            ],
            [
             0.6666666666666666,
             "#ed7953"
            ],
            [
             0.7777777777777778,
             "#fb9f3a"
            ],
            [
             0.8888888888888888,
             "#fdca26"
            ],
            [
             1,
             "#f0f921"
            ]
           ]
          },
          "colorway": [
           "#636efa",
           "#EF553B",
           "#00cc96",
           "#ab63fa",
           "#FFA15A",
           "#19d3f3",
           "#FF6692",
           "#B6E880",
           "#FF97FF",
           "#FECB52"
          ],
          "font": {
           "color": "#2a3f5f"
          },
          "geo": {
           "bgcolor": "white",
           "lakecolor": "white",
           "landcolor": "#E5ECF6",
           "showlakes": true,
           "showland": true,
           "subunitcolor": "white"
          },
          "hoverlabel": {
           "align": "left"
          },
          "hovermode": "closest",
          "mapbox": {
           "style": "light"
          },
          "paper_bgcolor": "white",
          "plot_bgcolor": "#E5ECF6",
          "polar": {
           "angularaxis": {
            "gridcolor": "white",
            "linecolor": "white",
            "ticks": ""
           },
           "bgcolor": "#E5ECF6",
           "radialaxis": {
            "gridcolor": "white",
            "linecolor": "white",
            "ticks": ""
           }
          },
          "scene": {
           "xaxis": {
            "backgroundcolor": "#E5ECF6",
            "gridcolor": "white",
            "gridwidth": 2,
            "linecolor": "white",
            "showbackground": true,
            "ticks": "",
            "zerolinecolor": "white"
           },
           "yaxis": {
            "backgroundcolor": "#E5ECF6",
            "gridcolor": "white",
            "gridwidth": 2,
            "linecolor": "white",
            "showbackground": true,
            "ticks": "",
            "zerolinecolor": "white"
           },
           "zaxis": {
            "backgroundcolor": "#E5ECF6",
            "gridcolor": "white",
            "gridwidth": 2,
            "linecolor": "white",
            "showbackground": true,
            "ticks": "",
            "zerolinecolor": "white"
           }
          },
          "shapedefaults": {
           "line": {
            "color": "#2a3f5f"
           }
          },
          "ternary": {
           "aaxis": {
            "gridcolor": "white",
            "linecolor": "white",
            "ticks": ""
           },
           "baxis": {
            "gridcolor": "white",
            "linecolor": "white",
            "ticks": ""
           },
           "bgcolor": "#E5ECF6",
           "caxis": {
            "gridcolor": "white",
            "linecolor": "white",
            "ticks": ""
           }
          },
          "title": {
           "x": 0.05
          },
          "xaxis": {
           "automargin": true,
           "gridcolor": "white",
           "linecolor": "white",
           "ticks": "",
           "title": {
            "standoff": 15
           },
           "zerolinecolor": "white",
           "zerolinewidth": 2
          },
          "yaxis": {
           "automargin": true,
           "gridcolor": "white",
           "linecolor": "white",
           "ticks": "",
           "title": {
            "standoff": 15
           },
           "zerolinecolor": "white",
           "zerolinewidth": 2
          }
         }
        },
        "title": {
         "text": "Monthly Sales Trend Over Time"
        },
        "xaxis": {
         "anchor": "y",
         "domain": [
          0,
          1
         ],
         "title": {
          "text": "Date"
         }
        },
        "yaxis": {
         "anchor": "x",
         "domain": [
          0,
          1
         ],
         "title": {
          "text": "Total Sales"
         }
        }
       }
      }
     },
     "metadata": {},
     "output_type": "display_data"
    },
    {
     "data": {
      "application/vnd.plotly.v1+json": {
       "config": {
        "plotlyServerURL": "https://plot.ly"
       },
       "data": [
        {
         "hovertemplate": "variable=sales<br>day_of_week=%{x}<br>Average Sales=%{y}<extra></extra>",
         "legendgroup": "sales",
         "marker": {
          "color": "#636efa",
          "pattern": {
           "shape": ""
          }
         },
         "name": "sales",
         "orientation": "v",
         "showlegend": true,
         "textposition": "auto",
         "type": "bar",
         "x": [
          "Monday",
          "Tuesday",
          "Wednesday",
          "Thursday",
          "Friday",
          "Saturday",
          "Sunday"
         ],
         "xaxis": "x",
         "y": {
          "bdata": "HRSuQ9z1n0PrYaVDhUmPQ79do0OVZNlDRl/oQw==",
          "dtype": "f4"
         },
         "yaxis": "y"
        }
       ],
       "layout": {
        "barmode": "relative",
        "legend": {
         "title": {
          "text": "variable"
         },
         "tracegroupgap": 0
        },
        "template": {
         "data": {
          "bar": [
           {
            "error_x": {
             "color": "#2a3f5f"
            },
            "error_y": {
             "color": "#2a3f5f"
            },
            "marker": {
             "line": {
              "color": "#E5ECF6",
              "width": 0.5
             },
             "pattern": {
              "fillmode": "overlay",
              "size": 10,
              "solidity": 0.2
             }
            },
            "type": "bar"
           }
          ],
          "barpolar": [
           {
            "marker": {
             "line": {
              "color": "#E5ECF6",
              "width": 0.5
             },
             "pattern": {
              "fillmode": "overlay",
              "size": 10,
              "solidity": 0.2
             }
            },
            "type": "barpolar"
           }
          ],
          "carpet": [
           {
            "aaxis": {
             "endlinecolor": "#2a3f5f",
             "gridcolor": "white",
             "linecolor": "white",
             "minorgridcolor": "white",
             "startlinecolor": "#2a3f5f"
            },
            "baxis": {
             "endlinecolor": "#2a3f5f",
             "gridcolor": "white",
             "linecolor": "white",
             "minorgridcolor": "white",
             "startlinecolor": "#2a3f5f"
            },
            "type": "carpet"
           }
          ],
          "choropleth": [
           {
            "colorbar": {
             "outlinewidth": 0,
             "ticks": ""
            },
            "type": "choropleth"
           }
          ],
          "contour": [
           {
            "colorbar": {
             "outlinewidth": 0,
             "ticks": ""
            },
            "colorscale": [
             [
              0,
              "#0d0887"
             ],
             [
              0.1111111111111111,
              "#46039f"
             ],
             [
              0.2222222222222222,
              "#7201a8"
             ],
             [
              0.3333333333333333,
              "#9c179e"
             ],
             [
              0.4444444444444444,
              "#bd3786"
             ],
             [
              0.5555555555555556,
              "#d8576b"
             ],
             [
              0.6666666666666666,
              "#ed7953"
             ],
             [
              0.7777777777777778,
              "#fb9f3a"
             ],
             [
              0.8888888888888888,
              "#fdca26"
             ],
             [
              1,
              "#f0f921"
             ]
            ],
            "type": "contour"
           }
          ],
          "contourcarpet": [
           {
            "colorbar": {
             "outlinewidth": 0,
             "ticks": ""
            },
            "type": "contourcarpet"
           }
          ],
          "heatmap": [
           {
            "colorbar": {
             "outlinewidth": 0,
             "ticks": ""
            },
            "colorscale": [
             [
              0,
              "#0d0887"
             ],
             [
              0.1111111111111111,
              "#46039f"
             ],
             [
              0.2222222222222222,
              "#7201a8"
             ],
             [
              0.3333333333333333,
              "#9c179e"
             ],
             [
              0.4444444444444444,
              "#bd3786"
             ],
             [
              0.5555555555555556,
              "#d8576b"
             ],
             [
              0.6666666666666666,
              "#ed7953"
             ],
             [
              0.7777777777777778,
              "#fb9f3a"
             ],
             [
              0.8888888888888888,
              "#fdca26"
             ],
             [
              1,
              "#f0f921"
             ]
            ],
            "type": "heatmap"
           }
          ],
          "histogram": [
           {
            "marker": {
             "pattern": {
              "fillmode": "overlay",
              "size": 10,
              "solidity": 0.2
             }
            },
            "type": "histogram"
           }
          ],
          "histogram2d": [
           {
            "colorbar": {
             "outlinewidth": 0,
             "ticks": ""
            },
            "colorscale": [
             [
              0,
              "#0d0887"
             ],
             [
              0.1111111111111111,
              "#46039f"
             ],
             [
              0.2222222222222222,
              "#7201a8"
             ],
             [
              0.3333333333333333,
              "#9c179e"
             ],
             [
              0.4444444444444444,
              "#bd3786"
             ],
             [
              0.5555555555555556,
              "#d8576b"
             ],
             [
              0.6666666666666666,
              "#ed7953"
             ],
             [
              0.7777777777777778,
              "#fb9f3a"
             ],
             [
              0.8888888888888888,
              "#fdca26"
             ],
             [
              1,
              "#f0f921"
             ]
            ],
            "type": "histogram2d"
           }
          ],
          "histogram2dcontour": [
           {
            "colorbar": {
             "outlinewidth": 0,
             "ticks": ""
            },
            "colorscale": [
             [
              0,
              "#0d0887"
             ],
             [
              0.1111111111111111,
              "#46039f"
             ],
             [
              0.2222222222222222,
              "#7201a8"
             ],
             [
              0.3333333333333333,
              "#9c179e"
             ],
             [
              0.4444444444444444,
              "#bd3786"
             ],
             [
              0.5555555555555556,
              "#d8576b"
             ],
             [
              0.6666666666666666,
              "#ed7953"
             ],
             [
              0.7777777777777778,
              "#fb9f3a"
             ],
             [
              0.8888888888888888,
              "#fdca26"
             ],
             [
              1,
              "#f0f921"
             ]
            ],
            "type": "histogram2dcontour"
           }
          ],
          "mesh3d": [
           {
            "colorbar": {
             "outlinewidth": 0,
             "ticks": ""
            },
            "type": "mesh3d"
           }
          ],
          "parcoords": [
           {
            "line": {
             "colorbar": {
              "outlinewidth": 0,
              "ticks": ""
             }
            },
            "type": "parcoords"
           }
          ],
          "pie": [
           {
            "automargin": true,
            "type": "pie"
           }
          ],
          "scatter": [
           {
            "fillpattern": {
             "fillmode": "overlay",
             "size": 10,
             "solidity": 0.2
            },
            "type": "scatter"
           }
          ],
          "scatter3d": [
           {
            "line": {
             "colorbar": {
              "outlinewidth": 0,
              "ticks": ""
             }
            },
            "marker": {
             "colorbar": {
              "outlinewidth": 0,
              "ticks": ""
             }
            },
            "type": "scatter3d"
           }
          ],
          "scattercarpet": [
           {
            "marker": {
             "colorbar": {
              "outlinewidth": 0,
              "ticks": ""
             }
            },
            "type": "scattercarpet"
           }
          ],
          "scattergeo": [
           {
            "marker": {
             "colorbar": {
              "outlinewidth": 0,
              "ticks": ""
             }
            },
            "type": "scattergeo"
           }
          ],
          "scattergl": [
           {
            "marker": {
             "colorbar": {
              "outlinewidth": 0,
              "ticks": ""
             }
            },
            "type": "scattergl"
           }
          ],
          "scattermap": [
           {
            "marker": {
             "colorbar": {
              "outlinewidth": 0,
              "ticks": ""
             }
            },
            "type": "scattermap"
           }
          ],
          "scattermapbox": [
           {
            "marker": {
             "colorbar": {
              "outlinewidth": 0,
              "ticks": ""
             }
            },
            "type": "scattermapbox"
           }
          ],
          "scatterpolar": [
           {
            "marker": {
             "colorbar": {
              "outlinewidth": 0,
              "ticks": ""
             }
            },
            "type": "scatterpolar"
           }
          ],
          "scatterpolargl": [
           {
            "marker": {
             "colorbar": {
              "outlinewidth": 0,
              "ticks": ""
             }
            },
            "type": "scatterpolargl"
           }
          ],
          "scatterternary": [
           {
            "marker": {
             "colorbar": {
              "outlinewidth": 0,
              "ticks": ""
             }
            },
            "type": "scatterternary"
           }
          ],
          "surface": [
           {
            "colorbar": {
             "outlinewidth": 0,
             "ticks": ""
            },
            "colorscale": [
             [
              0,
              "#0d0887"
             ],
             [
              0.1111111111111111,
              "#46039f"
             ],
             [
              0.2222222222222222,
              "#7201a8"
             ],
             [
              0.3333333333333333,
              "#9c179e"
             ],
             [
              0.4444444444444444,
              "#bd3786"
             ],
             [
              0.5555555555555556,
              "#d8576b"
             ],
             [
              0.6666666666666666,
              "#ed7953"
             ],
             [
              0.7777777777777778,
              "#fb9f3a"
             ],
             [
              0.8888888888888888,
              "#fdca26"
             ],
             [
              1,
              "#f0f921"
             ]
            ],
            "type": "surface"
           }
          ],
          "table": [
           {
            "cells": {
             "fill": {
              "color": "#EBF0F8"
             },
             "line": {
              "color": "white"
             }
            },
            "header": {
             "fill": {
              "color": "#C8D4E3"
             },
             "line": {
              "color": "white"
             }
            },
            "type": "table"
           }
          ]
         },
         "layout": {
          "annotationdefaults": {
           "arrowcolor": "#2a3f5f",
           "arrowhead": 0,
           "arrowwidth": 1
          },
          "autotypenumbers": "strict",
          "coloraxis": {
           "colorbar": {
            "outlinewidth": 0,
            "ticks": ""
           }
          },
          "colorscale": {
           "diverging": [
            [
             0,
             "#8e0152"
            ],
            [
             0.1,
             "#c51b7d"
            ],
            [
             0.2,
             "#de77ae"
            ],
            [
             0.3,
             "#f1b6da"
            ],
            [
             0.4,
             "#fde0ef"
            ],
            [
             0.5,
             "#f7f7f7"
            ],
            [
             0.6,
             "#e6f5d0"
            ],
            [
             0.7,
             "#b8e186"
            ],
            [
             0.8,
             "#7fbc41"
            ],
            [
             0.9,
             "#4d9221"
            ],
            [
             1,
             "#276419"
            ]
           ],
           "sequential": [
            [
             0,
             "#0d0887"
            ],
            [
             0.1111111111111111,
             "#46039f"
            ],
            [
             0.2222222222222222,
             "#7201a8"
            ],
            [
             0.3333333333333333,
             "#9c179e"
            ],
            [
             0.4444444444444444,
             "#bd3786"
            ],
            [
             0.5555555555555556,
             "#d8576b"
            ],
            [
             0.6666666666666666,
             "#ed7953"
            ],
            [
             0.7777777777777778,
             "#fb9f3a"
            ],
            [
             0.8888888888888888,
             "#fdca26"
            ],
            [
             1,
             "#f0f921"
            ]
           ],
           "sequentialminus": [
            [
             0,
             "#0d0887"
            ],
            [
             0.1111111111111111,
             "#46039f"
            ],
            [
             0.2222222222222222,
             "#7201a8"
            ],
            [
             0.3333333333333333,
             "#9c179e"
            ],
            [
             0.4444444444444444,
             "#bd3786"
            ],
            [
             0.5555555555555556,
             "#d8576b"
            ],
            [
             0.6666666666666666,
             "#ed7953"
            ],
            [
             0.7777777777777778,
             "#fb9f3a"
            ],
            [
             0.8888888888888888,
             "#fdca26"
            ],
            [
             1,
             "#f0f921"
            ]
           ]
          },
          "colorway": [
           "#636efa",
           "#EF553B",
           "#00cc96",
           "#ab63fa",
           "#FFA15A",
           "#19d3f3",
           "#FF6692",
           "#B6E880",
           "#FF97FF",
           "#FECB52"
          ],
          "font": {
           "color": "#2a3f5f"
          },
          "geo": {
           "bgcolor": "white",
           "lakecolor": "white",
           "landcolor": "#E5ECF6",
           "showlakes": true,
           "showland": true,
           "subunitcolor": "white"
          },
          "hoverlabel": {
           "align": "left"
          },
          "hovermode": "closest",
          "mapbox": {
           "style": "light"
          },
          "paper_bgcolor": "white",
          "plot_bgcolor": "#E5ECF6",
          "polar": {
           "angularaxis": {
            "gridcolor": "white",
            "linecolor": "white",
            "ticks": ""
           },
           "bgcolor": "#E5ECF6",
           "radialaxis": {
            "gridcolor": "white",
            "linecolor": "white",
            "ticks": ""
           }
          },
          "scene": {
           "xaxis": {
            "backgroundcolor": "#E5ECF6",
            "gridcolor": "white",
            "gridwidth": 2,
            "linecolor": "white",
            "showbackground": true,
            "ticks": "",
            "zerolinecolor": "white"
           },
           "yaxis": {
            "backgroundcolor": "#E5ECF6",
            "gridcolor": "white",
            "gridwidth": 2,
            "linecolor": "white",
            "showbackground": true,
            "ticks": "",
            "zerolinecolor": "white"
           },
           "zaxis": {
            "backgroundcolor": "#E5ECF6",
            "gridcolor": "white",
            "gridwidth": 2,
            "linecolor": "white",
            "showbackground": true,
            "ticks": "",
            "zerolinecolor": "white"
           }
          },
          "shapedefaults": {
           "line": {
            "color": "#2a3f5f"
           }
          },
          "ternary": {
           "aaxis": {
            "gridcolor": "white",
            "linecolor": "white",
            "ticks": ""
           },
           "baxis": {
            "gridcolor": "white",
            "linecolor": "white",
            "ticks": ""
           },
           "bgcolor": "#E5ECF6",
           "caxis": {
            "gridcolor": "white",
            "linecolor": "white",
            "ticks": ""
           }
          },
          "title": {
           "x": 0.05
          },
          "xaxis": {
           "automargin": true,
           "gridcolor": "white",
           "linecolor": "white",
           "ticks": "",
           "title": {
            "standoff": 15
           },
           "zerolinecolor": "white",
           "zerolinewidth": 2
          },
          "yaxis": {
           "automargin": true,
           "gridcolor": "white",
           "linecolor": "white",
           "ticks": "",
           "title": {
            "standoff": 15
           },
           "zerolinecolor": "white",
           "zerolinewidth": 2
          }
         }
        },
        "title": {
         "text": "Average Sales by Day of Week"
        },
        "xaxis": {
         "anchor": "y",
         "domain": [
          0,
          1
         ],
         "title": {
          "text": "day_of_week"
         }
        },
        "yaxis": {
         "anchor": "x",
         "domain": [
          0,
          1
         ],
         "title": {
          "text": "Average Sales"
         }
        }
       }
      }
     },
     "metadata": {},
     "output_type": "display_data"
    }
   ],
   "source": [
    "# Monthly Sales Trend\n",
    "monthly_sales = train1.groupby(['year', 'month'])['sales'].sum().reset_index()\n",
    "monthly_sales['date'] = pd.to_datetime(monthly_sales[['year', 'month']].assign(day=1))\n",
    "\n",
    "fig = px.line(monthly_sales, x='date', y='sales',\n",
    "              title='Monthly Sales Trend Over Time',\n",
    "              labels={'sales': 'Total Sales', 'date': 'Date'})\n",
    "fig.show()\n",
    "\n",
    "# Sales by Day of Week\n",
    "dow_sales = train1.groupby('day_of_week')['sales'].mean().reindex(['Monday', 'Tuesday', 'Wednesday', 'Thursday', 'Friday', 'Saturday', 'Sunday'])\n",
    "fig = px.bar(dow_sales,\n",
    "             title='Average Sales by Day of Week',\n",
    "             labels={'index': 'Day of Week', 'value': 'Average Sales'})\n",
    "fig.show()"
   ]
  },
  {
   "cell_type": "code",
   "execution_count": 63,
   "id": "a9c45736",
   "metadata": {},
   "outputs": [
    {
     "data": {
      "application/vnd.plotly.v1+json": {
       "config": {
        "plotlyServerURL": "https://plot.ly"
       },
       "data": [
        {
         "hovertemplate": "Store Number=%{x}<br>Total Sales=%{y}<br>city=%{text}<extra></extra>",
         "legendgroup": "",
         "marker": {
          "color": "#636efa",
          "pattern": {
           "shape": ""
          }
         },
         "name": "",
         "orientation": "v",
         "showlegend": false,
         "text": [
          "Quito",
          "Quito",
          "Quito",
          "Quito",
          "Quito",
          "Quito",
          "Quito",
          "Guayaquil",
          "Quito",
          "Ambato"
         ],
         "textposition": "outside",
         "type": "bar",
         "x": {
          "bdata": "LC0vAzEuMDMIMg==",
          "dtype": "i1"
         },
         "xaxis": "x",
         "y": {
          "bdata": "Oq9xTNBvVEwndUZMtpVETHIrKUx+SSNMqygMTEUwAEwyde1LTFffSw==",
          "dtype": "f4"
         },
         "yaxis": "y"
        }
       ],
       "layout": {
        "barmode": "relative",
        "legend": {
         "tracegroupgap": 0
        },
        "template": {
         "data": {
          "bar": [
           {
            "error_x": {
             "color": "#2a3f5f"
            },
            "error_y": {
             "color": "#2a3f5f"
            },
            "marker": {
             "line": {
              "color": "#E5ECF6",
              "width": 0.5
             },
             "pattern": {
              "fillmode": "overlay",
              "size": 10,
              "solidity": 0.2
             }
            },
            "type": "bar"
           }
          ],
          "barpolar": [
           {
            "marker": {
             "line": {
              "color": "#E5ECF6",
              "width": 0.5
             },
             "pattern": {
              "fillmode": "overlay",
              "size": 10,
              "solidity": 0.2
             }
            },
            "type": "barpolar"
           }
          ],
          "carpet": [
           {
            "aaxis": {
             "endlinecolor": "#2a3f5f",
             "gridcolor": "white",
             "linecolor": "white",
             "minorgridcolor": "white",
             "startlinecolor": "#2a3f5f"
            },
            "baxis": {
             "endlinecolor": "#2a3f5f",
             "gridcolor": "white",
             "linecolor": "white",
             "minorgridcolor": "white",
             "startlinecolor": "#2a3f5f"
            },
            "type": "carpet"
           }
          ],
          "choropleth": [
           {
            "colorbar": {
             "outlinewidth": 0,
             "ticks": ""
            },
            "type": "choropleth"
           }
          ],
          "contour": [
           {
            "colorbar": {
             "outlinewidth": 0,
             "ticks": ""
            },
            "colorscale": [
             [
              0,
              "#0d0887"
             ],
             [
              0.1111111111111111,
              "#46039f"
             ],
             [
              0.2222222222222222,
              "#7201a8"
             ],
             [
              0.3333333333333333,
              "#9c179e"
             ],
             [
              0.4444444444444444,
              "#bd3786"
             ],
             [
              0.5555555555555556,
              "#d8576b"
             ],
             [
              0.6666666666666666,
              "#ed7953"
             ],
             [
              0.7777777777777778,
              "#fb9f3a"
             ],
             [
              0.8888888888888888,
              "#fdca26"
             ],
             [
              1,
              "#f0f921"
             ]
            ],
            "type": "contour"
           }
          ],
          "contourcarpet": [
           {
            "colorbar": {
             "outlinewidth": 0,
             "ticks": ""
            },
            "type": "contourcarpet"
           }
          ],
          "heatmap": [
           {
            "colorbar": {
             "outlinewidth": 0,
             "ticks": ""
            },
            "colorscale": [
             [
              0,
              "#0d0887"
             ],
             [
              0.1111111111111111,
              "#46039f"
             ],
             [
              0.2222222222222222,
              "#7201a8"
             ],
             [
              0.3333333333333333,
              "#9c179e"
             ],
             [
              0.4444444444444444,
              "#bd3786"
             ],
             [
              0.5555555555555556,
              "#d8576b"
             ],
             [
              0.6666666666666666,
              "#ed7953"
             ],
             [
              0.7777777777777778,
              "#fb9f3a"
             ],
             [
              0.8888888888888888,
              "#fdca26"
             ],
             [
              1,
              "#f0f921"
             ]
            ],
            "type": "heatmap"
           }
          ],
          "histogram": [
           {
            "marker": {
             "pattern": {
              "fillmode": "overlay",
              "size": 10,
              "solidity": 0.2
             }
            },
            "type": "histogram"
           }
          ],
          "histogram2d": [
           {
            "colorbar": {
             "outlinewidth": 0,
             "ticks": ""
            },
            "colorscale": [
             [
              0,
              "#0d0887"
             ],
             [
              0.1111111111111111,
              "#46039f"
             ],
             [
              0.2222222222222222,
              "#7201a8"
             ],
             [
              0.3333333333333333,
              "#9c179e"
             ],
             [
              0.4444444444444444,
              "#bd3786"
             ],
             [
              0.5555555555555556,
              "#d8576b"
             ],
             [
              0.6666666666666666,
              "#ed7953"
             ],
             [
              0.7777777777777778,
              "#fb9f3a"
             ],
             [
              0.8888888888888888,
              "#fdca26"
             ],
             [
              1,
              "#f0f921"
             ]
            ],
            "type": "histogram2d"
           }
          ],
          "histogram2dcontour": [
           {
            "colorbar": {
             "outlinewidth": 0,
             "ticks": ""
            },
            "colorscale": [
             [
              0,
              "#0d0887"
             ],
             [
              0.1111111111111111,
              "#46039f"
             ],
             [
              0.2222222222222222,
              "#7201a8"
             ],
             [
              0.3333333333333333,
              "#9c179e"
             ],
             [
              0.4444444444444444,
              "#bd3786"
             ],
             [
              0.5555555555555556,
              "#d8576b"
             ],
             [
              0.6666666666666666,
              "#ed7953"
             ],
             [
              0.7777777777777778,
              "#fb9f3a"
             ],
             [
              0.8888888888888888,
              "#fdca26"
             ],
             [
              1,
              "#f0f921"
             ]
            ],
            "type": "histogram2dcontour"
           }
          ],
          "mesh3d": [
           {
            "colorbar": {
             "outlinewidth": 0,
             "ticks": ""
            },
            "type": "mesh3d"
           }
          ],
          "parcoords": [
           {
            "line": {
             "colorbar": {
              "outlinewidth": 0,
              "ticks": ""
             }
            },
            "type": "parcoords"
           }
          ],
          "pie": [
           {
            "automargin": true,
            "type": "pie"
           }
          ],
          "scatter": [
           {
            "fillpattern": {
             "fillmode": "overlay",
             "size": 10,
             "solidity": 0.2
            },
            "type": "scatter"
           }
          ],
          "scatter3d": [
           {
            "line": {
             "colorbar": {
              "outlinewidth": 0,
              "ticks": ""
             }
            },
            "marker": {
             "colorbar": {
              "outlinewidth": 0,
              "ticks": ""
             }
            },
            "type": "scatter3d"
           }
          ],
          "scattercarpet": [
           {
            "marker": {
             "colorbar": {
              "outlinewidth": 0,
              "ticks": ""
             }
            },
            "type": "scattercarpet"
           }
          ],
          "scattergeo": [
           {
            "marker": {
             "colorbar": {
              "outlinewidth": 0,
              "ticks": ""
             }
            },
            "type": "scattergeo"
           }
          ],
          "scattergl": [
           {
            "marker": {
             "colorbar": {
              "outlinewidth": 0,
              "ticks": ""
             }
            },
            "type": "scattergl"
           }
          ],
          "scattermap": [
           {
            "marker": {
             "colorbar": {
              "outlinewidth": 0,
              "ticks": ""
             }
            },
            "type": "scattermap"
           }
          ],
          "scattermapbox": [
           {
            "marker": {
             "colorbar": {
              "outlinewidth": 0,
              "ticks": ""
             }
            },
            "type": "scattermapbox"
           }
          ],
          "scatterpolar": [
           {
            "marker": {
             "colorbar": {
              "outlinewidth": 0,
              "ticks": ""
             }
            },
            "type": "scatterpolar"
           }
          ],
          "scatterpolargl": [
           {
            "marker": {
             "colorbar": {
              "outlinewidth": 0,
              "ticks": ""
             }
            },
            "type": "scatterpolargl"
           }
          ],
          "scatterternary": [
           {
            "marker": {
             "colorbar": {
              "outlinewidth": 0,
              "ticks": ""
             }
            },
            "type": "scatterternary"
           }
          ],
          "surface": [
           {
            "colorbar": {
             "outlinewidth": 0,
             "ticks": ""
            },
            "colorscale": [
             [
              0,
              "#0d0887"
             ],
             [
              0.1111111111111111,
              "#46039f"
             ],
             [
              0.2222222222222222,
              "#7201a8"
             ],
             [
              0.3333333333333333,
              "#9c179e"
             ],
             [
              0.4444444444444444,
              "#bd3786"
             ],
             [
              0.5555555555555556,
              "#d8576b"
             ],
             [
              0.6666666666666666,
              "#ed7953"
             ],
             [
              0.7777777777777778,
              "#fb9f3a"
             ],
             [
              0.8888888888888888,
              "#fdca26"
             ],
             [
              1,
              "#f0f921"
             ]
            ],
            "type": "surface"
           }
          ],
          "table": [
           {
            "cells": {
             "fill": {
              "color": "#EBF0F8"
             },
             "line": {
              "color": "white"
             }
            },
            "header": {
             "fill": {
              "color": "#C8D4E3"
             },
             "line": {
              "color": "white"
             }
            },
            "type": "table"
           }
          ]
         },
         "layout": {
          "annotationdefaults": {
           "arrowcolor": "#2a3f5f",
           "arrowhead": 0,
           "arrowwidth": 1
          },
          "autotypenumbers": "strict",
          "coloraxis": {
           "colorbar": {
            "outlinewidth": 0,
            "ticks": ""
           }
          },
          "colorscale": {
           "diverging": [
            [
             0,
             "#8e0152"
            ],
            [
             0.1,
             "#c51b7d"
            ],
            [
             0.2,
             "#de77ae"
            ],
            [
             0.3,
             "#f1b6da"
            ],
            [
             0.4,
             "#fde0ef"
            ],
            [
             0.5,
             "#f7f7f7"
            ],
            [
             0.6,
             "#e6f5d0"
            ],
            [
             0.7,
             "#b8e186"
            ],
            [
             0.8,
             "#7fbc41"
            ],
            [
             0.9,
             "#4d9221"
            ],
            [
             1,
             "#276419"
            ]
           ],
           "sequential": [
            [
             0,
             "#0d0887"
            ],
            [
             0.1111111111111111,
             "#46039f"
            ],
            [
             0.2222222222222222,
             "#7201a8"
            ],
            [
             0.3333333333333333,
             "#9c179e"
            ],
            [
             0.4444444444444444,
             "#bd3786"
            ],
            [
             0.5555555555555556,
             "#d8576b"
            ],
            [
             0.6666666666666666,
             "#ed7953"
            ],
            [
             0.7777777777777778,
             "#fb9f3a"
            ],
            [
             0.8888888888888888,
             "#fdca26"
            ],
            [
             1,
             "#f0f921"
            ]
           ],
           "sequentialminus": [
            [
             0,
             "#0d0887"
            ],
            [
             0.1111111111111111,
             "#46039f"
            ],
            [
             0.2222222222222222,
             "#7201a8"
            ],
            [
             0.3333333333333333,
             "#9c179e"
            ],
            [
             0.4444444444444444,
             "#bd3786"
            ],
            [
             0.5555555555555556,
             "#d8576b"
            ],
            [
             0.6666666666666666,
             "#ed7953"
            ],
            [
             0.7777777777777778,
             "#fb9f3a"
            ],
            [
             0.8888888888888888,
             "#fdca26"
            ],
            [
             1,
             "#f0f921"
            ]
           ]
          },
          "colorway": [
           "#636efa",
           "#EF553B",
           "#00cc96",
           "#ab63fa",
           "#FFA15A",
           "#19d3f3",
           "#FF6692",
           "#B6E880",
           "#FF97FF",
           "#FECB52"
          ],
          "font": {
           "color": "#2a3f5f"
          },
          "geo": {
           "bgcolor": "white",
           "lakecolor": "white",
           "landcolor": "#E5ECF6",
           "showlakes": true,
           "showland": true,
           "subunitcolor": "white"
          },
          "hoverlabel": {
           "align": "left"
          },
          "hovermode": "closest",
          "mapbox": {
           "style": "light"
          },
          "paper_bgcolor": "white",
          "plot_bgcolor": "#E5ECF6",
          "polar": {
           "angularaxis": {
            "gridcolor": "white",
            "linecolor": "white",
            "ticks": ""
           },
           "bgcolor": "#E5ECF6",
           "radialaxis": {
            "gridcolor": "white",
            "linecolor": "white",
            "ticks": ""
           }
          },
          "scene": {
           "xaxis": {
            "backgroundcolor": "#E5ECF6",
            "gridcolor": "white",
            "gridwidth": 2,
            "linecolor": "white",
            "showbackground": true,
            "ticks": "",
            "zerolinecolor": "white"
           },
           "yaxis": {
            "backgroundcolor": "#E5ECF6",
            "gridcolor": "white",
            "gridwidth": 2,
            "linecolor": "white",
            "showbackground": true,
            "ticks": "",
            "zerolinecolor": "white"
           },
           "zaxis": {
            "backgroundcolor": "#E5ECF6",
            "gridcolor": "white",
            "gridwidth": 2,
            "linecolor": "white",
            "showbackground": true,
            "ticks": "",
            "zerolinecolor": "white"
           }
          },
          "shapedefaults": {
           "line": {
            "color": "#2a3f5f"
           }
          },
          "ternary": {
           "aaxis": {
            "gridcolor": "white",
            "linecolor": "white",
            "ticks": ""
           },
           "baxis": {
            "gridcolor": "white",
            "linecolor": "white",
            "ticks": ""
           },
           "bgcolor": "#E5ECF6",
           "caxis": {
            "gridcolor": "white",
            "linecolor": "white",
            "ticks": ""
           }
          },
          "title": {
           "x": 0.05
          },
          "xaxis": {
           "automargin": true,
           "gridcolor": "white",
           "linecolor": "white",
           "ticks": "",
           "title": {
            "standoff": 15
           },
           "zerolinecolor": "white",
           "zerolinewidth": 2
          },
          "yaxis": {
           "automargin": true,
           "gridcolor": "white",
           "linecolor": "white",
           "ticks": "",
           "title": {
            "standoff": 15
           },
           "zerolinecolor": "white",
           "zerolinewidth": 2
          }
         }
        },
        "title": {
         "text": "Top 10 Stores by Total Sales"
        },
        "xaxis": {
         "anchor": "y",
         "domain": [
          0,
          1
         ],
         "title": {
          "text": "Store Number"
         }
        },
        "yaxis": {
         "anchor": "x",
         "domain": [
          0,
          1
         ],
         "title": {
          "text": "Total Sales"
         }
        }
       }
      }
     },
     "metadata": {},
     "output_type": "display_data"
    },
    {
     "data": {
      "application/vnd.plotly.v1+json": {
       "config": {
        "plotlyServerURL": "https://plot.ly"
       },
       "data": [
        {
         "hovertemplate": "Store Type=%{x}<br>Average Sales=%{y}<extra></extra>",
         "legendgroup": "",
         "marker": {
          "color": "#636efa",
          "pattern": {
           "shape": ""
          }
         },
         "name": "",
         "orientation": "v",
         "showlegend": false,
         "textposition": "auto",
         "type": "bar",
         "x": [
          "A",
          "B",
          "C",
          "D",
          "E"
         ],
         "xaxis": "x",
         "y": {
          "bdata": "NBgxRDsjpENoykVD0QqwQ4skh0M=",
          "dtype": "f4"
         },
         "yaxis": "y"
        }
       ],
       "layout": {
        "barmode": "relative",
        "legend": {
         "tracegroupgap": 0
        },
        "template": {
         "data": {
          "bar": [
           {
            "error_x": {
             "color": "#2a3f5f"
            },
            "error_y": {
             "color": "#2a3f5f"
            },
            "marker": {
             "line": {
              "color": "#E5ECF6",
              "width": 0.5
             },
             "pattern": {
              "fillmode": "overlay",
              "size": 10,
              "solidity": 0.2
             }
            },
            "type": "bar"
           }
          ],
          "barpolar": [
           {
            "marker": {
             "line": {
              "color": "#E5ECF6",
              "width": 0.5
             },
             "pattern": {
              "fillmode": "overlay",
              "size": 10,
              "solidity": 0.2
             }
            },
            "type": "barpolar"
           }
          ],
          "carpet": [
           {
            "aaxis": {
             "endlinecolor": "#2a3f5f",
             "gridcolor": "white",
             "linecolor": "white",
             "minorgridcolor": "white",
             "startlinecolor": "#2a3f5f"
            },
            "baxis": {
             "endlinecolor": "#2a3f5f",
             "gridcolor": "white",
             "linecolor": "white",
             "minorgridcolor": "white",
             "startlinecolor": "#2a3f5f"
            },
            "type": "carpet"
           }
          ],
          "choropleth": [
           {
            "colorbar": {
             "outlinewidth": 0,
             "ticks": ""
            },
            "type": "choropleth"
           }
          ],
          "contour": [
           {
            "colorbar": {
             "outlinewidth": 0,
             "ticks": ""
            },
            "colorscale": [
             [
              0,
              "#0d0887"
             ],
             [
              0.1111111111111111,
              "#46039f"
             ],
             [
              0.2222222222222222,
              "#7201a8"
             ],
             [
              0.3333333333333333,
              "#9c179e"
             ],
             [
              0.4444444444444444,
              "#bd3786"
             ],
             [
              0.5555555555555556,
              "#d8576b"
             ],
             [
              0.6666666666666666,
              "#ed7953"
             ],
             [
              0.7777777777777778,
              "#fb9f3a"
             ],
             [
              0.8888888888888888,
              "#fdca26"
             ],
             [
              1,
              "#f0f921"
             ]
            ],
            "type": "contour"
           }
          ],
          "contourcarpet": [
           {
            "colorbar": {
             "outlinewidth": 0,
             "ticks": ""
            },
            "type": "contourcarpet"
           }
          ],
          "heatmap": [
           {
            "colorbar": {
             "outlinewidth": 0,
             "ticks": ""
            },
            "colorscale": [
             [
              0,
              "#0d0887"
             ],
             [
              0.1111111111111111,
              "#46039f"
             ],
             [
              0.2222222222222222,
              "#7201a8"
             ],
             [
              0.3333333333333333,
              "#9c179e"
             ],
             [
              0.4444444444444444,
              "#bd3786"
             ],
             [
              0.5555555555555556,
              "#d8576b"
             ],
             [
              0.6666666666666666,
              "#ed7953"
             ],
             [
              0.7777777777777778,
              "#fb9f3a"
             ],
             [
              0.8888888888888888,
              "#fdca26"
             ],
             [
              1,
              "#f0f921"
             ]
            ],
            "type": "heatmap"
           }
          ],
          "histogram": [
           {
            "marker": {
             "pattern": {
              "fillmode": "overlay",
              "size": 10,
              "solidity": 0.2
             }
            },
            "type": "histogram"
           }
          ],
          "histogram2d": [
           {
            "colorbar": {
             "outlinewidth": 0,
             "ticks": ""
            },
            "colorscale": [
             [
              0,
              "#0d0887"
             ],
             [
              0.1111111111111111,
              "#46039f"
             ],
             [
              0.2222222222222222,
              "#7201a8"
             ],
             [
              0.3333333333333333,
              "#9c179e"
             ],
             [
              0.4444444444444444,
              "#bd3786"
             ],
             [
              0.5555555555555556,
              "#d8576b"
             ],
             [
              0.6666666666666666,
              "#ed7953"
             ],
             [
              0.7777777777777778,
              "#fb9f3a"
             ],
             [
              0.8888888888888888,
              "#fdca26"
             ],
             [
              1,
              "#f0f921"
             ]
            ],
            "type": "histogram2d"
           }
          ],
          "histogram2dcontour": [
           {
            "colorbar": {
             "outlinewidth": 0,
             "ticks": ""
            },
            "colorscale": [
             [
              0,
              "#0d0887"
             ],
             [
              0.1111111111111111,
              "#46039f"
             ],
             [
              0.2222222222222222,
              "#7201a8"
             ],
             [
              0.3333333333333333,
              "#9c179e"
             ],
             [
              0.4444444444444444,
              "#bd3786"
             ],
             [
              0.5555555555555556,
              "#d8576b"
             ],
             [
              0.6666666666666666,
              "#ed7953"
             ],
             [
              0.7777777777777778,
              "#fb9f3a"
             ],
             [
              0.8888888888888888,
              "#fdca26"
             ],
             [
              1,
              "#f0f921"
             ]
            ],
            "type": "histogram2dcontour"
           }
          ],
          "mesh3d": [
           {
            "colorbar": {
             "outlinewidth": 0,
             "ticks": ""
            },
            "type": "mesh3d"
           }
          ],
          "parcoords": [
           {
            "line": {
             "colorbar": {
              "outlinewidth": 0,
              "ticks": ""
             }
            },
            "type": "parcoords"
           }
          ],
          "pie": [
           {
            "automargin": true,
            "type": "pie"
           }
          ],
          "scatter": [
           {
            "fillpattern": {
             "fillmode": "overlay",
             "size": 10,
             "solidity": 0.2
            },
            "type": "scatter"
           }
          ],
          "scatter3d": [
           {
            "line": {
             "colorbar": {
              "outlinewidth": 0,
              "ticks": ""
             }
            },
            "marker": {
             "colorbar": {
              "outlinewidth": 0,
              "ticks": ""
             }
            },
            "type": "scatter3d"
           }
          ],
          "scattercarpet": [
           {
            "marker": {
             "colorbar": {
              "outlinewidth": 0,
              "ticks": ""
             }
            },
            "type": "scattercarpet"
           }
          ],
          "scattergeo": [
           {
            "marker": {
             "colorbar": {
              "outlinewidth": 0,
              "ticks": ""
             }
            },
            "type": "scattergeo"
           }
          ],
          "scattergl": [
           {
            "marker": {
             "colorbar": {
              "outlinewidth": 0,
              "ticks": ""
             }
            },
            "type": "scattergl"
           }
          ],
          "scattermap": [
           {
            "marker": {
             "colorbar": {
              "outlinewidth": 0,
              "ticks": ""
             }
            },
            "type": "scattermap"
           }
          ],
          "scattermapbox": [
           {
            "marker": {
             "colorbar": {
              "outlinewidth": 0,
              "ticks": ""
             }
            },
            "type": "scattermapbox"
           }
          ],
          "scatterpolar": [
           {
            "marker": {
             "colorbar": {
              "outlinewidth": 0,
              "ticks": ""
             }
            },
            "type": "scatterpolar"
           }
          ],
          "scatterpolargl": [
           {
            "marker": {
             "colorbar": {
              "outlinewidth": 0,
              "ticks": ""
             }
            },
            "type": "scatterpolargl"
           }
          ],
          "scatterternary": [
           {
            "marker": {
             "colorbar": {
              "outlinewidth": 0,
              "ticks": ""
             }
            },
            "type": "scatterternary"
           }
          ],
          "surface": [
           {
            "colorbar": {
             "outlinewidth": 0,
             "ticks": ""
            },
            "colorscale": [
             [
              0,
              "#0d0887"
             ],
             [
              0.1111111111111111,
              "#46039f"
             ],
             [
              0.2222222222222222,
              "#7201a8"
             ],
             [
              0.3333333333333333,
              "#9c179e"
             ],
             [
              0.4444444444444444,
              "#bd3786"
             ],
             [
              0.5555555555555556,
              "#d8576b"
             ],
             [
              0.6666666666666666,
              "#ed7953"
             ],
             [
              0.7777777777777778,
              "#fb9f3a"
             ],
             [
              0.8888888888888888,
              "#fdca26"
             ],
             [
              1,
              "#f0f921"
             ]
            ],
            "type": "surface"
           }
          ],
          "table": [
           {
            "cells": {
             "fill": {
              "color": "#EBF0F8"
             },
             "line": {
              "color": "white"
             }
            },
            "header": {
             "fill": {
              "color": "#C8D4E3"
             },
             "line": {
              "color": "white"
             }
            },
            "type": "table"
           }
          ]
         },
         "layout": {
          "annotationdefaults": {
           "arrowcolor": "#2a3f5f",
           "arrowhead": 0,
           "arrowwidth": 1
          },
          "autotypenumbers": "strict",
          "coloraxis": {
           "colorbar": {
            "outlinewidth": 0,
            "ticks": ""
           }
          },
          "colorscale": {
           "diverging": [
            [
             0,
             "#8e0152"
            ],
            [
             0.1,
             "#c51b7d"
            ],
            [
             0.2,
             "#de77ae"
            ],
            [
             0.3,
             "#f1b6da"
            ],
            [
             0.4,
             "#fde0ef"
            ],
            [
             0.5,
             "#f7f7f7"
            ],
            [
             0.6,
             "#e6f5d0"
            ],
            [
             0.7,
             "#b8e186"
            ],
            [
             0.8,
             "#7fbc41"
            ],
            [
             0.9,
             "#4d9221"
            ],
            [
             1,
             "#276419"
            ]
           ],
           "sequential": [
            [
             0,
             "#0d0887"
            ],
            [
             0.1111111111111111,
             "#46039f"
            ],
            [
             0.2222222222222222,
             "#7201a8"
            ],
            [
             0.3333333333333333,
             "#9c179e"
            ],
            [
             0.4444444444444444,
             "#bd3786"
            ],
            [
             0.5555555555555556,
             "#d8576b"
            ],
            [
             0.6666666666666666,
             "#ed7953"
            ],
            [
             0.7777777777777778,
             "#fb9f3a"
            ],
            [
             0.8888888888888888,
             "#fdca26"
            ],
            [
             1,
             "#f0f921"
            ]
           ],
           "sequentialminus": [
            [
             0,
             "#0d0887"
            ],
            [
             0.1111111111111111,
             "#46039f"
            ],
            [
             0.2222222222222222,
             "#7201a8"
            ],
            [
             0.3333333333333333,
             "#9c179e"
            ],
            [
             0.4444444444444444,
             "#bd3786"
            ],
            [
             0.5555555555555556,
             "#d8576b"
            ],
            [
             0.6666666666666666,
             "#ed7953"
            ],
            [
             0.7777777777777778,
             "#fb9f3a"
            ],
            [
             0.8888888888888888,
             "#fdca26"
            ],
            [
             1,
             "#f0f921"
            ]
           ]
          },
          "colorway": [
           "#636efa",
           "#EF553B",
           "#00cc96",
           "#ab63fa",
           "#FFA15A",
           "#19d3f3",
           "#FF6692",
           "#B6E880",
           "#FF97FF",
           "#FECB52"
          ],
          "font": {
           "color": "#2a3f5f"
          },
          "geo": {
           "bgcolor": "white",
           "lakecolor": "white",
           "landcolor": "#E5ECF6",
           "showlakes": true,
           "showland": true,
           "subunitcolor": "white"
          },
          "hoverlabel": {
           "align": "left"
          },
          "hovermode": "closest",
          "mapbox": {
           "style": "light"
          },
          "paper_bgcolor": "white",
          "plot_bgcolor": "#E5ECF6",
          "polar": {
           "angularaxis": {
            "gridcolor": "white",
            "linecolor": "white",
            "ticks": ""
           },
           "bgcolor": "#E5ECF6",
           "radialaxis": {
            "gridcolor": "white",
            "linecolor": "white",
            "ticks": ""
           }
          },
          "scene": {
           "xaxis": {
            "backgroundcolor": "#E5ECF6",
            "gridcolor": "white",
            "gridwidth": 2,
            "linecolor": "white",
            "showbackground": true,
            "ticks": "",
            "zerolinecolor": "white"
           },
           "yaxis": {
            "backgroundcolor": "#E5ECF6",
            "gridcolor": "white",
            "gridwidth": 2,
            "linecolor": "white",
            "showbackground": true,
            "ticks": "",
            "zerolinecolor": "white"
           },
           "zaxis": {
            "backgroundcolor": "#E5ECF6",
            "gridcolor": "white",
            "gridwidth": 2,
            "linecolor": "white",
            "showbackground": true,
            "ticks": "",
            "zerolinecolor": "white"
           }
          },
          "shapedefaults": {
           "line": {
            "color": "#2a3f5f"
           }
          },
          "ternary": {
           "aaxis": {
            "gridcolor": "white",
            "linecolor": "white",
            "ticks": ""
           },
           "baxis": {
            "gridcolor": "white",
            "linecolor": "white",
            "ticks": ""
           },
           "bgcolor": "#E5ECF6",
           "caxis": {
            "gridcolor": "white",
            "linecolor": "white",
            "ticks": ""
           }
          },
          "title": {
           "x": 0.05
          },
          "xaxis": {
           "automargin": true,
           "gridcolor": "white",
           "linecolor": "white",
           "ticks": "",
           "title": {
            "standoff": 15
           },
           "zerolinecolor": "white",
           "zerolinewidth": 2
          },
          "yaxis": {
           "automargin": true,
           "gridcolor": "white",
           "linecolor": "white",
           "ticks": "",
           "title": {
            "standoff": 15
           },
           "zerolinecolor": "white",
           "zerolinewidth": 2
          }
         }
        },
        "title": {
         "text": "Average Sales by Store Type"
        },
        "xaxis": {
         "anchor": "y",
         "domain": [
          0,
          1
         ],
         "title": {
          "text": "Store Type"
         }
        },
        "yaxis": {
         "anchor": "x",
         "domain": [
          0,
          1
         ],
         "title": {
          "text": "Average Sales"
         }
        }
       }
      }
     },
     "metadata": {},
     "output_type": "display_data"
    }
   ],
   "source": [
    "# Top 10 Stores by Sales\n",
    "store_sales = train1.groupby(['store_nbr', 'city'])['sales'].sum().reset_index()\n",
    "top_stores = store_sales.nlargest(10, 'sales')\n",
    "\n",
    "fig = px.bar(top_stores, x='store_nbr', y='sales',\n",
    "             title='Top 10 Stores by Total Sales',\n",
    "             text='city',\n",
    "             labels={'store_nbr': 'Store Number', 'sales': 'Total Sales'})\n",
    "fig.update_traces(textposition='outside')\n",
    "fig.show()\n",
    "\n",
    "# Sales by Store Type\n",
    "store_type_sales = train1.groupby('store_type')['sales'].mean().reset_index()\n",
    "fig = px.bar(store_type_sales, x='store_type', y='sales',\n",
    "             title='Average Sales by Store Type',\n",
    "             labels={'store_type': 'Store Type', 'sales': 'Average Sales'})\n",
    "fig.show()"
   ]
  },
  {
   "cell_type": "code",
   "execution_count": 64,
   "id": "b4edad86",
   "metadata": {},
   "outputs": [
    {
     "data": {
      "application/vnd.plotly.v1+json": {
       "config": {
        "plotlyServerURL": "https://plot.ly"
       },
       "data": [
        {
         "hovertemplate": "Product Family=%{x}<br>Total Sales=%{y}<extra></extra>",
         "legendgroup": "",
         "marker": {
          "color": "#636efa",
          "pattern": {
           "shape": ""
          }
         },
         "name": "",
         "orientation": "v",
         "showlegend": false,
         "textposition": "auto",
         "type": "bar",
         "x": [
          "GROCERY I",
          "BEVERAGES",
          "PRODUCE",
          "CLEANING",
          "DAIRY",
          "BREAD/BAKERY",
          "POULTRY",
          "MEATS",
          "PERSONAL CARE",
          "DELI",
          "HOME CARE",
          "EGGS",
          "FROZEN FOODS",
          "PREPARED FOODS",
          "LIQUOR,WINE,BEER"
         ],
         "xaxis": "x",
         "y": {
          "bdata": "mUmnTRNlU03kRe9Ma6G9TN0Ye0wN4SNMuen3S1p68UthgL9LzZK7S7JjekvsU3JLnH5fS0jSCEsoOfJK",
          "dtype": "f4"
         },
         "yaxis": "y"
        }
       ],
       "layout": {
        "barmode": "relative",
        "legend": {
         "tracegroupgap": 0
        },
        "template": {
         "data": {
          "bar": [
           {
            "error_x": {
             "color": "#2a3f5f"
            },
            "error_y": {
             "color": "#2a3f5f"
            },
            "marker": {
             "line": {
              "color": "#E5ECF6",
              "width": 0.5
             },
             "pattern": {
              "fillmode": "overlay",
              "size": 10,
              "solidity": 0.2
             }
            },
            "type": "bar"
           }
          ],
          "barpolar": [
           {
            "marker": {
             "line": {
              "color": "#E5ECF6",
              "width": 0.5
             },
             "pattern": {
              "fillmode": "overlay",
              "size": 10,
              "solidity": 0.2
             }
            },
            "type": "barpolar"
           }
          ],
          "carpet": [
           {
            "aaxis": {
             "endlinecolor": "#2a3f5f",
             "gridcolor": "white",
             "linecolor": "white",
             "minorgridcolor": "white",
             "startlinecolor": "#2a3f5f"
            },
            "baxis": {
             "endlinecolor": "#2a3f5f",
             "gridcolor": "white",
             "linecolor": "white",
             "minorgridcolor": "white",
             "startlinecolor": "#2a3f5f"
            },
            "type": "carpet"
           }
          ],
          "choropleth": [
           {
            "colorbar": {
             "outlinewidth": 0,
             "ticks": ""
            },
            "type": "choropleth"
           }
          ],
          "contour": [
           {
            "colorbar": {
             "outlinewidth": 0,
             "ticks": ""
            },
            "colorscale": [
             [
              0,
              "#0d0887"
             ],
             [
              0.1111111111111111,
              "#46039f"
             ],
             [
              0.2222222222222222,
              "#7201a8"
             ],
             [
              0.3333333333333333,
              "#9c179e"
             ],
             [
              0.4444444444444444,
              "#bd3786"
             ],
             [
              0.5555555555555556,
              "#d8576b"
             ],
             [
              0.6666666666666666,
              "#ed7953"
             ],
             [
              0.7777777777777778,
              "#fb9f3a"
             ],
             [
              0.8888888888888888,
              "#fdca26"
             ],
             [
              1,
              "#f0f921"
             ]
            ],
            "type": "contour"
           }
          ],
          "contourcarpet": [
           {
            "colorbar": {
             "outlinewidth": 0,
             "ticks": ""
            },
            "type": "contourcarpet"
           }
          ],
          "heatmap": [
           {
            "colorbar": {
             "outlinewidth": 0,
             "ticks": ""
            },
            "colorscale": [
             [
              0,
              "#0d0887"
             ],
             [
              0.1111111111111111,
              "#46039f"
             ],
             [
              0.2222222222222222,
              "#7201a8"
             ],
             [
              0.3333333333333333,
              "#9c179e"
             ],
             [
              0.4444444444444444,
              "#bd3786"
             ],
             [
              0.5555555555555556,
              "#d8576b"
             ],
             [
              0.6666666666666666,
              "#ed7953"
             ],
             [
              0.7777777777777778,
              "#fb9f3a"
             ],
             [
              0.8888888888888888,
              "#fdca26"
             ],
             [
              1,
              "#f0f921"
             ]
            ],
            "type": "heatmap"
           }
          ],
          "histogram": [
           {
            "marker": {
             "pattern": {
              "fillmode": "overlay",
              "size": 10,
              "solidity": 0.2
             }
            },
            "type": "histogram"
           }
          ],
          "histogram2d": [
           {
            "colorbar": {
             "outlinewidth": 0,
             "ticks": ""
            },
            "colorscale": [
             [
              0,
              "#0d0887"
             ],
             [
              0.1111111111111111,
              "#46039f"
             ],
             [
              0.2222222222222222,
              "#7201a8"
             ],
             [
              0.3333333333333333,
              "#9c179e"
             ],
             [
              0.4444444444444444,
              "#bd3786"
             ],
             [
              0.5555555555555556,
              "#d8576b"
             ],
             [
              0.6666666666666666,
              "#ed7953"
             ],
             [
              0.7777777777777778,
              "#fb9f3a"
             ],
             [
              0.8888888888888888,
              "#fdca26"
             ],
             [
              1,
              "#f0f921"
             ]
            ],
            "type": "histogram2d"
           }
          ],
          "histogram2dcontour": [
           {
            "colorbar": {
             "outlinewidth": 0,
             "ticks": ""
            },
            "colorscale": [
             [
              0,
              "#0d0887"
             ],
             [
              0.1111111111111111,
              "#46039f"
             ],
             [
              0.2222222222222222,
              "#7201a8"
             ],
             [
              0.3333333333333333,
              "#9c179e"
             ],
             [
              0.4444444444444444,
              "#bd3786"
             ],
             [
              0.5555555555555556,
              "#d8576b"
             ],
             [
              0.6666666666666666,
              "#ed7953"
             ],
             [
              0.7777777777777778,
              "#fb9f3a"
             ],
             [
              0.8888888888888888,
              "#fdca26"
             ],
             [
              1,
              "#f0f921"
             ]
            ],
            "type": "histogram2dcontour"
           }
          ],
          "mesh3d": [
           {
            "colorbar": {
             "outlinewidth": 0,
             "ticks": ""
            },
            "type": "mesh3d"
           }
          ],
          "parcoords": [
           {
            "line": {
             "colorbar": {
              "outlinewidth": 0,
              "ticks": ""
             }
            },
            "type": "parcoords"
           }
          ],
          "pie": [
           {
            "automargin": true,
            "type": "pie"
           }
          ],
          "scatter": [
           {
            "fillpattern": {
             "fillmode": "overlay",
             "size": 10,
             "solidity": 0.2
            },
            "type": "scatter"
           }
          ],
          "scatter3d": [
           {
            "line": {
             "colorbar": {
              "outlinewidth": 0,
              "ticks": ""
             }
            },
            "marker": {
             "colorbar": {
              "outlinewidth": 0,
              "ticks": ""
             }
            },
            "type": "scatter3d"
           }
          ],
          "scattercarpet": [
           {
            "marker": {
             "colorbar": {
              "outlinewidth": 0,
              "ticks": ""
             }
            },
            "type": "scattercarpet"
           }
          ],
          "scattergeo": [
           {
            "marker": {
             "colorbar": {
              "outlinewidth": 0,
              "ticks": ""
             }
            },
            "type": "scattergeo"
           }
          ],
          "scattergl": [
           {
            "marker": {
             "colorbar": {
              "outlinewidth": 0,
              "ticks": ""
             }
            },
            "type": "scattergl"
           }
          ],
          "scattermap": [
           {
            "marker": {
             "colorbar": {
              "outlinewidth": 0,
              "ticks": ""
             }
            },
            "type": "scattermap"
           }
          ],
          "scattermapbox": [
           {
            "marker": {
             "colorbar": {
              "outlinewidth": 0,
              "ticks": ""
             }
            },
            "type": "scattermapbox"
           }
          ],
          "scatterpolar": [
           {
            "marker": {
             "colorbar": {
              "outlinewidth": 0,
              "ticks": ""
             }
            },
            "type": "scatterpolar"
           }
          ],
          "scatterpolargl": [
           {
            "marker": {
             "colorbar": {
              "outlinewidth": 0,
              "ticks": ""
             }
            },
            "type": "scatterpolargl"
           }
          ],
          "scatterternary": [
           {
            "marker": {
             "colorbar": {
              "outlinewidth": 0,
              "ticks": ""
             }
            },
            "type": "scatterternary"
           }
          ],
          "surface": [
           {
            "colorbar": {
             "outlinewidth": 0,
             "ticks": ""
            },
            "colorscale": [
             [
              0,
              "#0d0887"
             ],
             [
              0.1111111111111111,
              "#46039f"
             ],
             [
              0.2222222222222222,
              "#7201a8"
             ],
             [
              0.3333333333333333,
              "#9c179e"
             ],
             [
              0.4444444444444444,
              "#bd3786"
             ],
             [
              0.5555555555555556,
              "#d8576b"
             ],
             [
              0.6666666666666666,
              "#ed7953"
             ],
             [
              0.7777777777777778,
              "#fb9f3a"
             ],
             [
              0.8888888888888888,
              "#fdca26"
             ],
             [
              1,
              "#f0f921"
             ]
            ],
            "type": "surface"
           }
          ],
          "table": [
           {
            "cells": {
             "fill": {
              "color": "#EBF0F8"
             },
             "line": {
              "color": "white"
             }
            },
            "header": {
             "fill": {
              "color": "#C8D4E3"
             },
             "line": {
              "color": "white"
             }
            },
            "type": "table"
           }
          ]
         },
         "layout": {
          "annotationdefaults": {
           "arrowcolor": "#2a3f5f",
           "arrowhead": 0,
           "arrowwidth": 1
          },
          "autotypenumbers": "strict",
          "coloraxis": {
           "colorbar": {
            "outlinewidth": 0,
            "ticks": ""
           }
          },
          "colorscale": {
           "diverging": [
            [
             0,
             "#8e0152"
            ],
            [
             0.1,
             "#c51b7d"
            ],
            [
             0.2,
             "#de77ae"
            ],
            [
             0.3,
             "#f1b6da"
            ],
            [
             0.4,
             "#fde0ef"
            ],
            [
             0.5,
             "#f7f7f7"
            ],
            [
             0.6,
             "#e6f5d0"
            ],
            [
             0.7,
             "#b8e186"
            ],
            [
             0.8,
             "#7fbc41"
            ],
            [
             0.9,
             "#4d9221"
            ],
            [
             1,
             "#276419"
            ]
           ],
           "sequential": [
            [
             0,
             "#0d0887"
            ],
            [
             0.1111111111111111,
             "#46039f"
            ],
            [
             0.2222222222222222,
             "#7201a8"
            ],
            [
             0.3333333333333333,
             "#9c179e"
            ],
            [
             0.4444444444444444,
             "#bd3786"
            ],
            [
             0.5555555555555556,
             "#d8576b"
            ],
            [
             0.6666666666666666,
             "#ed7953"
            ],
            [
             0.7777777777777778,
             "#fb9f3a"
            ],
            [
             0.8888888888888888,
             "#fdca26"
            ],
            [
             1,
             "#f0f921"
            ]
           ],
           "sequentialminus": [
            [
             0,
             "#0d0887"
            ],
            [
             0.1111111111111111,
             "#46039f"
            ],
            [
             0.2222222222222222,
             "#7201a8"
            ],
            [
             0.3333333333333333,
             "#9c179e"
            ],
            [
             0.4444444444444444,
             "#bd3786"
            ],
            [
             0.5555555555555556,
             "#d8576b"
            ],
            [
             0.6666666666666666,
             "#ed7953"
            ],
            [
             0.7777777777777778,
             "#fb9f3a"
            ],
            [
             0.8888888888888888,
             "#fdca26"
            ],
            [
             1,
             "#f0f921"
            ]
           ]
          },
          "colorway": [
           "#636efa",
           "#EF553B",
           "#00cc96",
           "#ab63fa",
           "#FFA15A",
           "#19d3f3",
           "#FF6692",
           "#B6E880",
           "#FF97FF",
           "#FECB52"
          ],
          "font": {
           "color": "#2a3f5f"
          },
          "geo": {
           "bgcolor": "white",
           "lakecolor": "white",
           "landcolor": "#E5ECF6",
           "showlakes": true,
           "showland": true,
           "subunitcolor": "white"
          },
          "hoverlabel": {
           "align": "left"
          },
          "hovermode": "closest",
          "mapbox": {
           "style": "light"
          },
          "paper_bgcolor": "white",
          "plot_bgcolor": "#E5ECF6",
          "polar": {
           "angularaxis": {
            "gridcolor": "white",
            "linecolor": "white",
            "ticks": ""
           },
           "bgcolor": "#E5ECF6",
           "radialaxis": {
            "gridcolor": "white",
            "linecolor": "white",
            "ticks": ""
           }
          },
          "scene": {
           "xaxis": {
            "backgroundcolor": "#E5ECF6",
            "gridcolor": "white",
            "gridwidth": 2,
            "linecolor": "white",
            "showbackground": true,
            "ticks": "",
            "zerolinecolor": "white"
           },
           "yaxis": {
            "backgroundcolor": "#E5ECF6",
            "gridcolor": "white",
            "gridwidth": 2,
            "linecolor": "white",
            "showbackground": true,
            "ticks": "",
            "zerolinecolor": "white"
           },
           "zaxis": {
            "backgroundcolor": "#E5ECF6",
            "gridcolor": "white",
            "gridwidth": 2,
            "linecolor": "white",
            "showbackground": true,
            "ticks": "",
            "zerolinecolor": "white"
           }
          },
          "shapedefaults": {
           "line": {
            "color": "#2a3f5f"
           }
          },
          "ternary": {
           "aaxis": {
            "gridcolor": "white",
            "linecolor": "white",
            "ticks": ""
           },
           "baxis": {
            "gridcolor": "white",
            "linecolor": "white",
            "ticks": ""
           },
           "bgcolor": "#E5ECF6",
           "caxis": {
            "gridcolor": "white",
            "linecolor": "white",
            "ticks": ""
           }
          },
          "title": {
           "x": 0.05
          },
          "xaxis": {
           "automargin": true,
           "gridcolor": "white",
           "linecolor": "white",
           "ticks": "",
           "title": {
            "standoff": 15
           },
           "zerolinecolor": "white",
           "zerolinewidth": 2
          },
          "yaxis": {
           "automargin": true,
           "gridcolor": "white",
           "linecolor": "white",
           "ticks": "",
           "title": {
            "standoff": 15
           },
           "zerolinecolor": "white",
           "zerolinewidth": 2
          }
         }
        },
        "title": {
         "text": "Top 15 Product Families by Total Sales"
        },
        "xaxis": {
         "anchor": "y",
         "domain": [
          0,
          1
         ],
         "tickangle": 45,
         "title": {
          "text": "Product Family"
         }
        },
        "yaxis": {
         "anchor": "x",
         "domain": [
          0,
          1
         ],
         "title": {
          "text": "Total Sales"
         }
        }
       }
      }
     },
     "metadata": {},
     "output_type": "display_data"
    },
    {
     "data": {
      "application/vnd.plotly.v1+json": {
       "config": {
        "plotlyServerURL": "https://plot.ly"
       },
       "data": [
        {
         "hovertemplate": "Average Items on Promotion=%{x}<br>Average Sales=%{y}<br>family=%{text}<extra></extra>",
         "legendgroup": "",
         "marker": {
          "color": "#636efa",
          "symbol": "circle"
         },
         "mode": "markers+text",
         "name": "",
         "orientation": "v",
         "showlegend": false,
         "text": [
          "AUTOMOTIVE",
          "BABY CARE",
          "BEAUTY",
          "BEVERAGES",
          "BOOKS",
          "BREAD/BAKERY",
          "CELEBRATION",
          "CLEANING",
          "DAIRY",
          "DELI",
          "EGGS",
          "FROZEN FOODS",
          "GROCERY I",
          "GROCERY II",
          "HARDWARE",
          "HOME AND KITCHEN I",
          "HOME AND KITCHEN II",
          "HOME APPLIANCES",
          "HOME CARE",
          "LADIESWEAR",
          "LAWN AND GARDEN",
          "LINGERIE",
          "LIQUOR,WINE,BEER",
          "MAGAZINES",
          "MEATS",
          "PERSONAL CARE",
          "PET SUPPLIES",
          "PLAYERS AND ELECTRONICS",
          "POULTRY",
          "PREPARED FOODS",
          "PRODUCE",
          "SCHOOL AND OFFICE SUPPLIES",
          "SEAFOOD"
         ],
         "textposition": "top center",
         "type": "scatter",
         "x": {
          "bdata": "+DdfPW3GGzq3gBo+euYgQQAAAAA2jm5AzsqXPbaT60BuUQBBN4XNQMgGCUASg7M/jH6qQY3cqz17Pfk6rJwFP607uj7cmS86z44MQPUyljyACvk9ZKr9PFdoAz9zKmE72hpXQA97L0BdchU957SrPEGmH0Ap6tE+WTVCQTqKJj6/ON0+",
          "dtype": "f4"
         },
         "xaxis": "x",
         "y": {
          "bdata": "FdPDQMuS5D1D/m5Amq4VRSe2kD1HE+hDT8AGQX1FhkRDyzFEm9CEQ7GVK0PfPx5D7eZsRSxMrUEg3pE/5KmkQSWJhkFtI+o+/EoxQ7Qj50DafMFAXMblQL2Cq0IkbT1Ao/uqQ6CYh0O2znxAzITHQBaKr0MGwsFC9WupRJvKPUDZVLFB",
          "dtype": "f4"
         },
         "yaxis": "y"
        }
       ],
       "layout": {
        "legend": {
         "tracegroupgap": 0
        },
        "template": {
         "data": {
          "bar": [
           {
            "error_x": {
             "color": "#2a3f5f"
            },
            "error_y": {
             "color": "#2a3f5f"
            },
            "marker": {
             "line": {
              "color": "#E5ECF6",
              "width": 0.5
             },
             "pattern": {
              "fillmode": "overlay",
              "size": 10,
              "solidity": 0.2
             }
            },
            "type": "bar"
           }
          ],
          "barpolar": [
           {
            "marker": {
             "line": {
              "color": "#E5ECF6",
              "width": 0.5
             },
             "pattern": {
              "fillmode": "overlay",
              "size": 10,
              "solidity": 0.2
             }
            },
            "type": "barpolar"
           }
          ],
          "carpet": [
           {
            "aaxis": {
             "endlinecolor": "#2a3f5f",
             "gridcolor": "white",
             "linecolor": "white",
             "minorgridcolor": "white",
             "startlinecolor": "#2a3f5f"
            },
            "baxis": {
             "endlinecolor": "#2a3f5f",
             "gridcolor": "white",
             "linecolor": "white",
             "minorgridcolor": "white",
             "startlinecolor": "#2a3f5f"
            },
            "type": "carpet"
           }
          ],
          "choropleth": [
           {
            "colorbar": {
             "outlinewidth": 0,
             "ticks": ""
            },
            "type": "choropleth"
           }
          ],
          "contour": [
           {
            "colorbar": {
             "outlinewidth": 0,
             "ticks": ""
            },
            "colorscale": [
             [
              0,
              "#0d0887"
             ],
             [
              0.1111111111111111,
              "#46039f"
             ],
             [
              0.2222222222222222,
              "#7201a8"
             ],
             [
              0.3333333333333333,
              "#9c179e"
             ],
             [
              0.4444444444444444,
              "#bd3786"
             ],
             [
              0.5555555555555556,
              "#d8576b"
             ],
             [
              0.6666666666666666,
              "#ed7953"
             ],
             [
              0.7777777777777778,
              "#fb9f3a"
             ],
             [
              0.8888888888888888,
              "#fdca26"
             ],
             [
              1,
              "#f0f921"
             ]
            ],
            "type": "contour"
           }
          ],
          "contourcarpet": [
           {
            "colorbar": {
             "outlinewidth": 0,
             "ticks": ""
            },
            "type": "contourcarpet"
           }
          ],
          "heatmap": [
           {
            "colorbar": {
             "outlinewidth": 0,
             "ticks": ""
            },
            "colorscale": [
             [
              0,
              "#0d0887"
             ],
             [
              0.1111111111111111,
              "#46039f"
             ],
             [
              0.2222222222222222,
              "#7201a8"
             ],
             [
              0.3333333333333333,
              "#9c179e"
             ],
             [
              0.4444444444444444,
              "#bd3786"
             ],
             [
              0.5555555555555556,
              "#d8576b"
             ],
             [
              0.6666666666666666,
              "#ed7953"
             ],
             [
              0.7777777777777778,
              "#fb9f3a"
             ],
             [
              0.8888888888888888,
              "#fdca26"
             ],
             [
              1,
              "#f0f921"
             ]
            ],
            "type": "heatmap"
           }
          ],
          "histogram": [
           {
            "marker": {
             "pattern": {
              "fillmode": "overlay",
              "size": 10,
              "solidity": 0.2
             }
            },
            "type": "histogram"
           }
          ],
          "histogram2d": [
           {
            "colorbar": {
             "outlinewidth": 0,
             "ticks": ""
            },
            "colorscale": [
             [
              0,
              "#0d0887"
             ],
             [
              0.1111111111111111,
              "#46039f"
             ],
             [
              0.2222222222222222,
              "#7201a8"
             ],
             [
              0.3333333333333333,
              "#9c179e"
             ],
             [
              0.4444444444444444,
              "#bd3786"
             ],
             [
              0.5555555555555556,
              "#d8576b"
             ],
             [
              0.6666666666666666,
              "#ed7953"
             ],
             [
              0.7777777777777778,
              "#fb9f3a"
             ],
             [
              0.8888888888888888,
              "#fdca26"
             ],
             [
              1,
              "#f0f921"
             ]
            ],
            "type": "histogram2d"
           }
          ],
          "histogram2dcontour": [
           {
            "colorbar": {
             "outlinewidth": 0,
             "ticks": ""
            },
            "colorscale": [
             [
              0,
              "#0d0887"
             ],
             [
              0.1111111111111111,
              "#46039f"
             ],
             [
              0.2222222222222222,
              "#7201a8"
             ],
             [
              0.3333333333333333,
              "#9c179e"
             ],
             [
              0.4444444444444444,
              "#bd3786"
             ],
             [
              0.5555555555555556,
              "#d8576b"
             ],
             [
              0.6666666666666666,
              "#ed7953"
             ],
             [
              0.7777777777777778,
              "#fb9f3a"
             ],
             [
              0.8888888888888888,
              "#fdca26"
             ],
             [
              1,
              "#f0f921"
             ]
            ],
            "type": "histogram2dcontour"
           }
          ],
          "mesh3d": [
           {
            "colorbar": {
             "outlinewidth": 0,
             "ticks": ""
            },
            "type": "mesh3d"
           }
          ],
          "parcoords": [
           {
            "line": {
             "colorbar": {
              "outlinewidth": 0,
              "ticks": ""
             }
            },
            "type": "parcoords"
           }
          ],
          "pie": [
           {
            "automargin": true,
            "type": "pie"
           }
          ],
          "scatter": [
           {
            "fillpattern": {
             "fillmode": "overlay",
             "size": 10,
             "solidity": 0.2
            },
            "type": "scatter"
           }
          ],
          "scatter3d": [
           {
            "line": {
             "colorbar": {
              "outlinewidth": 0,
              "ticks": ""
             }
            },
            "marker": {
             "colorbar": {
              "outlinewidth": 0,
              "ticks": ""
             }
            },
            "type": "scatter3d"
           }
          ],
          "scattercarpet": [
           {
            "marker": {
             "colorbar": {
              "outlinewidth": 0,
              "ticks": ""
             }
            },
            "type": "scattercarpet"
           }
          ],
          "scattergeo": [
           {
            "marker": {
             "colorbar": {
              "outlinewidth": 0,
              "ticks": ""
             }
            },
            "type": "scattergeo"
           }
          ],
          "scattergl": [
           {
            "marker": {
             "colorbar": {
              "outlinewidth": 0,
              "ticks": ""
             }
            },
            "type": "scattergl"
           }
          ],
          "scattermap": [
           {
            "marker": {
             "colorbar": {
              "outlinewidth": 0,
              "ticks": ""
             }
            },
            "type": "scattermap"
           }
          ],
          "scattermapbox": [
           {
            "marker": {
             "colorbar": {
              "outlinewidth": 0,
              "ticks": ""
             }
            },
            "type": "scattermapbox"
           }
          ],
          "scatterpolar": [
           {
            "marker": {
             "colorbar": {
              "outlinewidth": 0,
              "ticks": ""
             }
            },
            "type": "scatterpolar"
           }
          ],
          "scatterpolargl": [
           {
            "marker": {
             "colorbar": {
              "outlinewidth": 0,
              "ticks": ""
             }
            },
            "type": "scatterpolargl"
           }
          ],
          "scatterternary": [
           {
            "marker": {
             "colorbar": {
              "outlinewidth": 0,
              "ticks": ""
             }
            },
            "type": "scatterternary"
           }
          ],
          "surface": [
           {
            "colorbar": {
             "outlinewidth": 0,
             "ticks": ""
            },
            "colorscale": [
             [
              0,
              "#0d0887"
             ],
             [
              0.1111111111111111,
              "#46039f"
             ],
             [
              0.2222222222222222,
              "#7201a8"
             ],
             [
              0.3333333333333333,
              "#9c179e"
             ],
             [
              0.4444444444444444,
              "#bd3786"
             ],
             [
              0.5555555555555556,
              "#d8576b"
             ],
             [
              0.6666666666666666,
              "#ed7953"
             ],
             [
              0.7777777777777778,
              "#fb9f3a"
             ],
             [
              0.8888888888888888,
              "#fdca26"
             ],
             [
              1,
              "#f0f921"
             ]
            ],
            "type": "surface"
           }
          ],
          "table": [
           {
            "cells": {
             "fill": {
              "color": "#EBF0F8"
             },
             "line": {
              "color": "white"
             }
            },
            "header": {
             "fill": {
              "color": "#C8D4E3"
             },
             "line": {
              "color": "white"
             }
            },
            "type": "table"
           }
          ]
         },
         "layout": {
          "annotationdefaults": {
           "arrowcolor": "#2a3f5f",
           "arrowhead": 0,
           "arrowwidth": 1
          },
          "autotypenumbers": "strict",
          "coloraxis": {
           "colorbar": {
            "outlinewidth": 0,
            "ticks": ""
           }
          },
          "colorscale": {
           "diverging": [
            [
             0,
             "#8e0152"
            ],
            [
             0.1,
             "#c51b7d"
            ],
            [
             0.2,
             "#de77ae"
            ],
            [
             0.3,
             "#f1b6da"
            ],
            [
             0.4,
             "#fde0ef"
            ],
            [
             0.5,
             "#f7f7f7"
            ],
            [
             0.6,
             "#e6f5d0"
            ],
            [
             0.7,
             "#b8e186"
            ],
            [
             0.8,
             "#7fbc41"
            ],
            [
             0.9,
             "#4d9221"
            ],
            [
             1,
             "#276419"
            ]
           ],
           "sequential": [
            [
             0,
             "#0d0887"
            ],
            [
             0.1111111111111111,
             "#46039f"
            ],
            [
             0.2222222222222222,
             "#7201a8"
            ],
            [
             0.3333333333333333,
             "#9c179e"
            ],
            [
             0.4444444444444444,
             "#bd3786"
            ],
            [
             0.5555555555555556,
             "#d8576b"
            ],
            [
             0.6666666666666666,
             "#ed7953"
            ],
            [
             0.7777777777777778,
             "#fb9f3a"
            ],
            [
             0.8888888888888888,
             "#fdca26"
            ],
            [
             1,
             "#f0f921"
            ]
           ],
           "sequentialminus": [
            [
             0,
             "#0d0887"
            ],
            [
             0.1111111111111111,
             "#46039f"
            ],
            [
             0.2222222222222222,
             "#7201a8"
            ],
            [
             0.3333333333333333,
             "#9c179e"
            ],
            [
             0.4444444444444444,
             "#bd3786"
            ],
            [
             0.5555555555555556,
             "#d8576b"
            ],
            [
             0.6666666666666666,
             "#ed7953"
            ],
            [
             0.7777777777777778,
             "#fb9f3a"
            ],
            [
             0.8888888888888888,
             "#fdca26"
            ],
            [
             1,
             "#f0f921"
            ]
           ]
          },
          "colorway": [
           "#636efa",
           "#EF553B",
           "#00cc96",
           "#ab63fa",
           "#FFA15A",
           "#19d3f3",
           "#FF6692",
           "#B6E880",
           "#FF97FF",
           "#FECB52"
          ],
          "font": {
           "color": "#2a3f5f"
          },
          "geo": {
           "bgcolor": "white",
           "lakecolor": "white",
           "landcolor": "#E5ECF6",
           "showlakes": true,
           "showland": true,
           "subunitcolor": "white"
          },
          "hoverlabel": {
           "align": "left"
          },
          "hovermode": "closest",
          "mapbox": {
           "style": "light"
          },
          "paper_bgcolor": "white",
          "plot_bgcolor": "#E5ECF6",
          "polar": {
           "angularaxis": {
            "gridcolor": "white",
            "linecolor": "white",
            "ticks": ""
           },
           "bgcolor": "#E5ECF6",
           "radialaxis": {
            "gridcolor": "white",
            "linecolor": "white",
            "ticks": ""
           }
          },
          "scene": {
           "xaxis": {
            "backgroundcolor": "#E5ECF6",
            "gridcolor": "white",
            "gridwidth": 2,
            "linecolor": "white",
            "showbackground": true,
            "ticks": "",
            "zerolinecolor": "white"
           },
           "yaxis": {
            "backgroundcolor": "#E5ECF6",
            "gridcolor": "white",
            "gridwidth": 2,
            "linecolor": "white",
            "showbackground": true,
            "ticks": "",
            "zerolinecolor": "white"
           },
           "zaxis": {
            "backgroundcolor": "#E5ECF6",
            "gridcolor": "white",
            "gridwidth": 2,
            "linecolor": "white",
            "showbackground": true,
            "ticks": "",
            "zerolinecolor": "white"
           }
          },
          "shapedefaults": {
           "line": {
            "color": "#2a3f5f"
           }
          },
          "ternary": {
           "aaxis": {
            "gridcolor": "white",
            "linecolor": "white",
            "ticks": ""
           },
           "baxis": {
            "gridcolor": "white",
            "linecolor": "white",
            "ticks": ""
           },
           "bgcolor": "#E5ECF6",
           "caxis": {
            "gridcolor": "white",
            "linecolor": "white",
            "ticks": ""
           }
          },
          "title": {
           "x": 0.05
          },
          "xaxis": {
           "automargin": true,
           "gridcolor": "white",
           "linecolor": "white",
           "ticks": "",
           "title": {
            "standoff": 15
           },
           "zerolinecolor": "white",
           "zerolinewidth": 2
          },
          "yaxis": {
           "automargin": true,
           "gridcolor": "white",
           "linecolor": "white",
           "ticks": "",
           "title": {
            "standoff": 15
           },
           "zerolinecolor": "white",
           "zerolinewidth": 2
          }
         }
        },
        "title": {
         "text": "Promotion vs Sales by Product Family"
        },
        "xaxis": {
         "anchor": "y",
         "domain": [
          0,
          1
         ],
         "title": {
          "text": "Average Items on Promotion"
         }
        },
        "yaxis": {
         "anchor": "x",
         "domain": [
          0,
          1
         ],
         "title": {
          "text": "Average Sales"
         }
        }
       }
      }
     },
     "metadata": {},
     "output_type": "display_data"
    }
   ],
   "source": [
    "# Top Product Families by Sales\n",
    "family_sales = train1.groupby('family')['sales'].sum().sort_values(ascending=False).reset_index()\n",
    "fig = px.bar(family_sales.head(15), x='family', y='sales',\n",
    "             title='Top 15 Product Families by Total Sales',\n",
    "             labels={'family': 'Product Family', 'sales': 'Total Sales'})\n",
    "fig.update_xaxes(tickangle=45)\n",
    "fig.show()\n",
    "\n",
    "# Promotion Impact on Sales\n",
    "promo_impact = train1.groupby('family').agg({\n",
    "    'sales': 'mean',\n",
    "    'onpromotion': 'mean'\n",
    "}).reset_index()\n",
    "\n",
    "fig = px.scatter(promo_impact, x='onpromotion', y='sales',\n",
    "                 text='family',\n",
    "                 title='Promotion vs Sales by Product Family',\n",
    "                 labels={'onpromotion': 'Average Items on Promotion',\n",
    "                        'sales': 'Average Sales'})\n",
    "fig.update_traces(textposition='top center')\n",
    "fig.show()"
   ]
  },
  {
   "cell_type": "code",
   "execution_count": 65,
   "id": "b45ff6b1",
   "metadata": {},
   "outputs": [
    {
     "data": {
      "application/vnd.plotly.v1+json": {
       "config": {
        "plotlyServerURL": "https://plot.ly"
       },
       "data": [
        {
         "hovertemplate": "Is Holiday=%{marker.color}<br>Average Sales=%{y}<extra></extra>",
         "legendgroup": "",
         "marker": {
          "color": {
           "bdata": "AAE=",
           "dtype": "i1"
          },
          "coloraxis": "coloraxis",
          "pattern": {
           "shape": ""
          }
         },
         "name": "",
         "orientation": "v",
         "showlegend": false,
         "textposition": "auto",
         "type": "bar",
         "x": {
          "bdata": "AAE=",
          "dtype": "i1"
         },
         "xaxis": "x",
         "y": {
          "bdata": "YBSwQ7HuxEM=",
          "dtype": "f4"
         },
         "yaxis": "y"
        }
       ],
       "layout": {
        "barmode": "relative",
        "coloraxis": {
         "colorbar": {
          "title": {
           "text": "Is Holiday"
          }
         },
         "colorscale": [
          [
           0,
           "#0d0887"
          ],
          [
           0.1111111111111111,
           "#46039f"
          ],
          [
           0.2222222222222222,
           "#7201a8"
          ],
          [
           0.3333333333333333,
           "#9c179e"
          ],
          [
           0.4444444444444444,
           "#bd3786"
          ],
          [
           0.5555555555555556,
           "#d8576b"
          ],
          [
           0.6666666666666666,
           "#ed7953"
          ],
          [
           0.7777777777777778,
           "#fb9f3a"
          ],
          [
           0.8888888888888888,
           "#fdca26"
          ],
          [
           1,
           "#f0f921"
          ]
         ]
        },
        "legend": {
         "tracegroupgap": 0
        },
        "template": {
         "data": {
          "bar": [
           {
            "error_x": {
             "color": "#2a3f5f"
            },
            "error_y": {
             "color": "#2a3f5f"
            },
            "marker": {
             "line": {
              "color": "#E5ECF6",
              "width": 0.5
             },
             "pattern": {
              "fillmode": "overlay",
              "size": 10,
              "solidity": 0.2
             }
            },
            "type": "bar"
           }
          ],
          "barpolar": [
           {
            "marker": {
             "line": {
              "color": "#E5ECF6",
              "width": 0.5
             },
             "pattern": {
              "fillmode": "overlay",
              "size": 10,
              "solidity": 0.2
             }
            },
            "type": "barpolar"
           }
          ],
          "carpet": [
           {
            "aaxis": {
             "endlinecolor": "#2a3f5f",
             "gridcolor": "white",
             "linecolor": "white",
             "minorgridcolor": "white",
             "startlinecolor": "#2a3f5f"
            },
            "baxis": {
             "endlinecolor": "#2a3f5f",
             "gridcolor": "white",
             "linecolor": "white",
             "minorgridcolor": "white",
             "startlinecolor": "#2a3f5f"
            },
            "type": "carpet"
           }
          ],
          "choropleth": [
           {
            "colorbar": {
             "outlinewidth": 0,
             "ticks": ""
            },
            "type": "choropleth"
           }
          ],
          "contour": [
           {
            "colorbar": {
             "outlinewidth": 0,
             "ticks": ""
            },
            "colorscale": [
             [
              0,
              "#0d0887"
             ],
             [
              0.1111111111111111,
              "#46039f"
             ],
             [
              0.2222222222222222,
              "#7201a8"
             ],
             [
              0.3333333333333333,
              "#9c179e"
             ],
             [
              0.4444444444444444,
              "#bd3786"
             ],
             [
              0.5555555555555556,
              "#d8576b"
             ],
             [
              0.6666666666666666,
              "#ed7953"
             ],
             [
              0.7777777777777778,
              "#fb9f3a"
             ],
             [
              0.8888888888888888,
              "#fdca26"
             ],
             [
              1,
              "#f0f921"
             ]
            ],
            "type": "contour"
           }
          ],
          "contourcarpet": [
           {
            "colorbar": {
             "outlinewidth": 0,
             "ticks": ""
            },
            "type": "contourcarpet"
           }
          ],
          "heatmap": [
           {
            "colorbar": {
             "outlinewidth": 0,
             "ticks": ""
            },
            "colorscale": [
             [
              0,
              "#0d0887"
             ],
             [
              0.1111111111111111,
              "#46039f"
             ],
             [
              0.2222222222222222,
              "#7201a8"
             ],
             [
              0.3333333333333333,
              "#9c179e"
             ],
             [
              0.4444444444444444,
              "#bd3786"
             ],
             [
              0.5555555555555556,
              "#d8576b"
             ],
             [
              0.6666666666666666,
              "#ed7953"
             ],
             [
              0.7777777777777778,
              "#fb9f3a"
             ],
             [
              0.8888888888888888,
              "#fdca26"
             ],
             [
              1,
              "#f0f921"
             ]
            ],
            "type": "heatmap"
           }
          ],
          "histogram": [
           {
            "marker": {
             "pattern": {
              "fillmode": "overlay",
              "size": 10,
              "solidity": 0.2
             }
            },
            "type": "histogram"
           }
          ],
          "histogram2d": [
           {
            "colorbar": {
             "outlinewidth": 0,
             "ticks": ""
            },
            "colorscale": [
             [
              0,
              "#0d0887"
             ],
             [
              0.1111111111111111,
              "#46039f"
             ],
             [
              0.2222222222222222,
              "#7201a8"
             ],
             [
              0.3333333333333333,
              "#9c179e"
             ],
             [
              0.4444444444444444,
              "#bd3786"
             ],
             [
              0.5555555555555556,
              "#d8576b"
             ],
             [
              0.6666666666666666,
              "#ed7953"
             ],
             [
              0.7777777777777778,
              "#fb9f3a"
             ],
             [
              0.8888888888888888,
              "#fdca26"
             ],
             [
              1,
              "#f0f921"
             ]
            ],
            "type": "histogram2d"
           }
          ],
          "histogram2dcontour": [
           {
            "colorbar": {
             "outlinewidth": 0,
             "ticks": ""
            },
            "colorscale": [
             [
              0,
              "#0d0887"
             ],
             [
              0.1111111111111111,
              "#46039f"
             ],
             [
              0.2222222222222222,
              "#7201a8"
             ],
             [
              0.3333333333333333,
              "#9c179e"
             ],
             [
              0.4444444444444444,
              "#bd3786"
             ],
             [
              0.5555555555555556,
              "#d8576b"
             ],
             [
              0.6666666666666666,
              "#ed7953"
             ],
             [
              0.7777777777777778,
              "#fb9f3a"
             ],
             [
              0.8888888888888888,
              "#fdca26"
             ],
             [
              1,
              "#f0f921"
             ]
            ],
            "type": "histogram2dcontour"
           }
          ],
          "mesh3d": [
           {
            "colorbar": {
             "outlinewidth": 0,
             "ticks": ""
            },
            "type": "mesh3d"
           }
          ],
          "parcoords": [
           {
            "line": {
             "colorbar": {
              "outlinewidth": 0,
              "ticks": ""
             }
            },
            "type": "parcoords"
           }
          ],
          "pie": [
           {
            "automargin": true,
            "type": "pie"
           }
          ],
          "scatter": [
           {
            "fillpattern": {
             "fillmode": "overlay",
             "size": 10,
             "solidity": 0.2
            },
            "type": "scatter"
           }
          ],
          "scatter3d": [
           {
            "line": {
             "colorbar": {
              "outlinewidth": 0,
              "ticks": ""
             }
            },
            "marker": {
             "colorbar": {
              "outlinewidth": 0,
              "ticks": ""
             }
            },
            "type": "scatter3d"
           }
          ],
          "scattercarpet": [
           {
            "marker": {
             "colorbar": {
              "outlinewidth": 0,
              "ticks": ""
             }
            },
            "type": "scattercarpet"
           }
          ],
          "scattergeo": [
           {
            "marker": {
             "colorbar": {
              "outlinewidth": 0,
              "ticks": ""
             }
            },
            "type": "scattergeo"
           }
          ],
          "scattergl": [
           {
            "marker": {
             "colorbar": {
              "outlinewidth": 0,
              "ticks": ""
             }
            },
            "type": "scattergl"
           }
          ],
          "scattermap": [
           {
            "marker": {
             "colorbar": {
              "outlinewidth": 0,
              "ticks": ""
             }
            },
            "type": "scattermap"
           }
          ],
          "scattermapbox": [
           {
            "marker": {
             "colorbar": {
              "outlinewidth": 0,
              "ticks": ""
             }
            },
            "type": "scattermapbox"
           }
          ],
          "scatterpolar": [
           {
            "marker": {
             "colorbar": {
              "outlinewidth": 0,
              "ticks": ""
             }
            },
            "type": "scatterpolar"
           }
          ],
          "scatterpolargl": [
           {
            "marker": {
             "colorbar": {
              "outlinewidth": 0,
              "ticks": ""
             }
            },
            "type": "scatterpolargl"
           }
          ],
          "scatterternary": [
           {
            "marker": {
             "colorbar": {
              "outlinewidth": 0,
              "ticks": ""
             }
            },
            "type": "scatterternary"
           }
          ],
          "surface": [
           {
            "colorbar": {
             "outlinewidth": 0,
             "ticks": ""
            },
            "colorscale": [
             [
              0,
              "#0d0887"
             ],
             [
              0.1111111111111111,
              "#46039f"
             ],
             [
              0.2222222222222222,
              "#7201a8"
             ],
             [
              0.3333333333333333,
              "#9c179e"
             ],
             [
              0.4444444444444444,
              "#bd3786"
             ],
             [
              0.5555555555555556,
              "#d8576b"
             ],
             [
              0.6666666666666666,
              "#ed7953"
             ],
             [
              0.7777777777777778,
              "#fb9f3a"
             ],
             [
              0.8888888888888888,
              "#fdca26"
             ],
             [
              1,
              "#f0f921"
             ]
            ],
            "type": "surface"
           }
          ],
          "table": [
           {
            "cells": {
             "fill": {
              "color": "#EBF0F8"
             },
             "line": {
              "color": "white"
             }
            },
            "header": {
             "fill": {
              "color": "#C8D4E3"
             },
             "line": {
              "color": "white"
             }
            },
            "type": "table"
           }
          ]
         },
         "layout": {
          "annotationdefaults": {
           "arrowcolor": "#2a3f5f",
           "arrowhead": 0,
           "arrowwidth": 1
          },
          "autotypenumbers": "strict",
          "coloraxis": {
           "colorbar": {
            "outlinewidth": 0,
            "ticks": ""
           }
          },
          "colorscale": {
           "diverging": [
            [
             0,
             "#8e0152"
            ],
            [
             0.1,
             "#c51b7d"
            ],
            [
             0.2,
             "#de77ae"
            ],
            [
             0.3,
             "#f1b6da"
            ],
            [
             0.4,
             "#fde0ef"
            ],
            [
             0.5,
             "#f7f7f7"
            ],
            [
             0.6,
             "#e6f5d0"
            ],
            [
             0.7,
             "#b8e186"
            ],
            [
             0.8,
             "#7fbc41"
            ],
            [
             0.9,
             "#4d9221"
            ],
            [
             1,
             "#276419"
            ]
           ],
           "sequential": [
            [
             0,
             "#0d0887"
            ],
            [
             0.1111111111111111,
             "#46039f"
            ],
            [
             0.2222222222222222,
             "#7201a8"
            ],
            [
             0.3333333333333333,
             "#9c179e"
            ],
            [
             0.4444444444444444,
             "#bd3786"
            ],
            [
             0.5555555555555556,
             "#d8576b"
            ],
            [
             0.6666666666666666,
             "#ed7953"
            ],
            [
             0.7777777777777778,
             "#fb9f3a"
            ],
            [
             0.8888888888888888,
             "#fdca26"
            ],
            [
             1,
             "#f0f921"
            ]
           ],
           "sequentialminus": [
            [
             0,
             "#0d0887"
            ],
            [
             0.1111111111111111,
             "#46039f"
            ],
            [
             0.2222222222222222,
             "#7201a8"
            ],
            [
             0.3333333333333333,
             "#9c179e"
            ],
            [
             0.4444444444444444,
             "#bd3786"
            ],
            [
             0.5555555555555556,
             "#d8576b"
            ],
            [
             0.6666666666666666,
             "#ed7953"
            ],
            [
             0.7777777777777778,
             "#fb9f3a"
            ],
            [
             0.8888888888888888,
             "#fdca26"
            ],
            [
             1,
             "#f0f921"
            ]
           ]
          },
          "colorway": [
           "#636efa",
           "#EF553B",
           "#00cc96",
           "#ab63fa",
           "#FFA15A",
           "#19d3f3",
           "#FF6692",
           "#B6E880",
           "#FF97FF",
           "#FECB52"
          ],
          "font": {
           "color": "#2a3f5f"
          },
          "geo": {
           "bgcolor": "white",
           "lakecolor": "white",
           "landcolor": "#E5ECF6",
           "showlakes": true,
           "showland": true,
           "subunitcolor": "white"
          },
          "hoverlabel": {
           "align": "left"
          },
          "hovermode": "closest",
          "mapbox": {
           "style": "light"
          },
          "paper_bgcolor": "white",
          "plot_bgcolor": "#E5ECF6",
          "polar": {
           "angularaxis": {
            "gridcolor": "white",
            "linecolor": "white",
            "ticks": ""
           },
           "bgcolor": "#E5ECF6",
           "radialaxis": {
            "gridcolor": "white",
            "linecolor": "white",
            "ticks": ""
           }
          },
          "scene": {
           "xaxis": {
            "backgroundcolor": "#E5ECF6",
            "gridcolor": "white",
            "gridwidth": 2,
            "linecolor": "white",
            "showbackground": true,
            "ticks": "",
            "zerolinecolor": "white"
           },
           "yaxis": {
            "backgroundcolor": "#E5ECF6",
            "gridcolor": "white",
            "gridwidth": 2,
            "linecolor": "white",
            "showbackground": true,
            "ticks": "",
            "zerolinecolor": "white"
           },
           "zaxis": {
            "backgroundcolor": "#E5ECF6",
            "gridcolor": "white",
            "gridwidth": 2,
            "linecolor": "white",
            "showbackground": true,
            "ticks": "",
            "zerolinecolor": "white"
           }
          },
          "shapedefaults": {
           "line": {
            "color": "#2a3f5f"
           }
          },
          "ternary": {
           "aaxis": {
            "gridcolor": "white",
            "linecolor": "white",
            "ticks": ""
           },
           "baxis": {
            "gridcolor": "white",
            "linecolor": "white",
            "ticks": ""
           },
           "bgcolor": "#E5ECF6",
           "caxis": {
            "gridcolor": "white",
            "linecolor": "white",
            "ticks": ""
           }
          },
          "title": {
           "x": 0.05
          },
          "xaxis": {
           "automargin": true,
           "gridcolor": "white",
           "linecolor": "white",
           "ticks": "",
           "title": {
            "standoff": 15
           },
           "zerolinecolor": "white",
           "zerolinewidth": 2
          },
          "yaxis": {
           "automargin": true,
           "gridcolor": "white",
           "linecolor": "white",
           "ticks": "",
           "title": {
            "standoff": 15
           },
           "zerolinecolor": "white",
           "zerolinewidth": 2
          }
         }
        },
        "title": {
         "text": "Average Sales: Holiday vs Non-Holiday"
        },
        "xaxis": {
         "anchor": "y",
         "domain": [
          0,
          1
         ],
         "title": {
          "text": "Is Holiday"
         }
        },
        "yaxis": {
         "anchor": "x",
         "domain": [
          0,
          1
         ],
         "title": {
          "text": "Average Sales"
         }
        }
       }
      }
     },
     "metadata": {},
     "output_type": "display_data"
    },
    {
     "data": {
      "application/vnd.plotly.v1+json": {
       "config": {
        "plotlyServerURL": "https://plot.ly"
       },
       "data": [
        {
         "hovertemplate": "Oil Price=%{x}<br>Total Daily Sales=%{y}<extra></extra>",
         "legendgroup": "",
         "marker": {
          "color": "#636efa",
          "symbol": "circle"
         },
         "mode": "markers",
         "name": "",
         "showlegend": false,
         "type": "scattergl",
         "x": {
          "bdata": "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",
          "dtype": "f8"
         },
         "xaxis": "x",
         "y": {
          "bdata": "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",
          "dtype": "f4"
         },
         "yaxis": "y"
        }
       ],
       "layout": {
        "legend": {
         "tracegroupgap": 0
        },
        "template": {
         "data": {
          "bar": [
           {
            "error_x": {
             "color": "#2a3f5f"
            },
            "error_y": {
             "color": "#2a3f5f"
            },
            "marker": {
             "line": {
              "color": "#E5ECF6",
              "width": 0.5
             },
             "pattern": {
              "fillmode": "overlay",
              "size": 10,
              "solidity": 0.2
             }
            },
            "type": "bar"
           }
          ],
          "barpolar": [
           {
            "marker": {
             "line": {
              "color": "#E5ECF6",
              "width": 0.5
             },
             "pattern": {
              "fillmode": "overlay",
              "size": 10,
              "solidity": 0.2
             }
            },
            "type": "barpolar"
           }
          ],
          "carpet": [
           {
            "aaxis": {
             "endlinecolor": "#2a3f5f",
             "gridcolor": "white",
             "linecolor": "white",
             "minorgridcolor": "white",
             "startlinecolor": "#2a3f5f"
            },
            "baxis": {
             "endlinecolor": "#2a3f5f",
             "gridcolor": "white",
             "linecolor": "white",
             "minorgridcolor": "white",
             "startlinecolor": "#2a3f5f"
            },
            "type": "carpet"
           }
          ],
          "choropleth": [
           {
            "colorbar": {
             "outlinewidth": 0,
             "ticks": ""
            },
            "type": "choropleth"
           }
          ],
          "contour": [
           {
            "colorbar": {
             "outlinewidth": 0,
             "ticks": ""
            },
            "colorscale": [
             [
              0,
              "#0d0887"
             ],
             [
              0.1111111111111111,
              "#46039f"
             ],
             [
              0.2222222222222222,
              "#7201a8"
             ],
             [
              0.3333333333333333,
              "#9c179e"
             ],
             [
              0.4444444444444444,
              "#bd3786"
             ],
             [
              0.5555555555555556,
              "#d8576b"
             ],
             [
              0.6666666666666666,
              "#ed7953"
             ],
             [
              0.7777777777777778,
              "#fb9f3a"
             ],
             [
              0.8888888888888888,
              "#fdca26"
             ],
             [
              1,
              "#f0f921"
             ]
            ],
            "type": "contour"
           }
          ],
          "contourcarpet": [
           {
            "colorbar": {
             "outlinewidth": 0,
             "ticks": ""
            },
            "type": "contourcarpet"
           }
          ],
          "heatmap": [
           {
            "colorbar": {
             "outlinewidth": 0,
             "ticks": ""
            },
            "colorscale": [
             [
              0,
              "#0d0887"
             ],
             [
              0.1111111111111111,
              "#46039f"
             ],
             [
              0.2222222222222222,
              "#7201a8"
             ],
             [
              0.3333333333333333,
              "#9c179e"
             ],
             [
              0.4444444444444444,
              "#bd3786"
             ],
             [
              0.5555555555555556,
              "#d8576b"
             ],
             [
              0.6666666666666666,
              "#ed7953"
             ],
             [
              0.7777777777777778,
              "#fb9f3a"
             ],
             [
              0.8888888888888888,
              "#fdca26"
             ],
             [
              1,
              "#f0f921"
             ]
            ],
            "type": "heatmap"
           }
          ],
          "histogram": [
           {
            "marker": {
             "pattern": {
              "fillmode": "overlay",
              "size": 10,
              "solidity": 0.2
             }
            },
            "type": "histogram"
           }
          ],
          "histogram2d": [
           {
            "colorbar": {
             "outlinewidth": 0,
             "ticks": ""
            },
            "colorscale": [
             [
              0,
              "#0d0887"
             ],
             [
              0.1111111111111111,
              "#46039f"
             ],
             [
              0.2222222222222222,
              "#7201a8"
             ],
             [
              0.3333333333333333,
              "#9c179e"
             ],
             [
              0.4444444444444444,
              "#bd3786"
             ],
             [
              0.5555555555555556,
              "#d8576b"
             ],
             [
              0.6666666666666666,
              "#ed7953"
             ],
             [
              0.7777777777777778,
              "#fb9f3a"
             ],
             [
              0.8888888888888888,
              "#fdca26"
             ],
             [
              1,
              "#f0f921"
             ]
            ],
            "type": "histogram2d"
           }
          ],
          "histogram2dcontour": [
           {
            "colorbar": {
             "outlinewidth": 0,
             "ticks": ""
            },
            "colorscale": [
             [
              0,
              "#0d0887"
             ],
             [
              0.1111111111111111,
              "#46039f"
             ],
             [
              0.2222222222222222,
              "#7201a8"
             ],
             [
              0.3333333333333333,
              "#9c179e"
             ],
             [
              0.4444444444444444,
              "#bd3786"
             ],
             [
              0.5555555555555556,
              "#d8576b"
             ],
             [
              0.6666666666666666,
              "#ed7953"
             ],
             [
              0.7777777777777778,
              "#fb9f3a"
             ],
             [
              0.8888888888888888,
              "#fdca26"
             ],
             [
              1,
              "#f0f921"
             ]
            ],
            "type": "histogram2dcontour"
           }
          ],
          "mesh3d": [
           {
            "colorbar": {
             "outlinewidth": 0,
             "ticks": ""
            },
            "type": "mesh3d"
           }
          ],
          "parcoords": [
           {
            "line": {
             "colorbar": {
              "outlinewidth": 0,
              "ticks": ""
             }
            },
            "type": "parcoords"
           }
          ],
          "pie": [
           {
            "automargin": true,
            "type": "pie"
           }
          ],
          "scatter": [
           {
            "fillpattern": {
             "fillmode": "overlay",
             "size": 10,
             "solidity": 0.2
            },
            "type": "scatter"
           }
          ],
          "scatter3d": [
           {
            "line": {
             "colorbar": {
              "outlinewidth": 0,
              "ticks": ""
             }
            },
            "marker": {
             "colorbar": {
              "outlinewidth": 0,
              "ticks": ""
             }
            },
            "type": "scatter3d"
           }
          ],
          "scattercarpet": [
           {
            "marker": {
             "colorbar": {
              "outlinewidth": 0,
              "ticks": ""
             }
            },
            "type": "scattercarpet"
           }
          ],
          "scattergeo": [
           {
            "marker": {
             "colorbar": {
              "outlinewidth": 0,
              "ticks": ""
             }
            },
            "type": "scattergeo"
           }
          ],
          "scattergl": [
           {
            "marker": {
             "colorbar": {
              "outlinewidth": 0,
              "ticks": ""
             }
            },
            "type": "scattergl"
           }
          ],
          "scattermap": [
           {
            "marker": {
             "colorbar": {
              "outlinewidth": 0,
              "ticks": ""
             }
            },
            "type": "scattermap"
           }
          ],
          "scattermapbox": [
           {
            "marker": {
             "colorbar": {
              "outlinewidth": 0,
              "ticks": ""
             }
            },
            "type": "scattermapbox"
           }
          ],
          "scatterpolar": [
           {
            "marker": {
             "colorbar": {
              "outlinewidth": 0,
              "ticks": ""
             }
            },
            "type": "scatterpolar"
           }
          ],
          "scatterpolargl": [
           {
            "marker": {
             "colorbar": {
              "outlinewidth": 0,
              "ticks": ""
             }
            },
            "type": "scatterpolargl"
           }
          ],
          "scatterternary": [
           {
            "marker": {
             "colorbar": {
              "outlinewidth": 0,
              "ticks": ""
             }
            },
            "type": "scatterternary"
           }
          ],
          "surface": [
           {
            "colorbar": {
             "outlinewidth": 0,
             "ticks": ""
            },
            "colorscale": [
             [
              0,
              "#0d0887"
             ],
             [
              0.1111111111111111,
              "#46039f"
             ],
             [
              0.2222222222222222,
              "#7201a8"
             ],
             [
              0.3333333333333333,
              "#9c179e"
             ],
             [
              0.4444444444444444,
              "#bd3786"
             ],
             [
              0.5555555555555556,
              "#d8576b"
             ],
             [
              0.6666666666666666,
              "#ed7953"
             ],
             [
              0.7777777777777778,
              "#fb9f3a"
             ],
             [
              0.8888888888888888,
              "#fdca26"
             ],
             [
              1,
              "#f0f921"
             ]
            ],
            "type": "surface"
           }
          ],
          "table": [
           {
            "cells": {
             "fill": {
              "color": "#EBF0F8"
             },
             "line": {
              "color": "white"
             }
            },
            "header": {
             "fill": {
              "color": "#C8D4E3"
             },
             "line": {
              "color": "white"
             }
            },
            "type": "table"
           }
          ]
         },
         "layout": {
          "annotationdefaults": {
           "arrowcolor": "#2a3f5f",
           "arrowhead": 0,
           "arrowwidth": 1
          },
          "autotypenumbers": "strict",
          "coloraxis": {
           "colorbar": {
            "outlinewidth": 0,
            "ticks": ""
           }
          },
          "colorscale": {
           "diverging": [
            [
             0,
             "#8e0152"
            ],
            [
             0.1,
             "#c51b7d"
            ],
            [
             0.2,
             "#de77ae"
            ],
            [
             0.3,
             "#f1b6da"
            ],
            [
             0.4,
             "#fde0ef"
            ],
            [
             0.5,
             "#f7f7f7"
            ],
            [
             0.6,
             "#e6f5d0"
            ],
            [
             0.7,
             "#b8e186"
            ],
            [
             0.8,
             "#7fbc41"
            ],
            [
             0.9,
             "#4d9221"
            ],
            [
             1,
             "#276419"
            ]
           ],
           "sequential": [
            [
             0,
             "#0d0887"
            ],
            [
             0.1111111111111111,
             "#46039f"
            ],
            [
             0.2222222222222222,
             "#7201a8"
            ],
            [
             0.3333333333333333,
             "#9c179e"
            ],
            [
             0.4444444444444444,
             "#bd3786"
            ],
            [
             0.5555555555555556,
             "#d8576b"
            ],
            [
             0.6666666666666666,
             "#ed7953"
            ],
            [
             0.7777777777777778,
             "#fb9f3a"
            ],
            [
             0.8888888888888888,
             "#fdca26"
            ],
            [
             1,
             "#f0f921"
            ]
           ],
           "sequentialminus": [
            [
             0,
             "#0d0887"
            ],
            [
             0.1111111111111111,
             "#46039f"
            ],
            [
             0.2222222222222222,
             "#7201a8"
            ],
            [
             0.3333333333333333,
             "#9c179e"
            ],
            [
             0.4444444444444444,
             "#bd3786"
            ],
            [
             0.5555555555555556,
             "#d8576b"
            ],
            [
             0.6666666666666666,
             "#ed7953"
            ],
            [
             0.7777777777777778,
             "#fb9f3a"
            ],
            [
             0.8888888888888888,
             "#fdca26"
            ],
            [
             1,
             "#f0f921"
            ]
           ]
          },
          "colorway": [
           "#636efa",
           "#EF553B",
           "#00cc96",
           "#ab63fa",
           "#FFA15A",
           "#19d3f3",
           "#FF6692",
           "#B6E880",
           "#FF97FF",
           "#FECB52"
          ],
          "font": {
           "color": "#2a3f5f"
          },
          "geo": {
           "bgcolor": "white",
           "lakecolor": "white",
           "landcolor": "#E5ECF6",
           "showlakes": true,
           "showland": true,
           "subunitcolor": "white"
          },
          "hoverlabel": {
           "align": "left"
          },
          "hovermode": "closest",
          "mapbox": {
           "style": "light"
          },
          "paper_bgcolor": "white",
          "plot_bgcolor": "#E5ECF6",
          "polar": {
           "angularaxis": {
            "gridcolor": "white",
            "linecolor": "white",
            "ticks": ""
           },
           "bgcolor": "#E5ECF6",
           "radialaxis": {
            "gridcolor": "white",
            "linecolor": "white",
            "ticks": ""
           }
          },
          "scene": {
           "xaxis": {
            "backgroundcolor": "#E5ECF6",
            "gridcolor": "white",
            "gridwidth": 2,
            "linecolor": "white",
            "showbackground": true,
            "ticks": "",
            "zerolinecolor": "white"
           },
           "yaxis": {
            "backgroundcolor": "#E5ECF6",
            "gridcolor": "white",
            "gridwidth": 2,
            "linecolor": "white",
            "showbackground": true,
            "ticks": "",
            "zerolinecolor": "white"
           },
           "zaxis": {
            "backgroundcolor": "#E5ECF6",
            "gridcolor": "white",
            "gridwidth": 2,
            "linecolor": "white",
            "showbackground": true,
            "ticks": "",
            "zerolinecolor": "white"
           }
          },
          "shapedefaults": {
           "line": {
            "color": "#2a3f5f"
           }
          },
          "ternary": {
           "aaxis": {
            "gridcolor": "white",
            "linecolor": "white",
            "ticks": ""
           },
           "baxis": {
            "gridcolor": "white",
            "linecolor": "white",
            "ticks": ""
           },
           "bgcolor": "#E5ECF6",
           "caxis": {
            "gridcolor": "white",
            "linecolor": "white",
            "ticks": ""
           }
          },
          "title": {
           "x": 0.05
          },
          "xaxis": {
           "automargin": true,
           "gridcolor": "white",
           "linecolor": "white",
           "ticks": "",
           "title": {
            "standoff": 15
           },
           "zerolinecolor": "white",
           "zerolinewidth": 2
          },
          "yaxis": {
           "automargin": true,
           "gridcolor": "white",
           "linecolor": "white",
           "ticks": "",
           "title": {
            "standoff": 15
           },
           "zerolinecolor": "white",
           "zerolinewidth": 2
          }
         }
        },
        "title": {
         "text": "Oil Price vs Daily Sales"
        },
        "xaxis": {
         "anchor": "y",
         "domain": [
          0,
          1
         ],
         "title": {
          "text": "Oil Price"
         }
        },
        "yaxis": {
         "anchor": "x",
         "domain": [
          0,
          1
         ],
         "title": {
          "text": "Total Daily Sales"
         }
        }
       }
      }
     },
     "metadata": {},
     "output_type": "display_data"
    },
    {
     "data": {
      "application/vnd.plotly.v1+json": {
       "config": {
        "plotlyServerURL": "https://plot.ly"
       },
       "data": [
        {
         "hovertemplate": "Number of Transactions=%{x}<br>Sales=%{y}<extra></extra>",
         "legendgroup": "",
         "marker": {
          "color": "#636efa",
          "symbol": "circle"
         },
         "mode": "markers",
         "name": "",
         "orientation": "v",
         "showlegend": false,
         "type": "scatter",
         "x": {
          "bdata": "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",
          "dtype": "f8"
         },
         "xaxis": "x",
         "y": {
          "bdata": "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",
          "dtype": "f4"
         },
         "yaxis": "y"
        }
       ],
       "layout": {
        "legend": {
         "tracegroupgap": 0
        },
        "template": {
         "data": {
          "bar": [
           {
            "error_x": {
             "color": "#2a3f5f"
            },
            "error_y": {
             "color": "#2a3f5f"
            },
            "marker": {
             "line": {
              "color": "#E5ECF6",
              "width": 0.5
             },
             "pattern": {
              "fillmode": "overlay",
              "size": 10,
              "solidity": 0.2
             }
            },
            "type": "bar"
           }
          ],
          "barpolar": [
           {
            "marker": {
             "line": {
              "color": "#E5ECF6",
              "width": 0.5
             },
             "pattern": {
              "fillmode": "overlay",
              "size": 10,
              "solidity": 0.2
             }
            },
            "type": "barpolar"
           }
          ],
          "carpet": [
           {
            "aaxis": {
             "endlinecolor": "#2a3f5f",
             "gridcolor": "white",
             "linecolor": "white",
             "minorgridcolor": "white",
             "startlinecolor": "#2a3f5f"
            },
            "baxis": {
             "endlinecolor": "#2a3f5f",
             "gridcolor": "white",
             "linecolor": "white",
             "minorgridcolor": "white",
             "startlinecolor": "#2a3f5f"
            },
            "type": "carpet"
           }
          ],
          "choropleth": [
           {
            "colorbar": {
             "outlinewidth": 0,
             "ticks": ""
            },
            "type": "choropleth"
           }
          ],
          "contour": [
           {
            "colorbar": {
             "outlinewidth": 0,
             "ticks": ""
            },
            "colorscale": [
             [
              0,
              "#0d0887"
             ],
             [
              0.1111111111111111,
              "#46039f"
             ],
             [
              0.2222222222222222,
              "#7201a8"
             ],
             [
              0.3333333333333333,
              "#9c179e"
             ],
             [
              0.4444444444444444,
              "#bd3786"
             ],
             [
              0.5555555555555556,
              "#d8576b"
             ],
             [
              0.6666666666666666,
              "#ed7953"
             ],
             [
              0.7777777777777778,
              "#fb9f3a"
             ],
             [
              0.8888888888888888,
              "#fdca26"
             ],
             [
              1,
              "#f0f921"
             ]
            ],
            "type": "contour"
           }
          ],
          "contourcarpet": [
           {
            "colorbar": {
             "outlinewidth": 0,
             "ticks": ""
            },
            "type": "contourcarpet"
           }
          ],
          "heatmap": [
           {
            "colorbar": {
             "outlinewidth": 0,
             "ticks": ""
            },
            "colorscale": [
             [
              0,
              "#0d0887"
             ],
             [
              0.1111111111111111,
              "#46039f"
             ],
             [
              0.2222222222222222,
              "#7201a8"
             ],
             [
              0.3333333333333333,
              "#9c179e"
             ],
             [
              0.4444444444444444,
              "#bd3786"
             ],
             [
              0.5555555555555556,
              "#d8576b"
             ],
             [
              0.6666666666666666,
              "#ed7953"
             ],
             [
              0.7777777777777778,
              "#fb9f3a"
             ],
             [
              0.8888888888888888,
              "#fdca26"
             ],
             [
              1,
              "#f0f921"
             ]
            ],
            "type": "heatmap"
           }
          ],
          "histogram": [
           {
            "marker": {
             "pattern": {
              "fillmode": "overlay",
              "size": 10,
              "solidity": 0.2
             }
            },
            "type": "histogram"
           }
          ],
          "histogram2d": [
           {
            "colorbar": {
             "outlinewidth": 0,
             "ticks": ""
            },
            "colorscale": [
             [
              0,
              "#0d0887"
             ],
             [
              0.1111111111111111,
              "#46039f"
             ],
             [
              0.2222222222222222,
              "#7201a8"
             ],
             [
              0.3333333333333333,
              "#9c179e"
             ],
             [
              0.4444444444444444,
              "#bd3786"
             ],
             [
              0.5555555555555556,
              "#d8576b"
             ],
             [
              0.6666666666666666,
              "#ed7953"
             ],
             [
              0.7777777777777778,
              "#fb9f3a"
             ],
             [
              0.8888888888888888,
              "#fdca26"
             ],
             [
              1,
              "#f0f921"
             ]
            ],
            "type": "histogram2d"
           }
          ],
          "histogram2dcontour": [
           {
            "colorbar": {
             "outlinewidth": 0,
             "ticks": ""
            },
            "colorscale": [
             [
              0,
              "#0d0887"
             ],
             [
              0.1111111111111111,
              "#46039f"
             ],
             [
              0.2222222222222222,
              "#7201a8"
             ],
             [
              0.3333333333333333,
              "#9c179e"
             ],
             [
              0.4444444444444444,
              "#bd3786"
             ],
             [
              0.5555555555555556,
              "#d8576b"
             ],
             [
              0.6666666666666666,
              "#ed7953"
             ],
             [
              0.7777777777777778,
              "#fb9f3a"
             ],
             [
              0.8888888888888888,
              "#fdca26"
             ],
             [
              1,
              "#f0f921"
             ]
            ],
            "type": "histogram2dcontour"
           }
          ],
          "mesh3d": [
           {
            "colorbar": {
             "outlinewidth": 0,
             "ticks": ""
            },
            "type": "mesh3d"
           }
          ],
          "parcoords": [
           {
            "line": {
             "colorbar": {
              "outlinewidth": 0,
              "ticks": ""
             }
            },
            "type": "parcoords"
           }
          ],
          "pie": [
           {
            "automargin": true,
            "type": "pie"
           }
          ],
          "scatter": [
           {
            "fillpattern": {
             "fillmode": "overlay",
             "size": 10,
             "solidity": 0.2
            },
            "type": "scatter"
           }
          ],
          "scatter3d": [
           {
            "line": {
             "colorbar": {
              "outlinewidth": 0,
              "ticks": ""
             }
            },
            "marker": {
             "colorbar": {
              "outlinewidth": 0,
              "ticks": ""
             }
            },
            "type": "scatter3d"
           }
          ],
          "scattercarpet": [
           {
            "marker": {
             "colorbar": {
              "outlinewidth": 0,
              "ticks": ""
             }
            },
            "type": "scattercarpet"
           }
          ],
          "scattergeo": [
           {
            "marker": {
             "colorbar": {
              "outlinewidth": 0,
              "ticks": ""
             }
            },
            "type": "scattergeo"
           }
          ],
          "scattergl": [
           {
            "marker": {
             "colorbar": {
              "outlinewidth": 0,
              "ticks": ""
             }
            },
            "type": "scattergl"
           }
          ],
          "scattermap": [
           {
            "marker": {
             "colorbar": {
              "outlinewidth": 0,
              "ticks": ""
             }
            },
            "type": "scattermap"
           }
          ],
          "scattermapbox": [
           {
            "marker": {
             "colorbar": {
              "outlinewidth": 0,
              "ticks": ""
             }
            },
            "type": "scattermapbox"
           }
          ],
          "scatterpolar": [
           {
            "marker": {
             "colorbar": {
              "outlinewidth": 0,
              "ticks": ""
             }
            },
            "type": "scatterpolar"
           }
          ],
          "scatterpolargl": [
           {
            "marker": {
             "colorbar": {
              "outlinewidth": 0,
              "ticks": ""
             }
            },
            "type": "scatterpolargl"
           }
          ],
          "scatterternary": [
           {
            "marker": {
             "colorbar": {
              "outlinewidth": 0,
              "ticks": ""
             }
            },
            "type": "scatterternary"
           }
          ],
          "surface": [
           {
            "colorbar": {
             "outlinewidth": 0,
             "ticks": ""
            },
            "colorscale": [
             [
              0,
              "#0d0887"
             ],
             [
              0.1111111111111111,
              "#46039f"
             ],
             [
              0.2222222222222222,
              "#7201a8"
             ],
             [
              0.3333333333333333,
              "#9c179e"
             ],
             [
              0.4444444444444444,
              "#bd3786"
             ],
             [
              0.5555555555555556,
              "#d8576b"
             ],
             [
              0.6666666666666666,
              "#ed7953"
             ],
             [
              0.7777777777777778,
              "#fb9f3a"
             ],
             [
              0.8888888888888888,
              "#fdca26"
             ],
             [
              1,
              "#f0f921"
             ]
            ],
            "type": "surface"
           }
          ],
          "table": [
           {
            "cells": {
             "fill": {
              "color": "#EBF0F8"
             },
             "line": {
              "color": "white"
             }
            },
            "header": {
             "fill": {
              "color": "#C8D4E3"
             },
             "line": {
              "color": "white"
             }
            },
            "type": "table"
           }
          ]
         },
         "layout": {
          "annotationdefaults": {
           "arrowcolor": "#2a3f5f",
           "arrowhead": 0,
           "arrowwidth": 1
          },
          "autotypenumbers": "strict",
          "coloraxis": {
           "colorbar": {
            "outlinewidth": 0,
            "ticks": ""
           }
          },
          "colorscale": {
           "diverging": [
            [
             0,
             "#8e0152"
            ],
            [
             0.1,
             "#c51b7d"
            ],
            [
             0.2,
             "#de77ae"
            ],
            [
             0.3,
             "#f1b6da"
            ],
            [
             0.4,
             "#fde0ef"
            ],
            [
             0.5,
             "#f7f7f7"
            ],
            [
             0.6,
             "#e6f5d0"
            ],
            [
             0.7,
             "#b8e186"
            ],
            [
             0.8,
             "#7fbc41"
            ],
            [
             0.9,
             "#4d9221"
            ],
            [
             1,
             "#276419"
            ]
           ],
           "sequential": [
            [
             0,
             "#0d0887"
            ],
            [
             0.1111111111111111,
             "#46039f"
            ],
            [
             0.2222222222222222,
             "#7201a8"
            ],
            [
             0.3333333333333333,
             "#9c179e"
            ],
            [
             0.4444444444444444,
             "#bd3786"
            ],
            [
             0.5555555555555556,
             "#d8576b"
            ],
            [
             0.6666666666666666,
             "#ed7953"
            ],
            [
             0.7777777777777778,
             "#fb9f3a"
            ],
            [
             0.8888888888888888,
             "#fdca26"
            ],
            [
             1,
             "#f0f921"
            ]
           ],
           "sequentialminus": [
            [
             0,
             "#0d0887"
            ],
            [
             0.1111111111111111,
             "#46039f"
            ],
            [
             0.2222222222222222,
             "#7201a8"
            ],
            [
             0.3333333333333333,
             "#9c179e"
            ],
            [
             0.4444444444444444,
             "#bd3786"
            ],
            [
             0.5555555555555556,
             "#d8576b"
            ],
            [
             0.6666666666666666,
             "#ed7953"
            ],
            [
             0.7777777777777778,
             "#fb9f3a"
            ],
            [
             0.8888888888888888,
             "#fdca26"
            ],
            [
             1,
             "#f0f921"
            ]
           ]
          },
          "colorway": [
           "#636efa",
           "#EF553B",
           "#00cc96",
           "#ab63fa",
           "#FFA15A",
           "#19d3f3",
           "#FF6692",
           "#B6E880",
           "#FF97FF",
           "#FECB52"
          ],
          "font": {
           "color": "#2a3f5f"
          },
          "geo": {
           "bgcolor": "white",
           "lakecolor": "white",
           "landcolor": "#E5ECF6",
           "showlakes": true,
           "showland": true,
           "subunitcolor": "white"
          },
          "hoverlabel": {
           "align": "left"
          },
          "hovermode": "closest",
          "mapbox": {
           "style": "light"
          },
          "paper_bgcolor": "white",
          "plot_bgcolor": "#E5ECF6",
          "polar": {
           "angularaxis": {
            "gridcolor": "white",
            "linecolor": "white",
            "ticks": ""
           },
           "bgcolor": "#E5ECF6",
           "radialaxis": {
            "gridcolor": "white",
            "linecolor": "white",
            "ticks": ""
           }
          },
          "scene": {
           "xaxis": {
            "backgroundcolor": "#E5ECF6",
            "gridcolor": "white",
            "gridwidth": 2,
            "linecolor": "white",
            "showbackground": true,
            "ticks": "",
            "zerolinecolor": "white"
           },
           "yaxis": {
            "backgroundcolor": "#E5ECF6",
            "gridcolor": "white",
            "gridwidth": 2,
            "linecolor": "white",
            "showbackground": true,
            "ticks": "",
            "zerolinecolor": "white"
           },
           "zaxis": {
            "backgroundcolor": "#E5ECF6",
            "gridcolor": "white",
            "gridwidth": 2,
            "linecolor": "white",
            "showbackground": true,
            "ticks": "",
            "zerolinecolor": "white"
           }
          },
          "shapedefaults": {
           "line": {
            "color": "#2a3f5f"
           }
          },
          "ternary": {
           "aaxis": {
            "gridcolor": "white",
            "linecolor": "white",
            "ticks": ""
           },
           "baxis": {
            "gridcolor": "white",
            "linecolor": "white",
            "ticks": ""
           },
           "bgcolor": "#E5ECF6",
           "caxis": {
            "gridcolor": "white",
            "linecolor": "white",
            "ticks": ""
           }
          },
          "title": {
           "x": 0.05
          },
          "xaxis": {
           "automargin": true,
           "gridcolor": "white",
           "linecolor": "white",
           "ticks": "",
           "title": {
            "standoff": 15
           },
           "zerolinecolor": "white",
           "zerolinewidth": 2
          },
          "yaxis": {
           "automargin": true,
           "gridcolor": "white",
           "linecolor": "white",
           "ticks": "",
           "title": {
            "standoff": 15
           },
           "zerolinecolor": "white",
           "zerolinewidth": 2
          }
         }
        },
        "title": {
         "text": "Transactions vs Sales"
        },
        "xaxis": {
         "anchor": "y",
         "domain": [
          0,
          1
         ],
         "title": {
          "text": "Number of Transactions"
         }
        },
        "yaxis": {
         "anchor": "x",
         "domain": [
          0,
          1
         ],
         "title": {
          "text": "Sales"
         }
        }
       }
      }
     },
     "metadata": {},
     "output_type": "display_data"
    }
   ],
   "source": [
    "# Holiday Impact\n",
    "holiday_sales = train1.groupby('is_holiday')['sales'].mean().reset_index()\n",
    "fig = px.bar(holiday_sales, x='is_holiday', y='sales',\n",
    "             title='Average Sales: Holiday vs Non-Holiday',\n",
    "             labels={'is_holiday': 'Is Holiday', 'sales': 'Average Sales'},\n",
    "             color='is_holiday')\n",
    "fig.show()\n",
    "\n",
    "# Oil Price vs Sales\n",
    "daily_data = train1.groupby('date').agg({\n",
    "    'sales': 'sum',\n",
    "    'dcoilwtico': 'first'\n",
    "}).reset_index()\n",
    "\n",
    "fig = px.scatter(daily_data, x='dcoilwtico', y='sales',\n",
    "                 title='Oil Price vs Daily Sales',\n",
    "                 labels={'dcoilwtico': 'Oil Price', 'sales': 'Total Daily Sales'})\n",
    "fig.show()\n",
    "\n",
    "# Transactions vs Sales\n",
    "fig = px.scatter(train1.sample(1000), x='transactions', y='sales',\n",
    "                 title='Transactions vs Sales',\n",
    "                 labels={'transactions': 'Number of Transactions', 'sales': 'Sales'})\n",
    "fig.show()"
   ]
  },
  {
   "cell_type": "code",
   "execution_count": 100,
   "id": "3976117c",
   "metadata": {},
   "outputs": [
    {
     "data": {
      "image/png": "[encoded data removed]",
      "text/plain": [
       "<Figure size 1500x600 with 2 Axes>"
      ]
     },
     "metadata": {},
     "output_type": "display_data"
    },
    {
     "data": {
      "image/png": "[encoded data removed]",
      "text/plain": [
       "<Figure size 1200x600 with 1 Axes>"
      ]
     },
     "metadata": {},
     "output_type": "display_data"
    }
   ],
   "source": [
    "# Sales Distribution\n",
    "plt.figure(figsize=(15, 6))\n",
    "\n",
    "plt.subplot(1, 2, 1)\n",
    "sns.histplot(data=train1, x='sales', bins=50)\n",
    "plt.title('Distribution of Sales')\n",
    "plt.xlabel('Sales')\n",
    "plt.ylabel('Count')\n",
    "\n",
    "plt.subplot(1, 2, 2)\n",
    "sns.boxplot(data=train1, y='sales')\n",
    "plt.title('Sales Boxplot')\n",
    "plt.ylabel('Sales')\n",
    "\n",
    "plt.tight_layout()\n",
    "plt.show()\n",
    "\n",
    "# Log-transformed sales distribution\n",
    "plt.figure(figsize=(12, 6))\n",
    "sns.histplot(data=train1[train1['sales'] > 0], x='sales', log_scale=True)\n",
    "plt.title('Distribution of Sales (Log Scale)')\n",
    "plt.xlabel('Sales (log scale)')\n",
    "plt.ylabel('Count')\n",
    "plt.show()"
   ]
  },
  {
   "cell_type": "code",
   "execution_count": 103,
   "id": "dcaf990c",
   "metadata": {},
   "outputs": [
    {
     "data": {
      "image/png": "[encoded data removed]",
      "text/plain": [
       "<Figure size 1500x600 with 2 Axes>"
      ]
     },
     "metadata": {},
     "output_type": "display_data"
    },
    {
     "data": {
      "image/png": "[encoded data removed]",
      "text/plain": [
       "<Figure size 1200x600 with 1 Axes>"
      ]
     },
     "metadata": {},
     "output_type": "display_data"
    }
   ],
   "source": [
    "# Sales by Day of Week and Month\n",
    "plt.figure(figsize=(15, 6))\n",
    "\n",
    "plt.subplot(1, 2, 1)\n",
    "sns.boxplot(data=train1, x='day_of_week', y='sales',\n",
    "            order=['Monday', 'Tuesday', 'Wednesday', 'Thursday', 'Friday', 'Saturday', 'Sunday'])\n",
    "plt.title('Sales Distribution by Day of Week')\n",
    "plt.xticks(rotation=45)\n",
    "\n",
    "plt.subplot(1, 2, 2)\n",
    "sns.boxplot(data=train1, x='month', y='sales')\n",
    "plt.title('Sales Distribution by Month')\n",
    "\n",
    "plt.tight_layout()\n",
    "plt.show()\n",
    "\n",
    "# Holiday Effect\n",
    "plt.figure(figsize=(12, 6))\n",
    "sns.violinplot(data=train1, x='is_holiday', y='sales')\n",
    "plt.title('Sales Distribution: Holiday vs Non-Holiday')\n",
    "plt.xlabel('Is Holiday')\n",
    "plt.ylabel('Sales')\n",
    "plt.show()"
   ]
  },
  {
   "cell_type": "code",
   "execution_count": 102,
   "id": "2fce42b6",
   "metadata": {},
   "outputs": [
    {
     "data": {
      "image/png": "[encoded data removed]",
      "text/plain": [
       "<Figure size 1200x800 with 2 Axes>"
      ]
     },
     "metadata": {},
     "output_type": "display_data"
    },
    {
     "data": {
      "image/png": "[encoded data removed]",
      "text/plain": [
       "<Figure size 1200x600 with 1 Axes>"
      ]
     },
     "metadata": {},
     "output_type": "display_data"
    }
   ],
   "source": [
    "# Correlation Matrix\n",
    "numeric_cols = ['sales', 'onpromotion', 'transactions', 'dcoilwtico', \n",
    "                'cluster', 'is_weekend', 'is_holiday', 'is_month_start', 'is_month_end']\n",
    "correlation_matrix = train1[numeric_cols].corr()\n",
    "\n",
    "plt.figure(figsize=(12, 8))\n",
    "sns.heatmap(correlation_matrix, annot=True, cmap='coolwarm', center=0, fmt='.2f')\n",
    "plt.title('Correlation Matrix of Numeric Variables')\n",
    "plt.show()\n",
    "\n",
    "# Sales vs Transactions with Oil Price\n",
    "plt.figure(figsize=(12, 6))\n",
    "sns.scatterplot(data=train1.sample(1000), x='transactions', y='sales', \n",
    "                hue='dcoilwtico', size='onpromotion',\n",
    "                sizes=(20, 200), alpha=0.6)\n",
    "plt.title('Sales vs Transactions (with Oil Price and Promotion Effect)')\n",
    "plt.show()"
   ]
  },
  {
   "cell_type": "code",
   "execution_count": 106,
   "id": "8f1fc8ba",
   "metadata": {},
   "outputs": [
    {
     "data": {
      "image/png": "[encoded data removed]",
      "text/plain": [
       "<Figure size 1500x600 with 1 Axes>"
      ]
     },
     "metadata": {},
     "output_type": "display_data"
    }
   ],
   "source": [
    "family_metrics = train1.groupby('family').agg({\n",
    "    'sales': ['mean', 'std'],\n",
    "    'onpromotion': 'mean'\n",
    "}).reset_index()\n",
    "\n",
    "family_metrics.columns = ['family', 'avg_sales', 'std_sales', 'avg_promo']\n",
    "family_metrics = family_metrics.sort_values('avg_sales', ascending=False)\n",
    "\n",
    "top_families = family_metrics.head(15)\n",
    "\n",
    "plt.figure(figsize=(15, 6))\n",
    "x = range(len(top_families))\n",
    "plt.bar(x, top_families['avg_sales'], yerr=top_families['std_sales'], \n",
    "        capsize=5, color='skyblue', edgecolor='black')\n",
    "plt.xticks(x, top_families['family'], rotation=45, ha='right')\n",
    "plt.title('Top 15 Product Families: Average Sales with Standard Deviation')\n",
    "plt.ylabel('Average Sales')\n",
    "plt.xlabel('Product Family')\n",
    "plt.tight_layout()\n",
    "plt.show()"
   ]
  }
 ],
 "metadata": {
  "kernelspec": {
   "display_name": "Python 3",
   "language": "python",
   "name": "python3"
  },
  "language_info": {
   "codemirror_mode": {
    "name": "ipython",
    "version": 3
   },
   "file_extension": ".py",
   "mimetype": "text/x-python",
   "name": "python",
   "nbconvert_exporter": "python",
   "pygments_lexer": "ipython3",
   "version": "3.13.3"
  }
 },
 "nbformat": 4,
 "nbformat_minor": 5
}
